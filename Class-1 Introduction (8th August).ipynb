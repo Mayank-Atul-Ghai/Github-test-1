{
 "cells": [
  {
   "cell_type": "code",
   "execution_count": null,
   "id": "1747172f",
   "metadata": {
    "id": "1747172f"
   },
   "outputs": [],
   "source": [
    "- What is Anaconda Distribution ?\n",
    "- What is a Jupyter Notebook\n",
    "- An overview of Jupyter Notebook"
   ]
  },
  {
   "cell_type": "markdown",
   "id": "352beeb4",
   "metadata": {
    "id": "352beeb4"
   },
   "source": [
    "### Ananconda Distribution"
   ]
  },
  {
   "cell_type": "code",
   "execution_count": null,
   "id": "7d8cbaa6",
   "metadata": {
    "id": "7d8cbaa6"
   },
   "outputs": [],
   "source": [
    "- It is a software pacakage that bundles together collection of tools and libraries taht are required for data science\n",
    "- It is an Open Source\n",
    "- conda is a package management tool"
   ]
  },
  {
   "cell_type": "code",
   "execution_count": null,
   "id": "b83ba509",
   "metadata": {
    "id": "b83ba509"
   },
   "outputs": [],
   "source": [
    "core python + libraries (numpy, pandas, matplotlib, seaborn, scikit-learn, etc)"
   ]
  },
  {
   "cell_type": "code",
   "execution_count": null,
   "id": "6150ceb8",
   "metadata": {
    "id": "6150ceb8"
   },
   "outputs": [],
   "source": [
    "# Numpy - Numerical Python\n",
    "# Pandas - panelling data\n",
    "# matplotlib - Data Visualization\n",
    "# Seaborn - Data Visualisation\n",
    "# plotly - Data Visualisation\n",
    "# Scikit- learn - Machine Learning\n",
    "# Flask - Deployement\n",
    "# Pytorch - Deep Learning\n",
    "#Keras-Tensorflow - deep learning\n",
    "# NLTK - NLP\n",
    "# OpenCV CV"
   ]
  },
  {
   "cell_type": "markdown",
   "id": "4e2b61a7",
   "metadata": {
    "id": "4e2b61a7"
   },
   "source": [
    "#### What is a Jupyter Notebooks?\n"
   ]
  },
  {
   "cell_type": "code",
   "execution_count": null,
   "id": "89ce05f5",
   "metadata": {
    "id": "89ce05f5"
   },
   "outputs": [],
   "source": [
    "- A jupyter notebook is a browser based IDE (Integrated Developement Environemnet )"
   ]
  },
  {
   "cell_type": "code",
   "execution_count": 1,
   "id": "2d9e5c4b-62c1-4465-852a-b7fdc598b127",
   "metadata": {},
   "outputs": [
    {
     "name": "stdout",
     "output_type": "stream",
     "text": [
      "30\n"
     ]
    }
   ],
   "source": [
    "a = 10\n",
    "b = 20\n",
    "c = a+b\n",
    "print(c)"
   ]
  },
  {
   "cell_type": "markdown",
   "id": "2345eb8d",
   "metadata": {
    "id": "2345eb8d"
   },
   "source": [
    "### In Jupyter Notebook"
   ]
  },
  {
   "cell_type": "markdown",
   "id": "1ce953b6",
   "metadata": {
    "id": "1ce953b6"
   },
   "source": [
    "#### Edit mode vs Command mode"
   ]
  },
  {
   "cell_type": "markdown",
   "id": "54deb72d",
   "metadata": {
    "id": "54deb72d"
   },
   "source": [
    "#### Edit mode\n",
    "\n",
    "- We can write anything in a cell in the edit mode\n",
    "- to convert a cell from the command mode to edit mode press enter or we can click inside the cell\n"
   ]
  },
  {
   "cell_type": "markdown",
   "id": "49518e57",
   "metadata": {
    "id": "49518e57"
   },
   "source": [
    "#### Command mode\n",
    "\n",
    "- we cannot write anything in a cell when we are in the command mode\n",
    "- to convert a cell from the edit mode to a command mode we will press esc key\n",
    "- we can select multiple cells in the command mode"
   ]
  },
  {
   "cell_type": "code",
   "execution_count": 1,
   "id": "c8c5d4c8-0ae8-4832-ac20-9b993afcfaeb",
   "metadata": {},
   "outputs": [],
   "source": [
    "a =10"
   ]
  },
  {
   "cell_type": "markdown",
   "id": "3b4e3cb1",
   "metadata": {
    "id": "3b4e3cb1"
   },
   "source": [
    "### Code and Markdown (Both in anaconda Jupyter notebook and Google colab)"
   ]
  },
  {
   "cell_type": "markdown",
   "id": "aef83531-b518-451e-8188-156f94bd7707",
   "metadata": {
    "id": "71b29337"
   },
   "source": [
    "#### Code\n",
    "\n",
    "- in the code mode we will write our python program\n",
    "- if we want to write anything except the code it will throw us an error\n",
    "- to convert a cell from a markdown mode to a code mode press esc key + y key"
   ]
  },
  {
   "cell_type": "code",
   "execution_count": 6,
   "id": "832d3a4c-f0d9-4f91-b07b-bfebdaddcd29",
   "metadata": {},
   "outputs": [
    {
     "name": "stdout",
     "output_type": "stream",
     "text": [
      "0\n",
      "1\n",
      "2\n",
      "3\n",
      "4\n",
      "5\n",
      "6\n",
      "7\n",
      "8\n",
      "9\n"
     ]
    }
   ],
   "source": [
    "for i in range(10):\n",
    "    print(i)"
   ]
  },
  {
   "cell_type": "code",
   "execution_count": 7,
   "id": "369dd29f-2d0b-4122-af48-77000c4ad20a",
   "metadata": {},
   "outputs": [
    {
     "ename": "SyntaxError",
     "evalue": "invalid syntax (3222036443.py, line 1)",
     "output_type": "error",
     "traceback": [
      "\u001b[1;36m  Cell \u001b[1;32mIn[7], line 1\u001b[1;36m\u001b[0m\n\u001b[1;33m    This code that i have written will give me numbers ranging from 0 to 10\u001b[0m\n\u001b[1;37m         ^\u001b[0m\n\u001b[1;31mSyntaxError\u001b[0m\u001b[1;31m:\u001b[0m invalid syntax\n"
     ]
    }
   ],
   "source": [
    "This code that i have written will give me numbers ranging from 0 to 10"
   ]
  },
  {
   "cell_type": "markdown",
   "id": "6070c5ca",
   "metadata": {
    "id": "6070c5ca"
   },
   "source": [
    "#### Markdown mode\n",
    "\n",
    "- in markdown mode we can write any text or anything (any heading, any observation or any advice)'\n",
    "- to convert a cell from a code mode to a markdown mode press esc key + m key"
   ]
  },
  {
   "cell_type": "markdown",
   "id": "cdb70da9-e647-468b-aae0-5ce3a9eb4a24",
   "metadata": {},
   "source": [
    "This is a python class taken by Mayank "
   ]
  },
  {
   "cell_type": "markdown",
   "id": "0e16ea19-7fda-40d3-b571-3673c0365027",
   "metadata": {},
   "source": [
    "# Mayank "
   ]
  },
  {
   "cell_type": "markdown",
   "id": "485fed3d-46c4-47d5-8631-04e29c50317c",
   "metadata": {},
   "source": [
    "## Mayank "
   ]
  },
  {
   "cell_type": "markdown",
   "id": "52bf5351-6161-4872-88ec-5684b0dc0231",
   "metadata": {},
   "source": [
    "### Mayank "
   ]
  },
  {
   "cell_type": "markdown",
   "id": "7d0fc634-7a67-41e8-84d4-c9ca4dd98a83",
   "metadata": {},
   "source": [
    "#### Mayank "
   ]
  },
  {
   "cell_type": "markdown",
   "id": "6dde7278-eeba-4a91-86a3-48b2fa7b394f",
   "metadata": {},
   "source": [
    "##### Mayank "
   ]
  },
  {
   "cell_type": "markdown",
   "id": "df939719-cc31-40c0-942f-05cef9088dc4",
   "metadata": {},
   "source": [
    "###### Mayank "
   ]
  },
  {
   "cell_type": "markdown",
   "id": "8005533c-2f14-4c27-87ac-2b62299a040e",
   "metadata": {},
   "source": [
    "- Mayank\n",
    "* Mayank "
   ]
  },
  {
   "cell_type": "markdown",
   "id": "01061fd7",
   "metadata": {
    "id": "01061fd7"
   },
   "source": [
    "This is an example\n",
    "\n",
    "- First example\n",
    "- Second example\n",
    "    - Third example"
   ]
  },
  {
   "cell_type": "markdown",
   "id": "6fb77156",
   "metadata": {
    "id": "6fb77156"
   },
   "source": [
    "This mode is code mode\n",
    "\n",
    "- I am giving you an example\n",
    "- related to code mode\n",
    "    - but these bullets point"
   ]
  },
  {
   "cell_type": "markdown",
   "id": "ab126902",
   "metadata": {
    "id": "ab126902"
   },
   "source": [
    "#### Shortcuts\n",
    "\n",
    "- to run any cell irrespective of the fact that whether the cell is in code mode or in markdown mode we will use __rshift+Enter__\n",
    "- to add a cell above the current cell- convert the cell first in the command mode using esc key and then we will press a\n",
    "- to add a cell below the current cell - convert the cell first in the command mode usinh esc key and them we will press b\n",
    "- to convert a cell from the command mode to an edit mode - press enetr or click inside the cell\n",
    "- to convert a cell from the edit mode to a command mdoe - pressesc key\n",
    "- to convert a cell from the markdown mode to a code mode - press  esc key + y key\n",
    "- to convert a cell from the code mode to a markdown mode - press esc key + m key\n",
    "- to delete a cell - press esc + x key\n",
    "- to get the list of all the shortcuts in the jupyter notebook - shift+ctrl+h"
   ]
  },
  {
   "cell_type": "code",
   "execution_count": null,
   "id": "eb45ba00-8c95-42b3-ac6c-ab0c442781c3",
   "metadata": {},
   "outputs": [],
   "source": []
  },
  {
   "cell_type": "code",
   "execution_count": null,
   "id": "2ae75926-fc83-49e1-a8e8-fa999f48d580",
   "metadata": {},
   "outputs": [],
   "source": []
  },
  {
   "cell_type": "markdown",
   "id": "8611d950",
   "metadata": {
    "id": "8611d950"
   },
   "source": [
    "### What is an Operating System?\n",
    "\n",
    "- it is an iterface(medium) between the user and the hardware\n",
    "- it is a resource manager that allocates resorces to different applications to run on a machine\n",
    "- __Resources:__ Input/Output Devices, Memory unit, RAM, Network, Disk Space etc\n",
    "- __Example:__ Windowns, MacOS, Linux, unix, ubuntu etc"
   ]
  },
  {
   "cell_type": "markdown",
   "id": "c55b3fb1",
   "metadata": {
    "id": "c55b3fb1"
   },
   "source": [
    "#### What is a Programming Language?\n",
    "\n",
    "- It is a computer langauge to communicate with the computer system\n",
    "- A programming language is a set of pre-defined words and characters that are used accordingly to some rules and these rules are called as __Syntax__\n"
   ]
  },
  {
   "cell_type": "markdown",
   "id": "d470bb9c",
   "metadata": {
    "id": "d470bb9c"
   },
   "source": [
    "### Types Of Program\n",
    "\n",
    "- High Level Langauge\n",
    "- Low level Langauge"
   ]
  },
  {
   "cell_type": "markdown",
   "id": "e8af37f3",
   "metadata": {
    "id": "e8af37f3"
   },
   "source": [
    "### High level langauge\n",
    "\n",
    "- It is a user friendly computer language\n",
    "- The code written is in a language similar to english\n",
    "- It is easy to read and interpret\n",
    "- __Example:__ C, C++, Java, Python, Ruby, Julia etc"
   ]
  },
  {
   "cell_type": "markdown",
   "id": "c7427d56",
   "metadata": {
    "id": "c7427d56"
   },
   "source": [
    "#### Low Level Language\n",
    "\n",
    "- These are machine friendly language\n",
    "- The code written is in binary form also known as bits (0,1)\n",
    "- It is almost impossible for us to read or even interpret\n",
    "- __Example:__ machine langauge, assembly langauge, Pascal, Fortrain etc"
   ]
  },
  {
   "cell_type": "code",
   "execution_count": null,
   "id": "274516ec-aa73-4da6-8543-acda52abeb9e",
   "metadata": {},
   "outputs": [],
   "source": [
    "10010001010010100"
   ]
  },
  {
   "cell_type": "markdown",
   "id": "80cd779d",
   "metadata": {
    "id": "80cd779d"
   },
   "source": [
    "### Translator\n",
    "\n",
    "- It is a software that converts the high level language to machine language and vice-versa\n"
   ]
  },
  {
   "cell_type": "code",
   "execution_count": null,
   "id": "06c78f6a-647b-434e-b5c6-eb201d6b1067",
   "metadata": {},
   "outputs": [],
   "source": [
    "a = 10  #1010\n",
    "b = 20   # 10100\n",
    "c = a+b\n",
    "print(c) #11110"
   ]
  },
  {
   "cell_type": "markdown",
   "id": "d88406e7",
   "metadata": {
    "id": "d88406e7"
   },
   "source": [
    "#### Types of Translator\n",
    "\n",
    "- Compiler\n",
    "- Interpreter\n",
    "\n",
    "##### Compiler\n",
    "\n",
    "- It read the whole high level code at once and convert the whole code to machine language at once\n",
    "\n",
    "##### Intepreter\n",
    "\n",
    "- It read the code line by line and then covert the code to machine language line by line\n",
    "- IT is going to read and convert one line at a time\n"
   ]
  },
  {
   "cell_type": "markdown",
   "id": "d0e415d3",
   "metadata": {
    "id": "d0e415d3"
   },
   "source": [
    "### Compiled language vs Interpreted language\n",
    "\n",
    "##### Compiled language\n",
    "\n",
    "- Those high level language that are using compiler as the translator are called as compiled languages\n",
    "- __Example:__ C, C++, Java etc\n",
    "\n",
    "##### Interpreted Language\n",
    "\n",
    "- Those high level language that are using interpreter as the translator are called as interpreted languages\n",
    "- __Example:__ Python, Ruby, PHP etc"
   ]
  },
  {
   "cell_type": "markdown",
   "id": "a676957b-4c75-429a-8ca8-f6e481572734",
   "metadata": {
    "id": "2850a56f"
   },
   "source": [
    "### Python is Both interpreted and compiled language ?\n",
    "\n",
    "- Python is both a compiled and interpreted language \r\n",
    "- Python code is converted to a low level representation of the code first by the compiler and then this low level represenattion of the code is being converted to the machine level code by the interpreter (PVM) "
   ]
  },
  {
   "cell_type": "markdown",
   "id": "230f2c59-2e37-42f9-abc0-95f4d56baeb0",
   "metadata": {},
   "source": [
    "### Source Code \n",
    "\n",
    "- The code that we will write as a developer or a data analyst will be called as the source code\n",
    "- the extension with whcih the code will be saved will be .py extension "
   ]
  },
  {
   "cell_type": "code",
   "execution_count": null,
   "id": "4da08fde-e409-4518-a660-b80c5946951b",
   "metadata": {},
   "outputs": [],
   "source": [
    "a = 10\n",
    "b = 20\n",
    "c = a+b\n",
    "print(c)"
   ]
  },
  {
   "cell_type": "markdown",
   "id": "d216da33-bdb3-4541-977b-36a3a1033b79",
   "metadata": {},
   "source": [
    "### Byte-code or Intermediate code\n",
    "\n",
    "- As soon as we run the python source code, compilation of the source code to bytecode starts\n",
    "- this step is known as compilation becauase at the end wwe are going to have one code written in a language that still needs to beconverted into a machine code \n",
    "- the extension of the byte code is .pyc\n",
    "- while compilation if any error occurs, it will stop the execution of the code"
   ]
  },
  {
   "cell_type": "markdown",
   "id": "c99d1cd6-5429-45ef-9aae-f454a2a73725",
   "metadata": {},
   "source": [
    "### Machine code\n",
    "\n",
    "- As soon as the byte code is generated, PVM (Python virtual machine) converts the bytecode to a machine code with the help of an intepreter which is already there in PVM\n",
    "- the interpreter will convert the whole bytecode into a machine code \n",
    "- As soon as an error is detected, the execution will be stopped \n",
    "- In this, the code will be executed partially if the error occurs"
   ]
  },
  {
   "cell_type": "code",
   "execution_count": 15,
   "id": "27a3c071-6d6f-42b0-90b5-c9fe93089c69",
   "metadata": {},
   "outputs": [
    {
     "name": "stdout",
     "output_type": "stream",
     "text": [
      "30\n"
     ]
    }
   ],
   "source": [
    "a = 10  # 1010\n",
    "b = 20  # 10100\n",
    "c = a+d\n",
    "print(c)"
   ]
  },
  {
   "cell_type": "code",
   "execution_count": 16,
   "id": "9b59ad7c-8b89-4765-86a1-d931285caa7c",
   "metadata": {},
   "outputs": [
    {
     "data": {
      "text/plain": [
       "'__pycache__\\\\test.cpython-312.pyc'"
      ]
     },
     "execution_count": 16,
     "metadata": {},
     "output_type": "execute_result"
    }
   ],
   "source": [
    "import py_compile\n",
    "py_compile.compile('test.py')"
   ]
  },
  {
   "cell_type": "code",
   "execution_count": null,
   "id": "3025b5f2-a4ca-41f2-a593-c42b075132ff",
   "metadata": {},
   "outputs": [],
   "source": []
  },
  {
   "cell_type": "markdown",
   "id": "eb3a8a35-9ccc-4e24-b1c6-2fc4a2509d2c",
   "metadata": {},
   "source": [
    "#### Types of Error \n",
    "\n",
    "- Compile Error \n",
    "\n",
    "    - The error that we get at the time of compilation (conversion of Source to bytecode)\n",
    "        - Syntax error \n",
    "        - Indentation error \n",
    "        \n",
    "- Run time error \n",
    "    \n",
    "    - Those error that we get at the time we try to run a code, that are syntactically correct but will crearte some issues while running \n",
    "        - Name error \n",
    "        - Type error \n",
    "        - value error\n",
    "        - index error \n",
    "        - file not found error \n",
    "        - stop iteration \n",
    "        - key error\n",
    "        etc\n",
    "        \n",
    "- Logical Error \n",
    "\n",
    "    - logical error or a bug, that the user has created himself/herself\n",
    "    - it is going to give you result, but not the desired one \n",
    "    - it will not to stop the execute of the code "
   ]
  },
  {
   "cell_type": "markdown",
   "id": "1296cb7a-c47a-47f3-a6a3-6aa58abc2fe9",
   "metadata": {},
   "source": [
    "#### Compile Time Error Example "
   ]
  },
  {
   "cell_type": "code",
   "execution_count": 17,
   "id": "591bee0a-9497-4db7-af25-0cb13a966390",
   "metadata": {},
   "outputs": [
    {
     "ename": "SyntaxError",
     "evalue": "expected ':' (1515400511.py, line 3)",
     "output_type": "error",
     "traceback": [
      "\u001b[1;36m  Cell \u001b[1;32mIn[17], line 3\u001b[1;36m\u001b[0m\n\u001b[1;33m    for i in a\u001b[0m\n\u001b[1;37m              ^\u001b[0m\n\u001b[1;31mSyntaxError\u001b[0m\u001b[1;31m:\u001b[0m expected ':'\n"
     ]
    }
   ],
   "source": [
    "a = '123456'\n",
    "\n",
    "for i in a\n",
    "    print(i)"
   ]
  },
  {
   "cell_type": "code",
   "execution_count": 18,
   "id": "ea84a8e5-0b7b-4807-b692-95a4df11cbd4",
   "metadata": {},
   "outputs": [
    {
     "name": "stdout",
     "output_type": "stream",
     "text": [
      "1\n",
      "2\n",
      "3\n",
      "4\n",
      "5\n",
      "6\n"
     ]
    }
   ],
   "source": [
    "a = '123456'\n",
    "\n",
    "for i in a:\n",
    "    print(i)"
   ]
  },
  {
   "cell_type": "code",
   "execution_count": 23,
   "id": "96f1c08b-2e79-4e39-ae1c-ceda82a58f0e",
   "metadata": {},
   "outputs": [
    {
     "ename": "IndentationError",
     "evalue": "expected an indented block after 'for' statement on line 3 (2481319644.py, line 4)",
     "output_type": "error",
     "traceback": [
      "\u001b[1;36m  Cell \u001b[1;32mIn[23], line 4\u001b[1;36m\u001b[0m\n\u001b[1;33m    print(i)\u001b[0m\n\u001b[1;37m    ^\u001b[0m\n\u001b[1;31mIndentationError\u001b[0m\u001b[1;31m:\u001b[0m expected an indented block after 'for' statement on line 3\n"
     ]
    }
   ],
   "source": [
    "a = '123456'\n",
    "\n",
    "for i in a:\n",
    "print(i)"
   ]
  },
  {
   "cell_type": "code",
   "execution_count": null,
   "id": "8292dd21-b1a5-45f8-b925-605ff3d3ff4f",
   "metadata": {},
   "outputs": [],
   "source": [
    "a = '123456'\n",
    "\n",
    "for i in a:\n",
    "    print(i)"
   ]
  },
  {
   "cell_type": "markdown",
   "id": "a0ce5d3a-f8b8-4a94-881a-571cedd18cc8",
   "metadata": {},
   "source": [
    "#### Run Time Error Examples "
   ]
  },
  {
   "cell_type": "code",
   "execution_count": 25,
   "id": "007b65d0-374b-4309-b438-9925b3de4404",
   "metadata": {},
   "outputs": [
    {
     "ename": "NameError",
     "evalue": "name 'd' is not defined",
     "output_type": "error",
     "traceback": [
      "\u001b[1;31m---------------------------------------------------------------------------\u001b[0m",
      "\u001b[1;31mNameError\u001b[0m                                 Traceback (most recent call last)",
      "Cell \u001b[1;32mIn[25], line 3\u001b[0m\n\u001b[0;32m      1\u001b[0m a \u001b[38;5;241m=\u001b[39m \u001b[38;5;241m10\u001b[39m\n\u001b[0;32m      2\u001b[0m b \u001b[38;5;241m=\u001b[39m \u001b[38;5;241m20\u001b[39m\n\u001b[1;32m----> 3\u001b[0m \u001b[38;5;28mprint\u001b[39m(d)\n",
      "\u001b[1;31mNameError\u001b[0m: name 'd' is not defined"
     ]
    }
   ],
   "source": [
    "a = 10\n",
    "b = 20\n",
    "print(d)"
   ]
  },
  {
   "cell_type": "code",
   "execution_count": 26,
   "id": "777e7d63-e767-45a4-9ae5-eceff15cac53",
   "metadata": {},
   "outputs": [
    {
     "ename": "TypeError",
     "evalue": "unsupported operand type(s) for +: 'int' and 'str'",
     "output_type": "error",
     "traceback": [
      "\u001b[1;31m---------------------------------------------------------------------------\u001b[0m",
      "\u001b[1;31mTypeError\u001b[0m                                 Traceback (most recent call last)",
      "Cell \u001b[1;32mIn[26], line 1\u001b[0m\n\u001b[1;32m----> 1\u001b[0m a \u001b[38;5;241m=\u001b[39m \u001b[38;5;241m1\u001b[39m\u001b[38;5;241m+\u001b[39m\u001b[38;5;124m'\u001b[39m\u001b[38;5;124mmayank\u001b[39m\u001b[38;5;124m'\u001b[39m\n",
      "\u001b[1;31mTypeError\u001b[0m: unsupported operand type(s) for +: 'int' and 'str'"
     ]
    }
   ],
   "source": [
    "a = 1+'mayank'"
   ]
  },
  {
   "cell_type": "code",
   "execution_count": 27,
   "id": "c68cbe43-1a2d-4d28-a523-4c6b44ba9676",
   "metadata": {},
   "outputs": [
    {
     "ename": "FileNotFoundError",
     "evalue": "[Errno 2] No such file or directory: 'test1.py'",
     "output_type": "error",
     "traceback": [
      "\u001b[1;31m---------------------------------------------------------------------------\u001b[0m",
      "\u001b[1;31mFileNotFoundError\u001b[0m                         Traceback (most recent call last)",
      "Cell \u001b[1;32mIn[27], line 2\u001b[0m\n\u001b[0;32m      1\u001b[0m \u001b[38;5;28;01mimport\u001b[39;00m \u001b[38;5;21;01mpy_compile\u001b[39;00m\n\u001b[1;32m----> 2\u001b[0m py_compile\u001b[38;5;241m.\u001b[39mcompile(\u001b[38;5;124m'\u001b[39m\u001b[38;5;124mtest1.py\u001b[39m\u001b[38;5;124m'\u001b[39m)\n",
      "File \u001b[1;32m~\\anaconda3\\Lib\\py_compile.py:142\u001b[0m, in \u001b[0;36mcompile\u001b[1;34m(file, cfile, dfile, doraise, optimize, invalidation_mode, quiet)\u001b[0m\n\u001b[0;32m    140\u001b[0m     \u001b[38;5;28;01mraise\u001b[39;00m \u001b[38;5;167;01mFileExistsError\u001b[39;00m(msg\u001b[38;5;241m.\u001b[39mformat(cfile))\n\u001b[0;32m    141\u001b[0m loader \u001b[38;5;241m=\u001b[39m importlib\u001b[38;5;241m.\u001b[39mmachinery\u001b[38;5;241m.\u001b[39mSourceFileLoader(\u001b[38;5;124m'\u001b[39m\u001b[38;5;124m<py_compile>\u001b[39m\u001b[38;5;124m'\u001b[39m, file)\n\u001b[1;32m--> 142\u001b[0m source_bytes \u001b[38;5;241m=\u001b[39m loader\u001b[38;5;241m.\u001b[39mget_data(file)\n\u001b[0;32m    143\u001b[0m \u001b[38;5;28;01mtry\u001b[39;00m:\n\u001b[0;32m    144\u001b[0m     code \u001b[38;5;241m=\u001b[39m loader\u001b[38;5;241m.\u001b[39msource_to_code(source_bytes, dfile \u001b[38;5;129;01mor\u001b[39;00m file,\n\u001b[0;32m    145\u001b[0m                                  _optimize\u001b[38;5;241m=\u001b[39moptimize)\n",
      "File \u001b[1;32m<frozen importlib._bootstrap_external>:1130\u001b[0m, in \u001b[0;36mget_data\u001b[1;34m(self, path)\u001b[0m\n",
      "\u001b[1;31mFileNotFoundError\u001b[0m: [Errno 2] No such file or directory: 'test1.py'"
     ]
    }
   ],
   "source": [
    "import py_compile\n",
    "py_compile.compile('test1.py')"
   ]
  },
  {
   "cell_type": "code",
   "execution_count": 17,
   "id": "6f6323ab-bb2d-41ed-9fdc-115f75ed8d32",
   "metadata": {},
   "outputs": [
    {
     "name": "stdout",
     "output_type": "stream",
     "text": [
      "['ArithmeticError', 'AssertionError', 'AttributeError', 'BaseException', 'BaseExceptionGroup', 'BlockingIOError', 'BrokenPipeError', 'BufferError', 'BytesWarning', 'ChildProcessError', 'ConnectionAbortedError', 'ConnectionError', 'ConnectionRefusedError', 'ConnectionResetError', 'DeprecationWarning', 'EOFError', 'Ellipsis', 'EncodingWarning', 'EnvironmentError', 'Exception', 'ExceptionGroup', 'False', 'FileExistsError', 'FileNotFoundError', 'FloatingPointError', 'FutureWarning', 'GeneratorExit', 'IOError', 'ImportError', 'ImportWarning', 'IndentationError', 'IndexError', 'InterruptedError', 'IsADirectoryError', 'KeyError', 'KeyboardInterrupt', 'LookupError', 'MemoryError', 'ModuleNotFoundError', 'NameError', 'None', 'NotADirectoryError', 'NotImplemented', 'NotImplementedError', 'OSError', 'OverflowError', 'PendingDeprecationWarning', 'PermissionError', 'ProcessLookupError', 'RecursionError', 'ReferenceError', 'ResourceWarning', 'RuntimeError', 'RuntimeWarning', 'StopAsyncIteration', 'StopIteration', 'SyntaxError', 'SyntaxWarning', 'SystemError', 'SystemExit', 'TabError', 'TimeoutError', 'True', 'TypeError', 'UnboundLocalError', 'UnicodeDecodeError', 'UnicodeEncodeError', 'UnicodeError', 'UnicodeTranslateError', 'UnicodeWarning', 'UserWarning', 'ValueError', 'Warning', 'WindowsError', 'ZeroDivisionError', '__IPYTHON__', '__build_class__', '__debug__', '__doc__', '__import__', '__loader__', '__name__', '__package__', '__spec__', 'abs', 'aiter', 'all', 'anext', 'any', 'ascii', 'bin', 'bool', 'breakpoint', 'bytearray', 'bytes', 'callable', 'chr', 'classmethod', 'compile', 'complex', 'copyright', 'credits', 'delattr', 'dict', 'dir', 'display', 'divmod', 'enumerate', 'eval', 'exec', 'execfile', 'filter', 'float', 'format', 'frozenset', 'get_ipython', 'getattr', 'globals', 'hasattr', 'hash', 'help', 'hex', 'id', 'input', 'int', 'isinstance', 'issubclass', 'iter', 'len', 'license', 'list', 'locals', 'map', 'max', 'memoryview', 'min', 'next', 'object', 'oct', 'open', 'ord', 'pow', 'print', 'property', 'range', 'repr', 'reversed', 'round', 'runfile', 'set', 'setattr', 'slice', 'sorted', 'staticmethod', 'str', 'sum', 'super', 'tuple', 'type', 'vars', 'zip']\n"
     ]
    }
   ],
   "source": [
    "print(dir(__builtins__))"
   ]
  },
  {
   "cell_type": "markdown",
   "id": "f5991582-a126-4a00-8ae5-8c2c70158746",
   "metadata": {},
   "source": [
    "### Variables and Constants\n",
    "\n",
    "####  Variable \n",
    "\n",
    "- A variable is a container that is going to hold some value in it for a time being, we can change the value stored in the variable at any point of time\n",
    "- A varaiable will retain the same value until a new value is assigned to it"
   ]
  },
  {
   "cell_type": "markdown",
   "id": "8fdfbe1d-934d-4aec-928d-1c9220f7531a",
   "metadata": {},
   "source": [
    "#### Constanst\n",
    "\n",
    "- The values stored in the variable, whose value we are not allowed to change in the progarm\n",
    "- We will use Upper letter ot upper case for constansts"
   ]
  },
  {
   "cell_type": "markdown",
   "id": "1e88f699-ec55-4b60-8800-3bcfebc9cfeb",
   "metadata": {},
   "source": [
    "### Data-Types \n",
    "\n",
    "- A datatype is a type identifier of the value that a variable is going to hold\n",
    "- __type()__ function is used to tell us that which type of data, we have stored in a variable"
   ]
  },
  {
   "cell_type": "markdown",
   "id": "f531b64e-5d14-42c6-baab-aa3ca31ea1c3",
   "metadata": {},
   "source": [
    "### Types of Data \n",
    "\n",
    "- Basic Datatypes or Fundamental Datatypes or Primitive Datatypes \n",
    "    \n",
    "    - int\n",
    "    - float\n",
    "    - complex\n",
    "    - string\n",
    "    - boolean \n",
    "    - None\n",
    "    - range"
   ]
  },
  {
   "cell_type": "markdown",
   "id": "1231ffd0-8908-49f7-a564-5cad3eb2d41e",
   "metadata": {},
   "source": [
    "#### Integer Datatypes `\n",
    "\n",
    "- Any number +ve, -ve or zero without a decimal value is known as Integer Datatype "
   ]
  },
  {
   "cell_type": "markdown",
   "id": "473beba6-d4b3-43eb-aecc-509d2287c33b",
   "metadata": {},
   "source": [
    "#### Float Datatype \n",
    "\n",
    "- Any number +ve, -ve or zero with decimal points are called as float datatypes\n",
    "- all the float values are internally stored in the form of exponentials "
   ]
  },
  {
   "cell_type": "markdown",
   "id": "2c571a8a-2c7e-493a-8eec-3ec8eef1b8c1",
   "metadata": {},
   "source": [
    "### Complex Datatype (though we are not going to use in the data science)\n",
    "\n",
    "- any nummber stored in the form of a+bj or a+bJ is considered a complex number \r\n",
    "- where a is the real number and b is the imaginary number "
   ]
  },
  {
   "cell_type": "markdown",
   "id": "06a9c6ea-37f4-49df-906f-933b1929e1b3",
   "metadata": {},
   "source": [
    "### String\n",
    "\n",
    "- anythiing that we are going to write in '...', \"....\" ,'''.....''' or \"\"\".....\"\"\" \n",
    "- It can store a character, it can store a word, it can store a setenece or a paragraph or any other datatype \n",
    "- '....' and \"...\" will be used extensively to represnt a string datatype \n",
    "- '''...''' and \"\"\"...\"\"\" these are either used to write docstrings (documentatioanl string or multi-line comments )\n",
    "- In some cases, if we want to write a multi-line string statement, then also we will use either '''......''' or \"\"\".......\"\"\""
   ]
  },
  {
   "cell_type": "markdown",
   "id": "c64f59c9-fe1c-4086-a97f-e2e7a106b365",
   "metadata": {},
   "source": [
    "### Boolean Datatype \n",
    "\n",
    "- It is going to have two values in it \n",
    "- __True__ or __False__"
   ]
  },
  {
   "cell_type": "markdown",
   "id": "d192277f-26a7-4024-9d5b-aede3c7ebf7f",
   "metadata": {},
   "source": [
    "### None Datatype \n",
    "\n",
    "- None is a nonedatatype \n",
    "- It is used to represent a missing value or a null value in python"
   ]
  },
  {
   "cell_type": "markdown",
   "id": "fb37f2e9-d104-4bf0-995a-e2dbe3e9cab4",
   "metadata": {},
   "source": [
    "### Range\n",
    "\n",
    "- This datatype will generate a series of number between a specified numbers or range\n",
    "- It can only happen for integer values "
   ]
  },
  {
   "cell_type": "markdown",
   "id": "c7967915-89c5-40a8-a1d1-d1b2b6e798f3",
   "metadata": {},
   "source": [
    "### Derived Datatypes \n",
    "\n",
    "- These are container datatypes that are used to store multiple values or element in it \n",
    "    \n",
    "    - list\n",
    "    - tuple\n",
    "    - dictionary \n",
    "    - set \n",
    "    - frozenset"
   ]
  },
  {
   "cell_type": "markdown",
   "id": "b9eb980f-df04-4518-a851-03834e396725",
   "metadata": {},
   "source": [
    "### list\n",
    "\n",
    "- anything written inside a square bracket [......] is considered a list datatype\n",
    "- each element or values are seperated by each other with a comma(,)\n",
    "- a list can contain both homogenous (same type of data) or heterogenous values ( different type of data)\n",
    "- a list can have duplicate values in it \n",
    "- we can add anything or remove anything from the list, that means they are mutable"
   ]
  },
  {
   "cell_type": "code",
   "execution_count": null,
   "id": "d3d7ffe1-4882-4b76-ba89-411508deaa13",
   "metadata": {},
   "outputs": [],
   "source": []
  }
 ],
 "metadata": {
  "colab": {
   "provenance": []
  },
  "kernelspec": {
   "display_name": "Python 3 (ipykernel)",
   "language": "python",
   "name": "python3"
  },
  "language_info": {
   "codemirror_mode": {
    "name": "ipython",
    "version": 3
   },
   "file_extension": ".py",
   "mimetype": "text/x-python",
   "name": "python",
   "nbconvert_exporter": "python",
   "pygments_lexer": "ipython3",
   "version": "3.12.4"
  }
 },
 "nbformat": 4,
 "nbformat_minor": 5
}
