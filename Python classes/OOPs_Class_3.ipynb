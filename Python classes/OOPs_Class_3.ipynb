{
  "cells": [
    {
      "cell_type": "markdown",
      "id": "a11e888a-f280-49c3-913b-379b447893a9",
      "metadata": {
        "id": "a11e888a-f280-49c3-913b-379b447893a9"
      },
      "source": [
        "# Local variables (Method level variables)"
      ]
    },
    {
      "cell_type": "code",
      "execution_count": null,
      "id": "38a7e73a-04ef-47e2-8246-fda7ff1505bd",
      "metadata": {
        "id": "38a7e73a-04ef-47e2-8246-fda7ff1505bd"
      },
      "outputs": [],
      "source": [
        "# - The variables which are local to any method then such variables are local variables.\n",
        "# - The local variables can be accessed inside the method only which they have been defined in."
      ]
    },
    {
      "cell_type": "code",
      "execution_count": null,
      "id": "06423569-0054-41f6-95ed-d3b65c730b9d",
      "metadata": {
        "id": "06423569-0054-41f6-95ed-d3b65c730b9d"
      },
      "outputs": [],
      "source": [
        "class Test:\n",
        "\n",
        "    def __init__(self):\n",
        "        self.a=10 # instance variable\n",
        "        b=55 # local variable\n",
        "        print(dir())"
      ]
    },
    {
      "cell_type": "code",
      "execution_count": null,
      "id": "ac9a8aff-b71b-406d-b0fe-58d385375186",
      "metadata": {
        "id": "ac9a8aff-b71b-406d-b0fe-58d385375186",
        "outputId": "5607af36-6be5-43a8-c4b5-9d382fe3f415"
      },
      "outputs": [
        {
          "name": "stdout",
          "output_type": "stream",
          "text": [
            "['b', 'self']\n"
          ]
        }
      ],
      "source": [
        "t=Test()"
      ]
    },
    {
      "cell_type": "code",
      "execution_count": null,
      "id": "860e53c5-57c5-4ec8-a3ec-af79afce3cac",
      "metadata": {
        "id": "860e53c5-57c5-4ec8-a3ec-af79afce3cac",
        "outputId": "c61672ee-a172-4427-cb10-de973c11e954"
      },
      "outputs": [
        {
          "data": {
            "text/plain": [
              "{'a': 10}"
            ]
          },
          "execution_count": 8,
          "metadata": {},
          "output_type": "execute_result"
        }
      ],
      "source": [
        "t.__dict__"
      ]
    },
    {
      "cell_type": "code",
      "execution_count": null,
      "id": "386c3ae2-8578-46c8-8450-a5b5e83ff16f",
      "metadata": {
        "id": "386c3ae2-8578-46c8-8450-a5b5e83ff16f"
      },
      "outputs": [],
      "source": [
        "class Test:\n",
        "    def __init__(self):\n",
        "        self.a=55\n",
        "        b=100\n",
        "        print(b)\n",
        "        print(self.a)\n",
        "\n",
        "    def local(self):\n",
        "        print(self.a)\n",
        "        print(b)"
      ]
    },
    {
      "cell_type": "code",
      "execution_count": null,
      "id": "4b9638b6-8a8b-4367-8e5b-ffaebd40e891",
      "metadata": {
        "id": "4b9638b6-8a8b-4367-8e5b-ffaebd40e891",
        "outputId": "79fbc146-8c0d-451d-e09d-026094c24984"
      },
      "outputs": [
        {
          "name": "stdout",
          "output_type": "stream",
          "text": [
            "100\n",
            "55\n"
          ]
        }
      ],
      "source": [
        "t=Test()"
      ]
    },
    {
      "cell_type": "code",
      "execution_count": null,
      "id": "036cdebe-8fb3-4834-86fa-7c230d6db3b4",
      "metadata": {
        "id": "036cdebe-8fb3-4834-86fa-7c230d6db3b4",
        "outputId": "f09ced47-24c4-4c7c-e6fd-5df52005bb03"
      },
      "outputs": [
        {
          "name": "stdout",
          "output_type": "stream",
          "text": [
            "55\n"
          ]
        },
        {
          "ename": "NameError",
          "evalue": "name 'b' is not defined",
          "output_type": "error",
          "traceback": [
            "\u001b[1;31m---------------------------------------------------------------------------\u001b[0m",
            "\u001b[1;31mNameError\u001b[0m                                 Traceback (most recent call last)",
            "Cell \u001b[1;32mIn[23], line 1\u001b[0m\n\u001b[1;32m----> 1\u001b[0m t\u001b[38;5;241m.\u001b[39mlocal()\n",
            "Cell \u001b[1;32mIn[21], line 10\u001b[0m, in \u001b[0;36mTest.local\u001b[1;34m(self)\u001b[0m\n\u001b[0;32m      8\u001b[0m \u001b[38;5;28;01mdef\u001b[39;00m \u001b[38;5;21mlocal\u001b[39m(\u001b[38;5;28mself\u001b[39m):\n\u001b[0;32m      9\u001b[0m     \u001b[38;5;28mprint\u001b[39m(\u001b[38;5;28mself\u001b[39m\u001b[38;5;241m.\u001b[39ma)\n\u001b[1;32m---> 10\u001b[0m     \u001b[38;5;28mprint\u001b[39m(b)\n",
            "\u001b[1;31mNameError\u001b[0m: name 'b' is not defined"
          ]
        }
      ],
      "source": [
        "t.local()"
      ]
    },
    {
      "cell_type": "code",
      "execution_count": null,
      "id": "ac8a3e7b-7a55-4fd4-8675-7038c828a90b",
      "metadata": {
        "id": "ac8a3e7b-7a55-4fd4-8675-7038c828a90b"
      },
      "outputs": [],
      "source": [
        "class Test:\n",
        "    def __init__(self):\n",
        "        self.a=10\n",
        "        b=15\n",
        "        print(self.a)\n",
        "        print(b)\n",
        "\n",
        "    def m1(self):\n",
        "        c=22\n",
        "        print(self.a)\n",
        "        print(c)\n",
        "\n",
        "    def m2(self):\n",
        "        d=33\n",
        "        print(self.a)\n",
        "        print(d)"
      ]
    },
    {
      "cell_type": "code",
      "execution_count": null,
      "id": "9a4cf0a3-837c-4b26-9df6-540cb6a4a1e8",
      "metadata": {
        "id": "9a4cf0a3-837c-4b26-9df6-540cb6a4a1e8",
        "outputId": "47938130-08b2-4793-f73b-fcfee0bf9946"
      },
      "outputs": [
        {
          "name": "stdout",
          "output_type": "stream",
          "text": [
            "10\n",
            "15\n"
          ]
        }
      ],
      "source": [
        "t=Test()"
      ]
    },
    {
      "cell_type": "code",
      "execution_count": null,
      "id": "25ac897d-f4f2-4e30-bc92-0685b9faef07",
      "metadata": {
        "id": "25ac897d-f4f2-4e30-bc92-0685b9faef07",
        "outputId": "45c3880a-ef3a-42e4-8a25-d53cb8f1d80c"
      },
      "outputs": [
        {
          "name": "stdout",
          "output_type": "stream",
          "text": [
            "10\n",
            "22\n"
          ]
        }
      ],
      "source": [
        "t.m1()"
      ]
    },
    {
      "cell_type": "code",
      "execution_count": null,
      "id": "f9f0a99f-a6ef-4b83-86cd-36720f5d9317",
      "metadata": {
        "id": "f9f0a99f-a6ef-4b83-86cd-36720f5d9317",
        "outputId": "16424b23-a7d2-4466-8aa5-0cbec64d4ccb"
      },
      "outputs": [
        {
          "name": "stdout",
          "output_type": "stream",
          "text": [
            "10\n",
            "33\n"
          ]
        }
      ],
      "source": [
        "t.m2()"
      ]
    },
    {
      "cell_type": "code",
      "execution_count": null,
      "id": "560597a0-bc4d-4315-9daa-9dc3a79a8b37",
      "metadata": {
        "id": "560597a0-bc4d-4315-9daa-9dc3a79a8b37"
      },
      "outputs": [],
      "source": [
        "# Local -> Instance -> Static"
      ]
    },
    {
      "cell_type": "code",
      "execution_count": null,
      "id": "0f3f56c6-f5a7-41d4-934e-d519ce89370f",
      "metadata": {
        "id": "0f3f56c6-f5a7-41d4-934e-d519ce89370f"
      },
      "outputs": [],
      "source": [
        "class Test:\n",
        "    a=10\n",
        "    def dummy(self):\n",
        "        self.b=22\n",
        "        print(self.b)\n",
        "\n",
        "    @classmethod\n",
        "    def m1(cls):\n",
        "        c=44\n",
        "        print(c)\n",
        "        print(cls.a)\n",
        "\n",
        "    @staticmethod\n",
        "    def m2():\n",
        "        d=55\n",
        "        Test.m=2000\n",
        "        # print(self.b)\n",
        "        print(Test.a)\n",
        "        print(d)\n",
        "\n",
        "    def m3(self):\n",
        "        print(self.b)"
      ]
    },
    {
      "cell_type": "code",
      "execution_count": null,
      "id": "a8045d05-9791-423a-b8b4-bfd3c2d73753",
      "metadata": {
        "id": "a8045d05-9791-423a-b8b4-bfd3c2d73753"
      },
      "outputs": [],
      "source": [
        "# Static= a,m\n",
        "# Instance= b\n",
        "# Local= c,d"
      ]
    },
    {
      "cell_type": "code",
      "execution_count": null,
      "id": "4c943756-e484-4d8d-a75d-2f12de9a166d",
      "metadata": {
        "id": "4c943756-e484-4d8d-a75d-2f12de9a166d",
        "outputId": "8c837329-e534-4732-8081-e171bedb04f2"
      },
      "outputs": [
        {
          "data": {
            "text/plain": [
              "10"
            ]
          },
          "execution_count": 32,
          "metadata": {},
          "output_type": "execute_result"
        }
      ],
      "source": [
        "Test.a"
      ]
    },
    {
      "cell_type": "code",
      "execution_count": null,
      "id": "f22bc92f-6798-48d0-9f99-99e4ac5abf8e",
      "metadata": {
        "id": "f22bc92f-6798-48d0-9f99-99e4ac5abf8e",
        "outputId": "d5ee6163-8420-442a-d6b7-cd09a42fdfb3"
      },
      "outputs": [
        {
          "data": {
            "text/plain": [
              "mappingproxy({'__module__': '__main__',\n",
              "              'a': 10,\n",
              "              'dummy': <function __main__.Test.dummy(self)>,\n",
              "              'm1': <classmethod(<function Test.m1 at 0x000001D8FED8D6C0>)>,\n",
              "              'm2': <staticmethod(<function Test.m2 at 0x000001D8FED8DA80>)>,\n",
              "              '__dict__': <attribute '__dict__' of 'Test' objects>,\n",
              "              '__weakref__': <attribute '__weakref__' of 'Test' objects>,\n",
              "              '__doc__': None})"
            ]
          },
          "execution_count": 33,
          "metadata": {},
          "output_type": "execute_result"
        }
      ],
      "source": [
        "Test.__dict__"
      ]
    },
    {
      "cell_type": "code",
      "execution_count": null,
      "id": "0e74460b-13cc-45aa-8f3c-dd3842b8e044",
      "metadata": {
        "id": "0e74460b-13cc-45aa-8f3c-dd3842b8e044",
        "outputId": "721de4bc-a276-411e-f6d4-95245f05a35d"
      },
      "outputs": [
        {
          "ename": "NameError",
          "evalue": "name 'self' is not defined",
          "output_type": "error",
          "traceback": [
            "\u001b[1;31m---------------------------------------------------------------------------\u001b[0m",
            "\u001b[1;31mNameError\u001b[0m                                 Traceback (most recent call last)",
            "Cell \u001b[1;32mIn[34], line 1\u001b[0m\n\u001b[1;32m----> 1\u001b[0m Test\u001b[38;5;241m.\u001b[39mm2()\n",
            "Cell \u001b[1;32mIn[31], line 18\u001b[0m, in \u001b[0;36mTest.m2\u001b[1;34m()\u001b[0m\n\u001b[0;32m     16\u001b[0m d\u001b[38;5;241m=\u001b[39m\u001b[38;5;241m55\u001b[39m\n\u001b[0;32m     17\u001b[0m Test\u001b[38;5;241m.\u001b[39mm\u001b[38;5;241m=\u001b[39m\u001b[38;5;241m2000\u001b[39m\n\u001b[1;32m---> 18\u001b[0m \u001b[38;5;28mprint\u001b[39m(\u001b[38;5;28mself\u001b[39m\u001b[38;5;241m.\u001b[39mb)\n\u001b[0;32m     19\u001b[0m \u001b[38;5;28mprint\u001b[39m(Test\u001b[38;5;241m.\u001b[39ma)\n\u001b[0;32m     20\u001b[0m \u001b[38;5;28mprint\u001b[39m(d)\n",
            "\u001b[1;31mNameError\u001b[0m: name 'self' is not defined"
          ]
        }
      ],
      "source": [
        "Test.m2()"
      ]
    },
    {
      "cell_type": "code",
      "execution_count": null,
      "id": "6d6b354c-60fb-4473-900c-8df83425ae44",
      "metadata": {
        "id": "6d6b354c-60fb-4473-900c-8df83425ae44"
      },
      "outputs": [],
      "source": [
        "t=Test()"
      ]
    },
    {
      "cell_type": "code",
      "execution_count": null,
      "id": "02074e9c-5714-4c3c-9be7-c872f5525cd3",
      "metadata": {
        "id": "02074e9c-5714-4c3c-9be7-c872f5525cd3",
        "outputId": "21fcc2b1-0a74-4ccb-e47a-d62c8d873340"
      },
      "outputs": [
        {
          "name": "stdout",
          "output_type": "stream",
          "text": [
            "22\n"
          ]
        }
      ],
      "source": [
        "t.dummy()"
      ]
    },
    {
      "cell_type": "code",
      "execution_count": null,
      "id": "98c10012-6a67-472d-9a1b-2cabdcb5d188",
      "metadata": {
        "id": "98c10012-6a67-472d-9a1b-2cabdcb5d188",
        "outputId": "64a506c8-9576-4825-93ec-271dfa41ac8a"
      },
      "outputs": [
        {
          "ename": "NameError",
          "evalue": "name 'self' is not defined",
          "output_type": "error",
          "traceback": [
            "\u001b[1;31m---------------------------------------------------------------------------\u001b[0m",
            "\u001b[1;31mNameError\u001b[0m                                 Traceback (most recent call last)",
            "Cell \u001b[1;32mIn[43], line 1\u001b[0m\n\u001b[1;32m----> 1\u001b[0m Test\u001b[38;5;241m.\u001b[39mm2()\n",
            "Cell \u001b[1;32mIn[39], line 17\u001b[0m, in \u001b[0;36mTest.m2\u001b[1;34m()\u001b[0m\n\u001b[0;32m     15\u001b[0m d\u001b[38;5;241m=\u001b[39m\u001b[38;5;241m55\u001b[39m\n\u001b[0;32m     16\u001b[0m Test\u001b[38;5;241m.\u001b[39mm\u001b[38;5;241m=\u001b[39m\u001b[38;5;241m2000\u001b[39m\n\u001b[1;32m---> 17\u001b[0m \u001b[38;5;28mprint\u001b[39m(\u001b[38;5;28mself\u001b[39m\u001b[38;5;241m.\u001b[39mb)\n\u001b[0;32m     18\u001b[0m \u001b[38;5;28mprint\u001b[39m(Test\u001b[38;5;241m.\u001b[39ma)\n\u001b[0;32m     19\u001b[0m \u001b[38;5;28mprint\u001b[39m(d)\n",
            "\u001b[1;31mNameError\u001b[0m: name 'self' is not defined"
          ]
        }
      ],
      "source": [
        "Test.m2()"
      ]
    },
    {
      "cell_type": "code",
      "execution_count": null,
      "id": "c738e011-90b8-4f62-9550-34665b0eb32c",
      "metadata": {
        "id": "c738e011-90b8-4f62-9550-34665b0eb32c",
        "outputId": "159d580b-5471-48bb-fb5c-fd9f423c64d6"
      },
      "outputs": [
        {
          "name": "stdout",
          "output_type": "stream",
          "text": [
            "22\n"
          ]
        }
      ],
      "source": [
        "t.dummy()"
      ]
    },
    {
      "cell_type": "code",
      "execution_count": null,
      "id": "358de8af-551f-4328-a059-81f5a5f00590",
      "metadata": {
        "id": "358de8af-551f-4328-a059-81f5a5f00590",
        "outputId": "5b2376e4-efdc-4902-ced7-1f982964b688"
      },
      "outputs": [
        {
          "name": "stdout",
          "output_type": "stream",
          "text": [
            "22\n"
          ]
        }
      ],
      "source": [
        "t.m3()"
      ]
    },
    {
      "cell_type": "code",
      "execution_count": null,
      "id": "1553900b-9f90-4991-8075-e89f2d9649cd",
      "metadata": {
        "id": "1553900b-9f90-4991-8075-e89f2d9649cd",
        "outputId": "1c3ebf6f-bc90-421a-8f3e-3419c2db0adb"
      },
      "outputs": [
        {
          "name": "stdout",
          "output_type": "stream",
          "text": [
            "10\n",
            "55\n"
          ]
        }
      ],
      "source": [
        "Test.m2()"
      ]
    },
    {
      "cell_type": "code",
      "execution_count": null,
      "id": "46e18b09-95eb-48e3-bcdc-cb8c7fb9a7d9",
      "metadata": {
        "id": "46e18b09-95eb-48e3-bcdc-cb8c7fb9a7d9",
        "outputId": "ca4bb80d-8725-41dc-c29d-1f409e09fe65"
      },
      "outputs": [
        {
          "data": {
            "text/plain": [
              "mappingproxy({'__module__': '__main__',\n",
              "              'a': 10,\n",
              "              'dummy': <function __main__.Test.dummy(self)>,\n",
              "              'm1': <classmethod(<function Test.m1 at 0x000001D8FE2CB880>)>,\n",
              "              'm2': <staticmethod(<function Test.m2 at 0x000001D8FE849120>)>,\n",
              "              'm3': <function __main__.Test.m3(self)>,\n",
              "              '__dict__': <attribute '__dict__' of 'Test' objects>,\n",
              "              '__weakref__': <attribute '__weakref__' of 'Test' objects>,\n",
              "              '__doc__': None,\n",
              "              'm': 2000})"
            ]
          },
          "execution_count": 52,
          "metadata": {},
          "output_type": "execute_result"
        }
      ],
      "source": [
        "Test.__dict__"
      ]
    },
    {
      "cell_type": "code",
      "execution_count": null,
      "id": "e303b940-ae9e-4330-9d97-ca32bbd83709",
      "metadata": {
        "id": "e303b940-ae9e-4330-9d97-ca32bbd83709"
      },
      "outputs": [],
      "source": [
        "class Customer:\n",
        "    bank='SBI'\n",
        "\n",
        "    def __init__(self,name,balance=0.0):\n",
        "        self.name=name\n",
        "        self.balance=balance\n",
        "\n",
        "    def deposit(self,amount):\n",
        "        print(f'Welcome to {Customer.bank}')\n",
        "        self.balance=self.balance+amount\n",
        "        print(f'The balance after deposit is- {self.balance}')\n",
        "\n",
        "    def withdraw(self,amount):\n",
        "        print(f'Welcome to {Customer.bank}')\n",
        "        if amount>self.balance:\n",
        "            print('Insufficient balance')\n",
        "        else:\n",
        "            self.balance=self.balance-amount\n",
        "            print(f'The amount after widrawl is {self.balance}')\n",
        "\n",
        "    def current_balance(self):\n",
        "        print(self.balance)"
      ]
    },
    {
      "cell_type": "code",
      "execution_count": null,
      "id": "77d3c59b-8237-4925-9d7b-1f095850280c",
      "metadata": {
        "id": "77d3c59b-8237-4925-9d7b-1f095850280c"
      },
      "outputs": [],
      "source": [
        "c1=Customer('Kuldeep')"
      ]
    },
    {
      "cell_type": "code",
      "execution_count": null,
      "id": "9367a285-92bd-4b2e-aac3-b51db85cc8cb",
      "metadata": {
        "id": "9367a285-92bd-4b2e-aac3-b51db85cc8cb",
        "outputId": "650ba7d5-b4bf-4f8b-edd5-4c576d1ac021"
      },
      "outputs": [
        {
          "name": "stdout",
          "output_type": "stream",
          "text": [
            "Welcome to SBI\n",
            "The balance after deposit is- 10000.0\n"
          ]
        }
      ],
      "source": [
        "c1.deposit(10000)"
      ]
    },
    {
      "cell_type": "code",
      "execution_count": null,
      "id": "8411768b-0a83-465b-b4d6-78645eab8b4d",
      "metadata": {
        "id": "8411768b-0a83-465b-b4d6-78645eab8b4d",
        "outputId": "fd3159c6-ea6a-4c6a-e07c-997fae92de3e"
      },
      "outputs": [
        {
          "name": "stdout",
          "output_type": "stream",
          "text": [
            "Welcome to SBI\n",
            "The amount after widrawl is 3000.0\n"
          ]
        }
      ],
      "source": [
        "c1.withdraw(2000)"
      ]
    },
    {
      "cell_type": "code",
      "execution_count": null,
      "id": "9fcfc394-cc6f-42c7-9ca3-95fe46d47d19",
      "metadata": {
        "id": "9fcfc394-cc6f-42c7-9ca3-95fe46d47d19",
        "outputId": "5f9d0413-0a66-418c-8920-ce82944601fb"
      },
      "outputs": [
        {
          "name": "stdout",
          "output_type": "stream",
          "text": [
            "10000.0\n"
          ]
        }
      ],
      "source": [
        "c1.current_balance()"
      ]
    },
    {
      "cell_type": "code",
      "execution_count": null,
      "id": "a1f1aad0-6209-4736-b0e9-493683881f32",
      "metadata": {
        "id": "a1f1aad0-6209-4736-b0e9-493683881f32",
        "outputId": "03b9d3bd-3f82-4590-b0a5-a30f040fe1ef"
      },
      "outputs": [
        {
          "name": "stdout",
          "output_type": "stream",
          "text": [
            "Welcome to SBI\n",
            "The amount after widrawl is 7800.0\n"
          ]
        }
      ],
      "source": [
        "c1.withdraw(2200)"
      ]
    },
    {
      "cell_type": "code",
      "execution_count": null,
      "id": "77e68358-11b7-4453-97d4-36bef99c9637",
      "metadata": {
        "id": "77e68358-11b7-4453-97d4-36bef99c9637",
        "outputId": "1522d1d7-eadd-4b3b-c9b3-cc91bcc2b022"
      },
      "outputs": [
        {
          "name": "stdout",
          "output_type": "stream",
          "text": [
            "7800.0\n"
          ]
        }
      ],
      "source": [
        "c1.current_balance()"
      ]
    },
    {
      "cell_type": "code",
      "execution_count": null,
      "id": "ca3b2df3-ccdf-4878-a9b8-a4b9e6097ef6",
      "metadata": {
        "id": "ca3b2df3-ccdf-4878-a9b8-a4b9e6097ef6"
      },
      "outputs": [],
      "source": [
        "c2=Customer('Pawan')"
      ]
    },
    {
      "cell_type": "code",
      "execution_count": null,
      "id": "b922aefb-dbfb-4f5e-907a-33172ae7e768",
      "metadata": {
        "id": "b922aefb-dbfb-4f5e-907a-33172ae7e768",
        "outputId": "e4f8efde-3beb-4423-a894-3daadd1d31ed"
      },
      "outputs": [
        {
          "name": "stdout",
          "output_type": "stream",
          "text": [
            "0.0\n"
          ]
        }
      ],
      "source": [
        "c2.current_balance()"
      ]
    },
    {
      "cell_type": "code",
      "execution_count": null,
      "id": "450b9f19-50da-4adc-9abc-29320f2632ce",
      "metadata": {
        "id": "450b9f19-50da-4adc-9abc-29320f2632ce",
        "outputId": "df8cbda8-2895-4557-9d2f-0955b49a6133"
      },
      "outputs": [
        {
          "name": "stdout",
          "output_type": "stream",
          "text": [
            "Welcome to SBI\n",
            "The balance after deposit is- 5500.0\n"
          ]
        }
      ],
      "source": [
        "c2.deposit(5500)"
      ]
    },
    {
      "cell_type": "code",
      "execution_count": null,
      "id": "3b53db75-cb6d-46dd-9f53-4824e6510eda",
      "metadata": {
        "id": "3b53db75-cb6d-46dd-9f53-4824e6510eda",
        "outputId": "348f9833-e6b4-47f6-aba7-99407b0e0f4d"
      },
      "outputs": [
        {
          "name": "stdout",
          "output_type": "stream",
          "text": [
            "5500.0\n"
          ]
        }
      ],
      "source": [
        "c2.current_balance()"
      ]
    },
    {
      "cell_type": "code",
      "execution_count": null,
      "id": "35e76c8d-2a8a-4d63-b006-2097013e557c",
      "metadata": {
        "id": "35e76c8d-2a8a-4d63-b006-2097013e557c",
        "outputId": "e7d85ef0-48d3-44c3-d32f-934d78b9051a"
      },
      "outputs": [
        {
          "name": "stdout",
          "output_type": "stream",
          "text": [
            "7800.0\n"
          ]
        }
      ],
      "source": [
        "c1.current_balance()"
      ]
    },
    {
      "cell_type": "code",
      "execution_count": null,
      "id": "656cbb5d-e7b1-475c-8444-a695ea5b43b0",
      "metadata": {
        "id": "656cbb5d-e7b1-475c-8444-a695ea5b43b0"
      },
      "outputs": [],
      "source": [
        "names=['Amit','Jyoti','Atharva','Mouna','Pawan','Kuldeep','Pushpa']\n",
        "bal=[2500,4200,3600,2900,4400,2800,5300]"
      ]
    },
    {
      "cell_type": "code",
      "execution_count": null,
      "id": "3b74aa16-cab6-4fc3-a75e-77a95136ff54",
      "metadata": {
        "id": "3b74aa16-cab6-4fc3-a75e-77a95136ff54"
      },
      "outputs": [],
      "source": [
        "cst=[]\n",
        "for i in zip(names,bal):\n",
        "    cst.append(Customer(*i))"
      ]
    },
    {
      "cell_type": "code",
      "execution_count": null,
      "id": "b00c5f2d-1491-4d16-b4ac-01d6b05a3489",
      "metadata": {
        "id": "b00c5f2d-1491-4d16-b4ac-01d6b05a3489",
        "outputId": "2075e21b-51f2-4366-fca3-0184c7cc720a"
      },
      "outputs": [
        {
          "data": {
            "text/plain": [
              "[<__main__.Customer at 0x1d8fe4c9010>,\n",
              " <__main__.Customer at 0x1d8fe67ed10>,\n",
              " <__main__.Customer at 0x1d8fe660a90>,\n",
              " <__main__.Customer at 0x1d8fe68b1d0>,\n",
              " <__main__.Customer at 0x1d8fe21b2d0>,\n",
              " <__main__.Customer at 0x1d8fe1ec490>,\n",
              " <__main__.Customer at 0x1d8fe1ec4d0>]"
            ]
          },
          "execution_count": 90,
          "metadata": {},
          "output_type": "execute_result"
        }
      ],
      "source": [
        "cst"
      ]
    },
    {
      "cell_type": "code",
      "execution_count": null,
      "id": "6021c3b2-473d-430a-934b-0a4cdc00a53f",
      "metadata": {
        "id": "6021c3b2-473d-430a-934b-0a4cdc00a53f"
      },
      "outputs": [],
      "source": [
        "def add(x,y):\n",
        "    return x+y"
      ]
    },
    {
      "cell_type": "code",
      "execution_count": null,
      "id": "3edeca8d-f58b-41bd-b996-e38bb5927ce5",
      "metadata": {
        "id": "3edeca8d-f58b-41bd-b996-e38bb5927ce5"
      },
      "outputs": [],
      "source": [
        "lst=[5,6]"
      ]
    },
    {
      "cell_type": "code",
      "execution_count": null,
      "id": "158484af-a9d3-4d63-8c50-ed7dd7121d10",
      "metadata": {
        "id": "158484af-a9d3-4d63-8c50-ed7dd7121d10",
        "outputId": "5a8e3280-204c-4ec0-bd6b-e446b125f502"
      },
      "outputs": [
        {
          "data": {
            "text/plain": [
              "11"
            ]
          },
          "execution_count": 96,
          "metadata": {},
          "output_type": "execute_result"
        }
      ],
      "source": [
        "add(*lst)"
      ]
    },
    {
      "cell_type": "code",
      "execution_count": null,
      "id": "c1181178-4008-4481-b5bb-6960d14d2936",
      "metadata": {
        "id": "c1181178-4008-4481-b5bb-6960d14d2936"
      },
      "outputs": [],
      "source": [
        "i=('Amit',2500)\n",
        "\n",
        "c=Customer(*i)"
      ]
    },
    {
      "cell_type": "code",
      "execution_count": null,
      "id": "feb3a33c-3f87-40e1-a3b4-715c689381e2",
      "metadata": {
        "id": "feb3a33c-3f87-40e1-a3b4-715c689381e2",
        "outputId": "0f742cf6-e102-4fa4-da4e-bd8379a2a853"
      },
      "outputs": [
        {
          "data": {
            "text/plain": [
              "'Amit'"
            ]
          },
          "execution_count": 108,
          "metadata": {},
          "output_type": "execute_result"
        }
      ],
      "source": [
        "c.name"
      ]
    },
    {
      "cell_type": "code",
      "execution_count": null,
      "id": "b791f4b7-2ed6-4e48-adb8-b467a1539089",
      "metadata": {
        "id": "b791f4b7-2ed6-4e48-adb8-b467a1539089",
        "outputId": "967fb282-639d-4643-9adf-56d0a7b813b4"
      },
      "outputs": [
        {
          "data": {
            "text/plain": [
              "2500"
            ]
          },
          "execution_count": 109,
          "metadata": {},
          "output_type": "execute_result"
        }
      ],
      "source": [
        "c.balance"
      ]
    },
    {
      "cell_type": "code",
      "execution_count": null,
      "id": "0b4e5123-50c8-4593-b5c1-a3a99b0e2f05",
      "metadata": {
        "id": "0b4e5123-50c8-4593-b5c1-a3a99b0e2f05",
        "outputId": "f8b6757b-af65-46da-dc45-227b3f350d26"
      },
      "outputs": [
        {
          "name": "stdout",
          "output_type": "stream",
          "text": [
            "Amit\n",
            "2500\n",
            "Jyoti\n",
            "4200\n",
            "Atharva\n",
            "3600\n",
            "Mouna\n",
            "2900\n",
            "Pawan\n",
            "4400\n",
            "Kuldeep\n",
            "2800\n",
            "Pushpa\n",
            "5300\n"
          ]
        }
      ],
      "source": [
        "for i in cst:\n",
        "    print(i.name)\n",
        "    print(i.balance)"
      ]
    },
    {
      "cell_type": "code",
      "execution_count": null,
      "id": "068a52b6-b36c-47b8-9569-95ce44214202",
      "metadata": {
        "id": "068a52b6-b36c-47b8-9569-95ce44214202",
        "outputId": "5f9d3cb8-9501-493e-81af-38329cb401b8"
      },
      "outputs": [
        {
          "name": "stdout",
          "output_type": "stream",
          "text": [
            "Welcome to SBI\n",
            "The balance after deposit is- 4900\n"
          ]
        }
      ],
      "source": [
        "for i in cst:\n",
        "    if i.name=='Mouna':\n",
        "        i.deposit(2000)"
      ]
    },
    {
      "cell_type": "code",
      "execution_count": null,
      "id": "4c9f56dc-ac16-4a29-ac16-127be06a833b",
      "metadata": {
        "id": "4c9f56dc-ac16-4a29-ac16-127be06a833b",
        "outputId": "7e183ec8-e8fb-4908-a00c-bc7c598b4cba"
      },
      "outputs": [
        {
          "name": "stdout",
          "output_type": "stream",
          "text": [
            "Welcome to SBI\n",
            "Insufficient balance\n"
          ]
        }
      ],
      "source": [
        "for i in cst:\n",
        "    if i.name=='Kuldeep':\n",
        "        i.withdraw(25000)"
      ]
    },
    {
      "cell_type": "code",
      "execution_count": null,
      "id": "7475a10e-94f7-4510-8ae7-e81eff87b2d6",
      "metadata": {
        "id": "7475a10e-94f7-4510-8ae7-e81eff87b2d6",
        "outputId": "7bcb6b6d-d948-4ffe-9811-51b77e4d093b"
      },
      "outputs": [
        {
          "name": "stdout",
          "output_type": "stream",
          "text": [
            "Welcome to SBI\n",
            "The amount after widrawl is 5100\n"
          ]
        }
      ],
      "source": [
        "for i in cst:\n",
        "    if i.name=='Pushpa':\n",
        "        i.withdraw(200)"
      ]
    },
    {
      "cell_type": "code",
      "execution_count": null,
      "id": "28f1c9ef-9bf8-4202-baed-44d6c69d152e",
      "metadata": {
        "id": "28f1c9ef-9bf8-4202-baed-44d6c69d152e",
        "outputId": "dd82b0cf-5eda-4b52-8683-d9f200591cb8"
      },
      "outputs": [
        {
          "name": "stdout",
          "output_type": "stream",
          "text": [
            "5100\n"
          ]
        }
      ],
      "source": [
        "i.current_balance()"
      ]
    },
    {
      "cell_type": "code",
      "execution_count": null,
      "id": "8f340b44-f389-4820-bd30-6929af12a575",
      "metadata": {
        "id": "8f340b44-f389-4820-bd30-6929af12a575",
        "outputId": "2438c79b-efed-4579-8b70-db053531df2d"
      },
      "outputs": [
        {
          "name": "stdout",
          "output_type": "stream",
          "text": [
            "Amit-->> 2500\n",
            "Jyoti-->> 4200\n",
            "Atharva-->> 3600\n",
            "Mouna-->> 4900\n",
            "Pawan-->> 4400\n",
            "Kuldeep-->> 2800\n",
            "Pushpa-->> 5100\n"
          ]
        }
      ],
      "source": [
        "for i in cst:\n",
        "    print(i.name,end='-->> ')\n",
        "    i.current_balance()"
      ]
    },
    {
      "cell_type": "markdown",
      "id": "1fe637e2-c2fd-4112-8178-08314d04fc9f",
      "metadata": {
        "id": "1fe637e2-c2fd-4112-8178-08314d04fc9f"
      },
      "source": [
        "# Types of Methods"
      ]
    },
    {
      "cell_type": "code",
      "execution_count": null,
      "id": "970497b2-6a2f-4be4-a033-2620c75acef0",
      "metadata": {
        "id": "970497b2-6a2f-4be4-a033-2620c75acef0"
      },
      "outputs": [],
      "source": [
        "# - 1- Instance Methods\n",
        "# - 2- Class Methods\n",
        "# - 3- Static Methods"
      ]
    },
    {
      "cell_type": "markdown",
      "id": "1d4811ac-3d85-4a89-a1da-2fd61b1371c7",
      "metadata": {
        "id": "1d4811ac-3d85-4a89-a1da-2fd61b1371c7"
      },
      "source": [
        "# Instance Methods"
      ]
    },
    {
      "cell_type": "code",
      "execution_count": null,
      "id": "6fada03d-a9a7-4195-9a5a-65568cd4c7e9",
      "metadata": {
        "id": "6fada03d-a9a7-4195-9a5a-65568cd4c7e9"
      },
      "outputs": [],
      "source": [
        "# - The method that uses an instance variable are known as instance methods.\n",
        "# - Instance methods are used to declare, access, modify or delete the instance variables.\n",
        "# - An instance method must have self as the first argument."
      ]
    },
    {
      "cell_type": "code",
      "execution_count": null,
      "id": "8b0a06e9-699c-4215-9605-1f5a42715149",
      "metadata": {
        "id": "8b0a06e9-699c-4215-9605-1f5a42715149"
      },
      "outputs": [],
      "source": [
        "class Student:\n",
        "\n",
        "    def __init__(self,name,marks):\n",
        "        self.name=name\n",
        "        self.marks=marks\n",
        "\n",
        "    def display(self):\n",
        "        print(f'My name is {self.name}')\n",
        "        print(f'I have scored {self.marks} marks')"
      ]
    },
    {
      "cell_type": "code",
      "execution_count": null,
      "id": "354c9938-1e05-4cbe-a11d-aa256cf4cbfb",
      "metadata": {
        "id": "354c9938-1e05-4cbe-a11d-aa256cf4cbfb"
      },
      "outputs": [],
      "source": [
        "s1=Student('Prabha',88)"
      ]
    },
    {
      "cell_type": "code",
      "execution_count": null,
      "id": "fa21602b-7edf-4daf-a32c-0c9cddde19ea",
      "metadata": {
        "id": "fa21602b-7edf-4daf-a32c-0c9cddde19ea"
      },
      "outputs": [],
      "source": [
        "s2=Student('Kuldeep',79)"
      ]
    },
    {
      "cell_type": "code",
      "execution_count": null,
      "id": "26069c6e-f37c-4afb-88e7-f9f894c0fcb3",
      "metadata": {
        "id": "26069c6e-f37c-4afb-88e7-f9f894c0fcb3",
        "outputId": "2bfbdc27-0355-4ce4-f340-465d43f45a7a"
      },
      "outputs": [
        {
          "name": "stdout",
          "output_type": "stream",
          "text": [
            "My name is Prabha\n",
            "I have scored 88 marks\n"
          ]
        }
      ],
      "source": [
        "s1.display()"
      ]
    },
    {
      "cell_type": "code",
      "execution_count": null,
      "id": "477f43c0-53ae-40e7-b2f3-17f563e335b5",
      "metadata": {
        "id": "477f43c0-53ae-40e7-b2f3-17f563e335b5",
        "outputId": "742e1c6e-3f82-4cb3-eeae-9b2fbb9fb4dd"
      },
      "outputs": [
        {
          "name": "stdout",
          "output_type": "stream",
          "text": [
            "My name is Kuldeep\n",
            "I have scored 79 marks\n"
          ]
        }
      ],
      "source": [
        "s2.display()"
      ]
    },
    {
      "cell_type": "code",
      "execution_count": null,
      "id": "711cdee1-8c58-4499-94f9-8c8e5a8d692c",
      "metadata": {
        "id": "711cdee1-8c58-4499-94f9-8c8e5a8d692c"
      },
      "outputs": [],
      "source": [
        "class Student:\n",
        "\n",
        "    def __init__(self,name,marks):\n",
        "        self.name=name\n",
        "        self.marks=marks\n",
        "\n",
        "    def display(self):\n",
        "        print(f'My name is {self.name}')\n",
        "        print(f'I have scored {self.marks} marks')\n",
        "\n",
        "    def grade(self):\n",
        "        if self.marks>=60:\n",
        "            print('Fisrt division')\n",
        "        elif self.marks>=45:\n",
        "            print('Second division')\n",
        "        elif self.marks>=33:\n",
        "            print('Third division')\n",
        "        else:\n",
        "            print('Fail')"
      ]
    },
    {
      "cell_type": "code",
      "execution_count": null,
      "id": "0201bd49-637c-4122-b529-4ffb5ab1a9b7",
      "metadata": {
        "id": "0201bd49-637c-4122-b529-4ffb5ab1a9b7"
      },
      "outputs": [],
      "source": [
        "s1=Student('Adam',45)\n",
        "s2=Student('Frank',62)\n",
        "s3=Student('Tina',26)\n",
        "s4=Student('Emma',41)"
      ]
    },
    {
      "cell_type": "code",
      "execution_count": null,
      "id": "51c04cea-ce90-4f04-9fbb-c3acca2b819e",
      "metadata": {
        "id": "51c04cea-ce90-4f04-9fbb-c3acca2b819e",
        "outputId": "0aa7bb15-4073-4677-b149-4550d736dec3"
      },
      "outputs": [
        {
          "name": "stdout",
          "output_type": "stream",
          "text": [
            "My name is Adam\n",
            "I have scored 45 marks\n"
          ]
        }
      ],
      "source": [
        "s1.display()"
      ]
    },
    {
      "cell_type": "code",
      "execution_count": null,
      "id": "a304619f-416d-4c3f-bff7-05e263484a01",
      "metadata": {
        "id": "a304619f-416d-4c3f-bff7-05e263484a01",
        "outputId": "1062608b-541c-4289-c045-48741ad7404e"
      },
      "outputs": [
        {
          "name": "stdout",
          "output_type": "stream",
          "text": [
            "Second division\n"
          ]
        }
      ],
      "source": [
        "s1.grade()"
      ]
    },
    {
      "cell_type": "code",
      "execution_count": null,
      "id": "3d049a8e-c2f1-408c-9ae1-85711b75a676",
      "metadata": {
        "id": "3d049a8e-c2f1-408c-9ae1-85711b75a676",
        "outputId": "13f0bd93-7a17-4b08-ae2b-7be72dd02628"
      },
      "outputs": [
        {
          "name": "stdout",
          "output_type": "stream",
          "text": [
            "My name is Emma\n",
            "I have scored 41 marks\n"
          ]
        }
      ],
      "source": [
        "s4.display()"
      ]
    },
    {
      "cell_type": "code",
      "execution_count": null,
      "id": "25439ac9-406b-4c5a-9680-bc70369e6278",
      "metadata": {
        "id": "25439ac9-406b-4c5a-9680-bc70369e6278",
        "outputId": "7da81078-7669-455c-e0ef-8aecc872d3b6"
      },
      "outputs": [
        {
          "name": "stdout",
          "output_type": "stream",
          "text": [
            "Third division\n"
          ]
        }
      ],
      "source": [
        "s4.grade()"
      ]
    },
    {
      "cell_type": "code",
      "execution_count": null,
      "id": "17c72160-0ba2-47d9-8855-9f4c604ba3c1",
      "metadata": {
        "id": "17c72160-0ba2-47d9-8855-9f4c604ba3c1",
        "outputId": "52a1fcaf-8b54-4b96-ca33-bc4ccbc4fd6a"
      },
      "outputs": [
        {
          "name": "stdout",
          "output_type": "stream",
          "text": [
            "My name is Tina\n",
            "I have scored 26 marks\n"
          ]
        }
      ],
      "source": [
        "s3.display()"
      ]
    },
    {
      "cell_type": "code",
      "execution_count": null,
      "id": "fd2f549b-1bd1-41c9-95fb-f6ba1ddba405",
      "metadata": {
        "id": "fd2f549b-1bd1-41c9-95fb-f6ba1ddba405",
        "outputId": "07ff3150-73cd-45de-c9ed-271449a7e583"
      },
      "outputs": [
        {
          "name": "stdout",
          "output_type": "stream",
          "text": [
            "Fail\n"
          ]
        }
      ],
      "source": [
        "s3.grade()"
      ]
    },
    {
      "cell_type": "markdown",
      "id": "44c27417-5381-48a1-84a9-5eb3a9d2e7f7",
      "metadata": {
        "id": "44c27417-5381-48a1-84a9-5eb3a9d2e7f7"
      },
      "source": [
        "# We can call an instance method inside another instance method.\n",
        "- By using the self"
      ]
    },
    {
      "cell_type": "code",
      "execution_count": null,
      "id": "e19a5d7e-c5af-4349-b2d0-c058766e7e42",
      "metadata": {
        "id": "e19a5d7e-c5af-4349-b2d0-c058766e7e42"
      },
      "outputs": [],
      "source": [
        "class Student:\n",
        "\n",
        "    def __init__(self,name,marks):\n",
        "        self.name=name\n",
        "        self.marks=marks\n",
        "\n",
        "    def display(self):\n",
        "        print(f'My name is {self.name}')\n",
        "        print(f'I have scored {self.marks} marks')\n",
        "        self.grade()\n",
        "\n",
        "    def grade(self):\n",
        "        if self.marks>=60:\n",
        "            print('Fisrt division')\n",
        "        elif self.marks>=45:\n",
        "            print('Second division')\n",
        "        elif self.marks>=33:\n",
        "            print('Third division')\n",
        "        else:\n",
        "            print('Fail')"
      ]
    },
    {
      "cell_type": "code",
      "execution_count": null,
      "id": "4e5abfb3-dade-4c98-92cd-e21108a45ad1",
      "metadata": {
        "id": "4e5abfb3-dade-4c98-92cd-e21108a45ad1"
      },
      "outputs": [],
      "source": [
        "s1=Student('Adam',45)\n",
        "s2=Student('Frank',62)\n",
        "s3=Student('Tina',26)\n",
        "s4=Student('Emma',41)"
      ]
    },
    {
      "cell_type": "code",
      "execution_count": null,
      "id": "554bf3b0-9c96-4405-93d0-86958ce8f995",
      "metadata": {
        "id": "554bf3b0-9c96-4405-93d0-86958ce8f995",
        "outputId": "46f4303d-ea38-4706-fd12-939816ba1d67"
      },
      "outputs": [
        {
          "name": "stdout",
          "output_type": "stream",
          "text": [
            "My name is Adam\n",
            "I have scored 45 marks\n",
            "Second division\n"
          ]
        }
      ],
      "source": [
        "s1.display()"
      ]
    },
    {
      "cell_type": "markdown",
      "id": "a3f304eb-821b-48fe-8a6f-5d19bf0bdfa0",
      "metadata": {
        "id": "a3f304eb-821b-48fe-8a6f-5d19bf0bdfa0"
      },
      "source": [
        "# We can call an instance method inside the constructor as well.\n",
        "- By using self."
      ]
    },
    {
      "cell_type": "code",
      "execution_count": null,
      "id": "cad29883-016f-4e08-b408-cfdcf971187a",
      "metadata": {
        "id": "cad29883-016f-4e08-b408-cfdcf971187a"
      },
      "outputs": [],
      "source": [
        "class Student:\n",
        "\n",
        "    def __init__(self,name,marks):\n",
        "        self.name=name\n",
        "        self.marks=marks\n",
        "\n",
        "        self.display()\n",
        "        self.grade()\n",
        "        print('*'*35)\n",
        "        print()\n",
        "\n",
        "    def display(self):\n",
        "        print(f'My name is {self.name}')\n",
        "        print(f'I have scored {self.marks} marks')\n",
        "\n",
        "    def grade(self):\n",
        "        if self.marks>=60:\n",
        "            print('Fisrt division')\n",
        "        elif self.marks>=45:\n",
        "            print('Second division')\n",
        "        elif self.marks>=33:\n",
        "            print('Third division')\n",
        "        else:\n",
        "            print('Fail')"
      ]
    },
    {
      "cell_type": "code",
      "execution_count": null,
      "id": "3167894e-8b06-4fa2-9c0a-09ccd71c18f3",
      "metadata": {
        "id": "3167894e-8b06-4fa2-9c0a-09ccd71c18f3",
        "outputId": "b850dab0-834d-42db-ff6b-ec92def28251"
      },
      "outputs": [
        {
          "name": "stdout",
          "output_type": "stream",
          "text": [
            "My name is Adam\n",
            "I have scored 45 marks\n",
            "Second division\n",
            "***********************************\n",
            "\n",
            "My name is Frank\n",
            "I have scored 62 marks\n",
            "Fisrt division\n",
            "***********************************\n",
            "\n",
            "My name is Tina\n",
            "I have scored 26 marks\n",
            "Fail\n",
            "***********************************\n",
            "\n",
            "My name is Emma\n",
            "I have scored 41 marks\n",
            "Third division\n",
            "***********************************\n",
            "\n"
          ]
        }
      ],
      "source": [
        "s1=Student('Adam',45)\n",
        "s2=Student('Frank',62)\n",
        "s3=Student('Tina',26)\n",
        "s4=Student('Emma',41)"
      ]
    },
    {
      "cell_type": "code",
      "execution_count": null,
      "id": "55444a3e-639b-4a19-8b6f-0cb09203106c",
      "metadata": {
        "id": "55444a3e-639b-4a19-8b6f-0cb09203106c"
      },
      "outputs": [],
      "source": [
        "class Student:\n",
        "\n",
        "    def __init__(self,name,marks):\n",
        "        self.name=name\n",
        "        self.marks=marks\n",
        "\n",
        "        self.display()\n",
        "        print('*'*35)\n",
        "        print()\n",
        "\n",
        "    def display(self):\n",
        "        print(f'My name is {self.name}')\n",
        "        print(f'I have scored {self.marks} marks')\n",
        "        self.grade()\n",
        "\n",
        "    def grade(self):\n",
        "        if self.marks>=60:\n",
        "            print('Fisrt division')\n",
        "        elif self.marks>=45:\n",
        "            print('Second division')\n",
        "        elif self.marks>=33:\n",
        "            print('Third division')\n",
        "        else:\n",
        "            print('Fail')"
      ]
    },
    {
      "cell_type": "code",
      "execution_count": null,
      "id": "718b6fe9-1d90-40b3-96c0-74bd499beab3",
      "metadata": {
        "id": "718b6fe9-1d90-40b3-96c0-74bd499beab3",
        "outputId": "479e0624-ef92-4a1a-d310-23bf46f9ff4d"
      },
      "outputs": [
        {
          "name": "stdout",
          "output_type": "stream",
          "text": [
            "My name is Adam\n",
            "I have scored 45 marks\n",
            "Second division\n",
            "***********************************\n",
            "\n",
            "My name is Frank\n",
            "I have scored 62 marks\n",
            "Fisrt division\n",
            "***********************************\n",
            "\n",
            "My name is Tina\n",
            "I have scored 26 marks\n",
            "Fail\n",
            "***********************************\n",
            "\n",
            "My name is Emma\n",
            "I have scored 41 marks\n",
            "Third division\n",
            "***********************************\n",
            "\n"
          ]
        }
      ],
      "source": [
        "s1=Student('Adam',45)\n",
        "s2=Student('Frank',62)\n",
        "s3=Student('Tina',26)\n",
        "s4=Student('Emma',41)"
      ]
    },
    {
      "cell_type": "markdown",
      "id": "685b2671-d02f-45e4-b2d7-3f818cd873e8",
      "metadata": {
        "id": "685b2671-d02f-45e4-b2d7-3f818cd873e8"
      },
      "source": [
        "# setter and getter methods"
      ]
    },
    {
      "cell_type": "code",
      "execution_count": null,
      "id": "cdcf295e-dbd8-4463-9dde-8c66ba360e7b",
      "metadata": {
        "id": "cdcf295e-dbd8-4463-9dde-8c66ba360e7b"
      },
      "outputs": [],
      "source": [
        "# setter and getter methods are instance methods"
      ]
    },
    {
      "cell_type": "markdown",
      "id": "4b510e06-5835-4067-93b1-070a83c91676",
      "metadata": {
        "id": "4b510e06-5835-4067-93b1-070a83c91676"
      },
      "source": [
        "# setter methods"
      ]
    },
    {
      "cell_type": "code",
      "execution_count": null,
      "id": "3042def3-920d-45b5-9d2e-298550837aef",
      "metadata": {
        "id": "3042def3-920d-45b5-9d2e-298550837aef"
      },
      "outputs": [],
      "source": [
        "# These methods are used to set (declare or modify) an instance variable."
      ]
    },
    {
      "cell_type": "markdown",
      "id": "ff457731-b09a-4638-8577-cc8ac2dd4972",
      "metadata": {
        "id": "ff457731-b09a-4638-8577-cc8ac2dd4972"
      },
      "source": [
        "# getter methods"
      ]
    },
    {
      "cell_type": "code",
      "execution_count": null,
      "id": "955b5d83-804e-4e36-9ee1-6bd536afa892",
      "metadata": {
        "id": "955b5d83-804e-4e36-9ee1-6bd536afa892"
      },
      "outputs": [],
      "source": [
        "# These methods are used to access the instance variables."
      ]
    },
    {
      "cell_type": "code",
      "execution_count": null,
      "id": "4de7e839-af94-4ac1-b8fc-80490851ba3e",
      "metadata": {
        "id": "4de7e839-af94-4ac1-b8fc-80490851ba3e"
      },
      "outputs": [],
      "source": [
        "class Details:\n",
        "    def __init__(self,name,city=None):\n",
        "        self.name=name\n",
        "        self.city=city\n",
        "\n",
        "    def set_city(self,city):\n",
        "        self.city=city\n",
        "\n",
        "    def get_city(self):\n",
        "        print(self.city)"
      ]
    },
    {
      "cell_type": "code",
      "execution_count": null,
      "id": "ca13ed78-f8e1-4fbd-be9e-e0eb2043d8a3",
      "metadata": {
        "id": "ca13ed78-f8e1-4fbd-be9e-e0eb2043d8a3"
      },
      "outputs": [],
      "source": [
        "e1=Details('Kuldeep')"
      ]
    },
    {
      "cell_type": "code",
      "execution_count": null,
      "id": "d6f9e48b-cee0-479e-8065-3dd0eb108e98",
      "metadata": {
        "id": "d6f9e48b-cee0-479e-8065-3dd0eb108e98",
        "outputId": "0b3c8d09-dfef-4c5e-e140-5ee843b2c984"
      },
      "outputs": [
        {
          "name": "stdout",
          "output_type": "stream",
          "text": [
            "None\n"
          ]
        }
      ],
      "source": [
        "e1.get_city()"
      ]
    },
    {
      "cell_type": "code",
      "execution_count": null,
      "id": "6ff81d3d-0058-4425-b60b-f08f52a10ac7",
      "metadata": {
        "id": "6ff81d3d-0058-4425-b60b-f08f52a10ac7"
      },
      "outputs": [],
      "source": [
        "e1.set_city('Pune')"
      ]
    },
    {
      "cell_type": "code",
      "execution_count": null,
      "id": "aacf2ce0-313e-42ff-b70b-3bb591e27bac",
      "metadata": {
        "id": "aacf2ce0-313e-42ff-b70b-3bb591e27bac",
        "outputId": "a0b7ef5b-35c6-4c8d-cd1d-6395e039cd3d"
      },
      "outputs": [
        {
          "name": "stdout",
          "output_type": "stream",
          "text": [
            "Pune\n"
          ]
        }
      ],
      "source": [
        "e1.get_city()"
      ]
    },
    {
      "cell_type": "code",
      "execution_count": null,
      "id": "e4b491c9-502f-48ce-9853-442193b53580",
      "metadata": {
        "id": "e4b491c9-502f-48ce-9853-442193b53580"
      },
      "outputs": [],
      "source": [
        "class Details:\n",
        "    def __init__(self,name):\n",
        "        self.name=name\n",
        "\n",
        "    def set_city(self,city):\n",
        "        self.city=city\n",
        "\n",
        "    def get_city(self):\n",
        "        print(self.city)"
      ]
    },
    {
      "cell_type": "code",
      "execution_count": null,
      "id": "ff8efe42-b4b8-49e8-aebd-098b23624371",
      "metadata": {
        "id": "ff8efe42-b4b8-49e8-aebd-098b23624371"
      },
      "outputs": [],
      "source": [
        "e1=Details('Pawan')"
      ]
    },
    {
      "cell_type": "code",
      "execution_count": null,
      "id": "aca83cb8-a79a-4929-bae9-918644937afe",
      "metadata": {
        "id": "aca83cb8-a79a-4929-bae9-918644937afe",
        "outputId": "1d5ada82-1dc3-4eb3-926a-595dbcc2b839"
      },
      "outputs": [
        {
          "ename": "AttributeError",
          "evalue": "'Details' object has no attribute 'city'",
          "output_type": "error",
          "traceback": [
            "\u001b[1;31m---------------------------------------------------------------------------\u001b[0m",
            "\u001b[1;31mAttributeError\u001b[0m                            Traceback (most recent call last)",
            "Cell \u001b[1;32mIn[171], line 1\u001b[0m\n\u001b[1;32m----> 1\u001b[0m e1\u001b[38;5;241m.\u001b[39mget_city()\n",
            "Cell \u001b[1;32mIn[169], line 9\u001b[0m, in \u001b[0;36mDetails.get_city\u001b[1;34m(self)\u001b[0m\n\u001b[0;32m      8\u001b[0m \u001b[38;5;28;01mdef\u001b[39;00m \u001b[38;5;21mget_city\u001b[39m(\u001b[38;5;28mself\u001b[39m):\n\u001b[1;32m----> 9\u001b[0m     \u001b[38;5;28mprint\u001b[39m(\u001b[38;5;28mself\u001b[39m\u001b[38;5;241m.\u001b[39mcity)\n",
            "\u001b[1;31mAttributeError\u001b[0m: 'Details' object has no attribute 'city'"
          ]
        }
      ],
      "source": [
        "e1.get_city()"
      ]
    },
    {
      "cell_type": "code",
      "execution_count": null,
      "id": "238c4618-8dca-4186-843c-79f4093a82b8",
      "metadata": {
        "id": "238c4618-8dca-4186-843c-79f4093a82b8"
      },
      "outputs": [],
      "source": [
        "e1.set_city('Mumbai')"
      ]
    },
    {
      "cell_type": "code",
      "execution_count": null,
      "id": "eb069756-d11b-4cbe-939c-f98a0c6de84e",
      "metadata": {
        "id": "eb069756-d11b-4cbe-939c-f98a0c6de84e",
        "outputId": "f52a4e26-e55d-4bb2-c129-ece4d06468af"
      },
      "outputs": [
        {
          "name": "stdout",
          "output_type": "stream",
          "text": [
            "Mumbai\n"
          ]
        }
      ],
      "source": [
        "e1.get_city()"
      ]
    },
    {
      "cell_type": "code",
      "execution_count": null,
      "id": "a9060b0b-c80f-4991-915e-a006c56bd5cd",
      "metadata": {
        "id": "a9060b0b-c80f-4991-915e-a006c56bd5cd"
      },
      "outputs": [],
      "source": [
        "class Movies:\n",
        "    def __init__(self,name,hero,heroine,rating):\n",
        "        self.name=name\n",
        "        self.hero=hero\n",
        "        self.heroine=heroine\n",
        "        self.rating=rating\n",
        "\n",
        "    def display(self):\n",
        "        print(f'Movie name is {self.name}')\n",
        "        print(f'The name of the hero is {self.hero}')\n",
        "        print(f'The name of the heroine is {self.heroine}')\n",
        "        print(f'The ratings of {self.name} are {self.rating}')"
      ]
    },
    {
      "cell_type": "code",
      "execution_count": null,
      "id": "53915c77-55bd-4b6c-b183-0b71c2f490e0",
      "metadata": {
        "id": "53915c77-55bd-4b6c-b183-0b71c2f490e0"
      },
      "outputs": [],
      "source": [
        "names=['Titanic','Bahubali','Life of Pi','Sholey','Avengers']\n",
        "heros=['Jack','Prabhas','Irfan','Amitabh','Chris Evans']\n",
        "heroines=['Kate','Anushka',None,'Jaya','Natasha']\n",
        "ratings=[8.2,8.4,7.8,7.5,7.4]"
      ]
    },
    {
      "cell_type": "code",
      "execution_count": null,
      "id": "52d36b08-ac50-412b-bb5e-6d263d978c12",
      "metadata": {
        "id": "52d36b08-ac50-412b-bb5e-6d263d978c12"
      },
      "outputs": [],
      "source": [
        "# Create a setter method that sets the ratings for a particular movie\n",
        "# Create a getter method that shows the movie name and ratings"
      ]
    },
    {
      "cell_type": "code",
      "execution_count": null,
      "id": "ccc931ab-20b0-4188-b264-fcdf0d6c87c5",
      "metadata": {
        "id": "ccc931ab-20b0-4188-b264-fcdf0d6c87c5"
      },
      "outputs": [],
      "source": [
        "mv_lst=[]\n",
        "for i in zip(names,heros,heroines,ratings):\n",
        "    mv_lst.append(Movies(*i))"
      ]
    },
    {
      "cell_type": "code",
      "execution_count": null,
      "id": "29f3b3ae-3781-4ca2-93d8-ee50ee3a8643",
      "metadata": {
        "id": "29f3b3ae-3781-4ca2-93d8-ee50ee3a8643",
        "outputId": "5d4746ef-f607-4fea-fe9e-017c09ed6043"
      },
      "outputs": [
        {
          "data": {
            "text/plain": [
              "[<__main__.Movies at 0x1d8fe6d8e50>,\n",
              " <__main__.Movies at 0x1d8fe54ee90>,\n",
              " <__main__.Movies at 0x1d8fe645cd0>,\n",
              " <__main__.Movies at 0x1d8fe6ea6d0>,\n",
              " <__main__.Movies at 0x1d8fe156d10>]"
            ]
          },
          "execution_count": 179,
          "metadata": {},
          "output_type": "execute_result"
        }
      ],
      "source": [
        "mv_lst"
      ]
    },
    {
      "cell_type": "code",
      "execution_count": null,
      "id": "af073b93-fc02-499f-8a21-adf9a12f84d5",
      "metadata": {
        "id": "af073b93-fc02-499f-8a21-adf9a12f84d5",
        "outputId": "4eef66ea-1950-4913-8bde-82e63a4bec1b"
      },
      "outputs": [
        {
          "name": "stdout",
          "output_type": "stream",
          "text": [
            "Movie name is Titanic\n",
            "The name of the hero is Jack\n",
            "The name of the heroine is Kate\n",
            "The ratings of Titanic are 8.2\n",
            "*************************\n",
            "\n",
            "Movie name is Bahubali\n",
            "The name of the hero is Prabhas\n",
            "The name of the heroine is Anushka\n",
            "The ratings of Bahubali are 8.4\n",
            "*************************\n",
            "\n",
            "Movie name is Life of Pi\n",
            "The name of the hero is Irfan\n",
            "The name of the heroine is None\n",
            "The ratings of Life of Pi are 7.8\n",
            "*************************\n",
            "\n",
            "Movie name is Sholey\n",
            "The name of the hero is Amitabh\n",
            "The name of the heroine is Jaya\n",
            "The ratings of Sholey are 7.5\n",
            "*************************\n",
            "\n",
            "Movie name is Avengers\n",
            "The name of the hero is Chris Evans\n",
            "The name of the heroine is Natasha\n",
            "The ratings of Avengers are 7.4\n",
            "*************************\n",
            "\n"
          ]
        }
      ],
      "source": [
        "for i in mv_lst:\n",
        "    i.display()\n",
        "    print('*'*25)\n",
        "    print()"
      ]
    },
    {
      "cell_type": "code",
      "execution_count": null,
      "id": "c6d47c76-ce5e-47c7-a0b2-8490ebabbbe3",
      "metadata": {
        "id": "c6d47c76-ce5e-47c7-a0b2-8490ebabbbe3"
      },
      "outputs": [],
      "source": [
        "class Movies:\n",
        "    def __init__(self,name,hero,heroine,rating):\n",
        "        self.name=name\n",
        "        self.hero=hero\n",
        "        self.heroine=heroine\n",
        "        self.rating=rating\n",
        "\n",
        "    def display(self):\n",
        "        print(f'Movie name is {self.name}')\n",
        "        print(f'The name of the hero is {self.hero}')\n",
        "        print(f'The name of the heroine is {self.heroine}')\n",
        "        print(f'The ratings of {self.name} are {self.rating}')\n",
        "\n",
        "    def set_rating(self,rating):\n",
        "        print('The previous rating')\n",
        "        self.get_rating()\n",
        "        self.rating=rating\n",
        "        print('The latest rating')\n",
        "        self.get_rating()\n",
        "\n",
        "\n",
        "    def get_rating(self):\n",
        "        print(self.rating)"
      ]
    },
    {
      "cell_type": "code",
      "execution_count": null,
      "id": "11b55d5c-d8ec-4828-a074-39b8522aa8e0",
      "metadata": {
        "id": "11b55d5c-d8ec-4828-a074-39b8522aa8e0"
      },
      "outputs": [],
      "source": [
        "mv_lst=[]\n",
        "for i in zip(names,heros,heroines,ratings):\n",
        "    mv_lst.append(Movies(*i))"
      ]
    },
    {
      "cell_type": "code",
      "execution_count": null,
      "id": "1061c154-b6c2-4c3d-af39-404d8514c938",
      "metadata": {
        "id": "1061c154-b6c2-4c3d-af39-404d8514c938",
        "outputId": "892fea62-95f7-478c-ac08-d44e6d381b16"
      },
      "outputs": [
        {
          "name": "stdout",
          "output_type": "stream",
          "text": [
            "Titanic->> 8.2\n",
            "Bahubali->> 8.4\n",
            "Life of Pi->> 7.8\n",
            "Sholey->> 7.5\n",
            "Avengers->> 7.4\n"
          ]
        }
      ],
      "source": [
        "for i in mv_lst:\n",
        "    print(i.name,i.rating,sep='->> ')"
      ]
    },
    {
      "cell_type": "code",
      "execution_count": null,
      "id": "464292b6-33d4-421c-a4c4-911e08f4e59b",
      "metadata": {
        "id": "464292b6-33d4-421c-a4c4-911e08f4e59b",
        "outputId": "2443c9e4-5749-4901-f034-6bc86f7d6bbe"
      },
      "outputs": [
        {
          "name": "stdout",
          "output_type": "stream",
          "text": [
            "The previous rating\n",
            "8.4\n",
            "The latest rating\n",
            "9\n"
          ]
        }
      ],
      "source": [
        "for i in mv_lst:\n",
        "    if i.name=='Bahubali':\n",
        "        i.set_rating(9)"
      ]
    },
    {
      "cell_type": "code",
      "execution_count": null,
      "id": "fdc10aa0-c95f-4e8b-981d-4cc12fc2ef75",
      "metadata": {
        "id": "fdc10aa0-c95f-4e8b-981d-4cc12fc2ef75",
        "outputId": "90959298-b170-4685-a697-060928fedc56"
      },
      "outputs": [
        {
          "name": "stdout",
          "output_type": "stream",
          "text": [
            "Titanic->> 8.2\n",
            "Bahubali->> 9\n",
            "Life of Pi->> 7.8\n",
            "Sholey->> 7.5\n",
            "Avengers->> 7.4\n"
          ]
        }
      ],
      "source": [
        "for i in mv_lst:\n",
        "    print(i.name,i.rating,sep='->> ')"
      ]
    },
    {
      "cell_type": "code",
      "execution_count": null,
      "id": "ad6eb48d-3bdf-413a-ac69-d65e99a97876",
      "metadata": {
        "id": "ad6eb48d-3bdf-413a-ac69-d65e99a97876",
        "outputId": "dca61c96-f7f5-44ff-8258-91f84f0f79e9"
      },
      "outputs": [
        {
          "name": "stdout",
          "output_type": "stream",
          "text": [
            "Titanic->> 8.2\n",
            "Bahubali->> 9\n",
            "Life of Pi->> 7.8\n",
            "Sholey->> 7.5\n",
            "Avengers->> 7.4\n"
          ]
        }
      ],
      "source": [
        "for i in mv_lst:\n",
        "    print(i.name,end='->> ')\n",
        "    i.get_rating()"
      ]
    },
    {
      "cell_type": "markdown",
      "id": "87d2a364-f80d-4356-85ed-73bcb8fa0036",
      "metadata": {
        "id": "87d2a364-f80d-4356-85ed-73bcb8fa0036"
      },
      "source": [
        "# Class method"
      ]
    },
    {
      "cell_type": "code",
      "execution_count": null,
      "id": "5fe091e0-0746-4b98-8fc1-5f2be8449909",
      "metadata": {
        "id": "5fe091e0-0746-4b98-8fc1-5f2be8449909"
      },
      "outputs": [],
      "source": [
        "# If we have only the static variable then we should go with the class method."
      ]
    },
    {
      "cell_type": "code",
      "execution_count": null,
      "id": "580fa2e8-ca6c-4c3b-8c62-3e0d88de5496",
      "metadata": {
        "id": "580fa2e8-ca6c-4c3b-8c62-3e0d88de5496"
      },
      "outputs": [],
      "source": [
        "# Instance variable- Instance method\n",
        "# Instance variable + static variable- Instance method\n",
        "# Instance varable + local variable- Instance method\n",
        "# Static variable - Class method\n",
        "# Static variable + local variable - class method\n",
        "# Local variable - Static method"
      ]
    },
    {
      "cell_type": "markdown",
      "id": "fd30ea9b-4789-422b-ba6f-dd60aa06059b",
      "metadata": {
        "id": "fd30ea9b-4789-422b-ba6f-dd60aa06059b"
      },
      "source": [
        "# How to define a class method"
      ]
    },
    {
      "cell_type": "code",
      "execution_count": null,
      "id": "acddc19f-7284-4251-97c9-2127f630969a",
      "metadata": {
        "id": "acddc19f-7284-4251-97c9-2127f630969a"
      },
      "outputs": [],
      "source": [
        "@classmethod\n",
        "def func_name(cls):\n",
        "    code\n",
        "    code"
      ]
    },
    {
      "cell_type": "code",
      "execution_count": null,
      "id": "611a1cb6-4d48-4d4f-b1e8-db1896cb412d",
      "metadata": {
        "id": "611a1cb6-4d48-4d4f-b1e8-db1896cb412d"
      },
      "outputs": [],
      "source": [
        "# cls is a special variable that points to the current class."
      ]
    },
    {
      "cell_type": "code",
      "execution_count": null,
      "id": "6927f8c6-5881-4330-8e13-bbeeed603e00",
      "metadata": {
        "id": "6927f8c6-5881-4330-8e13-bbeeed603e00"
      },
      "outputs": [],
      "source": [
        "class Test:\n",
        "    a=55\n",
        "\n",
        "    @classmethod\n",
        "    def method(cls):\n",
        "        print('I am a method')\n",
        "        print(cls.a)"
      ]
    },
    {
      "cell_type": "code",
      "execution_count": null,
      "id": "b45b3b83-ea6b-4d4c-b2b7-e8cc87eb2da3",
      "metadata": {
        "id": "b45b3b83-ea6b-4d4c-b2b7-e8cc87eb2da3",
        "outputId": "12262b29-1d8d-4a8d-cc62-4e568f414c70"
      },
      "outputs": [
        {
          "data": {
            "text/plain": [
              "mappingproxy({'__module__': '__main__',\n",
              "              'a': 55,\n",
              "              'method': <classmethod(<function Test.method at 0x000001D8FED8CC20>)>,\n",
              "              '__dict__': <attribute '__dict__' of 'Test' objects>,\n",
              "              '__weakref__': <attribute '__weakref__' of 'Test' objects>,\n",
              "              '__doc__': None})"
            ]
          },
          "execution_count": 201,
          "metadata": {},
          "output_type": "execute_result"
        }
      ],
      "source": [
        "Test.__dict__"
      ]
    },
    {
      "cell_type": "code",
      "execution_count": null,
      "id": "0f682ae1-3173-49b2-805e-4d54af83fab2",
      "metadata": {
        "id": "0f682ae1-3173-49b2-805e-4d54af83fab2"
      },
      "outputs": [],
      "source": [
        "# We can have local variable inside a class method"
      ]
    },
    {
      "cell_type": "code",
      "execution_count": null,
      "id": "48797f52-431d-4237-8096-d1ac5c028042",
      "metadata": {
        "id": "48797f52-431d-4237-8096-d1ac5c028042"
      },
      "outputs": [],
      "source": [
        "class Test:\n",
        "    a=55\n",
        "\n",
        "    @classmethod\n",
        "    def m1(cls):\n",
        "        b=22\n",
        "        print(dir())"
      ]
    },
    {
      "cell_type": "code",
      "execution_count": null,
      "id": "c6e72108-0b61-4a5b-9208-b1e428444621",
      "metadata": {
        "id": "c6e72108-0b61-4a5b-9208-b1e428444621",
        "outputId": "0790b5a3-5cd6-4566-97b6-745d4514589f"
      },
      "outputs": [
        {
          "name": "stdout",
          "output_type": "stream",
          "text": [
            "['b', 'cls']\n"
          ]
        }
      ],
      "source": [
        "Test.m1()"
      ]
    },
    {
      "cell_type": "markdown",
      "id": "49448301-36e7-4dc2-afaf-0dbe54d11c1a",
      "metadata": {
        "id": "49448301-36e7-4dc2-afaf-0dbe54d11c1a"
      },
      "source": [
        "# How to access a static variable inside a class method"
      ]
    },
    {
      "cell_type": "code",
      "execution_count": null,
      "id": "d82164d3-614f-4350-a9c2-fea6b342bd6f",
      "metadata": {
        "id": "d82164d3-614f-4350-a9c2-fea6b342bd6f"
      },
      "outputs": [],
      "source": [
        "# By using class name or by using cls variable we can access or modify a static variable."
      ]
    },
    {
      "cell_type": "code",
      "execution_count": null,
      "id": "1ca1df33-9ad5-43f4-bb6d-732f9f1787db",
      "metadata": {
        "id": "1ca1df33-9ad5-43f4-bb6d-732f9f1787db"
      },
      "outputs": [],
      "source": [
        "class Test:\n",
        "    a=55\n",
        "\n",
        "    @classmethod\n",
        "    def m1(cls):\n",
        "        print(cls.a)\n",
        "        print(Test.a)"
      ]
    },
    {
      "cell_type": "code",
      "execution_count": null,
      "id": "596e2f48-8561-4fe7-98a2-dffea0f86e07",
      "metadata": {
        "id": "596e2f48-8561-4fe7-98a2-dffea0f86e07",
        "outputId": "341a9269-a942-45e8-c0aa-64c335f325b5"
      },
      "outputs": [
        {
          "name": "stdout",
          "output_type": "stream",
          "text": [
            "55\n",
            "55\n"
          ]
        }
      ],
      "source": [
        "Test.m1()"
      ]
    },
    {
      "cell_type": "code",
      "execution_count": null,
      "id": "1443b417-3f34-49d3-ad09-41edcb31d1f0",
      "metadata": {
        "id": "1443b417-3f34-49d3-ad09-41edcb31d1f0"
      },
      "outputs": [],
      "source": [
        "class Test:\n",
        "    a=55\n",
        "\n",
        "    @classmethod\n",
        "    def m1(cls):\n",
        "        print(cls.a)\n",
        "        cls.a=22\n",
        "        print(Test.a)"
      ]
    },
    {
      "cell_type": "code",
      "execution_count": null,
      "id": "7d319a35-e6aa-4cf0-9821-19831efbfb8f",
      "metadata": {
        "id": "7d319a35-e6aa-4cf0-9821-19831efbfb8f",
        "outputId": "b2d8f79f-6faa-4571-feeb-4ae675f89246"
      },
      "outputs": [
        {
          "name": "stdout",
          "output_type": "stream",
          "text": [
            "55\n",
            "22\n"
          ]
        }
      ],
      "source": [
        "Test.m1()"
      ]
    },
    {
      "cell_type": "markdown",
      "id": "4ebc7d5e-eda7-4994-a65d-490b2c8e917e",
      "metadata": {
        "id": "4ebc7d5e-eda7-4994-a65d-490b2c8e917e"
      },
      "source": [
        "# How to call a class method"
      ]
    },
    {
      "cell_type": "code",
      "execution_count": null,
      "id": "77d36699-8241-473c-8929-13b2187afa2f",
      "metadata": {
        "id": "77d36699-8241-473c-8929-13b2187afa2f"
      },
      "outputs": [],
      "source": [
        "# By using class name or by using the object reference variable"
      ]
    },
    {
      "cell_type": "code",
      "execution_count": null,
      "id": "3daea442-ce4b-4dcc-87c8-a4f5cbcf1090",
      "metadata": {
        "id": "3daea442-ce4b-4dcc-87c8-a4f5cbcf1090"
      },
      "outputs": [],
      "source": [
        "class Test:\n",
        "    a=55\n",
        "\n",
        "    @classmethod\n",
        "    def m1(cls):\n",
        "        print(cls.a)\n",
        "        cls.a=22\n",
        "        print(Test.a)"
      ]
    },
    {
      "cell_type": "code",
      "execution_count": null,
      "id": "dbd97a9a-c573-42a3-8a56-4005bc8bd0ca",
      "metadata": {
        "id": "dbd97a9a-c573-42a3-8a56-4005bc8bd0ca",
        "outputId": "3f6734e3-d45b-4a7e-971d-29878fef64b8"
      },
      "outputs": [
        {
          "name": "stdout",
          "output_type": "stream",
          "text": [
            "55\n",
            "22\n"
          ]
        }
      ],
      "source": [
        "Test.m1()"
      ]
    },
    {
      "cell_type": "code",
      "execution_count": null,
      "id": "998a7b13-6b81-4900-a929-743983974a90",
      "metadata": {
        "id": "998a7b13-6b81-4900-a929-743983974a90"
      },
      "outputs": [],
      "source": [
        "t=Test()"
      ]
    },
    {
      "cell_type": "code",
      "execution_count": null,
      "id": "b5837a38-c84a-4590-b8bb-11c0c3c7e73b",
      "metadata": {
        "id": "b5837a38-c84a-4590-b8bb-11c0c3c7e73b",
        "outputId": "11bb3055-17b9-4354-a4ee-d5bd4f3af355"
      },
      "outputs": [
        {
          "name": "stdout",
          "output_type": "stream",
          "text": [
            "22\n",
            "22\n"
          ]
        }
      ],
      "source": [
        "t.m1()"
      ]
    },
    {
      "cell_type": "code",
      "execution_count": null,
      "id": "6adc7bfc-14ef-451d-a5c7-c4f81df4afdb",
      "metadata": {
        "id": "6adc7bfc-14ef-451d-a5c7-c4f81df4afdb"
      },
      "outputs": [],
      "source": [
        "class Test:\n",
        "    a=55\n",
        "\n",
        "    @classmethod\n",
        "    def m1(cls):\n",
        "        print(cls.a)\n",
        "        cls.a=22\n",
        "        print(Test.a)"
      ]
    },
    {
      "cell_type": "code",
      "execution_count": null,
      "id": "783a1cc8-e7dc-41dc-84ce-10ebbe0e212b",
      "metadata": {
        "id": "783a1cc8-e7dc-41dc-84ce-10ebbe0e212b"
      },
      "outputs": [],
      "source": [
        "t=Test()"
      ]
    },
    {
      "cell_type": "code",
      "execution_count": null,
      "id": "f0067325-3106-4301-905d-f4856d90be15",
      "metadata": {
        "id": "f0067325-3106-4301-905d-f4856d90be15",
        "outputId": "27797549-ab67-414f-d6c8-6db9d32cbd74"
      },
      "outputs": [
        {
          "name": "stdout",
          "output_type": "stream",
          "text": [
            "55\n",
            "22\n"
          ]
        }
      ],
      "source": [
        "t.m1()"
      ]
    },
    {
      "cell_type": "code",
      "execution_count": null,
      "id": "c68f9405-f1ee-4b26-9bd5-6e119e1fe1f9",
      "metadata": {
        "id": "c68f9405-f1ee-4b26-9bd5-6e119e1fe1f9",
        "outputId": "c51f745a-b4d6-4001-c0b5-d8efb258793c"
      },
      "outputs": [
        {
          "name": "stdout",
          "output_type": "stream",
          "text": [
            "22\n",
            "22\n"
          ]
        }
      ],
      "source": [
        "Test.m1()"
      ]
    },
    {
      "cell_type": "code",
      "execution_count": null,
      "id": "502625a4-1e34-4b78-9307-9006ec241c0d",
      "metadata": {
        "id": "502625a4-1e34-4b78-9307-9006ec241c0d"
      },
      "outputs": [],
      "source": []
    }
  ],
  "metadata": {
    "kernelspec": {
      "display_name": "Python 3 (ipykernel)",
      "language": "python",
      "name": "python3"
    },
    "language_info": {
      "codemirror_mode": {
        "name": "ipython",
        "version": 3
      },
      "file_extension": ".py",
      "mimetype": "text/x-python",
      "name": "python",
      "nbconvert_exporter": "python",
      "pygments_lexer": "ipython3",
      "version": "3.11.7"
    },
    "colab": {
      "provenance": []
    }
  },
  "nbformat": 4,
  "nbformat_minor": 5
}