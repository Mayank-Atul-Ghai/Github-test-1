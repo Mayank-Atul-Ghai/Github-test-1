{
  "cells": [
    {
      "cell_type": "markdown",
      "id": "da524ba2",
      "metadata": {
        "id": "da524ba2"
      },
      "source": [
        "# Naming convention of class"
      ]
    },
    {
      "cell_type": "code",
      "execution_count": null,
      "id": "83372b4b",
      "metadata": {
        "id": "83372b4b"
      },
      "outputs": [],
      "source": [
        "# - A class must begin with a capital case letter."
      ]
    },
    {
      "cell_type": "code",
      "execution_count": null,
      "id": "eb833829",
      "metadata": {
        "id": "eb833829"
      },
      "outputs": [],
      "source": [
        "class hello:\n",
        "    def m1(self):\n",
        "        print('Hello')"
      ]
    },
    {
      "cell_type": "code",
      "execution_count": null,
      "id": "76432e69",
      "metadata": {
        "id": "76432e69"
      },
      "outputs": [],
      "source": [
        "x=hello()"
      ]
    },
    {
      "cell_type": "code",
      "execution_count": null,
      "id": "bfabd98d",
      "metadata": {
        "id": "bfabd98d",
        "outputId": "6bdb58f0-ee3a-4755-dd49-119ff274972b"
      },
      "outputs": [
        {
          "name": "stdout",
          "output_type": "stream",
          "text": [
            "Hello\n"
          ]
        }
      ],
      "source": [
        "x.m1()"
      ]
    },
    {
      "cell_type": "markdown",
      "id": "a3d1ea59",
      "metadata": {
        "id": "a3d1ea59"
      },
      "source": [
        "# Types of variables inside a class"
      ]
    },
    {
      "cell_type": "code",
      "execution_count": null,
      "id": "b29b67f3",
      "metadata": {
        "id": "b29b67f3"
      },
      "outputs": [],
      "source": [
        "# - 1- Instance variables (Object level variables)\n",
        "# - 2- Static variables (Class level variables)\n",
        "# - 3- Local variables (Method level variables)"
      ]
    },
    {
      "cell_type": "markdown",
      "id": "a19e0bc9",
      "metadata": {
        "id": "a19e0bc9"
      },
      "source": [
        "# Instance variables"
      ]
    },
    {
      "cell_type": "code",
      "execution_count": null,
      "id": "b0ea06f5",
      "metadata": {
        "id": "b0ea06f5"
      },
      "outputs": [],
      "source": [
        "# - The variables that are used to define theattributes are known as instance variables.\n",
        "# - If the value of variable varies from object to object, such variables are instance variables.\n",
        "# - The variables that we want to be shard by all objects are instance variables"
      ]
    },
    {
      "cell_type": "code",
      "execution_count": null,
      "id": "fdcc509a",
      "metadata": {
        "id": "fdcc509a"
      },
      "outputs": [],
      "source": [
        "# Declaration of the variable\n",
        "# Accessing a variable\n",
        "# Modifying a variable\n",
        "# Deleteiing a variable"
      ]
    },
    {
      "cell_type": "markdown",
      "id": "9821d7f9",
      "metadata": {
        "id": "9821d7f9"
      },
      "source": [
        "# Declaring and intialising an instance variable"
      ]
    },
    {
      "cell_type": "code",
      "execution_count": null,
      "id": "f9301a61",
      "metadata": {
        "id": "f9301a61"
      },
      "outputs": [],
      "source": [
        "# - Inside the constructor by using self variable.\n",
        "# - Inside any instance method by using self variable.\n",
        "# - Outside the class by using reference variable."
      ]
    },
    {
      "cell_type": "markdown",
      "id": "3e00357c",
      "metadata": {
        "id": "3e00357c"
      },
      "source": [
        "# Case_1\n",
        " - Inside the constructor"
      ]
    },
    {
      "cell_type": "code",
      "execution_count": null,
      "id": "b602dc2d",
      "metadata": {
        "id": "b602dc2d"
      },
      "outputs": [],
      "source": [
        "class Test:\n",
        "    def __init__(self):\n",
        "        self.a=5"
      ]
    },
    {
      "cell_type": "code",
      "execution_count": null,
      "id": "427c1f6c",
      "metadata": {
        "id": "427c1f6c"
      },
      "outputs": [],
      "source": [
        "t=Test()"
      ]
    },
    {
      "cell_type": "code",
      "execution_count": null,
      "id": "2aff7ba1",
      "metadata": {
        "id": "2aff7ba1",
        "outputId": "73177192-6d89-4599-cf84-9e700996f46c"
      },
      "outputs": [
        {
          "data": {
            "text/plain": [
              "5"
            ]
          },
          "execution_count": 16,
          "metadata": {},
          "output_type": "execute_result"
        }
      ],
      "source": [
        "t.a"
      ]
    },
    {
      "cell_type": "code",
      "execution_count": null,
      "id": "e2325f61",
      "metadata": {
        "id": "e2325f61",
        "outputId": "ef62077c-56bf-45a1-eb6b-965e4e4e4cff"
      },
      "outputs": [
        {
          "data": {
            "text/plain": [
              "{'a': 5}"
            ]
          },
          "execution_count": 17,
          "metadata": {},
          "output_type": "execute_result"
        }
      ],
      "source": [
        "t.__dict__"
      ]
    },
    {
      "cell_type": "markdown",
      "id": "a7614dfa",
      "metadata": {
        "id": "a7614dfa"
      },
      "source": [
        "# Case_2\n",
        "- Inside an instance method"
      ]
    },
    {
      "cell_type": "code",
      "execution_count": null,
      "id": "062b361b",
      "metadata": {
        "id": "062b361b"
      },
      "outputs": [],
      "source": [
        "# - Any method that uses an instance variable is known as instance method."
      ]
    },
    {
      "cell_type": "code",
      "execution_count": null,
      "id": "b07a6477",
      "metadata": {
        "id": "b07a6477"
      },
      "outputs": [],
      "source": [
        "class Test:\n",
        "    def __init__(self):\n",
        "        self.a=10\n",
        "\n",
        "    def m1(self):\n",
        "        self.b=50"
      ]
    },
    {
      "cell_type": "code",
      "execution_count": null,
      "id": "1ae3c06b",
      "metadata": {
        "id": "1ae3c06b"
      },
      "outputs": [],
      "source": [
        "t=Test()"
      ]
    },
    {
      "cell_type": "code",
      "execution_count": null,
      "id": "649da3e2",
      "metadata": {
        "id": "649da3e2",
        "outputId": "0bd81bff-c02b-41fb-813a-a5f8a60f70cd"
      },
      "outputs": [
        {
          "data": {
            "text/plain": [
              "{'a': 10}"
            ]
          },
          "execution_count": 21,
          "metadata": {},
          "output_type": "execute_result"
        }
      ],
      "source": [
        "t.__dict__"
      ]
    },
    {
      "cell_type": "code",
      "execution_count": null,
      "id": "abacb3f8",
      "metadata": {
        "id": "abacb3f8"
      },
      "outputs": [],
      "source": [
        "t.m1()"
      ]
    },
    {
      "cell_type": "code",
      "execution_count": null,
      "id": "9ce52484",
      "metadata": {
        "id": "9ce52484",
        "outputId": "3f1c5a10-256f-4b15-eafb-9f4157491b60"
      },
      "outputs": [
        {
          "data": {
            "text/plain": [
              "{'a': 10, 'b': 50}"
            ]
          },
          "execution_count": 23,
          "metadata": {},
          "output_type": "execute_result"
        }
      ],
      "source": [
        "t.__dict__"
      ]
    },
    {
      "cell_type": "code",
      "execution_count": null,
      "id": "3eb79a78",
      "metadata": {
        "id": "3eb79a78"
      },
      "outputs": [],
      "source": [
        "t2=Test()"
      ]
    },
    {
      "cell_type": "code",
      "execution_count": null,
      "id": "af9d58d0",
      "metadata": {
        "id": "af9d58d0",
        "outputId": "1e962981-b90c-4c50-d566-8c092e039920"
      },
      "outputs": [
        {
          "data": {
            "text/plain": [
              "{'a': 10}"
            ]
          },
          "execution_count": 25,
          "metadata": {},
          "output_type": "execute_result"
        }
      ],
      "source": [
        "t2.__dict__"
      ]
    },
    {
      "cell_type": "code",
      "execution_count": null,
      "id": "3a1b1b64",
      "metadata": {
        "id": "3a1b1b64"
      },
      "outputs": [],
      "source": [
        "t2.m1()"
      ]
    },
    {
      "cell_type": "code",
      "execution_count": null,
      "id": "f451cbf1",
      "metadata": {
        "id": "f451cbf1",
        "outputId": "4e77dce5-02bd-40e4-935c-bc7df8277154"
      },
      "outputs": [
        {
          "data": {
            "text/plain": [
              "{'a': 10, 'b': 50}"
            ]
          },
          "execution_count": 27,
          "metadata": {},
          "output_type": "execute_result"
        }
      ],
      "source": [
        "t2.__dict__"
      ]
    },
    {
      "cell_type": "markdown",
      "id": "aead8bbe",
      "metadata": {
        "id": "aead8bbe"
      },
      "source": [
        "# Case_3\n",
        "- Using the refernece variable."
      ]
    },
    {
      "cell_type": "code",
      "execution_count": null,
      "id": "76069137",
      "metadata": {
        "id": "76069137"
      },
      "outputs": [],
      "source": [
        "# t2 is a reference variable"
      ]
    },
    {
      "cell_type": "code",
      "execution_count": null,
      "id": "72df68fd",
      "metadata": {
        "id": "72df68fd"
      },
      "outputs": [],
      "source": [
        "t2.c=1000"
      ]
    },
    {
      "cell_type": "code",
      "execution_count": null,
      "id": "c1437d93",
      "metadata": {
        "id": "c1437d93",
        "outputId": "9e22afeb-5c50-4fc7-d36c-7db73ba715a6"
      },
      "outputs": [
        {
          "data": {
            "text/plain": [
              "{'a': 10, 'b': 50, 'c': 1000}"
            ]
          },
          "execution_count": 30,
          "metadata": {},
          "output_type": "execute_result"
        }
      ],
      "source": [
        "t2.__dict__"
      ]
    },
    {
      "cell_type": "code",
      "execution_count": null,
      "id": "6c98456a",
      "metadata": {
        "id": "6c98456a",
        "outputId": "89dd39cd-6f70-4f7f-e4f9-77e570ae5463"
      },
      "outputs": [
        {
          "data": {
            "text/plain": [
              "{'a': 10, 'b': 50}"
            ]
          },
          "execution_count": 31,
          "metadata": {},
          "output_type": "execute_result"
        }
      ],
      "source": [
        "t.__dict__"
      ]
    },
    {
      "cell_type": "markdown",
      "id": "d14866f1",
      "metadata": {
        "id": "d14866f1"
      },
      "source": [
        "# Accessing the instance variables"
      ]
    },
    {
      "cell_type": "code",
      "execution_count": null,
      "id": "97b80bf7",
      "metadata": {
        "id": "97b80bf7"
      },
      "outputs": [],
      "source": [
        "# - We can access instance variables within theclass by using self.\n",
        "# - Outside the class by using refrenc evariable."
      ]
    },
    {
      "cell_type": "code",
      "execution_count": null,
      "id": "6dbdae97",
      "metadata": {
        "id": "6dbdae97"
      },
      "outputs": [],
      "source": [
        "class Test:\n",
        "    def __init__(self):\n",
        "        self.name='Kuldeep'\n",
        "        self.age=22\n",
        "        self.salary=55000\n",
        "\n",
        "        print(self.name)\n",
        "        print(self.age)\n",
        "        print(self.salary)"
      ]
    },
    {
      "cell_type": "code",
      "execution_count": null,
      "id": "23057157",
      "metadata": {
        "id": "23057157",
        "outputId": "1176b9d9-12ed-45bb-d46d-a6dd909ad8b9"
      },
      "outputs": [
        {
          "name": "stdout",
          "output_type": "stream",
          "text": [
            "Kuldeep\n",
            "22\n",
            "55000\n"
          ]
        }
      ],
      "source": [
        "t=Test()"
      ]
    },
    {
      "cell_type": "code",
      "execution_count": null,
      "id": "ce438a42",
      "metadata": {
        "id": "ce438a42",
        "outputId": "eb802246-dcd3-4443-c109-dcaffe386bf8"
      },
      "outputs": [
        {
          "data": {
            "text/plain": [
              "{'name': 'Kuldeep', 'age': 22, 'salary': 55000}"
            ]
          },
          "execution_count": 36,
          "metadata": {},
          "output_type": "execute_result"
        }
      ],
      "source": [
        "t.__dict__"
      ]
    },
    {
      "cell_type": "code",
      "execution_count": null,
      "id": "4b9c17d9",
      "metadata": {
        "id": "4b9c17d9"
      },
      "outputs": [],
      "source": [
        "class Test:\n",
        "    def __init__(self):\n",
        "        self.name='Atharva'\n",
        "        self.age=24\n",
        "        self.salary=62000\n",
        "\n",
        "    def display(self): #instance method\n",
        "        print(f'The name of the employee is {self.name}')\n",
        "        print(f'The age of the employee is {self.age}')\n",
        "        print(f'The salary of the employee is {self.salary}')"
      ]
    },
    {
      "cell_type": "code",
      "execution_count": null,
      "id": "40fe25f3",
      "metadata": {
        "id": "40fe25f3"
      },
      "outputs": [],
      "source": [
        "t=Test()"
      ]
    },
    {
      "cell_type": "code",
      "execution_count": null,
      "id": "486609a6",
      "metadata": {
        "id": "486609a6",
        "outputId": "41db2679-2a97-40f0-ff0b-fadbcec6a9c3"
      },
      "outputs": [
        {
          "name": "stdout",
          "output_type": "stream",
          "text": [
            "The name of the employee is Atharva\n",
            "The age of the employee is 24\n",
            "The salary of the employee is 62000\n"
          ]
        }
      ],
      "source": [
        "t.display()"
      ]
    },
    {
      "cell_type": "code",
      "execution_count": null,
      "id": "83791c9b",
      "metadata": {
        "id": "83791c9b",
        "outputId": "3769b998-7242-4b0f-8c2d-1393da2937e9"
      },
      "outputs": [
        {
          "data": {
            "text/plain": [
              "'Atharva'"
            ]
          },
          "execution_count": 45,
          "metadata": {},
          "output_type": "execute_result"
        }
      ],
      "source": [
        "t.name"
      ]
    },
    {
      "cell_type": "code",
      "execution_count": null,
      "id": "f6b2804d",
      "metadata": {
        "id": "f6b2804d",
        "outputId": "680409d2-5474-4048-f79d-b163e41a6f20"
      },
      "outputs": [
        {
          "data": {
            "text/plain": [
              "24"
            ]
          },
          "execution_count": 46,
          "metadata": {},
          "output_type": "execute_result"
        }
      ],
      "source": [
        "t.age"
      ]
    },
    {
      "cell_type": "code",
      "execution_count": null,
      "id": "81e315d4",
      "metadata": {
        "id": "81e315d4",
        "outputId": "ab58f1dd-f27e-4574-90f8-64145042e918"
      },
      "outputs": [
        {
          "data": {
            "text/plain": [
              "62000"
            ]
          },
          "execution_count": 47,
          "metadata": {},
          "output_type": "execute_result"
        }
      ],
      "source": [
        "t.salary"
      ]
    },
    {
      "cell_type": "markdown",
      "id": "0b691f0d",
      "metadata": {
        "id": "0b691f0d"
      },
      "source": [
        "# Modifying an instance variable"
      ]
    },
    {
      "cell_type": "code",
      "execution_count": null,
      "id": "790cf748",
      "metadata": {
        "id": "790cf748"
      },
      "outputs": [],
      "source": [
        "# - Inside the class by using self.\n",
        "# - Outside the class by using reference variable"
      ]
    },
    {
      "cell_type": "code",
      "execution_count": null,
      "id": "cde3f4b3",
      "metadata": {
        "id": "cde3f4b3"
      },
      "outputs": [],
      "source": [
        "class Employee:\n",
        "    def __init__(self):\n",
        "        self.name='Anoop'\n",
        "        self.age=28\n",
        "        self.salary=75000\n",
        "\n",
        "        print(self.name)\n",
        "        print(self.age)\n",
        "        print(self.salary)\n",
        "\n",
        "    def modify(self):\n",
        "        self.name='Pushpa'\n",
        "\n",
        "    def display(self):\n",
        "        print(self.name)\n",
        "        print(self.age)\n",
        "        print(self.salary)"
      ]
    },
    {
      "cell_type": "code",
      "execution_count": null,
      "id": "d279890a",
      "metadata": {
        "id": "d279890a",
        "outputId": "b4cc9515-6f89-4861-fa07-e0895584c5cf"
      },
      "outputs": [
        {
          "name": "stdout",
          "output_type": "stream",
          "text": [
            "Anoop\n",
            "28\n",
            "75000\n"
          ]
        }
      ],
      "source": [
        "t=Employee()"
      ]
    },
    {
      "cell_type": "code",
      "execution_count": null,
      "id": "9e8ffcda",
      "metadata": {
        "id": "9e8ffcda",
        "outputId": "99980de2-3e60-4387-b9d7-b9651c6638e9"
      },
      "outputs": [
        {
          "name": "stdout",
          "output_type": "stream",
          "text": [
            "Anoop\n",
            "28\n",
            "75000\n"
          ]
        }
      ],
      "source": [
        "t.display()"
      ]
    },
    {
      "cell_type": "code",
      "execution_count": null,
      "id": "60decebd",
      "metadata": {
        "id": "60decebd"
      },
      "outputs": [],
      "source": [
        "t.modify()"
      ]
    },
    {
      "cell_type": "code",
      "execution_count": null,
      "id": "a6294c87",
      "metadata": {
        "id": "a6294c87",
        "outputId": "2f767377-95bb-4ab3-e575-0ff073e2a498"
      },
      "outputs": [
        {
          "name": "stdout",
          "output_type": "stream",
          "text": [
            "Pushpa\n",
            "28\n",
            "75000\n"
          ]
        }
      ],
      "source": [
        "t.display()"
      ]
    },
    {
      "cell_type": "code",
      "execution_count": null,
      "id": "40503a3b",
      "metadata": {
        "id": "40503a3b",
        "outputId": "6e6e35cb-22d7-408e-8044-cd79e78c71e7"
      },
      "outputs": [
        {
          "name": "stdout",
          "output_type": "stream",
          "text": [
            "Anoop\n",
            "28\n",
            "75000\n"
          ]
        }
      ],
      "source": [
        "e=Employee()"
      ]
    },
    {
      "cell_type": "code",
      "execution_count": null,
      "id": "d30c823b",
      "metadata": {
        "id": "d30c823b",
        "outputId": "c5bc9983-5bb8-42ba-fdc9-48fde81c380d"
      },
      "outputs": [
        {
          "name": "stdout",
          "output_type": "stream",
          "text": [
            "Anoop\n",
            "28\n",
            "75000\n"
          ]
        }
      ],
      "source": [
        "e.display()"
      ]
    },
    {
      "cell_type": "code",
      "execution_count": null,
      "id": "4e5be78b",
      "metadata": {
        "id": "4e5be78b",
        "outputId": "bf454f61-54b1-4e82-d319-6c5d53a67547"
      },
      "outputs": [
        {
          "name": "stdout",
          "output_type": "stream",
          "text": [
            "Pushpa\n",
            "28\n",
            "75000\n"
          ]
        }
      ],
      "source": [
        "t.display()"
      ]
    },
    {
      "cell_type": "code",
      "execution_count": null,
      "id": "667b3541",
      "metadata": {
        "id": "667b3541"
      },
      "outputs": [],
      "source": [
        "e.modify()"
      ]
    },
    {
      "cell_type": "code",
      "execution_count": null,
      "id": "c25071cd",
      "metadata": {
        "id": "c25071cd",
        "outputId": "0c59d192-d217-400a-cb6a-fc120825f8f7"
      },
      "outputs": [
        {
          "name": "stdout",
          "output_type": "stream",
          "text": [
            "Pushpa\n",
            "28\n",
            "75000\n"
          ]
        }
      ],
      "source": [
        "e.display()"
      ]
    },
    {
      "cell_type": "code",
      "execution_count": null,
      "id": "8f211fd7",
      "metadata": {
        "id": "8f211fd7"
      },
      "outputs": [],
      "source": [
        "e.name='Uday'"
      ]
    },
    {
      "cell_type": "code",
      "execution_count": null,
      "id": "da70408d",
      "metadata": {
        "id": "da70408d",
        "outputId": "f753ed18-ef90-4372-8a76-cf4f365a717f"
      },
      "outputs": [
        {
          "name": "stdout",
          "output_type": "stream",
          "text": [
            "Uday\n",
            "28\n",
            "75000\n"
          ]
        }
      ],
      "source": [
        "e.display()"
      ]
    },
    {
      "cell_type": "code",
      "execution_count": null,
      "id": "e90cb476",
      "metadata": {
        "id": "e90cb476",
        "outputId": "4a97b25b-31a7-4468-e31a-e9838a81b98a"
      },
      "outputs": [
        {
          "name": "stdout",
          "output_type": "stream",
          "text": [
            "Pushpa\n",
            "28\n",
            "75000\n"
          ]
        }
      ],
      "source": [
        "t.display()"
      ]
    },
    {
      "cell_type": "code",
      "execution_count": null,
      "id": "af97e466",
      "metadata": {
        "id": "af97e466"
      },
      "outputs": [],
      "source": [
        "t.name='Pawan'"
      ]
    },
    {
      "cell_type": "code",
      "execution_count": null,
      "id": "7c54d614",
      "metadata": {
        "id": "7c54d614",
        "outputId": "29a6e226-1824-4b96-a6ff-cfbd24296aca"
      },
      "outputs": [
        {
          "name": "stdout",
          "output_type": "stream",
          "text": [
            "Pawan\n",
            "28\n",
            "75000\n"
          ]
        }
      ],
      "source": [
        "t.display()"
      ]
    },
    {
      "cell_type": "code",
      "execution_count": null,
      "id": "4c09e5a7",
      "metadata": {
        "id": "4c09e5a7"
      },
      "outputs": [],
      "source": [
        "t.salary=82000"
      ]
    },
    {
      "cell_type": "code",
      "execution_count": null,
      "id": "fece7e6b",
      "metadata": {
        "id": "fece7e6b",
        "outputId": "6e5dc84c-188e-4415-f2b1-0f9ae71abd36"
      },
      "outputs": [
        {
          "name": "stdout",
          "output_type": "stream",
          "text": [
            "Pawan\n",
            "28\n",
            "82000\n"
          ]
        }
      ],
      "source": [
        "t.display()"
      ]
    },
    {
      "cell_type": "markdown",
      "id": "c5d48c2d",
      "metadata": {
        "id": "c5d48c2d"
      },
      "source": [
        "# Deleting an instance variable"
      ]
    },
    {
      "cell_type": "code",
      "execution_count": null,
      "id": "2915647a",
      "metadata": {
        "id": "2915647a"
      },
      "outputs": [],
      "source": [
        "# - Inside the class- del self.variable_name\n",
        "# - Outside the class del reference_variable.instance_variable"
      ]
    },
    {
      "cell_type": "code",
      "execution_count": null,
      "id": "8fcf812c",
      "metadata": {
        "id": "8fcf812c"
      },
      "outputs": [],
      "source": [
        "class Test:\n",
        "\n",
        "    def __init__(self):\n",
        "        self.a=10\n",
        "        self.b=20\n",
        "        self.c=30\n",
        "        self.d=40\n",
        "\n",
        "    def remover(self):\n",
        "        del self.a"
      ]
    },
    {
      "cell_type": "code",
      "execution_count": null,
      "id": "4d6de4c9",
      "metadata": {
        "id": "4d6de4c9"
      },
      "outputs": [],
      "source": [
        "t=Test()"
      ]
    },
    {
      "cell_type": "code",
      "execution_count": null,
      "id": "e6b2f0c5",
      "metadata": {
        "id": "e6b2f0c5",
        "outputId": "e6e0385d-3615-4271-f625-c4ea9e8cb65c"
      },
      "outputs": [
        {
          "data": {
            "text/plain": [
              "{'a': 10, 'b': 20, 'c': 30, 'd': 40}"
            ]
          },
          "execution_count": 100,
          "metadata": {},
          "output_type": "execute_result"
        }
      ],
      "source": [
        "t.__dict__"
      ]
    },
    {
      "cell_type": "code",
      "execution_count": null,
      "id": "e6d79f23",
      "metadata": {
        "id": "e6d79f23"
      },
      "outputs": [],
      "source": [
        "t.remover()"
      ]
    },
    {
      "cell_type": "code",
      "execution_count": null,
      "id": "576a9a77",
      "metadata": {
        "id": "576a9a77",
        "outputId": "9a327df8-1286-41be-89e4-2d65eedde5b9"
      },
      "outputs": [
        {
          "data": {
            "text/plain": [
              "{'b': 20, 'c': 30, 'd': 40}"
            ]
          },
          "execution_count": 102,
          "metadata": {},
          "output_type": "execute_result"
        }
      ],
      "source": [
        "t.__dict__"
      ]
    },
    {
      "cell_type": "code",
      "execution_count": null,
      "id": "be0c5add",
      "metadata": {
        "id": "be0c5add"
      },
      "outputs": [],
      "source": [
        "del t.c"
      ]
    },
    {
      "cell_type": "code",
      "execution_count": null,
      "id": "7a757471",
      "metadata": {
        "id": "7a757471",
        "outputId": "85dd692e-e166-416b-e71d-a56acf576204"
      },
      "outputs": [
        {
          "data": {
            "text/plain": [
              "{'b': 20, 'd': 40}"
            ]
          },
          "execution_count": 104,
          "metadata": {},
          "output_type": "execute_result"
        }
      ],
      "source": [
        "t.__dict__"
      ]
    },
    {
      "cell_type": "code",
      "execution_count": null,
      "id": "c4cb71a6",
      "metadata": {
        "id": "c4cb71a6"
      },
      "outputs": [],
      "source": [
        "class Test:\n",
        "\n",
        "    def __init__(self):\n",
        "        self.a=10\n",
        "        self.b=20\n",
        "        self.c=30\n",
        "        self.d=40\n",
        "\n",
        "    def remover(self):\n",
        "        del self.a\n",
        "\n",
        "    def func(self):\n",
        "        self.e=55\n",
        "        self.d=1000\n",
        "        del self.c\n",
        "        del self.b"
      ]
    },
    {
      "cell_type": "code",
      "execution_count": null,
      "id": "dae1e553",
      "metadata": {
        "id": "dae1e553"
      },
      "outputs": [],
      "source": [
        "t=Test()"
      ]
    },
    {
      "cell_type": "code",
      "execution_count": null,
      "id": "fef42b65",
      "metadata": {
        "id": "fef42b65",
        "outputId": "81fc26e4-8088-4b6f-8f84-ba289b6b9747"
      },
      "outputs": [
        {
          "data": {
            "text/plain": [
              "{'a': 10, 'b': 20, 'c': 30, 'd': 40}"
            ]
          },
          "execution_count": 107,
          "metadata": {},
          "output_type": "execute_result"
        }
      ],
      "source": [
        "t.__dict__"
      ]
    },
    {
      "cell_type": "code",
      "execution_count": null,
      "id": "1f8deedc",
      "metadata": {
        "id": "1f8deedc"
      },
      "outputs": [],
      "source": [
        "t.remover()\n",
        "t.func()"
      ]
    },
    {
      "cell_type": "code",
      "execution_count": null,
      "id": "3f368b77",
      "metadata": {
        "id": "3f368b77",
        "outputId": "ad51267c-5f85-4986-d85e-c222bd948604"
      },
      "outputs": [
        {
          "data": {
            "text/plain": [
              "{'d': 1000, 'e': 55}"
            ]
          },
          "execution_count": 109,
          "metadata": {},
          "output_type": "execute_result"
        }
      ],
      "source": [
        "t.__dict__"
      ]
    },
    {
      "cell_type": "code",
      "execution_count": null,
      "id": "f01cd0bd",
      "metadata": {
        "id": "f01cd0bd"
      },
      "outputs": [],
      "source": [
        "del t.d"
      ]
    },
    {
      "cell_type": "code",
      "execution_count": null,
      "id": "d414e876",
      "metadata": {
        "id": "d414e876",
        "outputId": "51096ccb-0c6f-4179-a938-2eb9ea3e89ff"
      },
      "outputs": [
        {
          "data": {
            "text/plain": [
              "{'e': 55}"
            ]
          },
          "execution_count": 111,
          "metadata": {},
          "output_type": "execute_result"
        }
      ],
      "source": [
        "t.__dict__"
      ]
    },
    {
      "cell_type": "markdown",
      "id": "0724dbdf",
      "metadata": {
        "id": "0724dbdf"
      },
      "source": [
        "# Static variables"
      ]
    },
    {
      "cell_type": "code",
      "execution_count": null,
      "id": "95c56d53",
      "metadata": {
        "id": "95c56d53"
      },
      "outputs": [],
      "source": [
        "class Customer:\n",
        "    def __init__(self,name,amt):\n",
        "\n",
        "        self.bankname='SBI'\n",
        "        self.name=name\n",
        "        self.amount=amt\n",
        "\n",
        "    def display(self):\n",
        "        print(f'Welcome to {self.bankname}')\n",
        "        print(f'The customer is- {self.name}')\n",
        "        print(f'The amount is- {self.amount}')"
      ]
    },
    {
      "cell_type": "code",
      "execution_count": null,
      "id": "1ee27333",
      "metadata": {
        "id": "1ee27333"
      },
      "outputs": [],
      "source": [
        "c1=Customer('Kuldeep',25000)"
      ]
    },
    {
      "cell_type": "code",
      "execution_count": null,
      "id": "95bb1d15",
      "metadata": {
        "id": "95bb1d15",
        "outputId": "71ec929d-cf55-4fa4-e95c-d01473e2bd1a"
      },
      "outputs": [
        {
          "name": "stdout",
          "output_type": "stream",
          "text": [
            "Welcome to SBI\n",
            "The customer is- Kuldeep\n",
            "The amount is- 25000\n"
          ]
        }
      ],
      "source": [
        "c1.display()"
      ]
    },
    {
      "cell_type": "code",
      "execution_count": null,
      "id": "e6170d64",
      "metadata": {
        "id": "e6170d64"
      },
      "outputs": [],
      "source": [
        "c2=Customer('Kshitij',32000)"
      ]
    },
    {
      "cell_type": "code",
      "execution_count": null,
      "id": "08ec45bb",
      "metadata": {
        "id": "08ec45bb",
        "outputId": "6309b39d-a0d1-4ff4-f443-0444b1fd97c2"
      },
      "outputs": [
        {
          "name": "stdout",
          "output_type": "stream",
          "text": [
            "Welcome to SBI\n",
            "The customer is- Kshitij\n",
            "The amount is- 32000\n"
          ]
        }
      ],
      "source": [
        "c2.display()"
      ]
    },
    {
      "cell_type": "code",
      "execution_count": null,
      "id": "5e1c456f",
      "metadata": {
        "id": "5e1c456f"
      },
      "outputs": [],
      "source": [
        "# - If any value we want to be the same for all the objects then instance variable is not recommended.\n",
        "# - As for each object it will store the value seperately.\n",
        "\n",
        "# - If we keep that value in a static variable then it will be sotred once.\n",
        "# - Only its copy will be shared with all the objects."
      ]
    },
    {
      "cell_type": "markdown",
      "id": "5b83591e",
      "metadata": {
        "id": "5b83591e"
      },
      "source": [
        "# How to declare and intialise a static variable"
      ]
    },
    {
      "cell_type": "code",
      "execution_count": null,
      "id": "53b714bd",
      "metadata": {
        "id": "53b714bd"
      },
      "outputs": [],
      "source": [
        "# - Generally we declare a static variable inside the class before any methods.\n",
        "# - Inside an instance method by using the class name.\n",
        "# - Inside a class method by using class name or cls variable.\n",
        "# - Inside the static method by using class name.\n",
        "# - Outside the class by using class name"
      ]
    },
    {
      "cell_type": "code",
      "execution_count": null,
      "id": "a4d531cd",
      "metadata": {
        "id": "a4d531cd"
      },
      "outputs": [],
      "source": [
        "class Customer:\n",
        "    bank='SBI' # static variable\n",
        "\n",
        "    def __init__(self):\n",
        "        pass"
      ]
    },
    {
      "cell_type": "code",
      "execution_count": null,
      "id": "252d1e75",
      "metadata": {
        "id": "252d1e75"
      },
      "outputs": [],
      "source": [
        "# reference_variable.__dict__ -> dictionary of instance variables\n",
        "# class_name.__dict__ -> dictionary of static variables"
      ]
    },
    {
      "cell_type": "code",
      "execution_count": null,
      "id": "128cb6c7",
      "metadata": {
        "id": "128cb6c7",
        "outputId": "cd4552aa-4ec0-45c0-c1b2-762816a69d4a"
      },
      "outputs": [
        {
          "name": "stdout",
          "output_type": "stream",
          "text": [
            "{'__module__': '__main__', 'bank': 'SBI', '__init__': <function Customer.__init__ at 0x00000204E02C71A0>, '__dict__': <attribute '__dict__' of 'Customer' objects>, '__weakref__': <attribute '__weakref__' of 'Customer' objects>, '__doc__': None}\n"
          ]
        }
      ],
      "source": [
        "print(Customer.__dict__)"
      ]
    },
    {
      "cell_type": "code",
      "execution_count": null,
      "id": "25c24b28",
      "metadata": {
        "id": "25c24b28"
      },
      "outputs": [],
      "source": [
        "class Customer:\n",
        "\n",
        "    def __init__(self):\n",
        "        pass\n",
        "\n",
        "    def method(self):\n",
        "        Customer.bank='SBI'"
      ]
    },
    {
      "cell_type": "code",
      "execution_count": null,
      "id": "c492a171",
      "metadata": {
        "id": "c492a171",
        "outputId": "aa4eeac2-fbbe-4e6c-9a44-f800f0cbe7b9"
      },
      "outputs": [
        {
          "data": {
            "text/plain": [
              "mappingproxy({'__module__': '__main__',\n",
              "              '__init__': <function __main__.Customer.__init__(self)>,\n",
              "              'method': <function __main__.Customer.method(self)>,\n",
              "              '__dict__': <attribute '__dict__' of 'Customer' objects>,\n",
              "              '__weakref__': <attribute '__weakref__' of 'Customer' objects>,\n",
              "              '__doc__': None})"
            ]
          },
          "execution_count": 155,
          "metadata": {},
          "output_type": "execute_result"
        }
      ],
      "source": [
        "Customer.__dict__"
      ]
    },
    {
      "cell_type": "code",
      "execution_count": null,
      "id": "7e8db2f1",
      "metadata": {
        "id": "7e8db2f1"
      },
      "outputs": [],
      "source": [
        "c=Customer()"
      ]
    },
    {
      "cell_type": "code",
      "execution_count": null,
      "id": "ec9a0995",
      "metadata": {
        "id": "ec9a0995"
      },
      "outputs": [],
      "source": [
        "c.method()"
      ]
    },
    {
      "cell_type": "code",
      "execution_count": null,
      "id": "95064f4b",
      "metadata": {
        "id": "95064f4b",
        "outputId": "072e34a7-9a04-47c4-aae1-95b55813a0fb"
      },
      "outputs": [
        {
          "data": {
            "text/plain": [
              "mappingproxy({'__module__': '__main__',\n",
              "              '__init__': <function __main__.Customer.__init__(self)>,\n",
              "              'method': <function __main__.Customer.method(self)>,\n",
              "              '__dict__': <attribute '__dict__' of 'Customer' objects>,\n",
              "              '__weakref__': <attribute '__weakref__' of 'Customer' objects>,\n",
              "              '__doc__': None,\n",
              "              'bank': 'SBI'})"
            ]
          },
          "execution_count": 158,
          "metadata": {},
          "output_type": "execute_result"
        }
      ],
      "source": [
        "Customer.__dict__"
      ]
    },
    {
      "cell_type": "code",
      "execution_count": null,
      "id": "b6f57f26",
      "metadata": {
        "id": "b6f57f26"
      },
      "outputs": [],
      "source": [
        "class Customer:\n",
        "    def __init__(self):\n",
        "        pass\n",
        "\n",
        "    @classmethod\n",
        "    def cls_method(cls):\n",
        "        cls.a='SBI'\n",
        "        Customer.b='RBI'"
      ]
    },
    {
      "cell_type": "code",
      "execution_count": null,
      "id": "3b6e2bee",
      "metadata": {
        "id": "3b6e2bee",
        "outputId": "41082f89-3f93-4f5b-f406-57f0832c22ec"
      },
      "outputs": [
        {
          "data": {
            "text/plain": [
              "mappingproxy({'__module__': '__main__',\n",
              "              '__init__': <function __main__.Customer.__init__(self)>,\n",
              "              'cls_method': <classmethod(<function Customer.cls_method at 0x00000204E039C5E0>)>,\n",
              "              '__dict__': <attribute '__dict__' of 'Customer' objects>,\n",
              "              '__weakref__': <attribute '__weakref__' of 'Customer' objects>,\n",
              "              '__doc__': None})"
            ]
          },
          "execution_count": 164,
          "metadata": {},
          "output_type": "execute_result"
        }
      ],
      "source": [
        "Customer.__dict__"
      ]
    },
    {
      "cell_type": "code",
      "execution_count": null,
      "id": "3d0f52ce",
      "metadata": {
        "id": "3d0f52ce"
      },
      "outputs": [],
      "source": [
        "c=Customer()"
      ]
    },
    {
      "cell_type": "code",
      "execution_count": null,
      "id": "15d8c320",
      "metadata": {
        "id": "15d8c320",
        "outputId": "943c53e4-f940-44af-d4ed-64ef7ee9ba18"
      },
      "outputs": [
        {
          "data": {
            "text/plain": [
              "mappingproxy({'__module__': '__main__',\n",
              "              '__init__': <function __main__.Customer.__init__(self)>,\n",
              "              'cls_method': <classmethod(<function Customer.cls_method at 0x00000204E039C5E0>)>,\n",
              "              '__dict__': <attribute '__dict__' of 'Customer' objects>,\n",
              "              '__weakref__': <attribute '__weakref__' of 'Customer' objects>,\n",
              "              '__doc__': None})"
            ]
          },
          "execution_count": 166,
          "metadata": {},
          "output_type": "execute_result"
        }
      ],
      "source": [
        "Customer.__dict__"
      ]
    },
    {
      "cell_type": "code",
      "execution_count": null,
      "id": "3c9423c4",
      "metadata": {
        "id": "3c9423c4"
      },
      "outputs": [],
      "source": [
        "Customer.cls_method()"
      ]
    },
    {
      "cell_type": "code",
      "execution_count": null,
      "id": "74aa3a9f",
      "metadata": {
        "id": "74aa3a9f",
        "outputId": "79835ad2-18f0-4dc1-f7d5-ca1f23b10479"
      },
      "outputs": [
        {
          "data": {
            "text/plain": [
              "mappingproxy({'__module__': '__main__',\n",
              "              '__init__': <function __main__.Customer.__init__(self)>,\n",
              "              'cls_method': <classmethod(<function Customer.cls_method at 0x00000204E039C5E0>)>,\n",
              "              '__dict__': <attribute '__dict__' of 'Customer' objects>,\n",
              "              '__weakref__': <attribute '__weakref__' of 'Customer' objects>,\n",
              "              '__doc__': None,\n",
              "              'a': 'SBI',\n",
              "              'b': 'RBI'})"
            ]
          },
          "execution_count": 168,
          "metadata": {},
          "output_type": "execute_result"
        }
      ],
      "source": [
        "Customer.__dict__"
      ]
    },
    {
      "cell_type": "code",
      "execution_count": null,
      "id": "5136217f",
      "metadata": {
        "id": "5136217f"
      },
      "outputs": [],
      "source": [
        "class Customer:\n",
        "\n",
        "    def __init__(self):\n",
        "        pass\n",
        "\n",
        "    @staticmethod\n",
        "    def stat_method():\n",
        "        Customer.bank='SBI'"
      ]
    },
    {
      "cell_type": "code",
      "execution_count": null,
      "id": "de71bc0b",
      "metadata": {
        "id": "de71bc0b",
        "outputId": "b5573a26-4e33-4651-f7c3-e43171c25b13"
      },
      "outputs": [
        {
          "data": {
            "text/plain": [
              "mappingproxy({'__module__': '__main__',\n",
              "              '__init__': <function __main__.Customer.__init__(self)>,\n",
              "              'stat_method': <staticmethod(<function Customer.stat_method at 0x00000204E033A520>)>,\n",
              "              '__dict__': <attribute '__dict__' of 'Customer' objects>,\n",
              "              '__weakref__': <attribute '__weakref__' of 'Customer' objects>,\n",
              "              '__doc__': None})"
            ]
          },
          "execution_count": 172,
          "metadata": {},
          "output_type": "execute_result"
        }
      ],
      "source": [
        "Customer.__dict__"
      ]
    },
    {
      "cell_type": "code",
      "execution_count": null,
      "id": "7785e693",
      "metadata": {
        "id": "7785e693"
      },
      "outputs": [],
      "source": [
        "c=Customer()"
      ]
    },
    {
      "cell_type": "code",
      "execution_count": null,
      "id": "525542dc",
      "metadata": {
        "id": "525542dc",
        "outputId": "52a7c410-d345-4261-c277-8646eea88d6b"
      },
      "outputs": [
        {
          "data": {
            "text/plain": [
              "mappingproxy({'__module__': '__main__',\n",
              "              '__init__': <function __main__.Customer.__init__(self)>,\n",
              "              'stat_method': <staticmethod(<function Customer.stat_method at 0x00000204E033A520>)>,\n",
              "              '__dict__': <attribute '__dict__' of 'Customer' objects>,\n",
              "              '__weakref__': <attribute '__weakref__' of 'Customer' objects>,\n",
              "              '__doc__': None})"
            ]
          },
          "execution_count": 174,
          "metadata": {},
          "output_type": "execute_result"
        }
      ],
      "source": [
        "Customer.__dict__"
      ]
    },
    {
      "cell_type": "code",
      "execution_count": null,
      "id": "01d626af",
      "metadata": {
        "id": "01d626af"
      },
      "outputs": [],
      "source": [
        "Customer.stat_method()"
      ]
    },
    {
      "cell_type": "code",
      "execution_count": null,
      "id": "b910de9e",
      "metadata": {
        "id": "b910de9e",
        "outputId": "204db081-7f0e-4dc6-8e80-849308525042"
      },
      "outputs": [
        {
          "data": {
            "text/plain": [
              "mappingproxy({'__module__': '__main__',\n",
              "              '__init__': <function __main__.Customer.__init__(self)>,\n",
              "              'stat_method': <staticmethod(<function Customer.stat_method at 0x00000204E033A520>)>,\n",
              "              '__dict__': <attribute '__dict__' of 'Customer' objects>,\n",
              "              '__weakref__': <attribute '__weakref__' of 'Customer' objects>,\n",
              "              '__doc__': None,\n",
              "              'bank': 'SBI'})"
            ]
          },
          "execution_count": 176,
          "metadata": {},
          "output_type": "execute_result"
        }
      ],
      "source": [
        "Customer.__dict__"
      ]
    },
    {
      "cell_type": "code",
      "execution_count": null,
      "id": "c50cccac",
      "metadata": {
        "id": "c50cccac"
      },
      "outputs": [],
      "source": [
        "Customer.a='RBI'"
      ]
    },
    {
      "cell_type": "code",
      "execution_count": null,
      "id": "a13330d5",
      "metadata": {
        "id": "a13330d5",
        "outputId": "9d09233a-bd25-4986-ece5-3cd618edea05"
      },
      "outputs": [
        {
          "data": {
            "text/plain": [
              "mappingproxy({'__module__': '__main__',\n",
              "              '__init__': <function __main__.Customer.__init__(self)>,\n",
              "              'stat_method': <staticmethod(<function Customer.stat_method at 0x00000204E033A520>)>,\n",
              "              '__dict__': <attribute '__dict__' of 'Customer' objects>,\n",
              "              '__weakref__': <attribute '__weakref__' of 'Customer' objects>,\n",
              "              '__doc__': None,\n",
              "              'bank': 'SBI',\n",
              "              'a': 'RBI'})"
            ]
          },
          "execution_count": 178,
          "metadata": {},
          "output_type": "execute_result"
        }
      ],
      "source": [
        "Customer.__dict__"
      ]
    },
    {
      "cell_type": "code",
      "execution_count": null,
      "id": "59ab0922",
      "metadata": {
        "id": "59ab0922"
      },
      "outputs": [],
      "source": [
        "Customer.b='BOI'"
      ]
    },
    {
      "cell_type": "code",
      "execution_count": null,
      "id": "fb195ee6",
      "metadata": {
        "id": "fb195ee6",
        "outputId": "ea0fed3a-116e-4cb9-bad8-a5e2b69291e6"
      },
      "outputs": [
        {
          "data": {
            "text/plain": [
              "mappingproxy({'__module__': '__main__',\n",
              "              '__init__': <function __main__.Customer.__init__(self)>,\n",
              "              'stat_method': <staticmethod(<function Customer.stat_method at 0x00000204E033A520>)>,\n",
              "              '__dict__': <attribute '__dict__' of 'Customer' objects>,\n",
              "              '__weakref__': <attribute '__weakref__' of 'Customer' objects>,\n",
              "              '__doc__': None,\n",
              "              'bank': 'SBI',\n",
              "              'a': 'RBI',\n",
              "              'b': 'BOI'})"
            ]
          },
          "execution_count": 180,
          "metadata": {},
          "output_type": "execute_result"
        }
      ],
      "source": [
        "Customer.__dict__"
      ]
    },
    {
      "cell_type": "markdown",
      "id": "021802f2",
      "metadata": {
        "id": "021802f2"
      },
      "source": [
        "# Accessing the Static variables"
      ]
    },
    {
      "cell_type": "code",
      "execution_count": null,
      "id": "b24dc488",
      "metadata": {
        "id": "b24dc488"
      },
      "outputs": [],
      "source": [
        "# - Inside the constructor by using self or class name.\n",
        "# - Inside the instance method by using self or class name.\n",
        "# - Inside the class method by using class name or cls variable.\n",
        "# - Inside the static method by using the class name.\n",
        "# - Outside the class by using the class name or the reference variable"
      ]
    },
    {
      "cell_type": "code",
      "execution_count": null,
      "id": "482f6840",
      "metadata": {
        "id": "482f6840"
      },
      "outputs": [],
      "source": [
        "class Test:\n",
        "\n",
        "    bank='SBI'\n",
        "\n",
        "    def __init__(self):\n",
        "        print(self.bank)\n",
        "        print(Test.bank)"
      ]
    },
    {
      "cell_type": "code",
      "execution_count": null,
      "id": "1e39cc8a",
      "metadata": {
        "id": "1e39cc8a",
        "outputId": "0fc3810e-7a7d-4e6e-d223-ce453726f41b"
      },
      "outputs": [
        {
          "name": "stdout",
          "output_type": "stream",
          "text": [
            "SBI\n",
            "SBI\n"
          ]
        }
      ],
      "source": [
        "x=Test()"
      ]
    },
    {
      "cell_type": "code",
      "execution_count": null,
      "id": "0a9ccbab",
      "metadata": {
        "id": "0a9ccbab"
      },
      "outputs": [],
      "source": [
        "class Test:\n",
        "\n",
        "    bank='SBI'\n",
        "\n",
        "    def __init__(self):\n",
        "        pass\n",
        "\n",
        "    def display(self):\n",
        "        print(self.bank)\n",
        "        print(Test.bank)"
      ]
    },
    {
      "cell_type": "code",
      "execution_count": null,
      "id": "887f28e7",
      "metadata": {
        "id": "887f28e7"
      },
      "outputs": [],
      "source": [
        "x=Test()"
      ]
    },
    {
      "cell_type": "code",
      "execution_count": null,
      "id": "211d09de",
      "metadata": {
        "id": "211d09de",
        "outputId": "cdcb1d21-a312-42bf-efcd-9695f5150da9"
      },
      "outputs": [
        {
          "name": "stdout",
          "output_type": "stream",
          "text": [
            "SBI\n",
            "SBI\n"
          ]
        }
      ],
      "source": [
        "x.display()"
      ]
    },
    {
      "cell_type": "code",
      "execution_count": null,
      "id": "0131eeb9",
      "metadata": {
        "id": "0131eeb9"
      },
      "outputs": [],
      "source": [
        "class Test:\n",
        "\n",
        "    bank='SBI'\n",
        "\n",
        "    @classmethod\n",
        "    def cls_method(cls):\n",
        "        print(cls.bank)\n",
        "        print(Test.bank)"
      ]
    },
    {
      "cell_type": "code",
      "execution_count": null,
      "id": "5d474d7a",
      "metadata": {
        "id": "5d474d7a",
        "outputId": "989ee5b0-ab4d-4cfe-c6b3-e0c07815fc0f"
      },
      "outputs": [
        {
          "name": "stdout",
          "output_type": "stream",
          "text": [
            "SBI\n",
            "SBI\n"
          ]
        }
      ],
      "source": [
        "Test.cls_method()"
      ]
    },
    {
      "cell_type": "code",
      "execution_count": null,
      "id": "2d8ffd42",
      "metadata": {
        "id": "2d8ffd42"
      },
      "outputs": [],
      "source": [
        "class Test:\n",
        "\n",
        "    bank='SBI'\n",
        "\n",
        "    @staticmethod\n",
        "    def stat():\n",
        "        print(Test.bank)"
      ]
    },
    {
      "cell_type": "code",
      "execution_count": null,
      "id": "c6d764aa",
      "metadata": {
        "id": "c6d764aa",
        "outputId": "2a3ebb72-f146-4fd2-eb1f-f3350be2b3e0"
      },
      "outputs": [
        {
          "name": "stdout",
          "output_type": "stream",
          "text": [
            "SBI\n"
          ]
        }
      ],
      "source": [
        "Test.stat()"
      ]
    },
    {
      "cell_type": "code",
      "execution_count": null,
      "id": "c7d3c6e9",
      "metadata": {
        "id": "c7d3c6e9"
      },
      "outputs": [],
      "source": [
        "class Test:\n",
        "\n",
        "    bank='SBI'"
      ]
    },
    {
      "cell_type": "code",
      "execution_count": null,
      "id": "ef60854c",
      "metadata": {
        "id": "ef60854c",
        "outputId": "7961fd61-f37a-4733-a7b7-de43c0d4c273"
      },
      "outputs": [
        {
          "data": {
            "text/plain": [
              "'SBI'"
            ]
          },
          "execution_count": 204,
          "metadata": {},
          "output_type": "execute_result"
        }
      ],
      "source": [
        "Test.bank"
      ]
    },
    {
      "cell_type": "code",
      "execution_count": null,
      "id": "ff77937c",
      "metadata": {
        "id": "ff77937c"
      },
      "outputs": [],
      "source": [
        "t=Test()"
      ]
    },
    {
      "cell_type": "code",
      "execution_count": null,
      "id": "448ca9b5",
      "metadata": {
        "id": "448ca9b5",
        "outputId": "bdd1f82c-c7be-4294-f9fc-6b48f23f61ba"
      },
      "outputs": [
        {
          "data": {
            "text/plain": [
              "'SBI'"
            ]
          },
          "execution_count": 206,
          "metadata": {},
          "output_type": "execute_result"
        }
      ],
      "source": [
        "t.bank"
      ]
    },
    {
      "cell_type": "markdown",
      "id": "79684f13",
      "metadata": {
        "id": "79684f13"
      },
      "source": [
        "# Modifying a static variable"
      ]
    },
    {
      "cell_type": "code",
      "execution_count": null,
      "id": "bbbe1505",
      "metadata": {
        "id": "bbbe1505"
      },
      "outputs": [],
      "source": [
        "# - Inside the class by using class name.\n",
        "# - Inside the class method by using class name or cls variable.\n",
        "# - Outside the class by using class name"
      ]
    },
    {
      "cell_type": "code",
      "execution_count": null,
      "id": "cedb277e",
      "metadata": {
        "id": "cedb277e"
      },
      "outputs": [],
      "source": [
        "class Test:\n",
        "    bank='SBI'\n",
        "\n",
        "    def __init__(self):\n",
        "        Test.bank='BOI'"
      ]
    },
    {
      "cell_type": "code",
      "execution_count": null,
      "id": "c9b4abde",
      "metadata": {
        "id": "c9b4abde",
        "outputId": "4a84ff1c-397b-47f8-829d-ca8736ced133"
      },
      "outputs": [
        {
          "data": {
            "text/plain": [
              "'SBI'"
            ]
          },
          "execution_count": 212,
          "metadata": {},
          "output_type": "execute_result"
        }
      ],
      "source": [
        "Test.bank"
      ]
    },
    {
      "cell_type": "code",
      "execution_count": null,
      "id": "6cb2f568",
      "metadata": {
        "id": "6cb2f568"
      },
      "outputs": [],
      "source": [
        "t=Test()"
      ]
    },
    {
      "cell_type": "code",
      "execution_count": null,
      "id": "5502bf1f",
      "metadata": {
        "id": "5502bf1f",
        "outputId": "1640da07-5301-48aa-fd1a-dc00cc95ef97"
      },
      "outputs": [
        {
          "data": {
            "text/plain": [
              "'BOI'"
            ]
          },
          "execution_count": 214,
          "metadata": {},
          "output_type": "execute_result"
        }
      ],
      "source": [
        "Test.bank"
      ]
    },
    {
      "cell_type": "code",
      "execution_count": null,
      "id": "41d0593d",
      "metadata": {
        "id": "41d0593d",
        "outputId": "4abb11e5-0454-47e2-cf75-9139fb4c7b45"
      },
      "outputs": [
        {
          "data": {
            "text/plain": [
              "'BOI'"
            ]
          },
          "execution_count": 215,
          "metadata": {},
          "output_type": "execute_result"
        }
      ],
      "source": [
        "t.bank"
      ]
    },
    {
      "cell_type": "code",
      "execution_count": null,
      "id": "af5baca2",
      "metadata": {
        "id": "af5baca2"
      },
      "outputs": [],
      "source": [
        "class Test:\n",
        "    bank='SBI'\n",
        "\n",
        "    def __init__(self):\n",
        "        self.bank='BOI'"
      ]
    },
    {
      "cell_type": "code",
      "execution_count": null,
      "id": "da958bbc",
      "metadata": {
        "id": "da958bbc",
        "outputId": "831f190b-6ff0-4aac-9900-b133bc7dcca6"
      },
      "outputs": [
        {
          "data": {
            "text/plain": [
              "'SBI'"
            ]
          },
          "execution_count": 217,
          "metadata": {},
          "output_type": "execute_result"
        }
      ],
      "source": [
        "Test.bank"
      ]
    },
    {
      "cell_type": "code",
      "execution_count": null,
      "id": "35e4a0ed",
      "metadata": {
        "id": "35e4a0ed"
      },
      "outputs": [],
      "source": [
        "t=Test()"
      ]
    },
    {
      "cell_type": "code",
      "execution_count": null,
      "id": "6f042b61",
      "metadata": {
        "id": "6f042b61",
        "outputId": "ec485b9d-1320-4d7c-af0a-c8441190eb66"
      },
      "outputs": [
        {
          "data": {
            "text/plain": [
              "'BOI'"
            ]
          },
          "execution_count": 219,
          "metadata": {},
          "output_type": "execute_result"
        }
      ],
      "source": [
        "t.bank"
      ]
    },
    {
      "cell_type": "code",
      "execution_count": null,
      "id": "be77dd57",
      "metadata": {
        "id": "be77dd57",
        "outputId": "48d6fef7-df87-4a47-fa69-353618d3b99b"
      },
      "outputs": [
        {
          "data": {
            "text/plain": [
              "'SBI'"
            ]
          },
          "execution_count": 220,
          "metadata": {},
          "output_type": "execute_result"
        }
      ],
      "source": [
        "Test.bank"
      ]
    },
    {
      "cell_type": "code",
      "execution_count": null,
      "id": "ea68154c",
      "metadata": {
        "id": "ea68154c",
        "outputId": "3e63b2c7-db24-4dca-cbf0-2bfc6b48f7e5"
      },
      "outputs": [
        {
          "data": {
            "text/plain": [
              "{'bank': 'BOI'}"
            ]
          },
          "execution_count": 222,
          "metadata": {},
          "output_type": "execute_result"
        }
      ],
      "source": [
        "t.__dict__"
      ]
    },
    {
      "cell_type": "code",
      "execution_count": null,
      "id": "082172e2",
      "metadata": {
        "id": "082172e2",
        "outputId": "9e07c313-ed83-4a4d-da4a-9241d8b7ab86"
      },
      "outputs": [
        {
          "data": {
            "text/plain": [
              "mappingproxy({'__module__': '__main__',\n",
              "              'bank': 'SBI',\n",
              "              '__init__': <function __main__.Test.__init__(self)>,\n",
              "              '__dict__': <attribute '__dict__' of 'Test' objects>,\n",
              "              '__weakref__': <attribute '__weakref__' of 'Test' objects>,\n",
              "              '__doc__': None})"
            ]
          },
          "execution_count": 223,
          "metadata": {},
          "output_type": "execute_result"
        }
      ],
      "source": [
        "Test.__dict__"
      ]
    },
    {
      "cell_type": "code",
      "execution_count": null,
      "id": "d1c749b6",
      "metadata": {
        "id": "d1c749b6"
      },
      "outputs": [],
      "source": [
        "class Test:\n",
        "\n",
        "    bank='SBI'\n",
        "\n",
        "    @classmethod\n",
        "    def cls_method(cls):\n",
        "        Test.bank='RBI'"
      ]
    },
    {
      "cell_type": "code",
      "execution_count": null,
      "id": "ff175007",
      "metadata": {
        "id": "ff175007",
        "outputId": "03610b42-0056-49cb-c478-e699e3141d38"
      },
      "outputs": [
        {
          "data": {
            "text/plain": [
              "'SBI'"
            ]
          },
          "execution_count": 225,
          "metadata": {},
          "output_type": "execute_result"
        }
      ],
      "source": [
        "Test.bank"
      ]
    },
    {
      "cell_type": "code",
      "execution_count": null,
      "id": "36567bea",
      "metadata": {
        "id": "36567bea",
        "outputId": "02d89751-831d-435e-fa95-9296775d4400"
      },
      "outputs": [
        {
          "data": {
            "text/plain": [
              "mappingproxy({'__module__': '__main__',\n",
              "              'bank': 'SBI',\n",
              "              'cls_method': <classmethod(<function Test.cls_method at 0x00000204DF41BB00>)>,\n",
              "              '__dict__': <attribute '__dict__' of 'Test' objects>,\n",
              "              '__weakref__': <attribute '__weakref__' of 'Test' objects>,\n",
              "              '__doc__': None})"
            ]
          },
          "execution_count": 229,
          "metadata": {},
          "output_type": "execute_result"
        }
      ],
      "source": [
        "Test.__dict__"
      ]
    },
    {
      "cell_type": "code",
      "execution_count": null,
      "id": "1ce0b108",
      "metadata": {
        "id": "1ce0b108"
      },
      "outputs": [],
      "source": [
        "Test.cls_method()"
      ]
    },
    {
      "cell_type": "code",
      "execution_count": null,
      "id": "84c3230b",
      "metadata": {
        "id": "84c3230b",
        "outputId": "c6b14126-9d6e-4428-bba7-97cba955296b"
      },
      "outputs": [
        {
          "data": {
            "text/plain": [
              "'RBI'"
            ]
          },
          "execution_count": 231,
          "metadata": {},
          "output_type": "execute_result"
        }
      ],
      "source": [
        "Test.bank"
      ]
    },
    {
      "cell_type": "code",
      "execution_count": null,
      "id": "70966ba3",
      "metadata": {
        "id": "70966ba3",
        "outputId": "5647fd40-f751-4372-a0ed-66a12e153ba5"
      },
      "outputs": [
        {
          "data": {
            "text/plain": [
              "mappingproxy({'__module__': '__main__',\n",
              "              'bank': 'RBI',\n",
              "              'cls_method': <classmethod(<function Test.cls_method at 0x00000204DF41BB00>)>,\n",
              "              '__dict__': <attribute '__dict__' of 'Test' objects>,\n",
              "              '__weakref__': <attribute '__weakref__' of 'Test' objects>,\n",
              "              '__doc__': None})"
            ]
          },
          "execution_count": 232,
          "metadata": {},
          "output_type": "execute_result"
        }
      ],
      "source": [
        "Test.__dict__"
      ]
    },
    {
      "cell_type": "code",
      "execution_count": null,
      "id": "2364fbc2",
      "metadata": {
        "id": "2364fbc2"
      },
      "outputs": [],
      "source": [
        "class Test:\n",
        "\n",
        "    bank='SBI'\n",
        "\n",
        "    @classmethod\n",
        "    def cls_method(cls):\n",
        "        Test.bank='RBI'\n",
        "        cls.bank='HSBC'"
      ]
    },
    {
      "cell_type": "code",
      "execution_count": null,
      "id": "ac233d9d",
      "metadata": {
        "id": "ac233d9d",
        "outputId": "f02cc52a-cd6e-4bcb-a632-a671d2efcc0c"
      },
      "outputs": [
        {
          "data": {
            "text/plain": [
              "'SBI'"
            ]
          },
          "execution_count": 248,
          "metadata": {},
          "output_type": "execute_result"
        }
      ],
      "source": [
        "Test.bank"
      ]
    },
    {
      "cell_type": "code",
      "execution_count": null,
      "id": "7cace86f",
      "metadata": {
        "id": "7cace86f",
        "outputId": "08f089a7-229b-4dc3-a53e-355f45d6a86e"
      },
      "outputs": [
        {
          "data": {
            "text/plain": [
              "mappingproxy({'__module__': '__main__',\n",
              "              'bank': 'SBI',\n",
              "              'cls_method': <classmethod(<function Test.cls_method at 0x00000204E03180E0>)>,\n",
              "              '__dict__': <attribute '__dict__' of 'Test' objects>,\n",
              "              '__weakref__': <attribute '__weakref__' of 'Test' objects>,\n",
              "              '__doc__': None})"
            ]
          },
          "execution_count": 249,
          "metadata": {},
          "output_type": "execute_result"
        }
      ],
      "source": [
        "Test.__dict__"
      ]
    },
    {
      "cell_type": "code",
      "execution_count": null,
      "id": "8bfdf6c0",
      "metadata": {
        "id": "8bfdf6c0"
      },
      "outputs": [],
      "source": [
        "Test.cls_method()"
      ]
    },
    {
      "cell_type": "code",
      "execution_count": null,
      "id": "39aa9525",
      "metadata": {
        "id": "39aa9525",
        "outputId": "735bd702-3833-4db3-ec6d-1ed26def191c"
      },
      "outputs": [
        {
          "data": {
            "text/plain": [
              "'HSBC'"
            ]
          },
          "execution_count": 251,
          "metadata": {},
          "output_type": "execute_result"
        }
      ],
      "source": [
        "Test.bank"
      ]
    },
    {
      "cell_type": "code",
      "execution_count": null,
      "id": "665421c3",
      "metadata": {
        "id": "665421c3"
      },
      "outputs": [],
      "source": [
        "a='RBI'\n",
        "a='HSBC'"
      ]
    },
    {
      "cell_type": "code",
      "execution_count": null,
      "id": "56db34f0",
      "metadata": {
        "id": "56db34f0",
        "outputId": "f6d4e1b4-cfeb-478d-b143-dccd2052abb4"
      },
      "outputs": [
        {
          "name": "stdout",
          "output_type": "stream",
          "text": [
            "HSBC\n"
          ]
        }
      ],
      "source": [
        "print(a)"
      ]
    },
    {
      "cell_type": "code",
      "execution_count": null,
      "id": "5ba50942",
      "metadata": {
        "id": "5ba50942",
        "outputId": "9cee0517-692a-4337-e9c7-8dcd3a4d98fd"
      },
      "outputs": [
        {
          "data": {
            "text/plain": [
              "mappingproxy({'__module__': '__main__',\n",
              "              'bank': 'HSBC',\n",
              "              'cls_method': <classmethod(<function Test.cls_method at 0x00000204E03180E0>)>,\n",
              "              '__dict__': <attribute '__dict__' of 'Test' objects>,\n",
              "              '__weakref__': <attribute '__weakref__' of 'Test' objects>,\n",
              "              '__doc__': None})"
            ]
          },
          "execution_count": 254,
          "metadata": {},
          "output_type": "execute_result"
        }
      ],
      "source": [
        "Test.__dict__"
      ]
    },
    {
      "cell_type": "code",
      "execution_count": null,
      "id": "54132ecf",
      "metadata": {
        "id": "54132ecf"
      },
      "outputs": [],
      "source": [
        "class Test:\n",
        "\n",
        "    bank='SBI'\n",
        "\n",
        "    @staticmethod\n",
        "    def stat_method():\n",
        "        Test.bank='RBI'"
      ]
    },
    {
      "cell_type": "code",
      "execution_count": null,
      "id": "b2c96061",
      "metadata": {
        "id": "b2c96061",
        "outputId": "e1c01808-9dd4-4e03-b1ea-bc151111f7fd"
      },
      "outputs": [
        {
          "data": {
            "text/plain": [
              "'SBI'"
            ]
          },
          "execution_count": 256,
          "metadata": {},
          "output_type": "execute_result"
        }
      ],
      "source": [
        "Test.bank"
      ]
    },
    {
      "cell_type": "code",
      "execution_count": null,
      "id": "1f860eb8",
      "metadata": {
        "id": "1f860eb8",
        "outputId": "2b6ec0e3-17ae-44be-b801-f4275e602115"
      },
      "outputs": [
        {
          "data": {
            "text/plain": [
              "mappingproxy({'__module__': '__main__',\n",
              "              'bank': 'SBI',\n",
              "              'stat_method': <staticmethod(<function Test.stat_method at 0x00000204E03185E0>)>,\n",
              "              '__dict__': <attribute '__dict__' of 'Test' objects>,\n",
              "              '__weakref__': <attribute '__weakref__' of 'Test' objects>,\n",
              "              '__doc__': None})"
            ]
          },
          "execution_count": 258,
          "metadata": {},
          "output_type": "execute_result"
        }
      ],
      "source": [
        "Test.__dict__"
      ]
    },
    {
      "cell_type": "code",
      "execution_count": null,
      "id": "38f3c479",
      "metadata": {
        "id": "38f3c479"
      },
      "outputs": [],
      "source": [
        "Test.stat_method()"
      ]
    },
    {
      "cell_type": "code",
      "execution_count": null,
      "id": "1ab8979d",
      "metadata": {
        "id": "1ab8979d",
        "outputId": "99f7d00a-0388-4673-a6bd-8101253951d4"
      },
      "outputs": [
        {
          "data": {
            "text/plain": [
              "'RBI'"
            ]
          },
          "execution_count": 261,
          "metadata": {},
          "output_type": "execute_result"
        }
      ],
      "source": [
        "Test.bank"
      ]
    },
    {
      "cell_type": "code",
      "execution_count": null,
      "id": "61639df9",
      "metadata": {
        "id": "61639df9",
        "outputId": "4c28de9f-eea2-4515-937f-f9799e8e10db"
      },
      "outputs": [
        {
          "data": {
            "text/plain": [
              "mappingproxy({'__module__': '__main__',\n",
              "              'bank': 'RBI',\n",
              "              'stat_method': <staticmethod(<function Test.stat_method at 0x00000204E03185E0>)>,\n",
              "              '__dict__': <attribute '__dict__' of 'Test' objects>,\n",
              "              '__weakref__': <attribute '__weakref__' of 'Test' objects>,\n",
              "              '__doc__': None})"
            ]
          },
          "execution_count": 262,
          "metadata": {},
          "output_type": "execute_result"
        }
      ],
      "source": [
        "Test.__dict__"
      ]
    },
    {
      "cell_type": "code",
      "execution_count": null,
      "id": "dfef3e0f",
      "metadata": {
        "id": "dfef3e0f"
      },
      "outputs": [],
      "source": [
        "class Test:\n",
        "\n",
        "    bank='SBI'\n",
        "\n",
        "    def __init___(self):\n",
        "        pass"
      ]
    },
    {
      "cell_type": "code",
      "execution_count": null,
      "id": "ea9c6901",
      "metadata": {
        "id": "ea9c6901",
        "outputId": "b57f80f7-9b37-41cd-a713-792962cfce41"
      },
      "outputs": [
        {
          "data": {
            "text/plain": [
              "'SBI'"
            ]
          },
          "execution_count": 264,
          "metadata": {},
          "output_type": "execute_result"
        }
      ],
      "source": [
        "Test.bank"
      ]
    },
    {
      "cell_type": "code",
      "execution_count": null,
      "id": "40859ab9",
      "metadata": {
        "id": "40859ab9",
        "outputId": "3332e8fd-5910-4b00-e00e-bf44d459e338"
      },
      "outputs": [
        {
          "data": {
            "text/plain": [
              "mappingproxy({'__module__': '__main__',\n",
              "              'bank': 'SBI',\n",
              "              '__init___': <function __main__.Test.__init___(self)>,\n",
              "              '__dict__': <attribute '__dict__' of 'Test' objects>,\n",
              "              '__weakref__': <attribute '__weakref__' of 'Test' objects>,\n",
              "              '__doc__': None})"
            ]
          },
          "execution_count": 265,
          "metadata": {},
          "output_type": "execute_result"
        }
      ],
      "source": [
        "Test.__dict__"
      ]
    },
    {
      "cell_type": "code",
      "execution_count": null,
      "id": "97998985",
      "metadata": {
        "id": "97998985"
      },
      "outputs": [],
      "source": [
        "Test.bank='BOI'"
      ]
    },
    {
      "cell_type": "code",
      "execution_count": null,
      "id": "e76fcb87",
      "metadata": {
        "id": "e76fcb87",
        "outputId": "c19dbc09-983f-41b7-b794-00886aff1dcf"
      },
      "outputs": [
        {
          "data": {
            "text/plain": [
              "'BOI'"
            ]
          },
          "execution_count": 267,
          "metadata": {},
          "output_type": "execute_result"
        }
      ],
      "source": [
        "Test.bank"
      ]
    },
    {
      "cell_type": "code",
      "execution_count": null,
      "id": "c3212b95",
      "metadata": {
        "id": "c3212b95",
        "outputId": "93f98711-64a4-436d-f74b-7d1baa045bd8"
      },
      "outputs": [
        {
          "data": {
            "text/plain": [
              "mappingproxy({'__module__': '__main__',\n",
              "              'bank': 'BOI',\n",
              "              '__init___': <function __main__.Test.__init___(self)>,\n",
              "              '__dict__': <attribute '__dict__' of 'Test' objects>,\n",
              "              '__weakref__': <attribute '__weakref__' of 'Test' objects>,\n",
              "              '__doc__': None})"
            ]
          },
          "execution_count": 268,
          "metadata": {},
          "output_type": "execute_result"
        }
      ],
      "source": [
        "Test.__dict__"
      ]
    },
    {
      "cell_type": "markdown",
      "id": "918007e8",
      "metadata": {
        "id": "918007e8"
      },
      "source": [
        "# Deleting a static variable"
      ]
    },
    {
      "cell_type": "code",
      "execution_count": null,
      "id": "c1452ba3",
      "metadata": {
        "id": "c1452ba3"
      },
      "outputs": [],
      "source": [
        "# - Anywhere using class name\n",
        "# - Inside the class method by using the class name or the cls variable"
      ]
    },
    {
      "cell_type": "code",
      "execution_count": null,
      "id": "f21a3c0b",
      "metadata": {
        "id": "f21a3c0b"
      },
      "outputs": [],
      "source": [
        "class Test:\n",
        "    a=10\n",
        "    b=20\n",
        "\n",
        "    def __init__(self):\n",
        "        del Test.a"
      ]
    },
    {
      "cell_type": "code",
      "execution_count": null,
      "id": "35440aad",
      "metadata": {
        "id": "35440aad",
        "outputId": "f26f799b-4c2d-466c-f2fa-44068dd89a0b"
      },
      "outputs": [
        {
          "data": {
            "text/plain": [
              "mappingproxy({'__module__': '__main__',\n",
              "              'a': 10,\n",
              "              'b': 20,\n",
              "              '__init__': <function __main__.Test.__init__(self)>,\n",
              "              '__dict__': <attribute '__dict__' of 'Test' objects>,\n",
              "              '__weakref__': <attribute '__weakref__' of 'Test' objects>,\n",
              "              '__doc__': None})"
            ]
          },
          "execution_count": 271,
          "metadata": {},
          "output_type": "execute_result"
        }
      ],
      "source": [
        "Test.__dict__"
      ]
    },
    {
      "cell_type": "code",
      "execution_count": null,
      "id": "905ce920",
      "metadata": {
        "id": "905ce920"
      },
      "outputs": [],
      "source": [
        "t=Test()"
      ]
    },
    {
      "cell_type": "code",
      "execution_count": null,
      "id": "d326aed7",
      "metadata": {
        "id": "d326aed7",
        "outputId": "ed83c590-5db6-4213-86bf-1131c65b362a"
      },
      "outputs": [
        {
          "data": {
            "text/plain": [
              "mappingproxy({'__module__': '__main__',\n",
              "              'b': 20,\n",
              "              '__init__': <function __main__.Test.__init__(self)>,\n",
              "              '__dict__': <attribute '__dict__' of 'Test' objects>,\n",
              "              '__weakref__': <attribute '__weakref__' of 'Test' objects>,\n",
              "              '__doc__': None})"
            ]
          },
          "execution_count": 273,
          "metadata": {},
          "output_type": "execute_result"
        }
      ],
      "source": [
        "Test.__dict__"
      ]
    },
    {
      "cell_type": "code",
      "execution_count": null,
      "id": "28381cb3",
      "metadata": {
        "id": "28381cb3"
      },
      "outputs": [],
      "source": [
        "class Test:\n",
        "\n",
        "    a=10\n",
        "    b=20\n",
        "\n",
        "    def func(self):\n",
        "        del Test.b"
      ]
    },
    {
      "cell_type": "code",
      "execution_count": null,
      "id": "98399f07",
      "metadata": {
        "id": "98399f07",
        "outputId": "39b2896c-8665-4d68-a4aa-0971657a69be"
      },
      "outputs": [
        {
          "data": {
            "text/plain": [
              "mappingproxy({'__module__': '__main__',\n",
              "              'a': 10,\n",
              "              'b': 20,\n",
              "              'func': <function __main__.Test.func(self)>,\n",
              "              '__dict__': <attribute '__dict__' of 'Test' objects>,\n",
              "              '__weakref__': <attribute '__weakref__' of 'Test' objects>,\n",
              "              '__doc__': None})"
            ]
          },
          "execution_count": 280,
          "metadata": {},
          "output_type": "execute_result"
        }
      ],
      "source": [
        "Test.__dict__"
      ]
    },
    {
      "cell_type": "code",
      "execution_count": null,
      "id": "147a5253",
      "metadata": {
        "id": "147a5253"
      },
      "outputs": [],
      "source": [
        "t=Test()"
      ]
    },
    {
      "cell_type": "code",
      "execution_count": null,
      "id": "803a022b",
      "metadata": {
        "id": "803a022b"
      },
      "outputs": [],
      "source": [
        "t.func()"
      ]
    },
    {
      "cell_type": "code",
      "execution_count": null,
      "id": "c50f9ac6",
      "metadata": {
        "id": "c50f9ac6",
        "outputId": "b55ffdbe-3a3a-4606-dc45-04e52627b5c4"
      },
      "outputs": [
        {
          "data": {
            "text/plain": [
              "mappingproxy({'__module__': '__main__',\n",
              "              'a': 10,\n",
              "              'func': <function __main__.Test.func(self)>,\n",
              "              '__dict__': <attribute '__dict__' of 'Test' objects>,\n",
              "              '__weakref__': <attribute '__weakref__' of 'Test' objects>,\n",
              "              '__doc__': None})"
            ]
          },
          "execution_count": 283,
          "metadata": {},
          "output_type": "execute_result"
        }
      ],
      "source": [
        "Test.__dict__"
      ]
    },
    {
      "cell_type": "code",
      "execution_count": null,
      "id": "855b3e5e",
      "metadata": {
        "id": "855b3e5e"
      },
      "outputs": [],
      "source": [
        "class Test:\n",
        "\n",
        "    a=10\n",
        "    b=20\n",
        "    c=50\n",
        "\n",
        "    @classmethod\n",
        "    def m1(cls):\n",
        "        del cls.a\n",
        "        del Test.b"
      ]
    },
    {
      "cell_type": "code",
      "execution_count": null,
      "id": "dc1d1d04",
      "metadata": {
        "id": "dc1d1d04",
        "outputId": "bf8029f2-0669-4506-93c0-aaaef16fa55d"
      },
      "outputs": [
        {
          "data": {
            "text/plain": [
              "mappingproxy({'__module__': '__main__',\n",
              "              'a': 10,\n",
              "              'b': 20,\n",
              "              'c': 50,\n",
              "              'm1': <classmethod(<function Test.m1 at 0x00000204E031BA60>)>,\n",
              "              '__dict__': <attribute '__dict__' of 'Test' objects>,\n",
              "              '__weakref__': <attribute '__weakref__' of 'Test' objects>,\n",
              "              '__doc__': None})"
            ]
          },
          "execution_count": 288,
          "metadata": {},
          "output_type": "execute_result"
        }
      ],
      "source": [
        "Test.__dict__"
      ]
    },
    {
      "cell_type": "code",
      "execution_count": null,
      "id": "52afc4e1",
      "metadata": {
        "id": "52afc4e1"
      },
      "outputs": [],
      "source": [
        "Test.m1()"
      ]
    },
    {
      "cell_type": "code",
      "execution_count": null,
      "id": "9a9ac92a",
      "metadata": {
        "id": "9a9ac92a",
        "outputId": "076dde07-5153-4cea-d21f-24b668128815"
      },
      "outputs": [
        {
          "data": {
            "text/plain": [
              "mappingproxy({'__module__': '__main__',\n",
              "              'c': 50,\n",
              "              'm1': <classmethod(<function Test.m1 at 0x00000204E031BA60>)>,\n",
              "              '__dict__': <attribute '__dict__' of 'Test' objects>,\n",
              "              '__weakref__': <attribute '__weakref__' of 'Test' objects>,\n",
              "              '__doc__': None})"
            ]
          },
          "execution_count": 290,
          "metadata": {},
          "output_type": "execute_result"
        }
      ],
      "source": [
        "Test.__dict__"
      ]
    },
    {
      "cell_type": "code",
      "execution_count": null,
      "id": "0766a9c0",
      "metadata": {
        "id": "0766a9c0"
      },
      "outputs": [],
      "source": [
        "class Test:\n",
        "    a=10\n",
        "    b=20\n",
        "\n",
        "    @staticmethod\n",
        "    def stat():\n",
        "        del Test.a"
      ]
    },
    {
      "cell_type": "code",
      "execution_count": null,
      "id": "a182de85",
      "metadata": {
        "id": "a182de85",
        "outputId": "e0898bd9-d907-4fe1-b3c0-2182ca316029"
      },
      "outputs": [
        {
          "data": {
            "text/plain": [
              "mappingproxy({'__module__': '__main__',\n",
              "              'a': 10,\n",
              "              'b': 20,\n",
              "              'stat': <staticmethod(<function Test.stat at 0x00000204E031A980>)>,\n",
              "              '__dict__': <attribute '__dict__' of 'Test' objects>,\n",
              "              '__weakref__': <attribute '__weakref__' of 'Test' objects>,\n",
              "              '__doc__': None})"
            ]
          },
          "execution_count": 292,
          "metadata": {},
          "output_type": "execute_result"
        }
      ],
      "source": [
        "Test.__dict__"
      ]
    },
    {
      "cell_type": "code",
      "execution_count": null,
      "id": "77da7093",
      "metadata": {
        "id": "77da7093"
      },
      "outputs": [],
      "source": [
        "Test.stat()"
      ]
    },
    {
      "cell_type": "code",
      "execution_count": null,
      "id": "a9e45e22",
      "metadata": {
        "id": "a9e45e22",
        "outputId": "2a311113-1a41-47e4-8053-42489731bd6c"
      },
      "outputs": [
        {
          "data": {
            "text/plain": [
              "mappingproxy({'__module__': '__main__',\n",
              "              'b': 20,\n",
              "              'stat': <staticmethod(<function Test.stat at 0x00000204E031A980>)>,\n",
              "              '__dict__': <attribute '__dict__' of 'Test' objects>,\n",
              "              '__weakref__': <attribute '__weakref__' of 'Test' objects>,\n",
              "              '__doc__': None})"
            ]
          },
          "execution_count": 294,
          "metadata": {},
          "output_type": "execute_result"
        }
      ],
      "source": [
        "Test.__dict__"
      ]
    },
    {
      "cell_type": "code",
      "execution_count": null,
      "id": "cee995a3",
      "metadata": {
        "id": "cee995a3"
      },
      "outputs": [],
      "source": [
        "class Test:\n",
        "\n",
        "    a=10\n",
        "    b=20"
      ]
    },
    {
      "cell_type": "code",
      "execution_count": null,
      "id": "1ad903f3",
      "metadata": {
        "id": "1ad903f3",
        "outputId": "a728a7a7-5a18-4a55-c908-debe6e069fd0"
      },
      "outputs": [
        {
          "data": {
            "text/plain": [
              "mappingproxy({'__module__': '__main__',\n",
              "              'a': 10,\n",
              "              'b': 20,\n",
              "              '__dict__': <attribute '__dict__' of 'Test' objects>,\n",
              "              '__weakref__': <attribute '__weakref__' of 'Test' objects>,\n",
              "              '__doc__': None})"
            ]
          },
          "execution_count": 296,
          "metadata": {},
          "output_type": "execute_result"
        }
      ],
      "source": [
        "Test.__dict__"
      ]
    },
    {
      "cell_type": "code",
      "execution_count": null,
      "id": "8a8bec38",
      "metadata": {
        "id": "8a8bec38"
      },
      "outputs": [],
      "source": [
        "del Test.b"
      ]
    },
    {
      "cell_type": "code",
      "execution_count": null,
      "id": "7ff375d9",
      "metadata": {
        "id": "7ff375d9",
        "outputId": "08b1d591-07a3-488e-e722-5c9c327c5aba"
      },
      "outputs": [
        {
          "data": {
            "text/plain": [
              "mappingproxy({'__module__': '__main__',\n",
              "              'a': 10,\n",
              "              '__dict__': <attribute '__dict__' of 'Test' objects>,\n",
              "              '__weakref__': <attribute '__weakref__' of 'Test' objects>,\n",
              "              '__doc__': None})"
            ]
          },
          "execution_count": 298,
          "metadata": {},
          "output_type": "execute_result"
        }
      ],
      "source": [
        "Test.__dict__"
      ]
    },
    {
      "cell_type": "code",
      "execution_count": null,
      "id": "6e70fdad",
      "metadata": {
        "id": "6e70fdad"
      },
      "outputs": [],
      "source": []
    }
  ],
  "metadata": {
    "kernelspec": {
      "display_name": "Python 3 (ipykernel)",
      "language": "python",
      "name": "python3"
    },
    "language_info": {
      "codemirror_mode": {
        "name": "ipython",
        "version": 3
      },
      "file_extension": ".py",
      "mimetype": "text/x-python",
      "name": "python",
      "nbconvert_exporter": "python",
      "pygments_lexer": "ipython3",
      "version": "3.11.7"
    },
    "colab": {
      "provenance": []
    }
  },
  "nbformat": 4,
  "nbformat_minor": 5
}