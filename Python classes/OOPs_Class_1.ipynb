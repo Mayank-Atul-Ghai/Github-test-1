{
  "cells": [
    {
      "cell_type": "markdown",
      "id": "f01a8000",
      "metadata": {
        "id": "f01a8000"
      },
      "source": [
        "# OOP"
      ]
    },
    {
      "cell_type": "markdown",
      "id": "ed098655",
      "metadata": {
        "id": "ed098655"
      },
      "source": [
        "# Object Oriented Programming"
      ]
    },
    {
      "cell_type": "markdown",
      "id": "611a7772",
      "metadata": {
        "id": "611a7772"
      },
      "source": [
        "# Class and object"
      ]
    },
    {
      "cell_type": "markdown",
      "id": "f76b2b80",
      "metadata": {
        "id": "f76b2b80"
      },
      "source": [
        "# Class"
      ]
    },
    {
      "cell_type": "code",
      "execution_count": null,
      "id": "1f009ac7",
      "metadata": {
        "id": "1f009ac7"
      },
      "outputs": [],
      "source": [
        "# - A class is a blueprint. It is a plan"
      ]
    },
    {
      "cell_type": "code",
      "execution_count": null,
      "id": "a3a2def2",
      "metadata": {
        "id": "a3a2def2"
      },
      "outputs": [],
      "source": [
        "# - A class is a user defined blueprint from which we create objects.\n",
        "# - A class provides a means of binding the data and functionality together."
      ]
    },
    {
      "cell_type": "markdown",
      "id": "a80d7199",
      "metadata": {
        "id": "a80d7199"
      },
      "source": [
        "# Object"
      ]
    },
    {
      "cell_type": "code",
      "execution_count": null,
      "id": "6f6fe600",
      "metadata": {
        "id": "6f6fe600"
      },
      "outputs": [],
      "source": [
        "# Physical existence of a plan is known as object"
      ]
    },
    {
      "cell_type": "code",
      "execution_count": null,
      "id": "dcdad442",
      "metadata": {
        "id": "dcdad442"
      },
      "outputs": [],
      "source": [
        "# A layout of a building on a paper- Plan\n",
        "# Once we construct a building using the plan- Object"
      ]
    },
    {
      "cell_type": "markdown",
      "id": "ef9e4e75",
      "metadata": {
        "id": "ef9e4e75"
      },
      "source": [
        "# Object Oriented Orogramming"
      ]
    },
    {
      "cell_type": "code",
      "execution_count": null,
      "id": "d33ab1c7",
      "metadata": {
        "id": "d33ab1c7"
      },
      "outputs": [],
      "source": [
        "# - It is a different programming paradigm in which everything is treated as an object\n",
        "# and using this approach we solve a problem."
      ]
    },
    {
      "cell_type": "markdown",
      "id": "950db38c",
      "metadata": {
        "id": "950db38c"
      },
      "source": [
        "# A class contains two things"
      ]
    },
    {
      "cell_type": "code",
      "execution_count": null,
      "id": "62236588",
      "metadata": {
        "id": "62236588"
      },
      "outputs": [],
      "source": [
        "# - 1- Variables\n",
        "# - 2- Methods"
      ]
    },
    {
      "cell_type": "code",
      "execution_count": null,
      "id": "44685be5",
      "metadata": {
        "id": "44685be5"
      },
      "outputs": [],
      "source": [
        "# I want to manufacture a car-\n",
        "# color, shape, model, size......fetaures/ properties / characteristics /attributes\n",
        "# behaviour (functionality)- run, carriage"
      ]
    },
    {
      "cell_type": "code",
      "execution_count": null,
      "id": "5f46b689",
      "metadata": {
        "id": "5f46b689"
      },
      "outputs": [],
      "source": [
        "# In a class we define the attributes and the behaviour of the object."
      ]
    },
    {
      "cell_type": "code",
      "execution_count": null,
      "id": "0b31d8f7",
      "metadata": {
        "id": "0b31d8f7"
      },
      "outputs": [],
      "source": [
        "# Attributes- Characteristics\n",
        "# Behaviour- Functionality"
      ]
    },
    {
      "cell_type": "code",
      "execution_count": null,
      "id": "86fa6e4b",
      "metadata": {
        "id": "86fa6e4b"
      },
      "outputs": [],
      "source": [
        "# Student class"
      ]
    },
    {
      "cell_type": "code",
      "execution_count": null,
      "id": "7e10f570",
      "metadata": {
        "id": "7e10f570"
      },
      "outputs": [],
      "source": [
        "# Attributes of a student-\n",
        "\n",
        "# Name-\n",
        "# Roll Number\n",
        "# Grade-\n",
        "# Section-\n",
        "# Age-\n",
        "# Gender-\n",
        "# Stream-"
      ]
    },
    {
      "cell_type": "code",
      "execution_count": null,
      "id": "732b5e45",
      "metadata": {
        "id": "732b5e45"
      },
      "outputs": [],
      "source": [
        "# Functionality of a student\n",
        "\n",
        "# Read\n",
        "# Write\n",
        "# Play\n",
        "# Study\n",
        "# Sports\n",
        "# Debate\n",
        "# Dance\n",
        "# Speech"
      ]
    },
    {
      "cell_type": "code",
      "execution_count": null,
      "id": "b70d656f",
      "metadata": {
        "id": "b70d656f"
      },
      "outputs": [],
      "source": [
        "# In a class we define the attributes and the behaviour of the objects"
      ]
    },
    {
      "cell_type": "markdown",
      "id": "6a4e056f",
      "metadata": {
        "id": "6a4e056f"
      },
      "source": [
        "# How to define a class"
      ]
    },
    {
      "cell_type": "code",
      "execution_count": null,
      "id": "591a1dbb",
      "metadata": {
        "id": "591a1dbb"
      },
      "outputs": [],
      "source": [
        "class class_name:\n",
        "\n",
        "    variables (attributes) / characteristics\n",
        "    methods (behaviour) / functionality"
      ]
    },
    {
      "cell_type": "code",
      "execution_count": null,
      "id": "765a0166",
      "metadata": {
        "id": "765a0166"
      },
      "outputs": [],
      "source": [
        "class Student:\n",
        "    def __init__(self):\n",
        "        self.name='Pushpa'\n",
        "        self.roll=101\n",
        "        self.age=24\n",
        "        self.marks=98\n",
        "\n",
        "    def talk(self):\n",
        "        print(f'I am {self.name}')\n",
        "        print(f'My roll number is {self.roll}')\n",
        "        print(f'My age is {self.age}')\n",
        "        print(f'I have got {self.marks} marks')"
      ]
    },
    {
      "cell_type": "markdown",
      "id": "14bc203a",
      "metadata": {
        "id": "14bc203a"
      },
      "source": [
        "# How to create an object from a class"
      ]
    },
    {
      "cell_type": "code",
      "execution_count": null,
      "id": "7c3b1d79",
      "metadata": {
        "id": "7c3b1d79"
      },
      "outputs": [],
      "source": [
        "# variable=class_name()"
      ]
    },
    {
      "cell_type": "code",
      "execution_count": null,
      "id": "60ca3ac8",
      "metadata": {
        "id": "60ca3ac8"
      },
      "outputs": [],
      "source": [
        "s=Student()"
      ]
    },
    {
      "cell_type": "code",
      "execution_count": null,
      "id": "cd440a06",
      "metadata": {
        "id": "cd440a06"
      },
      "outputs": [],
      "source": [
        "# s is an object of class student."
      ]
    },
    {
      "cell_type": "code",
      "execution_count": null,
      "id": "4ac6a1c2",
      "metadata": {
        "id": "4ac6a1c2",
        "outputId": "8283659b-b362-4cfc-ceb0-4c49a1c6a8fe"
      },
      "outputs": [
        {
          "data": {
            "text/plain": [
              "'Pushpa'"
            ]
          },
          "execution_count": 23,
          "metadata": {},
          "output_type": "execute_result"
        }
      ],
      "source": [
        "s.name"
      ]
    },
    {
      "cell_type": "code",
      "execution_count": null,
      "id": "9ca04f07",
      "metadata": {
        "id": "9ca04f07",
        "outputId": "f4d57c2e-2d85-4c69-ecee-acf40c53e4ca"
      },
      "outputs": [
        {
          "data": {
            "text/plain": [
              "101"
            ]
          },
          "execution_count": 24,
          "metadata": {},
          "output_type": "execute_result"
        }
      ],
      "source": [
        "s.roll"
      ]
    },
    {
      "cell_type": "code",
      "execution_count": null,
      "id": "be682257",
      "metadata": {
        "id": "be682257",
        "outputId": "42608200-6630-49b2-ee48-ea450b1ff5b9"
      },
      "outputs": [
        {
          "data": {
            "text/plain": [
              "24"
            ]
          },
          "execution_count": 25,
          "metadata": {},
          "output_type": "execute_result"
        }
      ],
      "source": [
        "s.age"
      ]
    },
    {
      "cell_type": "code",
      "execution_count": null,
      "id": "9f290290",
      "metadata": {
        "id": "9f290290",
        "outputId": "c9bb6307-6ce1-4ad1-f982-5f2509c4be5a"
      },
      "outputs": [
        {
          "data": {
            "text/plain": [
              "98"
            ]
          },
          "execution_count": 26,
          "metadata": {},
          "output_type": "execute_result"
        }
      ],
      "source": [
        "s.marks"
      ]
    },
    {
      "cell_type": "code",
      "execution_count": null,
      "id": "6180320f",
      "metadata": {
        "id": "6180320f",
        "outputId": "2c92b2b0-678b-4036-bde0-30237d9d5c98"
      },
      "outputs": [
        {
          "name": "stdout",
          "output_type": "stream",
          "text": [
            "I am Pushpa\n",
            "My roll number is 101\n",
            "My age is 24\n",
            "I have got 98 marks\n"
          ]
        }
      ],
      "source": [
        "s.talk()"
      ]
    },
    {
      "cell_type": "markdown",
      "id": "504ba30a",
      "metadata": {
        "id": "504ba30a"
      },
      "source": [
        "# Method"
      ]
    },
    {
      "cell_type": "code",
      "execution_count": null,
      "id": "92dd6a2f",
      "metadata": {
        "id": "92dd6a2f"
      },
      "outputs": [],
      "source": [
        "# - A method is a function that is defined inside a class"
      ]
    },
    {
      "cell_type": "code",
      "execution_count": null,
      "id": "9c606723",
      "metadata": {
        "id": "9c606723"
      },
      "outputs": [],
      "source": [
        "def add(x,y):\n",
        "    return x+y"
      ]
    },
    {
      "cell_type": "code",
      "execution_count": null,
      "id": "9e945fd1",
      "metadata": {
        "id": "9e945fd1"
      },
      "outputs": [],
      "source": [
        "class Test:\n",
        "    def dummy(self):\n",
        "        pass"
      ]
    },
    {
      "cell_type": "code",
      "execution_count": null,
      "id": "e4a49167",
      "metadata": {
        "id": "e4a49167"
      },
      "outputs": [],
      "source": [
        "# add- It is a function only\n",
        "# dummy- It is a method"
      ]
    },
    {
      "cell_type": "markdown",
      "id": "956d9c31",
      "metadata": {
        "id": "956d9c31"
      },
      "source": [
        "# Types of variables inside a class"
      ]
    },
    {
      "cell_type": "code",
      "execution_count": null,
      "id": "0c7c0d77",
      "metadata": {
        "id": "0c7c0d77"
      },
      "outputs": [],
      "source": [
        "# - In a class we have 3 types of variables"
      ]
    },
    {
      "cell_type": "code",
      "execution_count": null,
      "id": "85837009",
      "metadata": {
        "id": "85837009"
      },
      "outputs": [],
      "source": [
        "# - Instance variables (Object level variables)\n",
        "# - Static variables (Class level variables)\n",
        "# - Local variables (Method level variables)"
      ]
    },
    {
      "cell_type": "markdown",
      "id": "d9768b86",
      "metadata": {
        "id": "d9768b86"
      },
      "source": [
        "# Types of Methods"
      ]
    },
    {
      "cell_type": "code",
      "execution_count": null,
      "id": "562a30c5",
      "metadata": {
        "id": "562a30c5"
      },
      "outputs": [],
      "source": [
        "# - Instance methods\n",
        "# - Static methods\n",
        "# - Class methods"
      ]
    },
    {
      "cell_type": "markdown",
      "id": "d9d32775",
      "metadata": {
        "id": "d9d32775"
      },
      "source": [
        "# Constructor"
      ]
    },
    {
      "cell_type": "code",
      "execution_count": null,
      "id": "b77a01cd",
      "metadata": {
        "id": "b77a01cd"
      },
      "outputs": [],
      "source": [
        "# - It is a special method in Python.\n",
        "# - The name of the constructor is fixed in Python i.e. __init__().\n",
        "# - Whenever we create an object, the constructor is automatically executed.\n",
        "# - The main objective of a constructor is to declare the instance (object level) variables.\n",
        "# - The constructor gets executed only once for each object when the object is created.\n",
        "# - A constructor must have atleast one argument (self).\n",
        "# - A constructor is optional"
      ]
    },
    {
      "cell_type": "markdown",
      "id": "a9c3ff2f",
      "metadata": {
        "id": "a9c3ff2f"
      },
      "source": [
        "# Instance variable"
      ]
    },
    {
      "cell_type": "code",
      "execution_count": null,
      "id": "ba0a82e6",
      "metadata": {
        "id": "ba0a82e6"
      },
      "outputs": [],
      "source": [
        "# The variables that are shared by all the objects are known as instance variables"
      ]
    },
    {
      "cell_type": "code",
      "execution_count": null,
      "id": "06cc019f",
      "metadata": {
        "id": "06cc019f"
      },
      "outputs": [],
      "source": [
        "class Student:\n",
        "\n",
        "    def __init__(self):\n",
        "        self.name='Aman'\n",
        "        self.age=22\n",
        "        self.roll=111\n",
        "\n",
        "    def read(self):\n",
        "        print(f'{self.name} can read')\n",
        "\n",
        "    def walk(self):\n",
        "        print(f'{self.name} can walk')\n",
        "\n",
        "    def write(self):\n",
        "        print(f'{self.name} can write')\n",
        "\n",
        "    def dance(self):\n",
        "        print(f'{self.name} can dance')"
      ]
    },
    {
      "cell_type": "code",
      "execution_count": null,
      "id": "e2c1423c",
      "metadata": {
        "id": "e2c1423c"
      },
      "outputs": [],
      "source": [
        "# Creating one object"
      ]
    },
    {
      "cell_type": "code",
      "execution_count": null,
      "id": "10e424bd",
      "metadata": {
        "id": "10e424bd"
      },
      "outputs": [],
      "source": [
        "s1=Student()"
      ]
    },
    {
      "cell_type": "code",
      "execution_count": null,
      "id": "ae9535a4",
      "metadata": {
        "id": "ae9535a4",
        "outputId": "26800e33-9d68-4cf3-b93e-2cbdd5ffc0b3"
      },
      "outputs": [
        {
          "data": {
            "text/plain": [
              "'Aman'"
            ]
          },
          "execution_count": 40,
          "metadata": {},
          "output_type": "execute_result"
        }
      ],
      "source": [
        "s1.name"
      ]
    },
    {
      "cell_type": "code",
      "execution_count": null,
      "id": "b7c8f10e",
      "metadata": {
        "id": "b7c8f10e",
        "outputId": "9c47b8a0-a3eb-4408-ff69-61e9c483774d"
      },
      "outputs": [
        {
          "data": {
            "text/plain": [
              "22"
            ]
          },
          "execution_count": 41,
          "metadata": {},
          "output_type": "execute_result"
        }
      ],
      "source": [
        "s1.age"
      ]
    },
    {
      "cell_type": "code",
      "execution_count": null,
      "id": "57419916",
      "metadata": {
        "id": "57419916",
        "outputId": "3b69fcd2-c68d-4cc7-e374-888182088f64"
      },
      "outputs": [
        {
          "data": {
            "text/plain": [
              "111"
            ]
          },
          "execution_count": 42,
          "metadata": {},
          "output_type": "execute_result"
        }
      ],
      "source": [
        "s1.roll"
      ]
    },
    {
      "cell_type": "code",
      "execution_count": null,
      "id": "8b0db0b4",
      "metadata": {
        "id": "8b0db0b4"
      },
      "outputs": [],
      "source": [
        "# Creating another object"
      ]
    },
    {
      "cell_type": "code",
      "execution_count": null,
      "id": "e8ab61c6",
      "metadata": {
        "id": "e8ab61c6"
      },
      "outputs": [],
      "source": [
        "s2=Student()"
      ]
    },
    {
      "cell_type": "code",
      "execution_count": null,
      "id": "2fa2ac99",
      "metadata": {
        "id": "2fa2ac99",
        "outputId": "f80ec367-cee1-4e92-9b67-95ac4526f5d7"
      },
      "outputs": [
        {
          "data": {
            "text/plain": [
              "'Aman'"
            ]
          },
          "execution_count": 44,
          "metadata": {},
          "output_type": "execute_result"
        }
      ],
      "source": [
        "s2.name"
      ]
    },
    {
      "cell_type": "code",
      "execution_count": null,
      "id": "7dfde552",
      "metadata": {
        "id": "7dfde552",
        "outputId": "89cc6cb6-9e71-4bc3-c7dc-a00427c7b270"
      },
      "outputs": [
        {
          "data": {
            "text/plain": [
              "22"
            ]
          },
          "execution_count": 45,
          "metadata": {},
          "output_type": "execute_result"
        }
      ],
      "source": [
        "s2.age"
      ]
    },
    {
      "cell_type": "code",
      "execution_count": null,
      "id": "ff4f6be5",
      "metadata": {
        "id": "ff4f6be5",
        "outputId": "9dfc031c-37d0-4ef4-f13d-988f4268ab53"
      },
      "outputs": [
        {
          "data": {
            "text/plain": [
              "111"
            ]
          },
          "execution_count": 46,
          "metadata": {},
          "output_type": "execute_result"
        }
      ],
      "source": [
        "s2.roll"
      ]
    },
    {
      "cell_type": "markdown",
      "id": "368e7549",
      "metadata": {
        "id": "368e7549"
      },
      "source": [
        "# Passing the arguments to a class"
      ]
    },
    {
      "cell_type": "code",
      "execution_count": null,
      "id": "207bc6ef",
      "metadata": {
        "id": "207bc6ef"
      },
      "outputs": [],
      "source": [
        "class Student:\n",
        "\n",
        "    def __init__(self,a,b,c):\n",
        "        self.name=a\n",
        "        self.age=b\n",
        "        self.roll=c\n",
        "\n",
        "    def read(self):\n",
        "        print(f'{self.name} can read')\n",
        "\n",
        "    def walk(self):\n",
        "        print(f'{self.name} can walk')\n",
        "\n",
        "    def write(self):\n",
        "        print(f'{self.name} can write')\n",
        "\n",
        "    def dance(self):\n",
        "        print(f'{self.name} can dance')"
      ]
    },
    {
      "cell_type": "code",
      "execution_count": null,
      "id": "e6e7bcad",
      "metadata": {
        "id": "e6e7bcad"
      },
      "outputs": [],
      "source": [
        "s1=Student('Anoop',25,101)"
      ]
    },
    {
      "cell_type": "code",
      "execution_count": null,
      "id": "1145e7ab",
      "metadata": {
        "id": "1145e7ab"
      },
      "outputs": [],
      "source": [
        "s2=Student('Prabha',26,111)"
      ]
    },
    {
      "cell_type": "code",
      "execution_count": null,
      "id": "91a6d9ed",
      "metadata": {
        "id": "91a6d9ed",
        "outputId": "544b727f-ebf2-4bc0-9312-f9a02f50590e"
      },
      "outputs": [
        {
          "data": {
            "text/plain": [
              "'Anoop'"
            ]
          },
          "execution_count": 53,
          "metadata": {},
          "output_type": "execute_result"
        }
      ],
      "source": [
        "s1.name"
      ]
    },
    {
      "cell_type": "code",
      "execution_count": null,
      "id": "6370591d",
      "metadata": {
        "id": "6370591d",
        "outputId": "19701061-c1fb-47b7-9876-38ff2adf77b1"
      },
      "outputs": [
        {
          "data": {
            "text/plain": [
              "'Prabha'"
            ]
          },
          "execution_count": 54,
          "metadata": {},
          "output_type": "execute_result"
        }
      ],
      "source": [
        "s2.name"
      ]
    },
    {
      "cell_type": "code",
      "execution_count": null,
      "id": "1a8cb802",
      "metadata": {
        "id": "1a8cb802",
        "outputId": "41a3d588-e079-4f9f-d0b7-ae9ecc623b22"
      },
      "outputs": [
        {
          "data": {
            "text/plain": [
              "25"
            ]
          },
          "execution_count": 55,
          "metadata": {},
          "output_type": "execute_result"
        }
      ],
      "source": [
        "s1.age"
      ]
    },
    {
      "cell_type": "code",
      "execution_count": null,
      "id": "de5f4cf3",
      "metadata": {
        "id": "de5f4cf3",
        "outputId": "aa9d339d-f7e5-4f6c-d18c-db825b7ab3b7"
      },
      "outputs": [
        {
          "data": {
            "text/plain": [
              "26"
            ]
          },
          "execution_count": 56,
          "metadata": {},
          "output_type": "execute_result"
        }
      ],
      "source": [
        "s2.age"
      ]
    },
    {
      "cell_type": "code",
      "execution_count": null,
      "id": "89d36323",
      "metadata": {
        "id": "89d36323",
        "outputId": "8a76da55-97e1-4e69-b5b2-64c07be35d55"
      },
      "outputs": [
        {
          "data": {
            "text/plain": [
              "101"
            ]
          },
          "execution_count": 57,
          "metadata": {},
          "output_type": "execute_result"
        }
      ],
      "source": [
        "s1.roll"
      ]
    },
    {
      "cell_type": "code",
      "execution_count": null,
      "id": "0991d782",
      "metadata": {
        "id": "0991d782",
        "outputId": "092316f7-2e01-4bfb-bb67-0261ad8087d4"
      },
      "outputs": [
        {
          "data": {
            "text/plain": [
              "111"
            ]
          },
          "execution_count": 58,
          "metadata": {},
          "output_type": "execute_result"
        }
      ],
      "source": [
        "s2.roll"
      ]
    },
    {
      "cell_type": "code",
      "execution_count": null,
      "id": "55a6b2f3",
      "metadata": {
        "id": "55a6b2f3",
        "outputId": "a5cf05f8-00a1-42e2-ed56-beec88cd98e8"
      },
      "outputs": [
        {
          "name": "stdout",
          "output_type": "stream",
          "text": [
            "Anoop can read\n"
          ]
        }
      ],
      "source": [
        "s1.read()"
      ]
    },
    {
      "cell_type": "code",
      "execution_count": null,
      "id": "4ee049a7",
      "metadata": {
        "id": "4ee049a7",
        "outputId": "f0322122-4562-4678-f9b6-9c3c9391ef5c"
      },
      "outputs": [
        {
          "name": "stdout",
          "output_type": "stream",
          "text": [
            "Prabha can read\n"
          ]
        }
      ],
      "source": [
        "s2.read()"
      ]
    },
    {
      "cell_type": "code",
      "execution_count": null,
      "id": "3fc170cf",
      "metadata": {
        "id": "3fc170cf"
      },
      "outputs": [],
      "source": [
        "s3=Student('Kuldeep',21,115)"
      ]
    },
    {
      "cell_type": "code",
      "execution_count": null,
      "id": "a8dfc6b1",
      "metadata": {
        "id": "a8dfc6b1",
        "outputId": "8b5890f9-e438-43a5-9acf-2dba3781133d"
      },
      "outputs": [
        {
          "name": "stdout",
          "output_type": "stream",
          "text": [
            "Kuldeep can read\n"
          ]
        }
      ],
      "source": [
        "s3.read()"
      ]
    },
    {
      "cell_type": "code",
      "execution_count": null,
      "id": "f4e2bdf9",
      "metadata": {
        "id": "f4e2bdf9",
        "outputId": "029722e4-6fcf-43dc-aca7-a4003d686bdd"
      },
      "outputs": [
        {
          "name": "stdout",
          "output_type": "stream",
          "text": [
            "Kuldeep can dance\n"
          ]
        }
      ],
      "source": [
        "s3.dance()"
      ]
    },
    {
      "cell_type": "code",
      "execution_count": null,
      "id": "df2da2a7",
      "metadata": {
        "id": "df2da2a7",
        "outputId": "95856dcc-e6a4-470a-f56f-3a5639423f2c"
      },
      "outputs": [
        {
          "data": {
            "text/plain": [
              "115"
            ]
          },
          "execution_count": 67,
          "metadata": {},
          "output_type": "execute_result"
        }
      ],
      "source": [
        "s3.roll"
      ]
    },
    {
      "cell_type": "markdown",
      "id": "aa73921c",
      "metadata": {
        "id": "aa73921c"
      },
      "source": [
        "# self"
      ]
    },
    {
      "cell_type": "code",
      "execution_count": null,
      "id": "94ec2843",
      "metadata": {
        "id": "94ec2843"
      },
      "outputs": [],
      "source": [
        "# self is a implicit variable provided by Python that always points to the current object.\n",
        "# Using self we access the instance variables and the methods"
      ]
    },
    {
      "cell_type": "code",
      "execution_count": null,
      "id": "3839b44e",
      "metadata": {
        "id": "3839b44e"
      },
      "outputs": [],
      "source": [
        "class Test:\n",
        "    def __init__(self):\n",
        "        pass\n",
        "    def greet():\n",
        "        pass"
      ]
    },
    {
      "cell_type": "code",
      "execution_count": null,
      "id": "b5eec4d8",
      "metadata": {
        "id": "b5eec4d8"
      },
      "outputs": [],
      "source": [
        "t=Test()"
      ]
    },
    {
      "cell_type": "code",
      "execution_count": null,
      "id": "f2b95744",
      "metadata": {
        "id": "f2b95744"
      },
      "outputs": [],
      "source": [
        "class Test:\n",
        "    def __init__(self,a,b):\n",
        "        self.name=a\n",
        "        self.age=b\n",
        "        print(id(self))"
      ]
    },
    {
      "cell_type": "code",
      "execution_count": null,
      "id": "29f24ebe",
      "metadata": {
        "id": "29f24ebe",
        "outputId": "50b02392-638c-43c6-f80b-525a210d73e0"
      },
      "outputs": [
        {
          "name": "stdout",
          "output_type": "stream",
          "text": [
            "1781905860944\n"
          ]
        }
      ],
      "source": [
        "s1=Test('Anoop',22)"
      ]
    },
    {
      "cell_type": "code",
      "execution_count": null,
      "id": "8ac63d72",
      "metadata": {
        "id": "8ac63d72",
        "outputId": "19608005-94e1-4f2b-befb-d0228acfa958"
      },
      "outputs": [
        {
          "name": "stdout",
          "output_type": "stream",
          "text": [
            "1781905860944\n"
          ]
        }
      ],
      "source": [
        "print(id(s1))"
      ]
    },
    {
      "cell_type": "code",
      "execution_count": null,
      "id": "1fbfc246",
      "metadata": {
        "id": "1fbfc246",
        "outputId": "dec1257c-17b8-4819-8e86-d291e9fe541a"
      },
      "outputs": [
        {
          "name": "stdout",
          "output_type": "stream",
          "text": [
            "1781926671632\n"
          ]
        }
      ],
      "source": [
        "s2=Test('Kuldeep',28)"
      ]
    },
    {
      "cell_type": "code",
      "execution_count": null,
      "id": "43eae716",
      "metadata": {
        "id": "43eae716",
        "outputId": "7e8b31b6-4057-487e-c181-663aa3c5ff3e"
      },
      "outputs": [
        {
          "name": "stdout",
          "output_type": "stream",
          "text": [
            "1781926671632\n"
          ]
        }
      ],
      "source": [
        "print(id(s2))"
      ]
    },
    {
      "cell_type": "code",
      "execution_count": null,
      "id": "5b68f3a2",
      "metadata": {
        "id": "5b68f3a2"
      },
      "outputs": [],
      "source": [
        "class Test:\n",
        "    def __init__(self,a,b):\n",
        "        self.name=a\n",
        "        self.age=b\n",
        "#         print(id(self))\n",
        "\n",
        "    def my_name(self):\n",
        "        print(f'I am {self.name}')\n",
        "        print(id(self))"
      ]
    },
    {
      "cell_type": "code",
      "execution_count": null,
      "id": "71f0936b",
      "metadata": {
        "id": "71f0936b"
      },
      "outputs": [],
      "source": [
        "s1=Test('Prabha',25)"
      ]
    },
    {
      "cell_type": "code",
      "execution_count": null,
      "id": "9d1d7ed1",
      "metadata": {
        "id": "9d1d7ed1",
        "outputId": "3b0b2311-5c65-4e80-b35c-035d2d2e5a8d"
      },
      "outputs": [
        {
          "name": "stdout",
          "output_type": "stream",
          "text": [
            "1781926603792\n"
          ]
        }
      ],
      "source": [
        "print(id(s1))"
      ]
    },
    {
      "cell_type": "code",
      "execution_count": null,
      "id": "f4461527",
      "metadata": {
        "id": "f4461527",
        "outputId": "d1a66aa6-567e-42f9-e733-277145b2df44"
      },
      "outputs": [
        {
          "name": "stdout",
          "output_type": "stream",
          "text": [
            "I am Prabha\n",
            "1781926603792\n"
          ]
        }
      ],
      "source": [
        "s1.my_name()"
      ]
    },
    {
      "cell_type": "code",
      "execution_count": null,
      "id": "794303f1",
      "metadata": {
        "id": "794303f1"
      },
      "outputs": [],
      "source": [
        "s2=Test('Aman',21)"
      ]
    },
    {
      "cell_type": "code",
      "execution_count": null,
      "id": "b3d2912c",
      "metadata": {
        "id": "b3d2912c",
        "outputId": "9c57af61-59d2-44b6-d6f4-487f98ee9bdf"
      },
      "outputs": [
        {
          "name": "stdout",
          "output_type": "stream",
          "text": [
            "1781926442320\n"
          ]
        }
      ],
      "source": [
        "print(id(s2))"
      ]
    },
    {
      "cell_type": "code",
      "execution_count": null,
      "id": "b49040d1",
      "metadata": {
        "id": "b49040d1",
        "outputId": "2d3d02d5-ed0c-4473-fee0-ad3735d846ce"
      },
      "outputs": [
        {
          "name": "stdout",
          "output_type": "stream",
          "text": [
            "I am Aman\n",
            "1781926442320\n"
          ]
        }
      ],
      "source": [
        "s2.my_name()"
      ]
    },
    {
      "cell_type": "code",
      "execution_count": null,
      "id": "801af161",
      "metadata": {
        "id": "801af161"
      },
      "outputs": [],
      "source": []
    },
    {
      "cell_type": "code",
      "execution_count": null,
      "id": "f23b207d",
      "metadata": {
        "id": "f23b207d"
      },
      "outputs": [],
      "source": [
        "# We can use any name instead self"
      ]
    },
    {
      "cell_type": "code",
      "execution_count": null,
      "id": "577b6984",
      "metadata": {
        "id": "577b6984"
      },
      "outputs": [],
      "source": [
        "class Test:\n",
        "    def __init__(a,b,c):\n",
        "        a.name=b\n",
        "        a.age=c"
      ]
    },
    {
      "cell_type": "code",
      "execution_count": null,
      "id": "661e7bd6",
      "metadata": {
        "id": "661e7bd6"
      },
      "outputs": [],
      "source": [
        "t1=Test('Amit',28)"
      ]
    },
    {
      "cell_type": "code",
      "execution_count": null,
      "id": "b67b1679",
      "metadata": {
        "id": "b67b1679",
        "outputId": "ce0a9e6e-ccf7-413c-ee8d-8aaa86874c6b"
      },
      "outputs": [
        {
          "data": {
            "text/plain": [
              "'Amit'"
            ]
          },
          "execution_count": 76,
          "metadata": {},
          "output_type": "execute_result"
        }
      ],
      "source": [
        "t1.name"
      ]
    },
    {
      "cell_type": "code",
      "execution_count": null,
      "id": "ee0aa124",
      "metadata": {
        "id": "ee0aa124",
        "outputId": "9f086864-b00a-4c71-b455-f84d84f22de3"
      },
      "outputs": [
        {
          "data": {
            "text/plain": [
              "28"
            ]
          },
          "execution_count": 77,
          "metadata": {},
          "output_type": "execute_result"
        }
      ],
      "source": [
        "t1.age"
      ]
    },
    {
      "cell_type": "markdown",
      "id": "851c5026",
      "metadata": {
        "id": "851c5026"
      },
      "source": [
        "# Reference variable"
      ]
    },
    {
      "cell_type": "code",
      "execution_count": null,
      "id": "8f78541c",
      "metadata": {
        "id": "8f78541c"
      },
      "outputs": [],
      "source": [
        "# The variable that referes to an object is known as the refernce variable."
      ]
    },
    {
      "cell_type": "code",
      "execution_count": null,
      "id": "800c12a5",
      "metadata": {
        "id": "800c12a5"
      },
      "outputs": [],
      "source": [
        "class Test:\n",
        "    def __init__(self):\n",
        "        pass\n",
        "    def m1(self):\n",
        "        print('I am a method')"
      ]
    },
    {
      "cell_type": "code",
      "execution_count": null,
      "id": "ef4c4953",
      "metadata": {
        "id": "ef4c4953"
      },
      "outputs": [],
      "source": [
        "s1=Test()\n",
        "\n",
        "# s1 is the reference variable"
      ]
    },
    {
      "cell_type": "code",
      "execution_count": null,
      "id": "740cae26",
      "metadata": {
        "id": "740cae26"
      },
      "outputs": [],
      "source": [
        "lst=[1,2,3,4,5]"
      ]
    },
    {
      "cell_type": "code",
      "execution_count": null,
      "id": "1905300d",
      "metadata": {
        "id": "1905300d",
        "outputId": "304adc38-03dc-4634-d58b-381c4d3ab0f4"
      },
      "outputs": [
        {
          "name": "stdout",
          "output_type": "stream",
          "text": [
            "<class 'list'>\n"
          ]
        }
      ],
      "source": [
        "print(type(lst))"
      ]
    },
    {
      "cell_type": "code",
      "execution_count": null,
      "id": "35c5fcf0",
      "metadata": {
        "id": "35c5fcf0"
      },
      "outputs": [],
      "source": [
        "a=5"
      ]
    },
    {
      "cell_type": "code",
      "execution_count": null,
      "id": "cc698229",
      "metadata": {
        "id": "cc698229"
      },
      "outputs": [],
      "source": [
        "class Test:\n",
        "    def __init__(self):\n",
        "        self.a='India'\n",
        "        self.b='USA'"
      ]
    },
    {
      "cell_type": "code",
      "execution_count": null,
      "id": "e4224106",
      "metadata": {
        "id": "e4224106"
      },
      "outputs": [],
      "source": [
        "t=Test()"
      ]
    },
    {
      "cell_type": "code",
      "execution_count": null,
      "id": "b7c4d572",
      "metadata": {
        "id": "b7c4d572"
      },
      "outputs": [],
      "source": [
        "# a- instance\n",
        "# b- instance\n",
        "# t- refernce"
      ]
    },
    {
      "cell_type": "markdown",
      "id": "6e7aa117",
      "metadata": {
        "id": "6e7aa117"
      },
      "source": [
        "# Creating a class without a constructor"
      ]
    },
    {
      "cell_type": "code",
      "execution_count": null,
      "id": "0abed222",
      "metadata": {
        "id": "0abed222"
      },
      "outputs": [],
      "source": [
        "class Movie:\n",
        "\n",
        "    def __init__(self, name,hero,rating):\n",
        "        self.name=name\n",
        "        self.hero=hero\n",
        "        self.rating=rating\n",
        "\n",
        "    def info(self):\n",
        "        print(f'The name of the movie is {self.name}')\n",
        "        print(f'The hero of the movie is {self.hero}')\n",
        "        print(f'The rating of the movie is {self.rating}')"
      ]
    },
    {
      "cell_type": "code",
      "execution_count": null,
      "id": "36537850",
      "metadata": {
        "id": "36537850"
      },
      "outputs": [],
      "source": [
        "m1=Movie('Fury','Brad Pitt',7.5)"
      ]
    },
    {
      "cell_type": "code",
      "execution_count": null,
      "id": "f4ee8d37",
      "metadata": {
        "id": "f4ee8d37",
        "outputId": "9df56176-5752-4fe2-dec6-1a8c4cfceebb"
      },
      "outputs": [
        {
          "name": "stdout",
          "output_type": "stream",
          "text": [
            "The name of the movie is Fury\n",
            "The hero of the movie is Brad Pitt\n",
            "The rating of the movie is 7.5\n"
          ]
        }
      ],
      "source": [
        "m1.info()"
      ]
    },
    {
      "cell_type": "code",
      "execution_count": null,
      "id": "540150e2",
      "metadata": {
        "id": "540150e2"
      },
      "outputs": [],
      "source": [
        "class Movie:\n",
        "\n",
        "    def dc(self, name,hero,rating):\n",
        "        self.name=name\n",
        "        self.hero=hero\n",
        "        self.rating=rating\n",
        "\n",
        "    def info(self):\n",
        "        print(f'The name of the movie is {self.name}')\n",
        "        print(f'The hero of the movie is {self.hero}')\n",
        "        print(f'The rating of the movie is {self.rating}')"
      ]
    },
    {
      "cell_type": "code",
      "execution_count": null,
      "id": "9a174ed6",
      "metadata": {
        "id": "9a174ed6"
      },
      "outputs": [],
      "source": [
        "m1=Movie()"
      ]
    },
    {
      "cell_type": "code",
      "execution_count": null,
      "id": "c239bbc4",
      "metadata": {
        "id": "c239bbc4"
      },
      "outputs": [],
      "source": [
        "m1.dc(\"Schindler's List\",'Liam Neeson',9)"
      ]
    },
    {
      "cell_type": "code",
      "execution_count": null,
      "id": "a81570b6",
      "metadata": {
        "id": "a81570b6",
        "outputId": "31a199ba-8438-4151-fe8a-6a7b101ed0d0"
      },
      "outputs": [
        {
          "name": "stdout",
          "output_type": "stream",
          "text": [
            "The name of the movie is Schindler's List\n",
            "The hero of the movie is Liam Neeson\n",
            "The rating of the movie is 9\n"
          ]
        }
      ],
      "source": [
        "m1.info()"
      ]
    },
    {
      "cell_type": "code",
      "execution_count": null,
      "id": "ff5b7511",
      "metadata": {
        "id": "ff5b7511"
      },
      "outputs": [],
      "source": []
    }
  ],
  "metadata": {
    "kernelspec": {
      "display_name": "Python 3 (ipykernel)",
      "language": "python",
      "name": "python3"
    },
    "language_info": {
      "codemirror_mode": {
        "name": "ipython",
        "version": 3
      },
      "file_extension": ".py",
      "mimetype": "text/x-python",
      "name": "python",
      "nbconvert_exporter": "python",
      "pygments_lexer": "ipython3",
      "version": "3.11.5"
    },
    "colab": {
      "provenance": []
    }
  },
  "nbformat": 4,
  "nbformat_minor": 5
}