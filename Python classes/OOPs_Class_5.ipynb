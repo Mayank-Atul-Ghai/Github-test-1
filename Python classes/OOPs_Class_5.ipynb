{
 "cells": [
  {
   "cell_type": "markdown",
   "id": "c7b921be-aa6a-48b7-84cc-3ece7a7d09e0",
   "metadata": {},
   "source": [
    "# Nested class"
   ]
  },
  {
   "cell_type": "code",
   "execution_count": 1,
   "id": "7c3c4520-69da-4b34-8ce8-1afa92d0ebd6",
   "metadata": {},
   "outputs": [],
   "source": [
    "# - A class within another class is known as nested class."
   ]
  },
  {
   "cell_type": "code",
   "execution_count": 2,
   "id": "f9cdd226-c682-48e7-97ca-e41e7d8effd6",
   "metadata": {},
   "outputs": [],
   "source": [
    "class Outer:\n",
    "    class Inner:\n",
    "        pass"
   ]
  },
  {
   "cell_type": "code",
   "execution_count": 3,
   "id": "72366a10-fb09-4c7d-96b1-6e213d99db59",
   "metadata": {},
   "outputs": [],
   "source": [
    "# If an object is not possible without some other object then in that case we use nested class."
   ]
  },
  {
   "cell_type": "code",
   "execution_count": 4,
   "id": "e4503e66-a712-40e4-b97e-a19fb5a9791a",
   "metadata": {},
   "outputs": [],
   "source": [
    "class University:\n",
    "    class Courses:\n",
    "        pass"
   ]
  },
  {
   "cell_type": "code",
   "execution_count": 5,
   "id": "4aa7efb6-9491-4ec9-b19a-ca119cc6b66a",
   "metadata": {},
   "outputs": [],
   "source": [
    "class Company:\n",
    "    class Department:\n",
    "        pass"
   ]
  },
  {
   "cell_type": "code",
   "execution_count": 6,
   "id": "c28f5902-5081-43aa-9c82-71ed3d598dbb",
   "metadata": {},
   "outputs": [],
   "source": [
    "class Company:\n",
    "    class Department:\n",
    "        class Employee:\n",
    "            pass"
   ]
  },
  {
   "cell_type": "code",
   "execution_count": 7,
   "id": "d6e21dc4-fbe0-438c-880d-2791ef954d22",
   "metadata": {},
   "outputs": [],
   "source": [
    "class Company:\n",
    "    pass"
   ]
  },
  {
   "cell_type": "code",
   "execution_count": 8,
   "id": "3d475cc9-dbec-4b3f-bf99-00abe4493929",
   "metadata": {},
   "outputs": [],
   "source": [
    "class Department:\n",
    "    pass"
   ]
  },
  {
   "cell_type": "code",
   "execution_count": 9,
   "id": "c6bc5d1a-606d-4b18-ab1d-58a78a6b797f",
   "metadata": {},
   "outputs": [],
   "source": [
    "# Without outer class object the inner class object is not possible"
   ]
  },
  {
   "cell_type": "code",
   "execution_count": 10,
   "id": "d87fdb69-6f54-4f4b-9c48-ba6d2199dee3",
   "metadata": {},
   "outputs": [],
   "source": [
    "class Outer:\n",
    "    def __init__(self):\n",
    "        print('Outer class object created.')\n",
    "\n",
    "    class Inner:\n",
    "        def __init__(self):\n",
    "            print('Inner class object is created.')\n",
    "\n",
    "        def m1(self):\n",
    "            print('I am a method inside the inner class')"
   ]
  },
  {
   "cell_type": "code",
   "execution_count": 11,
   "id": "1cbe526b-4136-4c84-b89c-fa4d57ec9cad",
   "metadata": {},
   "outputs": [
    {
     "ename": "NameError",
     "evalue": "name 'Inner' is not defined",
     "output_type": "error",
     "traceback": [
      "\u001b[1;31m---------------------------------------------------------------------------\u001b[0m",
      "\u001b[1;31mNameError\u001b[0m                                 Traceback (most recent call last)",
      "Cell \u001b[1;32mIn[11], line 1\u001b[0m\n\u001b[1;32m----> 1\u001b[0m Inner()\n",
      "\u001b[1;31mNameError\u001b[0m: name 'Inner' is not defined"
     ]
    }
   ],
   "source": [
    "Inner()"
   ]
  },
  {
   "cell_type": "code",
   "execution_count": 12,
   "id": "2a176526-65af-4af6-a5b5-fbcbb60a6180",
   "metadata": {},
   "outputs": [
    {
     "ename": "NameError",
     "evalue": "name 'Inner' is not defined",
     "output_type": "error",
     "traceback": [
      "\u001b[1;31m---------------------------------------------------------------------------\u001b[0m",
      "\u001b[1;31mNameError\u001b[0m                                 Traceback (most recent call last)",
      "Cell \u001b[1;32mIn[12], line 1\u001b[0m\n\u001b[1;32m----> 1\u001b[0m Inner\u001b[38;5;241m.\u001b[39mm1()\n",
      "\u001b[1;31mNameError\u001b[0m: name 'Inner' is not defined"
     ]
    }
   ],
   "source": [
    "Inner.m1()"
   ]
  },
  {
   "cell_type": "code",
   "execution_count": 13,
   "id": "40bc9d66-d06b-4216-bc47-89a1d1d6bed0",
   "metadata": {},
   "outputs": [],
   "source": [
    "# Creating an object of the outer class"
   ]
  },
  {
   "cell_type": "code",
   "execution_count": 15,
   "id": "18f2c91f-96b7-4f10-8b66-f26c149b7628",
   "metadata": {},
   "outputs": [
    {
     "name": "stdout",
     "output_type": "stream",
     "text": [
      "Outer class object created.\n"
     ]
    }
   ],
   "source": [
    "o=Outer()"
   ]
  },
  {
   "cell_type": "code",
   "execution_count": 19,
   "id": "0f04fb3c-1a3f-4e90-a333-325c4aef0f29",
   "metadata": {},
   "outputs": [],
   "source": [
    "# Creating the inner class object"
   ]
  },
  {
   "cell_type": "code",
   "execution_count": 17,
   "id": "a00587c7-3339-4a75-ab6d-06c24b930ca0",
   "metadata": {},
   "outputs": [
    {
     "name": "stdout",
     "output_type": "stream",
     "text": [
      "Inner class object is created.\n"
     ]
    }
   ],
   "source": [
    "i=o.Inner()"
   ]
  },
  {
   "cell_type": "code",
   "execution_count": 20,
   "id": "8e19c9f0-9ca8-4d0a-a335-28b0eaa5b4ff",
   "metadata": {},
   "outputs": [
    {
     "name": "stdout",
     "output_type": "stream",
     "text": [
      "I am a method inside the inner class\n"
     ]
    }
   ],
   "source": [
    "i.m1() # instance method"
   ]
  },
  {
   "cell_type": "code",
   "execution_count": 22,
   "id": "631da698-186f-457d-ab79-de34d12b6596",
   "metadata": {},
   "outputs": [
    {
     "name": "stdout",
     "output_type": "stream",
     "text": [
      "I am a method inside the inner class\n"
     ]
    }
   ],
   "source": [
    "Outer.Inner.m1(5)  # static method"
   ]
  },
  {
   "cell_type": "code",
   "execution_count": 23,
   "id": "4548ffa4-b16f-47b0-87c6-19ef96704b0d",
   "metadata": {},
   "outputs": [],
   "source": [
    "class Outer:\n",
    "    def __init__(self):\n",
    "        print('Outer class object is created')\n",
    "\n",
    "    class Inner:\n",
    "        def __init__(self):\n",
    "            print('Inner class object is created')\n",
    "\n",
    "        class Inner_Inner:\n",
    "            def __init__(self):\n",
    "                print('Inner Inner class object is created')\n",
    "\n",
    "            def method(self):\n",
    "                print('Inner most method')"
   ]
  },
  {
   "cell_type": "code",
   "execution_count": 24,
   "id": "238d0212-a46d-42f4-9792-910d24982842",
   "metadata": {},
   "outputs": [
    {
     "name": "stdout",
     "output_type": "stream",
     "text": [
      "Outer class object is created\n",
      "Inner class object is created\n",
      "Inner Inner class object is created\n"
     ]
    }
   ],
   "source": [
    "o=Outer()\n",
    "i=o.Inner()\n",
    "j=i.Inner_Inner()"
   ]
  },
  {
   "cell_type": "code",
   "execution_count": 25,
   "id": "c58c5fe1-b2d5-44f4-8645-a739e4a3c03e",
   "metadata": {},
   "outputs": [
    {
     "name": "stdout",
     "output_type": "stream",
     "text": [
      "Inner most method\n"
     ]
    }
   ],
   "source": [
    "j.method()"
   ]
  },
  {
   "cell_type": "code",
   "execution_count": 26,
   "id": "08452406-25d1-48cc-a195-34a36e1e2eeb",
   "metadata": {},
   "outputs": [
    {
     "name": "stdout",
     "output_type": "stream",
     "text": [
      "Outer class object is created\n",
      "Inner class object is created\n",
      "Inner Inner class object is created\n",
      "Inner most method\n"
     ]
    }
   ],
   "source": [
    "Outer().Inner().Inner_Inner().method()"
   ]
  },
  {
   "cell_type": "code",
   "execution_count": 27,
   "id": "6f480f11-6ee9-4ed7-9626-a6190027a3d2",
   "metadata": {},
   "outputs": [
    {
     "name": "stdout",
     "output_type": "stream",
     "text": [
      "Inner most method\n"
     ]
    }
   ],
   "source": [
    "Outer.Inner.Inner_Inner.method(5)"
   ]
  },
  {
   "cell_type": "code",
   "execution_count": null,
   "id": "ee2a2ce2-ed10-4222-aa85-2583e4a2152a",
   "metadata": {},
   "outputs": [],
   "source": []
  },
  {
   "cell_type": "code",
   "execution_count": 32,
   "id": "c7a5a287-c25a-448a-acd7-b21c24f1019f",
   "metadata": {},
   "outputs": [],
   "source": [
    "class Human:\n",
    "    def __init__(self):\n",
    "        self.name='Arnab'\n",
    "        self.head=self.Head()\n",
    "        self.brain=self.head.Brain()\n",
    "    \n",
    "    def display(self):\n",
    "        print(f'I am {self.name}')\n",
    "        self.head.talk()\n",
    "        self.brain.think()\n",
    "\n",
    "    class Head:\n",
    "        def talk(self):\n",
    "            print('I am talking')\n",
    "\n",
    "        class Brain:\n",
    "            def think(self):\n",
    "                print('I am thinking')"
   ]
  },
  {
   "cell_type": "code",
   "execution_count": null,
   "id": "d9c7396d-7423-482d-a814-20407a58d122",
   "metadata": {},
   "outputs": [],
   "source": []
  },
  {
   "cell_type": "code",
   "execution_count": 33,
   "id": "c09d2ce8-83c6-4d46-ad09-b08c3fffc552",
   "metadata": {},
   "outputs": [],
   "source": [
    "h=Human()"
   ]
  },
  {
   "cell_type": "code",
   "execution_count": 34,
   "id": "6a472c34-452d-4ca0-8a90-14eb1b6650c4",
   "metadata": {},
   "outputs": [
    {
     "name": "stdout",
     "output_type": "stream",
     "text": [
      "I am Arnab\n",
      "I am talking\n",
      "I am thinking\n"
     ]
    }
   ],
   "source": [
    "h.display()"
   ]
  },
  {
   "cell_type": "code",
   "execution_count": 28,
   "id": "b5f2f8d7-f63b-419e-b994-66bdef9da78e",
   "metadata": {},
   "outputs": [],
   "source": [
    "# Human().Head().talk()\n",
    "# Human().Brain().Think()"
   ]
  },
  {
   "cell_type": "code",
   "execution_count": null,
   "id": "c40a4104-ce7f-4d08-b55c-2249aa2a5d42",
   "metadata": {},
   "outputs": [],
   "source": []
  },
  {
   "cell_type": "code",
   "execution_count": 69,
   "id": "e0673396-9cf9-4c68-ade1-32cfc6c2f1a3",
   "metadata": {},
   "outputs": [],
   "source": [
    "class Person:\n",
    "    def __init__(self,name,dd,mm,yyyy):\n",
    "        self.name=name\n",
    "        self.dob=self.Dob(dd,mm,yyyy)\n",
    "    \n",
    "    def display(self):\n",
    "        print(f'I am {self.name}')\n",
    "        print(f'My DOB is {self.dob.dd}/{self.dob.mm}/{self.dob.yyyy}')\n",
    "    \n",
    "    class Dob:\n",
    "        def __init__(self,dd,mm,yyyy):\n",
    "            self.dd=dd\n",
    "            self.mm=mm\n",
    "            self.yyyy=yyyy"
   ]
  },
  {
   "cell_type": "code",
   "execution_count": 70,
   "id": "9d835308-99f4-4635-a33b-747251c78633",
   "metadata": {},
   "outputs": [],
   "source": [
    "p=Person('Atharva',15,2,1995)"
   ]
  },
  {
   "cell_type": "code",
   "execution_count": 71,
   "id": "75f0bfc9-1709-4e31-a4c4-dd0df5658882",
   "metadata": {},
   "outputs": [
    {
     "name": "stdout",
     "output_type": "stream",
     "text": [
      "I am Atharva\n",
      "My DOB is 15/2/1995\n"
     ]
    }
   ],
   "source": [
    "p.display()"
   ]
  },
  {
   "cell_type": "code",
   "execution_count": null,
   "id": "ddb5111d-ad6d-4372-b54d-ccc16779ea6e",
   "metadata": {},
   "outputs": [],
   "source": []
  },
  {
   "cell_type": "markdown",
   "id": "7ea7f09b-d208-4cad-af29-ceac117f9f5b",
   "metadata": {},
   "source": [
    "# Nested Methods"
   ]
  },
  {
   "cell_type": "code",
   "execution_count": 84,
   "id": "2dd5b710-2a61-43bb-a8cf-343747041736",
   "metadata": {},
   "outputs": [],
   "source": [
    "# - A method within another method is known as nested method.\n",
    "# - Whenever we want some functionality to be repeated then we use nested function"
   ]
  },
  {
   "cell_type": "code",
   "execution_count": 82,
   "id": "3a7782fe-4c50-4316-b467-8cf2166903cb",
   "metadata": {},
   "outputs": [],
   "source": [
    "class Test:\n",
    "    def m1(self):\n",
    "        a=10\n",
    "        b=20\n",
    "        print('The addition is- ',a+b)\n",
    "        print('The subtraction is-',a-b)\n",
    "        print('The multiplication',a*b)\n",
    "        print('The division',a/b)\n",
    "        print('*'*25)\n",
    "        print()\n",
    "\n",
    "        a=100\n",
    "        b=200\n",
    "\n",
    "        print('The addition is- ',a+b)\n",
    "        print('The subtraction is-',a-b)\n",
    "        print('The multiplication',a*b)\n",
    "        print('The division',a/b)\n",
    "        print('*'*25)\n",
    "        print()\n",
    "\n",
    "        a=1000\n",
    "        b=2000\n",
    "\n",
    "        print('The addition is- ',a+b)\n",
    "        print('The subtraction is-',a-b)\n",
    "        print('The multiplication',a*b)\n",
    "        print('The division',a/b)"
   ]
  },
  {
   "cell_type": "code",
   "execution_count": 83,
   "id": "92930efc-c8f8-4394-8413-8debaafb31ef",
   "metadata": {},
   "outputs": [
    {
     "name": "stdout",
     "output_type": "stream",
     "text": [
      "The addition is-  30\n",
      "The subtraction is- -10\n",
      "The multiplication 200\n",
      "The division 0.5\n",
      "*************************\n",
      "\n",
      "The addition is-  300\n",
      "The subtraction is- -100\n",
      "The multiplication 20000\n",
      "The division 0.5\n",
      "*************************\n",
      "\n",
      "The addition is-  3000\n",
      "The subtraction is- -1000\n",
      "The multiplication 2000000\n",
      "The division 0.5\n"
     ]
    }
   ],
   "source": [
    "Test().m1()"
   ]
  },
  {
   "cell_type": "code",
   "execution_count": 85,
   "id": "f18932e3-eafa-4836-95c1-4073e3b9adc3",
   "metadata": {},
   "outputs": [],
   "source": [
    "class Test:\n",
    "    def m1(self):\n",
    "        def calc(a,b):\n",
    "            print('The addition is- ',a+b)\n",
    "            print('The subtraction is-',a-b)\n",
    "            print('The multiplication',a*b)\n",
    "            print('The division',a/b)\n",
    "            print('*'*25)\n",
    "            print()\n",
    "        calc(10,20)\n",
    "        calc(100,200)\n",
    "        calc(1000,2000)"
   ]
  },
  {
   "cell_type": "code",
   "execution_count": 87,
   "id": "ab2aeb1a-e705-464c-ae11-12db166aaf7c",
   "metadata": {},
   "outputs": [
    {
     "name": "stdout",
     "output_type": "stream",
     "text": [
      "The addition is-  30\n",
      "The subtraction is- -10\n",
      "The multiplication 200\n",
      "The division 0.5\n",
      "*************************\n",
      "\n",
      "The addition is-  300\n",
      "The subtraction is- -100\n",
      "The multiplication 20000\n",
      "The division 0.5\n",
      "*************************\n",
      "\n",
      "The addition is-  3000\n",
      "The subtraction is- -1000\n",
      "The multiplication 2000000\n",
      "The division 0.5\n",
      "*************************\n",
      "\n"
     ]
    }
   ],
   "source": [
    "Test().m1()"
   ]
  },
  {
   "cell_type": "code",
   "execution_count": 1,
   "id": "572db786-6bae-4044-9d0a-0ad1f57ae212",
   "metadata": {},
   "outputs": [],
   "source": [
    "names=['Kuldeep','Atharva','Pushpa','Arnab','Mouna','Ganashree','Pawan','Uday']\n",
    "codes=[101,102,103,104,105,106,107,108]"
   ]
  },
  {
   "cell_type": "code",
   "execution_count": 6,
   "id": "c9700187-d23a-44d6-b4b9-9e364396b122",
   "metadata": {},
   "outputs": [],
   "source": [
    "class Employee:\n",
    "    def details(self):\n",
    "        def emp(name,code):\n",
    "            print('Name-',name)\n",
    "            print('Code-',code)\n",
    "        for i,j in zip(names,codes):\n",
    "            emp(i,j)"
   ]
  },
  {
   "cell_type": "code",
   "execution_count": 7,
   "id": "c4770c73-f3a8-4fe6-bd97-bf194987ce2c",
   "metadata": {},
   "outputs": [
    {
     "name": "stdout",
     "output_type": "stream",
     "text": [
      "Name- Kuldeep\n",
      "Code- 101\n",
      "Name- Atharva\n",
      "Code- 102\n",
      "Name- Pushpa\n",
      "Code- 103\n",
      "Name- Arnab\n",
      "Code- 104\n",
      "Name- Mouna\n",
      "Code- 105\n",
      "Name- Ganashree\n",
      "Code- 106\n",
      "Name- Pawan\n",
      "Code- 107\n",
      "Name- Uday\n",
      "Code- 108\n"
     ]
    }
   ],
   "source": [
    "Employee().details()"
   ]
  },
  {
   "cell_type": "markdown",
   "id": "6ba6a3ce-7478-4caf-be12-698da12edbfb",
   "metadata": {},
   "source": [
    "# Garbage Collection"
   ]
  },
  {
   "cell_type": "code",
   "execution_count": 10,
   "id": "313ae636-6987-4037-9d83-b22d91816f59",
   "metadata": {},
   "outputs": [],
   "source": [
    "# When we create some objects they consume some memory.\n",
    "# Any object that is of no use should be removed from the memory.\n",
    "# Garbage collection is destroying or removing the unwanted objects."
   ]
  },
  {
   "cell_type": "code",
   "execution_count": null,
   "id": "77617643-e35c-4625-bf39-d20413f8a55a",
   "metadata": {},
   "outputs": [],
   "source": [
    "a=10"
   ]
  },
  {
   "cell_type": "code",
   "execution_count": 11,
   "id": "3542d867-8841-40a0-ad52-4b1b2c6d331b",
   "metadata": {},
   "outputs": [],
   "source": [
    "# Create an object- Programmar or developer is responsible to create an object.\n",
    "# Destroy an object- Garbage collector is responsible to destroy the objects."
   ]
  },
  {
   "cell_type": "code",
   "execution_count": 12,
   "id": "25ef0469-0283-402c-b12e-cf34af8a1ebd",
   "metadata": {},
   "outputs": [],
   "source": [
    "# The objects that does not have any reference variable then we say such objects are eligible for GC"
   ]
  },
  {
   "cell_type": "code",
   "execution_count": 14,
   "id": "d0043a5d-b5ab-409c-9715-3cf97c88bf8e",
   "metadata": {},
   "outputs": [],
   "source": [
    "# In Python we can manage the garbage collection behaviour using the gc module."
   ]
  },
  {
   "cell_type": "code",
   "execution_count": 15,
   "id": "271ddb6d-afe0-42c5-b9a5-d2129694c2b4",
   "metadata": {},
   "outputs": [],
   "source": [
    "import gc"
   ]
  },
  {
   "cell_type": "code",
   "execution_count": 17,
   "id": "c36d8d9e-426e-4ffe-9c77-03c88fb44e66",
   "metadata": {},
   "outputs": [
    {
     "name": "stdout",
     "output_type": "stream",
     "text": [
      "True\n"
     ]
    }
   ],
   "source": [
    "print(gc.isenabled())"
   ]
  },
  {
   "cell_type": "code",
   "execution_count": 18,
   "id": "67ed7849-c8f9-4f43-ad74-15e434712057",
   "metadata": {},
   "outputs": [],
   "source": [
    "# By default gc is enabled."
   ]
  },
  {
   "cell_type": "code",
   "execution_count": 19,
   "id": "410e8391-0e60-42c4-95b4-15952f89ae32",
   "metadata": {},
   "outputs": [],
   "source": [
    "gc.disable()"
   ]
  },
  {
   "cell_type": "code",
   "execution_count": 20,
   "id": "4aefa977-c461-416d-9a15-c6926f1e9096",
   "metadata": {},
   "outputs": [
    {
     "name": "stdout",
     "output_type": "stream",
     "text": [
      "False\n"
     ]
    }
   ],
   "source": [
    "print(gc.isenabled())"
   ]
  },
  {
   "cell_type": "code",
   "execution_count": 21,
   "id": "38c1ce64-049e-46ec-b743-df986c229b5e",
   "metadata": {},
   "outputs": [],
   "source": [
    "class Test:\n",
    "    def __init__(self):\n",
    "        pass"
   ]
  },
  {
   "cell_type": "code",
   "execution_count": 24,
   "id": "44c984b4-c085-4e6d-ab29-22bcf5ba5d1e",
   "metadata": {},
   "outputs": [
    {
     "name": "stdout",
     "output_type": "stream",
     "text": [
      "2316182539856\n"
     ]
    }
   ],
   "source": [
    "t=Test()\n",
    "print(id(t))"
   ]
  },
  {
   "cell_type": "code",
   "execution_count": 25,
   "id": "1c9dd2ed-0246-4be4-8903-dbb8e6d98738",
   "metadata": {},
   "outputs": [],
   "source": [
    "t=None"
   ]
  },
  {
   "cell_type": "code",
   "execution_count": 26,
   "id": "fbe68ef3-7144-4662-9d9d-f82ddb5772d3",
   "metadata": {},
   "outputs": [
    {
     "name": "stdout",
     "output_type": "stream",
     "text": [
      "140716532534032\n"
     ]
    }
   ],
   "source": [
    "print(id(t))"
   ]
  },
  {
   "cell_type": "code",
   "execution_count": 27,
   "id": "ecf864ad-43ea-4755-b977-bd6ef4ae9c89",
   "metadata": {},
   "outputs": [],
   "source": [
    "# When an object is eligible for GC still it can't be deleted from the memory as it may have\n",
    "# - database connections\n",
    "# - network connections"
   ]
  },
  {
   "cell_type": "code",
   "execution_count": 28,
   "id": "77d0ad56-a7ec-4471-909e-b430da9a38bd",
   "metadata": {},
   "outputs": [],
   "source": [
    "# A garbage collector has to release these resources first.\n",
    "# This process is called cleaning up the resources"
   ]
  },
  {
   "cell_type": "code",
   "execution_count": 30,
   "id": "e76820fb-81c0-4891-bb02-d043c8475eba",
   "metadata": {},
   "outputs": [],
   "source": [
    "# Garbage collector will call a destructor\n",
    "# Destructor will perform the cleaning activities on the object.\n",
    "# Destructor will relase the resources from the object.\n",
    "# Now the garbage collector will destroy the object."
   ]
  },
  {
   "cell_type": "code",
   "execution_count": 31,
   "id": "27527768-7615-4096-a218-4bd97a85a33f",
   "metadata": {},
   "outputs": [],
   "source": [
    "# Who is calling Destructor?\n",
    "# GC- Garbage collector"
   ]
  },
  {
   "cell_type": "code",
   "execution_count": 32,
   "id": "e1d98b1a-cfe6-42a0-a047-830ad1045bc5",
   "metadata": {},
   "outputs": [],
   "source": [
    "# When GC calls the Destructor?\n",
    "# Just before destroying the object. (When an object is eligible to be collected)"
   ]
  },
  {
   "cell_type": "code",
   "execution_count": 33,
   "id": "a597473a-b4c6-4738-90fa-1858ff3711e6",
   "metadata": {},
   "outputs": [],
   "source": [
    "# When an object is eligible to be collected?\n",
    "# As soon as any object has zero reference then it is eligible to be collected. "
   ]
  },
  {
   "cell_type": "code",
   "execution_count": 34,
   "id": "98da1114-61de-498a-b376-08e4908aa92f",
   "metadata": {},
   "outputs": [],
   "source": [
    "# For which purpose GC is calling the destructor?\n",
    "# For cleaning up activities"
   ]
  },
  {
   "cell_type": "code",
   "execution_count": 35,
   "id": "1b5f417c-96ca-4788-9ad5-2db8791efd7f",
   "metadata": {},
   "outputs": [],
   "source": [
    "# Who destroys the object?\n",
    "# Garbage collector"
   ]
  },
  {
   "cell_type": "code",
   "execution_count": 36,
   "id": "ca830ae3-5d3e-4a76-9e22-77d0d326c3e7",
   "metadata": {},
   "outputs": [],
   "source": [
    "# Cleaning the resources- destructor\n",
    "# Destroying the object- GC"
   ]
  },
  {
   "cell_type": "markdown",
   "id": "93b9a2d6-58fa-434d-b916-00b1b984c110",
   "metadata": {},
   "source": [
    "# Life cycle of an object"
   ]
  },
  {
   "cell_type": "code",
   "execution_count": 42,
   "id": "e805f2e4-ce0a-44ba-ab48-1368c0632526",
   "metadata": {},
   "outputs": [],
   "source": [
    "# Create an object (Initialisation of an object)\n",
    "# Use the object\n",
    "# Destroy the object when it is useless"
   ]
  },
  {
   "cell_type": "code",
   "execution_count": 51,
   "id": "e23af9ea-f1fc-447d-9088-1dc976fd258f",
   "metadata": {},
   "outputs": [],
   "source": [
    "class Test:\n",
    "    def __init__(self): # Constructor\n",
    "        print('Intialisation of an object')\n",
    "\n",
    "    def __del__(self): # Destructor\n",
    "        print('Cleaning up activity is going on')"
   ]
  },
  {
   "cell_type": "code",
   "execution_count": 13,
   "id": "0d0fb388-1ba1-442b-a568-eb6b3d80f700",
   "metadata": {},
   "outputs": [],
   "source": [
    "import time"
   ]
  },
  {
   "cell_type": "code",
   "execution_count": 53,
   "id": "75b1f8a8-985d-4611-854e-53030ed20a94",
   "metadata": {},
   "outputs": [
    {
     "name": "stdout",
     "output_type": "stream",
     "text": [
      "Intialisation of an object\n",
      "Cleaning up activity is going on\n",
      "I am using the using the object as per my requirement\n",
      "End of the application\n"
     ]
    }
   ],
   "source": [
    "t=Test()\n",
    "print('I am using the using the object as per my requirement')\n",
    "time.sleep(5)\n",
    "print('End of the application')"
   ]
  },
  {
   "cell_type": "code",
   "execution_count": 55,
   "id": "f0f831c1-6c31-4543-8788-61dfd09c4c1e",
   "metadata": {},
   "outputs": [
    {
     "name": "stdout",
     "output_type": "stream",
     "text": [
      "Intialisation of an object\n",
      "Cleaning up activity is going on\n",
      "I am using t1 object\n",
      "Cleaning up activity is going on\n",
      "End of the application\n"
     ]
    }
   ],
   "source": [
    "t1=Test()\n",
    "print('I am using t1 object')\n",
    "del t1\n",
    "print('End of the application')"
   ]
  },
  {
   "cell_type": "markdown",
   "id": "49c6bfcf-19c9-4ab1-aa54-67a9af623296",
   "metadata": {},
   "source": [
    "# How to get the reference count"
   ]
  },
  {
   "cell_type": "code",
   "execution_count": 4,
   "id": "3b5e75c9-b812-4380-b340-2c353ce467ad",
   "metadata": {},
   "outputs": [],
   "source": [
    "import sys"
   ]
  },
  {
   "cell_type": "code",
   "execution_count": 1,
   "id": "ae5748f5-88aa-406d-b084-0391341bec41",
   "metadata": {},
   "outputs": [],
   "source": [
    "class Test:\n",
    "    def __init__(self): # Constructor\n",
    "        print('Intialisation of an object')\n",
    "\n",
    "    def __del__(self): # Destructor\n",
    "        print('Cleaning up activity is going on')"
   ]
  },
  {
   "cell_type": "code",
   "execution_count": 15,
   "id": "7dd475c9-abb4-4c7b-a540-ade9a49892bf",
   "metadata": {},
   "outputs": [
    {
     "name": "stdout",
     "output_type": "stream",
     "text": [
      "Intialisation of an object\n"
     ]
    }
   ],
   "source": [
    "t1=Test()"
   ]
  },
  {
   "cell_type": "code",
   "execution_count": 16,
   "id": "c567290e-e916-40bb-8d76-b83765bf2508",
   "metadata": {},
   "outputs": [
    {
     "name": "stdout",
     "output_type": "stream",
     "text": [
      "2\n"
     ]
    }
   ],
   "source": [
    "print(sys.getrefcount(t1))"
   ]
  },
  {
   "cell_type": "code",
   "execution_count": 17,
   "id": "ee7bc842-b813-4408-a81c-3eb89e324637",
   "metadata": {},
   "outputs": [
    {
     "name": "stdout",
     "output_type": "stream",
     "text": [
      "2578203412560\n"
     ]
    }
   ],
   "source": [
    "print(id(t1))"
   ]
  },
  {
   "cell_type": "code",
   "execution_count": 18,
   "id": "2068d1e3-acc4-49ea-a0c9-fff492bf8f16",
   "metadata": {},
   "outputs": [],
   "source": [
    "t2=t1"
   ]
  },
  {
   "cell_type": "code",
   "execution_count": 19,
   "id": "64e0db78-3da9-41a8-8a65-3374659f3692",
   "metadata": {},
   "outputs": [
    {
     "name": "stdout",
     "output_type": "stream",
     "text": [
      "3\n"
     ]
    }
   ],
   "source": [
    "print(sys.getrefcount(t1))"
   ]
  },
  {
   "cell_type": "code",
   "execution_count": 20,
   "id": "cf2b39a6-87c9-4775-af66-54fb55c1dfed",
   "metadata": {},
   "outputs": [
    {
     "name": "stdout",
     "output_type": "stream",
     "text": [
      "Cleaning up activity is going on\n"
     ]
    }
   ],
   "source": [
    "t3=t1"
   ]
  },
  {
   "cell_type": "code",
   "execution_count": 21,
   "id": "64af2199-d61a-425f-b1bb-c273e89d65e5",
   "metadata": {},
   "outputs": [
    {
     "name": "stdout",
     "output_type": "stream",
     "text": [
      "4\n"
     ]
    }
   ],
   "source": [
    "print(sys.getrefcount(t1))"
   ]
  },
  {
   "cell_type": "code",
   "execution_count": 22,
   "id": "b1f0ff31-8d15-45f9-8d9c-c0b8e9512f8b",
   "metadata": {},
   "outputs": [
    {
     "name": "stdout",
     "output_type": "stream",
     "text": [
      "Deleting t1\n",
      "End of the application\n"
     ]
    }
   ],
   "source": [
    "del t1\n",
    "print('Deleting t1')\n",
    "time.sleep(5)\n",
    "print('End of the application')"
   ]
  },
  {
   "cell_type": "code",
   "execution_count": 23,
   "id": "0ec21fc5-6a05-4f9d-b982-bf7f7ed8980f",
   "metadata": {},
   "outputs": [
    {
     "name": "stdout",
     "output_type": "stream",
     "text": [
      "Deleting t1\n",
      "End of the application\n"
     ]
    }
   ],
   "source": [
    "del t2\n",
    "print('Deleting t1')\n",
    "time.sleep(5)\n",
    "print('End of the application')"
   ]
  },
  {
   "cell_type": "code",
   "execution_count": 24,
   "id": "61023d17-7eac-4297-9067-1bdbcebaaaac",
   "metadata": {},
   "outputs": [
    {
     "name": "stdout",
     "output_type": "stream",
     "text": [
      "Cleaning up activity is going on\n",
      "Deleting t1\n",
      "End of the application\n"
     ]
    }
   ],
   "source": [
    "del t3\n",
    "print('Deleting t1')\n",
    "time.sleep(5)\n",
    "print('End of the application')"
   ]
  },
  {
   "cell_type": "code",
   "execution_count": 26,
   "id": "d8a2917e-1f4e-41b9-b23a-cf483fceac4b",
   "metadata": {},
   "outputs": [],
   "source": [
    "# print(sys.getrefcount(t1))"
   ]
  },
  {
   "cell_type": "code",
   "execution_count": null,
   "id": "b2d26bb5-0970-4fdd-a45c-3fed17b5e1a8",
   "metadata": {},
   "outputs": [],
   "source": []
  }
 ],
 "metadata": {
  "kernelspec": {
   "display_name": "Python 3 (ipykernel)",
   "language": "python",
   "name": "python3"
  },
  "language_info": {
   "codemirror_mode": {
    "name": "ipython",
    "version": 3
   },
   "file_extension": ".py",
   "mimetype": "text/x-python",
   "name": "python",
   "nbconvert_exporter": "python",
   "pygments_lexer": "ipython3",
   "version": "3.11.7"
  }
 },
 "nbformat": 4,
 "nbformat_minor": 5
}
