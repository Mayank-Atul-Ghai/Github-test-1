{
  "cells": [
    {
      "cell_type": "markdown",
      "id": "0890de74-2152-4ae0-ae50-2d50b4309ec5",
      "metadata": {
        "id": "0890de74-2152-4ae0-ae50-2d50b4309ec5"
      },
      "source": [
        "# Types of methods"
      ]
    },
    {
      "cell_type": "code",
      "execution_count": null,
      "id": "ef6602ab-24a5-454d-b498-2e310bb9aef4",
      "metadata": {
        "id": "ef6602ab-24a5-454d-b498-2e310bb9aef4"
      },
      "outputs": [],
      "source": [
        "# - 1- Instance method\n",
        "# - 2- Class method\n",
        "# - 3- Static method"
      ]
    },
    {
      "cell_type": "markdown",
      "id": "1ff8c22a-b6e7-4b22-88c5-abceb908074c",
      "metadata": {
        "id": "1ff8c22a-b6e7-4b22-88c5-abceb908074c"
      },
      "source": [
        "# Instance Method"
      ]
    },
    {
      "cell_type": "code",
      "execution_count": null,
      "id": "fe15aa73-3715-49ee-95d0-887f2c5056b7",
      "metadata": {
        "id": "fe15aa73-3715-49ee-95d0-887f2c5056b7"
      },
      "outputs": [],
      "source": [
        "# - If any method uses any instance variable then it is an instance method."
      ]
    },
    {
      "cell_type": "markdown",
      "id": "01090604-0f8f-4016-9763-6fc440165b36",
      "metadata": {
        "id": "01090604-0f8f-4016-9763-6fc440165b36"
      },
      "source": [
        "# Class method"
      ]
    },
    {
      "cell_type": "code",
      "execution_count": null,
      "id": "ed06d890-4023-48a4-9ee9-2e1f15e7f9c3",
      "metadata": {
        "id": "ed06d890-4023-48a4-9ee9-2e1f15e7f9c3"
      },
      "outputs": [],
      "source": [
        "# - If we use only the static variable (no instance variable)\n",
        "# - In that case we use the class method."
      ]
    },
    {
      "cell_type": "code",
      "execution_count": null,
      "id": "4bc91690-6cd2-404d-b7be-4f93108c37b6",
      "metadata": {
        "id": "4bc91690-6cd2-404d-b7be-4f93108c37b6"
      },
      "outputs": [],
      "source": [
        "@classmethod\n",
        "def method_name(cls):\n",
        "    code\n",
        "    code"
      ]
    },
    {
      "cell_type": "markdown",
      "id": "dfe9751d-f9ee-4491-90e5-1c12a0c5ebc5",
      "metadata": {
        "id": "dfe9751d-f9ee-4491-90e5-1c12a0c5ebc5"
      },
      "source": [
        "# Static method"
      ]
    },
    {
      "cell_type": "code",
      "execution_count": null,
      "id": "3177b7f0-d654-4a69-904e-d02cb69b6e08",
      "metadata": {
        "id": "3177b7f0-d654-4a69-904e-d02cb69b6e08"
      },
      "outputs": [],
      "source": [
        "# - If any method is using neither instance variables nor static variables\n",
        "# - Then such a method is known as static method."
      ]
    },
    {
      "cell_type": "markdown",
      "id": "a80ad513-def4-4a34-96bf-47ea4cbe46f7",
      "metadata": {
        "id": "a80ad513-def4-4a34-96bf-47ea4cbe46f7"
      },
      "source": [
        "# How to declare a static method"
      ]
    },
    {
      "cell_type": "code",
      "execution_count": null,
      "id": "15d35c14-e73e-47a7-b4ea-1b93ce72f6b3",
      "metadata": {
        "id": "15d35c14-e73e-47a7-b4ea-1b93ce72f6b3"
      },
      "outputs": [],
      "source": [
        "@staticmethod\n",
        "def method_name():\n",
        "    code\n",
        "    code"
      ]
    },
    {
      "cell_type": "markdown",
      "id": "bb10db61-d0ff-43bc-acd1-eac200bc61c7",
      "metadata": {
        "id": "bb10db61-d0ff-43bc-acd1-eac200bc61c7"
      },
      "source": [
        "# Calling a static method"
      ]
    },
    {
      "cell_type": "code",
      "execution_count": null,
      "id": "58404500-9380-427c-bb37-b30f77d8066c",
      "metadata": {
        "id": "58404500-9380-427c-bb37-b30f77d8066c"
      },
      "outputs": [],
      "source": [
        "# We can call a static method by using class name or the reference variable."
      ]
    },
    {
      "cell_type": "code",
      "execution_count": null,
      "id": "ba5d21f5-fcd1-4c6e-9873-04906c229ec8",
      "metadata": {
        "id": "ba5d21f5-fcd1-4c6e-9873-04906c229ec8"
      },
      "outputs": [],
      "source": [
        "class Test:\n",
        "    @staticmethod\n",
        "    def m1():\n",
        "        print('Some method')"
      ]
    },
    {
      "cell_type": "code",
      "execution_count": null,
      "id": "c9c06cbf-3fbe-4af7-b295-ab860e9b6579",
      "metadata": {
        "id": "c9c06cbf-3fbe-4af7-b295-ab860e9b6579",
        "outputId": "be1d4593-9de8-41c3-b242-464949421aa4"
      },
      "outputs": [
        {
          "name": "stdout",
          "output_type": "stream",
          "text": [
            "Some method\n"
          ]
        }
      ],
      "source": [
        "Test.m1()"
      ]
    },
    {
      "cell_type": "code",
      "execution_count": null,
      "id": "dea415fb-30d1-401f-84fc-96cdabf74419",
      "metadata": {
        "id": "dea415fb-30d1-401f-84fc-96cdabf74419"
      },
      "outputs": [],
      "source": [
        "t=Test()"
      ]
    },
    {
      "cell_type": "code",
      "execution_count": null,
      "id": "f9ff62a8-954d-463a-a217-98fe56461edb",
      "metadata": {
        "id": "f9ff62a8-954d-463a-a217-98fe56461edb",
        "outputId": "3af17af3-4d2e-4205-8957-21089d3af7d2"
      },
      "outputs": [
        {
          "name": "stdout",
          "output_type": "stream",
          "text": [
            "Some method\n"
          ]
        }
      ],
      "source": [
        "t.m1()"
      ]
    },
    {
      "cell_type": "code",
      "execution_count": null,
      "id": "ea146c7d-0a23-4c8d-91ec-945bc1506a52",
      "metadata": {
        "id": "ea146c7d-0a23-4c8d-91ec-945bc1506a52"
      },
      "outputs": [],
      "source": [
        "class Test:\n",
        "    @staticmethod\n",
        "    def m1(a):\n",
        "        print(a)"
      ]
    },
    {
      "cell_type": "code",
      "execution_count": null,
      "id": "92f332cd-7b91-4522-a096-c6f5b3b4601c",
      "metadata": {
        "id": "92f332cd-7b91-4522-a096-c6f5b3b4601c",
        "outputId": "c6afb660-84d7-491e-fdc9-275a22738075"
      },
      "outputs": [
        {
          "name": "stdout",
          "output_type": "stream",
          "text": [
            "10\n"
          ]
        }
      ],
      "source": [
        "Test.m1(10)"
      ]
    },
    {
      "cell_type": "code",
      "execution_count": null,
      "id": "9bc2b65e-08d8-45f8-a9f1-3ef464fea5bf",
      "metadata": {
        "id": "9bc2b65e-08d8-45f8-a9f1-3ef464fea5bf"
      },
      "outputs": [],
      "source": [
        "t=Test()"
      ]
    },
    {
      "cell_type": "code",
      "execution_count": null,
      "id": "0d891853-2aa7-4e0e-b1d2-f11eb20e4522",
      "metadata": {
        "id": "0d891853-2aa7-4e0e-b1d2-f11eb20e4522",
        "outputId": "61f87392-e5e5-4269-89e5-c40b92efae79"
      },
      "outputs": [
        {
          "name": "stdout",
          "output_type": "stream",
          "text": [
            "10\n"
          ]
        }
      ],
      "source": [
        "t.m1(10)"
      ]
    },
    {
      "cell_type": "code",
      "execution_count": null,
      "id": "6ee2e91c-2cdb-4811-b34c-9cf7f1c163f6",
      "metadata": {
        "id": "6ee2e91c-2cdb-4811-b34c-9cf7f1c163f6"
      },
      "outputs": [],
      "source": [
        "class Test:\n",
        "    def m1(a): # instance / static\n",
        "        print(a)"
      ]
    },
    {
      "cell_type": "code",
      "execution_count": null,
      "id": "dbc7a9f9-5e77-4a4a-bb5b-631454f73699",
      "metadata": {
        "id": "dbc7a9f9-5e77-4a4a-bb5b-631454f73699",
        "outputId": "2e01fab0-9948-405e-91fb-a702fb5eac49"
      },
      "outputs": [
        {
          "name": "stdout",
          "output_type": "stream",
          "text": [
            "5\n"
          ]
        }
      ],
      "source": [
        "Test.m1(5) # static method"
      ]
    },
    {
      "cell_type": "code",
      "execution_count": null,
      "id": "e060b990-919c-4342-859b-9958e5c6d9c9",
      "metadata": {
        "id": "e060b990-919c-4342-859b-9958e5c6d9c9"
      },
      "outputs": [],
      "source": [
        "t=Test()"
      ]
    },
    {
      "cell_type": "code",
      "execution_count": null,
      "id": "5b795f4e-c6d5-45fe-8133-f5c0f55ac0c3",
      "metadata": {
        "id": "5b795f4e-c6d5-45fe-8133-f5c0f55ac0c3",
        "outputId": "44eb76fb-bc64-48ae-8e5c-561974f1b3ba"
      },
      "outputs": [
        {
          "name": "stdout",
          "output_type": "stream",
          "text": [
            "<__main__.Test object at 0x000002C926096CD0>\n"
          ]
        }
      ],
      "source": [
        "t.m1()"
      ]
    },
    {
      "cell_type": "code",
      "execution_count": null,
      "id": "20c500ce-65e9-4fb3-a599-afef900826e9",
      "metadata": {
        "id": "20c500ce-65e9-4fb3-a599-afef900826e9"
      },
      "outputs": [],
      "source": [
        "# - When we use @staticmethod decorator then-\n",
        "# - If we call using the class name or by using the reference variable.\n",
        "# - In both the cases it will be the static method"
      ]
    },
    {
      "cell_type": "code",
      "execution_count": null,
      "id": "af2f4276-8e67-4d11-9b0d-2851f2e731d0",
      "metadata": {
        "id": "af2f4276-8e67-4d11-9b0d-2851f2e731d0"
      },
      "outputs": [],
      "source": [
        "# - When we don't use @staticmethod decorator then\n",
        "# - It will be a static method if we call it using class name\n",
        "# - It will be the instance method if we call it using the reference variable."
      ]
    },
    {
      "cell_type": "code",
      "execution_count": null,
      "id": "48fd3750-5215-4cfb-9679-c8ec6038dc79",
      "metadata": {
        "id": "48fd3750-5215-4cfb-9679-c8ec6038dc79"
      },
      "outputs": [],
      "source": [
        "class Test:\n",
        "    def dummy(self):\n",
        "        print('Some method')\n",
        "        print(id(self))"
      ]
    },
    {
      "cell_type": "code",
      "execution_count": null,
      "id": "2f41c96c-d63e-49fe-a4bb-8f5536946118",
      "metadata": {
        "id": "2f41c96c-d63e-49fe-a4bb-8f5536946118",
        "outputId": "ce3c8f06-5af5-4b48-8d2f-e57537566352"
      },
      "outputs": [
        {
          "name": "stdout",
          "output_type": "stream",
          "text": [
            "Some method\n"
          ]
        }
      ],
      "source": [
        "Test.dummy(5)"
      ]
    },
    {
      "cell_type": "code",
      "execution_count": null,
      "id": "9e679b80-6d53-4349-9894-4d139f47ab11",
      "metadata": {
        "id": "9e679b80-6d53-4349-9894-4d139f47ab11"
      },
      "outputs": [],
      "source": [
        "t=Test()"
      ]
    },
    {
      "cell_type": "code",
      "execution_count": null,
      "id": "30098e62-1ec9-4914-b348-b93f22f55d0a",
      "metadata": {
        "id": "30098e62-1ec9-4914-b348-b93f22f55d0a",
        "outputId": "7d38324e-d92d-4eff-b64a-e670d50489f8"
      },
      "outputs": [
        {
          "name": "stdout",
          "output_type": "stream",
          "text": [
            "Some method\n",
            "3062932905104\n",
            "3062932905104\n"
          ]
        }
      ],
      "source": [
        "t.dummy()\n",
        "print(id(t))"
      ]
    },
    {
      "cell_type": "markdown",
      "id": "1c547e10-c0c7-4731-b9c0-93023f642639",
      "metadata": {
        "id": "1c547e10-c0c7-4731-b9c0-93023f642639"
      },
      "source": [
        "# Defining our own constructor"
      ]
    },
    {
      "cell_type": "code",
      "execution_count": null,
      "id": "354dfd1f-6ac4-4ab1-86ea-5540558c0462",
      "metadata": {
        "id": "354dfd1f-6ac4-4ab1-86ea-5540558c0462"
      },
      "outputs": [],
      "source": [
        "class Test:\n",
        "    def my_constructor(self):\n",
        "        self.a=22\n",
        "        self.b=44\n",
        "\n",
        "    def show(self):\n",
        "        print(self.a)\n",
        "        print(self.b)"
      ]
    },
    {
      "cell_type": "code",
      "execution_count": null,
      "id": "8ec47ee3-cbb8-4f1b-86d6-c32a60e8f72a",
      "metadata": {
        "id": "8ec47ee3-cbb8-4f1b-86d6-c32a60e8f72a"
      },
      "outputs": [],
      "source": [
        "t=Test()"
      ]
    },
    {
      "cell_type": "code",
      "execution_count": null,
      "id": "619fca48-78f0-48c5-8e9e-94179600de74",
      "metadata": {
        "id": "619fca48-78f0-48c5-8e9e-94179600de74",
        "outputId": "ed027874-14b7-4706-ded3-90dca34cf2fb"
      },
      "outputs": [
        {
          "data": {
            "text/plain": [
              "{}"
            ]
          },
          "execution_count": 55,
          "metadata": {},
          "output_type": "execute_result"
        }
      ],
      "source": [
        "t.__dict__"
      ]
    },
    {
      "cell_type": "code",
      "execution_count": null,
      "id": "5891987d-114d-47ab-9b87-8f1a0bc00b0c",
      "metadata": {
        "id": "5891987d-114d-47ab-9b87-8f1a0bc00b0c"
      },
      "outputs": [],
      "source": [
        "t.my_constructor()"
      ]
    },
    {
      "cell_type": "code",
      "execution_count": null,
      "id": "df1b5586-04d0-4b7f-b2cc-d8bcdfc8c704",
      "metadata": {
        "id": "df1b5586-04d0-4b7f-b2cc-d8bcdfc8c704",
        "outputId": "d4b3f3fd-4b8d-46f3-d4ea-2d0d24ae1d83"
      },
      "outputs": [
        {
          "data": {
            "text/plain": [
              "{'a': 22, 'b': 44}"
            ]
          },
          "execution_count": 57,
          "metadata": {},
          "output_type": "execute_result"
        }
      ],
      "source": [
        "t.__dict__"
      ]
    },
    {
      "cell_type": "code",
      "execution_count": null,
      "id": "71b323d1-1ee8-4a52-a53b-dc6614aca97d",
      "metadata": {
        "id": "71b323d1-1ee8-4a52-a53b-dc6614aca97d",
        "outputId": "758b917b-3301-4a81-b0d9-03fd317d6705"
      },
      "outputs": [
        {
          "name": "stdout",
          "output_type": "stream",
          "text": [
            "22\n",
            "44\n"
          ]
        }
      ],
      "source": [
        "t.show()"
      ]
    },
    {
      "cell_type": "code",
      "execution_count": null,
      "id": "f28e731d-7dea-4f25-bf5f-9e99faf3fbde",
      "metadata": {
        "id": "f28e731d-7dea-4f25-bf5f-9e99faf3fbde"
      },
      "outputs": [],
      "source": [
        "class Test:\n",
        "    def my_constructor(self):\n",
        "        a=5\n",
        "        b=6\n",
        "        print(a)\n",
        "        print(b)\n",
        "\n",
        "    def show(self):\n",
        "        print('Some method')"
      ]
    },
    {
      "cell_type": "code",
      "execution_count": null,
      "id": "da373bff-53cf-4575-8b0b-4f7a5cee968b",
      "metadata": {
        "id": "da373bff-53cf-4575-8b0b-4f7a5cee968b",
        "outputId": "1b5cf749-0dc2-4374-ff41-eb6d53a51e5b"
      },
      "outputs": [
        {
          "name": "stdout",
          "output_type": "stream",
          "text": [
            "5\n",
            "6\n"
          ]
        }
      ],
      "source": [
        "Test.my_constructor(2)"
      ]
    },
    {
      "cell_type": "code",
      "execution_count": null,
      "id": "17c23fac-323f-46b9-aff8-c8d6a9126fa6",
      "metadata": {
        "id": "17c23fac-323f-46b9-aff8-c8d6a9126fa6"
      },
      "outputs": [],
      "source": [
        "t=Test()"
      ]
    },
    {
      "cell_type": "code",
      "execution_count": null,
      "id": "78c1559c-868f-4f22-851c-df9b9ab52b8d",
      "metadata": {
        "id": "78c1559c-868f-4f22-851c-df9b9ab52b8d",
        "outputId": "edb6987d-2a37-48ca-88ab-2c57f9d7fdf4"
      },
      "outputs": [
        {
          "name": "stdout",
          "output_type": "stream",
          "text": [
            "Some method\n"
          ]
        }
      ],
      "source": [
        "t.show()"
      ]
    },
    {
      "cell_type": "code",
      "execution_count": null,
      "id": "aa17d866-adc6-4ab0-9354-fe3aadcdf4cc",
      "metadata": {
        "id": "aa17d866-adc6-4ab0-9354-fe3aadcdf4cc"
      },
      "outputs": [],
      "source": [
        "class Test:\n",
        "    def dummy():\n",
        "        print('some method')"
      ]
    },
    {
      "cell_type": "code",
      "execution_count": null,
      "id": "92cd4a46-ff0d-4748-b6be-6f8e7f425231",
      "metadata": {
        "id": "92cd4a46-ff0d-4748-b6be-6f8e7f425231",
        "outputId": "75b379f1-52e8-43e9-f59d-6377aceef3bf"
      },
      "outputs": [
        {
          "name": "stdout",
          "output_type": "stream",
          "text": [
            "some method\n"
          ]
        }
      ],
      "source": [
        "Test.dummy()"
      ]
    },
    {
      "cell_type": "code",
      "execution_count": null,
      "id": "8c490d5b-5a0a-4a73-9c51-2691db2f3af0",
      "metadata": {
        "id": "8c490d5b-5a0a-4a73-9c51-2691db2f3af0"
      },
      "outputs": [],
      "source": [
        "t=Test()"
      ]
    },
    {
      "cell_type": "code",
      "execution_count": null,
      "id": "a2805027-eac6-47e5-a9ba-5f02b805550d",
      "metadata": {
        "id": "a2805027-eac6-47e5-a9ba-5f02b805550d",
        "outputId": "33ed049a-5d27-4f09-eb54-c6dd2b5f2301"
      },
      "outputs": [
        {
          "ename": "TypeError",
          "evalue": "Test.dummy() takes 0 positional arguments but 1 was given",
          "output_type": "error",
          "traceback": [
            "\u001b[1;31m---------------------------------------------------------------------------\u001b[0m",
            "\u001b[1;31mTypeError\u001b[0m                                 Traceback (most recent call last)",
            "Cell \u001b[1;32mIn[71], line 1\u001b[0m\n\u001b[1;32m----> 1\u001b[0m t\u001b[38;5;241m.\u001b[39mdummy()\n",
            "\u001b[1;31mTypeError\u001b[0m: Test.dummy() takes 0 positional arguments but 1 was given"
          ]
        }
      ],
      "source": [
        "t.dummy()"
      ]
    },
    {
      "cell_type": "code",
      "execution_count": null,
      "id": "f3ae021a-5589-48ff-b76f-5018a8c53aa5",
      "metadata": {
        "id": "f3ae021a-5589-48ff-b76f-5018a8c53aa5"
      },
      "outputs": [],
      "source": [
        "class Test:\n",
        "\n",
        "    @staticmethod\n",
        "    def dummy():\n",
        "        print('some method')"
      ]
    },
    {
      "cell_type": "code",
      "execution_count": null,
      "id": "ef8cda80-3597-440c-8358-af3f4f0d6f06",
      "metadata": {
        "id": "ef8cda80-3597-440c-8358-af3f4f0d6f06",
        "outputId": "6f7c9375-b1d8-4e6f-826c-2a125a48a630"
      },
      "outputs": [
        {
          "name": "stdout",
          "output_type": "stream",
          "text": [
            "some method\n"
          ]
        }
      ],
      "source": [
        "Test.dummy()"
      ]
    },
    {
      "cell_type": "code",
      "execution_count": null,
      "id": "94b367da-4799-47d6-aa7c-3dc3fb54b7e4",
      "metadata": {
        "id": "94b367da-4799-47d6-aa7c-3dc3fb54b7e4"
      },
      "outputs": [],
      "source": [
        "t=Test()"
      ]
    },
    {
      "cell_type": "code",
      "execution_count": null,
      "id": "4af76cbe-57e1-41ee-887f-d42b7acd3f54",
      "metadata": {
        "id": "4af76cbe-57e1-41ee-887f-d42b7acd3f54",
        "outputId": "e3cd6897-e3ac-4710-ef35-7fecf9b85342"
      },
      "outputs": [
        {
          "name": "stdout",
          "output_type": "stream",
          "text": [
            "some method\n"
          ]
        }
      ],
      "source": [
        "t.dummy()"
      ]
    },
    {
      "cell_type": "markdown",
      "id": "98fe687c-a3ed-4960-9559-271d4ca393d1",
      "metadata": {
        "id": "98fe687c-a3ed-4960-9559-271d4ca393d1"
      },
      "source": [
        "# @classmethod"
      ]
    },
    {
      "cell_type": "code",
      "execution_count": null,
      "id": "c2c2d9cd-c234-4b54-9ccd-2d6d5cc8b972",
      "metadata": {
        "id": "c2c2d9cd-c234-4b54-9ccd-2d6d5cc8b972"
      },
      "outputs": [],
      "source": [
        "# Instance method - No decorator\n",
        "# Static method - @staticmethod (optional)\n",
        "# Class method- @classmethod (mandatory)"
      ]
    },
    {
      "cell_type": "markdown",
      "id": "616f6729-833e-49c6-804e-7b72762a97a0",
      "metadata": {
        "id": "616f6729-833e-49c6-804e-7b72762a97a0"
      },
      "source": [
        "# Class method"
      ]
    },
    {
      "cell_type": "code",
      "execution_count": null,
      "id": "c16268bb-f448-494c-8734-632674b25301",
      "metadata": {
        "id": "c16268bb-f448-494c-8734-632674b25301"
      },
      "outputs": [],
      "source": [
        "@classmethod\n",
        "def method_name(cls):\n",
        "    code\n",
        "    code"
      ]
    },
    {
      "cell_type": "code",
      "execution_count": null,
      "id": "f2455f9a-a52e-4afe-ae3a-f037c787760e",
      "metadata": {
        "id": "f2455f9a-a52e-4afe-ae3a-f037c787760e"
      },
      "outputs": [],
      "source": [
        "# - We can not define a class method without using @classmethod decoartor.\n",
        "# - cls is a special variable that points to the current class.\n",
        "# - Class methods are used when we only have the static variables."
      ]
    },
    {
      "cell_type": "code",
      "execution_count": null,
      "id": "5736883c-78dc-4957-ae5e-cd68fa43dccd",
      "metadata": {
        "id": "5736883c-78dc-4957-ae5e-cd68fa43dccd"
      },
      "outputs": [],
      "source": [
        "class Test:\n",
        "    @classmethod\n",
        "    def m1(cls):\n",
        "        print('Some method')"
      ]
    },
    {
      "cell_type": "code",
      "execution_count": null,
      "id": "8ca20218-7734-4ba1-8ac2-e1b708a09c8a",
      "metadata": {
        "id": "8ca20218-7734-4ba1-8ac2-e1b708a09c8a",
        "outputId": "9e012c92-4297-4ec0-8719-0fc1d0948571"
      },
      "outputs": [
        {
          "name": "stdout",
          "output_type": "stream",
          "text": [
            "Some method\n"
          ]
        }
      ],
      "source": [
        "Test.m1()"
      ]
    },
    {
      "cell_type": "code",
      "execution_count": null,
      "id": "bf02011b-7765-4d5a-9b83-da5fd25b4fb5",
      "metadata": {
        "id": "bf02011b-7765-4d5a-9b83-da5fd25b4fb5"
      },
      "outputs": [],
      "source": [
        "t=Test()"
      ]
    },
    {
      "cell_type": "code",
      "execution_count": null,
      "id": "f94108d5-e9c0-4643-869f-fa91115f931f",
      "metadata": {
        "id": "f94108d5-e9c0-4643-869f-fa91115f931f",
        "outputId": "35faf9b6-280f-4d03-c116-5e542e038c0d"
      },
      "outputs": [
        {
          "name": "stdout",
          "output_type": "stream",
          "text": [
            "Some method\n"
          ]
        }
      ],
      "source": [
        "t.m1()"
      ]
    },
    {
      "cell_type": "code",
      "execution_count": null,
      "id": "cf8b580d-cc54-4b10-9c9e-daa768afaebb",
      "metadata": {
        "id": "cf8b580d-cc54-4b10-9c9e-daa768afaebb"
      },
      "outputs": [],
      "source": [
        "class Test:\n",
        "    @classmethod\n",
        "    def m1(cls):\n",
        "        print('Some method')\n",
        "        print(id(cls))"
      ]
    },
    {
      "cell_type": "code",
      "execution_count": null,
      "id": "38f63aa6-8a0e-4ba2-8e85-a09953d1d87f",
      "metadata": {
        "id": "38f63aa6-8a0e-4ba2-8e85-a09953d1d87f",
        "outputId": "e4e85956-b046-495d-bb58-29c9fcf70ef4"
      },
      "outputs": [
        {
          "name": "stdout",
          "output_type": "stream",
          "text": [
            "Some method\n",
            "3062892841280\n"
          ]
        }
      ],
      "source": [
        "Test.m1()"
      ]
    },
    {
      "cell_type": "code",
      "execution_count": null,
      "id": "39877a47-4fae-49ec-9084-c601aac661c1",
      "metadata": {
        "id": "39877a47-4fae-49ec-9084-c601aac661c1",
        "outputId": "b59e783b-25bd-4381-dbcc-f46b1bdb31ba"
      },
      "outputs": [
        {
          "name": "stdout",
          "output_type": "stream",
          "text": [
            "3062892841280\n"
          ]
        }
      ],
      "source": [
        "print(id(Test))"
      ]
    },
    {
      "cell_type": "code",
      "execution_count": null,
      "id": "997eebe5-619b-4681-98af-aae6add9789e",
      "metadata": {
        "id": "997eebe5-619b-4681-98af-aae6add9789e"
      },
      "outputs": [],
      "source": [
        "class Test:\n",
        "    @classmethod\n",
        "    def m1(abc):\n",
        "        print('Some method')\n",
        "        print(id(abc))"
      ]
    },
    {
      "cell_type": "code",
      "execution_count": null,
      "id": "fb369773-90de-4bf1-aead-b7b7b5b960cb",
      "metadata": {
        "id": "fb369773-90de-4bf1-aead-b7b7b5b960cb",
        "outputId": "70b537f9-ec17-404f-ce81-e548ee736e3a"
      },
      "outputs": [
        {
          "name": "stdout",
          "output_type": "stream",
          "text": [
            "Some method\n",
            "3062892852016\n"
          ]
        }
      ],
      "source": [
        "Test.m1()"
      ]
    },
    {
      "cell_type": "code",
      "execution_count": null,
      "id": "549e97db-4b65-4aa5-96fe-fd2de31a270a",
      "metadata": {
        "id": "549e97db-4b65-4aa5-96fe-fd2de31a270a",
        "outputId": "c843bf08-1a8a-427d-f3a6-1acf51aaefda"
      },
      "outputs": [
        {
          "name": "stdout",
          "output_type": "stream",
          "text": [
            "3062892852016\n"
          ]
        }
      ],
      "source": [
        "print(id(Test))"
      ]
    },
    {
      "cell_type": "code",
      "execution_count": null,
      "id": "c595b4ac-9377-44e9-abed-44624164e6b1",
      "metadata": {
        "id": "c595b4ac-9377-44e9-abed-44624164e6b1"
      },
      "outputs": [],
      "source": [
        "class Test:\n",
        "    bank='SBI'\n",
        "\n",
        "    @classmethod\n",
        "    def name(cls):\n",
        "        print(cls.bank)\n",
        "        print(Test.bank)"
      ]
    },
    {
      "cell_type": "code",
      "execution_count": null,
      "id": "fdfb71a5-38cb-4f35-b7ff-7e9ee111f725",
      "metadata": {
        "id": "fdfb71a5-38cb-4f35-b7ff-7e9ee111f725",
        "outputId": "e10a5734-be64-4ce7-87b8-fe7468724282"
      },
      "outputs": [
        {
          "name": "stdout",
          "output_type": "stream",
          "text": [
            "SBI\n",
            "SBI\n"
          ]
        }
      ],
      "source": [
        "Test.name()"
      ]
    },
    {
      "cell_type": "code",
      "execution_count": null,
      "id": "b448b992-b531-40ae-94a8-d179119bc10e",
      "metadata": {
        "id": "b448b992-b531-40ae-94a8-d179119bc10e"
      },
      "outputs": [],
      "source": [
        "class Test:\n",
        "    bank='SBI'\n",
        "\n",
        "    @classmethod\n",
        "    def name(k):\n",
        "        print(k.bank)\n",
        "        print(k.bank)"
      ]
    },
    {
      "cell_type": "code",
      "execution_count": null,
      "id": "2981404a-7b18-4e8d-b665-caef773f68b6",
      "metadata": {
        "id": "2981404a-7b18-4e8d-b665-caef773f68b6",
        "outputId": "a7b6a054-8c9c-4739-8f7f-b019f3df002f"
      },
      "outputs": [
        {
          "name": "stdout",
          "output_type": "stream",
          "text": [
            "SBI\n",
            "SBI\n"
          ]
        }
      ],
      "source": [
        "Test.name()"
      ]
    },
    {
      "cell_type": "code",
      "execution_count": null,
      "id": "02d2e483-4be2-4605-b083-5a2d23883cd6",
      "metadata": {
        "id": "02d2e483-4be2-4605-b083-5a2d23883cd6"
      },
      "outputs": [],
      "source": [
        "t=Test()"
      ]
    },
    {
      "cell_type": "code",
      "execution_count": null,
      "id": "0e289d14-7b6e-4249-a1b7-61d2be72ed86",
      "metadata": {
        "id": "0e289d14-7b6e-4249-a1b7-61d2be72ed86",
        "outputId": "a526724b-e7c5-4f1c-d4dc-43b564cf71df"
      },
      "outputs": [
        {
          "name": "stdout",
          "output_type": "stream",
          "text": [
            "SBI\n",
            "SBI\n"
          ]
        }
      ],
      "source": [
        "t.name()"
      ]
    },
    {
      "cell_type": "code",
      "execution_count": null,
      "id": "94363f21-7edc-42d2-86dc-c21d2d5d5c45",
      "metadata": {
        "id": "94363f21-7edc-42d2-86dc-c21d2d5d5c45"
      },
      "outputs": [],
      "source": [
        "class Test:\n",
        "    bank='SBI'\n",
        "\n",
        "    @classmethod\n",
        "    def name():\n",
        "        print(k.bank)\n",
        "        print(k.bank)"
      ]
    },
    {
      "cell_type": "code",
      "execution_count": null,
      "id": "a1326b95-12c9-44fc-8915-4dc12129a826",
      "metadata": {
        "id": "a1326b95-12c9-44fc-8915-4dc12129a826",
        "outputId": "af1ce606-762c-45a2-c318-01983ecc2851"
      },
      "outputs": [
        {
          "ename": "TypeError",
          "evalue": "Test.name() takes 0 positional arguments but 1 was given",
          "output_type": "error",
          "traceback": [
            "\u001b[1;31m---------------------------------------------------------------------------\u001b[0m",
            "\u001b[1;31mTypeError\u001b[0m                                 Traceback (most recent call last)",
            "Cell \u001b[1;32mIn[102], line 1\u001b[0m\n\u001b[1;32m----> 1\u001b[0m Test\u001b[38;5;241m.\u001b[39mname()\n",
            "\u001b[1;31mTypeError\u001b[0m: Test.name() takes 0 positional arguments but 1 was given"
          ]
        }
      ],
      "source": [
        "Test.name()"
      ]
    },
    {
      "cell_type": "code",
      "execution_count": null,
      "id": "120f4dc0-96b0-4804-ad62-50fd4948a259",
      "metadata": {
        "id": "120f4dc0-96b0-4804-ad62-50fd4948a259"
      },
      "outputs": [],
      "source": [
        "class Test:\n",
        "\n",
        "    def m1(cls):\n",
        "        print('Some method')"
      ]
    },
    {
      "cell_type": "code",
      "execution_count": null,
      "id": "20b5acdb-9082-4755-8b49-cc9a541b4904",
      "metadata": {
        "id": "20b5acdb-9082-4755-8b49-cc9a541b4904",
        "outputId": "2a4f5a7f-9f4d-46af-f184-ec301dd69c0e"
      },
      "outputs": [
        {
          "name": "stdout",
          "output_type": "stream",
          "text": [
            "Some method\n"
          ]
        }
      ],
      "source": [
        "Test.m1(5)"
      ]
    },
    {
      "cell_type": "code",
      "execution_count": null,
      "id": "b4b55eb7-1c34-4bef-bb06-50e7b159fd7a",
      "metadata": {
        "id": "b4b55eb7-1c34-4bef-bb06-50e7b159fd7a"
      },
      "outputs": [],
      "source": [
        "t=Test()"
      ]
    },
    {
      "cell_type": "code",
      "execution_count": null,
      "id": "8f5312b1-dbcb-4809-9eb6-2e670f5ea02f",
      "metadata": {
        "id": "8f5312b1-dbcb-4809-9eb6-2e670f5ea02f",
        "outputId": "889e5b37-7dc9-4731-fef5-2c778f6a2566"
      },
      "outputs": [
        {
          "name": "stdout",
          "output_type": "stream",
          "text": [
            "Some method\n"
          ]
        }
      ],
      "source": [
        "t.m1()"
      ]
    },
    {
      "cell_type": "code",
      "execution_count": null,
      "id": "8c196917-4924-4ff3-9b22-6b087946eedb",
      "metadata": {
        "id": "8c196917-4924-4ff3-9b22-6b087946eedb"
      },
      "outputs": [],
      "source": [
        "class Test:\n",
        "\n",
        "    def m1(cls):\n",
        "        print(cls,id(cls))"
      ]
    },
    {
      "cell_type": "code",
      "execution_count": null,
      "id": "77106ad5-4707-4111-8dd2-78837d5b59f6",
      "metadata": {
        "id": "77106ad5-4707-4111-8dd2-78837d5b59f6",
        "outputId": "dfe38f45-5fb4-4a7b-8eb3-5d228af33ac1"
      },
      "outputs": [
        {
          "name": "stdout",
          "output_type": "stream",
          "text": [
            "6 140717237650376\n"
          ]
        }
      ],
      "source": [
        "Test.m1(6)"
      ]
    },
    {
      "cell_type": "code",
      "execution_count": null,
      "id": "23c30b97-7735-4a0d-8390-3c20e4bf3a56",
      "metadata": {
        "id": "23c30b97-7735-4a0d-8390-3c20e4bf3a56"
      },
      "outputs": [],
      "source": [
        "t=Test()"
      ]
    },
    {
      "cell_type": "code",
      "execution_count": null,
      "id": "40604c7b-d615-48d5-93dd-09bada9afac5",
      "metadata": {
        "id": "40604c7b-d615-48d5-93dd-09bada9afac5",
        "outputId": "3447f042-c051-4f21-9911-826fd2362bfc"
      },
      "outputs": [
        {
          "name": "stdout",
          "output_type": "stream",
          "text": [
            "<__main__.Test object at 0x000002C924FA8F90> 3062932082576\n"
          ]
        }
      ],
      "source": [
        "t.m1()"
      ]
    },
    {
      "cell_type": "code",
      "execution_count": null,
      "id": "3f1d8b1c-5d63-4cc8-9d1b-28175f1614ba",
      "metadata": {
        "id": "3f1d8b1c-5d63-4cc8-9d1b-28175f1614ba",
        "outputId": "2f32f046-12a6-4433-85b7-ef7274663495"
      },
      "outputs": [
        {
          "name": "stdout",
          "output_type": "stream",
          "text": [
            "3062932082576\n"
          ]
        }
      ],
      "source": [
        "print(id(t))"
      ]
    },
    {
      "cell_type": "markdown",
      "id": "81a9d242-9dae-4793-86b9-517ec0701d29",
      "metadata": {
        "id": "81a9d242-9dae-4793-86b9-517ec0701d29"
      },
      "source": [
        "# Count the number of objects created for a class"
      ]
    },
    {
      "cell_type": "code",
      "execution_count": null,
      "id": "94a64496-4167-4b5e-b434-aa9bde99d3da",
      "metadata": {
        "id": "94a64496-4167-4b5e-b434-aa9bde99d3da"
      },
      "outputs": [],
      "source": [
        "class Test:\n",
        "    c=0\n",
        "    def __init__(self):\n",
        "        Test.c+=1\n",
        "\n",
        "    @classmethod\n",
        "    def count(cls):\n",
        "        print(cls.c)"
      ]
    },
    {
      "cell_type": "code",
      "execution_count": null,
      "id": "86b97cd9-3913-471b-a076-e1421f54adf8",
      "metadata": {
        "id": "86b97cd9-3913-471b-a076-e1421f54adf8"
      },
      "outputs": [],
      "source": [
        "t=Test()\n",
        "t2=Test()\n",
        "t3=Test()\n",
        "t4=Test()"
      ]
    },
    {
      "cell_type": "code",
      "execution_count": null,
      "id": "877faac2-209b-4d9b-910e-df14de48dbbb",
      "metadata": {
        "id": "877faac2-209b-4d9b-910e-df14de48dbbb",
        "outputId": "6df581f7-1197-471c-8cc5-70150ccd2c82"
      },
      "outputs": [
        {
          "name": "stdout",
          "output_type": "stream",
          "text": [
            "4\n"
          ]
        }
      ],
      "source": [
        "Test.count()"
      ]
    },
    {
      "cell_type": "code",
      "execution_count": null,
      "id": "05004397-7081-4e95-a1db-7ea6255ce763",
      "metadata": {
        "id": "05004397-7081-4e95-a1db-7ea6255ce763"
      },
      "outputs": [],
      "source": [
        "# Instance variable - Instance method\n",
        "# Instance variable + static variable - Instance method\n",
        "# Instance variable + static variable + local variable - Instance method\n",
        "\n",
        "# Static variable - class method\n",
        "# Static variable + local variable - class method\n",
        "\n",
        "# Local variable - Static method"
      ]
    },
    {
      "cell_type": "markdown",
      "id": "3ff4c648-a1bd-4a0c-871f-99d2b42b228c",
      "metadata": {
        "id": "3ff4c648-a1bd-4a0c-871f-99d2b42b228c"
      },
      "source": [
        "# Calling an object of one class inside another class"
      ]
    },
    {
      "cell_type": "code",
      "execution_count": null,
      "id": "b63c3e39-09bf-40d0-9762-ccd7dac03fdd",
      "metadata": {
        "id": "b63c3e39-09bf-40d0-9762-ccd7dac03fdd"
      },
      "outputs": [],
      "source": [
        "class Employee:\n",
        "    def __init__(self,name,sal):\n",
        "        self.name=name\n",
        "        self.salary=sal\n",
        "\n",
        "    def display(self):\n",
        "        print(self.name)\n",
        "        print(self.salary)"
      ]
    },
    {
      "cell_type": "code",
      "execution_count": null,
      "id": "bdfdf9cc-e7b0-4f0d-b845-d7226ee65844",
      "metadata": {
        "id": "bdfdf9cc-e7b0-4f0d-b845-d7226ee65844"
      },
      "outputs": [],
      "source": [
        "class Appraisal:\n",
        "    def increment(emp,inc):\n",
        "        emp.salary+=inc"
      ]
    },
    {
      "cell_type": "code",
      "execution_count": null,
      "id": "e25e8a1e-96de-4215-894f-d803669b1209",
      "metadata": {
        "id": "e25e8a1e-96de-4215-894f-d803669b1209"
      },
      "outputs": [],
      "source": [
        "e=Employee('Kuldeep',56000)"
      ]
    },
    {
      "cell_type": "code",
      "execution_count": null,
      "id": "741a1880-745e-4b3e-9968-99cf152a5812",
      "metadata": {
        "id": "741a1880-745e-4b3e-9968-99cf152a5812",
        "outputId": "328bb121-16f8-478e-dbb6-6726e08e0b94"
      },
      "outputs": [
        {
          "name": "stdout",
          "output_type": "stream",
          "text": [
            "Kuldeep\n",
            "56000\n"
          ]
        }
      ],
      "source": [
        "e.display()"
      ]
    },
    {
      "cell_type": "code",
      "execution_count": null,
      "id": "b760cfff-2246-44ec-905b-85ffbd08f2b9",
      "metadata": {
        "id": "b760cfff-2246-44ec-905b-85ffbd08f2b9"
      },
      "outputs": [],
      "source": [
        "Appraisal.increment(e,5000)"
      ]
    },
    {
      "cell_type": "code",
      "execution_count": null,
      "id": "4244211c-515b-4674-9a34-8c32c005944c",
      "metadata": {
        "id": "4244211c-515b-4674-9a34-8c32c005944c",
        "outputId": "41412a92-11f2-4ff3-b9cc-f8a04b88bb75"
      },
      "outputs": [
        {
          "name": "stdout",
          "output_type": "stream",
          "text": [
            "Kuldeep\n",
            "61000\n"
          ]
        }
      ],
      "source": [
        "e.display()"
      ]
    },
    {
      "cell_type": "code",
      "execution_count": null,
      "id": "88068428-394c-409c-b622-0f680839bfc9",
      "metadata": {
        "id": "88068428-394c-409c-b622-0f680839bfc9"
      },
      "outputs": [],
      "source": []
    },
    {
      "cell_type": "code",
      "execution_count": null,
      "id": "57f05d68-6f74-45cb-bcfb-7241894dcb2e",
      "metadata": {
        "id": "57f05d68-6f74-45cb-bcfb-7241894dcb2e"
      },
      "outputs": [],
      "source": [
        "class Customer:\n",
        "    def __init__(self):\n",
        "        pass\n",
        "    def show(self):\n",
        "        print(id(self))"
      ]
    },
    {
      "cell_type": "code",
      "execution_count": null,
      "id": "c7c103c7-1093-414f-89d2-4fe58ec4bb76",
      "metadata": {
        "id": "c7c103c7-1093-414f-89d2-4fe58ec4bb76"
      },
      "outputs": [],
      "source": [
        "class Banking:\n",
        "    def deposit(cst,amt):\n",
        "        print(id(cst))"
      ]
    },
    {
      "cell_type": "code",
      "execution_count": null,
      "id": "e5ca76c4-6355-47e7-bf68-cb0078deeb4b",
      "metadata": {
        "id": "e5ca76c4-6355-47e7-bf68-cb0078deeb4b"
      },
      "outputs": [],
      "source": [
        "t=Customer()"
      ]
    },
    {
      "cell_type": "code",
      "execution_count": null,
      "id": "860d7a4e-f68c-4c38-8390-e4829b69f170",
      "metadata": {
        "id": "860d7a4e-f68c-4c38-8390-e4829b69f170",
        "outputId": "8b7690d0-34c3-42dd-bbbd-acdac9259b75"
      },
      "outputs": [
        {
          "name": "stdout",
          "output_type": "stream",
          "text": [
            "3062949735184\n"
          ]
        }
      ],
      "source": [
        "t.show()"
      ]
    },
    {
      "cell_type": "code",
      "execution_count": null,
      "id": "6159b5fb-817f-452a-85eb-251a3932e406",
      "metadata": {
        "id": "6159b5fb-817f-452a-85eb-251a3932e406",
        "outputId": "fc7e9473-a14e-4e00-8984-c3e58f30a2d1"
      },
      "outputs": [
        {
          "name": "stdout",
          "output_type": "stream",
          "text": [
            "3062949735184\n"
          ]
        }
      ],
      "source": [
        "Banking.deposit(t,2000)"
      ]
    },
    {
      "cell_type": "code",
      "execution_count": null,
      "id": "3c0461ee-6d8e-48ca-9faa-8b5392185c5a",
      "metadata": {
        "id": "3c0461ee-6d8e-48ca-9faa-8b5392185c5a"
      },
      "outputs": [],
      "source": [
        "class Customer:\n",
        "    def __init__(self,name,bal):\n",
        "        self.name=name\n",
        "        self.balance=bal\n",
        "    def show(self):\n",
        "        print(self.name)\n",
        "        print(self.balance)"
      ]
    },
    {
      "cell_type": "code",
      "execution_count": null,
      "id": "e618746b-bc4d-4dc6-8511-7f3bf30f9a8b",
      "metadata": {
        "id": "e618746b-bc4d-4dc6-8511-7f3bf30f9a8b"
      },
      "outputs": [],
      "source": [
        "class Banking:\n",
        "    def deposit(cst,amt):\n",
        "        cst.balance+=amt\n",
        "    def withdrawl(cst,amt):\n",
        "        if amt>cst.balance:\n",
        "            print('Insufficient amount')\n",
        "        else:\n",
        "            cst.balance-=amt"
      ]
    },
    {
      "cell_type": "code",
      "execution_count": null,
      "id": "db9894ab-0201-472d-b21c-5d3f314f727e",
      "metadata": {
        "id": "db9894ab-0201-472d-b21c-5d3f314f727e"
      },
      "outputs": [],
      "source": [
        "c=Customer('Pushpa',5000)"
      ]
    },
    {
      "cell_type": "code",
      "execution_count": null,
      "id": "a59a1604-290f-4e13-8ad2-fa30b17f08a8",
      "metadata": {
        "id": "a59a1604-290f-4e13-8ad2-fa30b17f08a8"
      },
      "outputs": [],
      "source": [
        "c2=Customer('Atharva',6000)"
      ]
    },
    {
      "cell_type": "code",
      "execution_count": null,
      "id": "7b7fd7e7-3aec-44c3-a8d9-0d6525047532",
      "metadata": {
        "id": "7b7fd7e7-3aec-44c3-a8d9-0d6525047532",
        "outputId": "4494f7e7-39f4-441e-9a78-1aa550880596"
      },
      "outputs": [
        {
          "name": "stdout",
          "output_type": "stream",
          "text": [
            "Pushpa\n",
            "5000\n"
          ]
        }
      ],
      "source": [
        "c.show()"
      ]
    },
    {
      "cell_type": "code",
      "execution_count": null,
      "id": "c6e896e9-73a4-4af9-a6b0-b424b45c4eae",
      "metadata": {
        "id": "c6e896e9-73a4-4af9-a6b0-b424b45c4eae",
        "outputId": "59a75dfe-43fb-4dca-8fef-c13912418971"
      },
      "outputs": [
        {
          "name": "stdout",
          "output_type": "stream",
          "text": [
            "Atharva\n",
            "6000\n"
          ]
        }
      ],
      "source": [
        "c2.show()"
      ]
    },
    {
      "cell_type": "code",
      "execution_count": null,
      "id": "337c7303-7679-4e41-9184-c5643b983b4f",
      "metadata": {
        "id": "337c7303-7679-4e41-9184-c5643b983b4f"
      },
      "outputs": [],
      "source": [
        "Banking.deposit(c,2000)"
      ]
    },
    {
      "cell_type": "code",
      "execution_count": null,
      "id": "b9b60b0a-9211-483c-ba38-490e26600947",
      "metadata": {
        "id": "b9b60b0a-9211-483c-ba38-490e26600947",
        "outputId": "183780d6-f940-4f9f-bdf0-a650a6f8eb6c"
      },
      "outputs": [
        {
          "name": "stdout",
          "output_type": "stream",
          "text": [
            "Pushpa\n",
            "7000\n"
          ]
        }
      ],
      "source": [
        "c.show()"
      ]
    },
    {
      "cell_type": "code",
      "execution_count": null,
      "id": "fce8a3f6-bb54-439d-af75-43470259d3ef",
      "metadata": {
        "id": "fce8a3f6-bb54-439d-af75-43470259d3ef"
      },
      "outputs": [],
      "source": [
        "Banking.withdrawl(c2,1500)"
      ]
    },
    {
      "cell_type": "code",
      "execution_count": null,
      "id": "675676b3-5ee9-45be-9050-3984ffb1459f",
      "metadata": {
        "id": "675676b3-5ee9-45be-9050-3984ffb1459f",
        "outputId": "63438385-5ed3-4575-dbde-b137fbcc3d48"
      },
      "outputs": [
        {
          "name": "stdout",
          "output_type": "stream",
          "text": [
            "Atharva\n",
            "4500\n"
          ]
        }
      ],
      "source": [
        "c2.show()"
      ]
    },
    {
      "cell_type": "code",
      "execution_count": null,
      "id": "4c4be1d0-fb5c-4078-89fd-4588a5ff072c",
      "metadata": {
        "id": "4c4be1d0-fb5c-4078-89fd-4588a5ff072c"
      },
      "outputs": [],
      "source": []
    },
    {
      "cell_type": "code",
      "execution_count": null,
      "id": "d9aa0506-7900-49cc-8f51-fc8db78a8a47",
      "metadata": {
        "id": "d9aa0506-7900-49cc-8f51-fc8db78a8a47"
      },
      "outputs": [],
      "source": [
        "class Test:\n",
        "    def __init__(self,name):\n",
        "        self.name=name\n",
        "\n",
        "    def show(self):\n",
        "        print(self.name)"
      ]
    },
    {
      "cell_type": "code",
      "execution_count": null,
      "id": "ba4cce25-1143-48ea-8f1a-8e8d237c3a1b",
      "metadata": {
        "id": "ba4cce25-1143-48ea-8f1a-8e8d237c3a1b"
      },
      "outputs": [],
      "source": [
        "class Change:\n",
        "    def new_name(a,b):\n",
        "        a.name=b"
      ]
    },
    {
      "cell_type": "code",
      "execution_count": null,
      "id": "1d6f007c-903a-4b57-b633-3da17c62b6dd",
      "metadata": {
        "id": "1d6f007c-903a-4b57-b633-3da17c62b6dd"
      },
      "outputs": [],
      "source": [
        "n1=Test('Amit')"
      ]
    },
    {
      "cell_type": "code",
      "execution_count": null,
      "id": "e7a59cf0-f7eb-472b-8ff3-78e68f5b18f7",
      "metadata": {
        "id": "e7a59cf0-f7eb-472b-8ff3-78e68f5b18f7",
        "outputId": "bb3504dc-f50f-4ca5-8165-cd9e4efdbc19"
      },
      "outputs": [
        {
          "name": "stdout",
          "output_type": "stream",
          "text": [
            "Amit\n"
          ]
        }
      ],
      "source": [
        "n1.show()"
      ]
    },
    {
      "cell_type": "code",
      "execution_count": null,
      "id": "91278ecc-467e-4129-9ca0-e023514271ce",
      "metadata": {
        "id": "91278ecc-467e-4129-9ca0-e023514271ce"
      },
      "outputs": [],
      "source": [
        "c=Change()"
      ]
    },
    {
      "cell_type": "code",
      "execution_count": null,
      "id": "a9be5294-7e47-4533-9fbb-89e9b4cd32f7",
      "metadata": {
        "id": "a9be5294-7e47-4533-9fbb-89e9b4cd32f7"
      },
      "outputs": [],
      "source": [
        "c.new_name('Sumit')"
      ]
    },
    {
      "cell_type": "code",
      "execution_count": null,
      "id": "c5a3f81f-dc5b-480b-8336-65fedd4f10f9",
      "metadata": {
        "id": "c5a3f81f-dc5b-480b-8336-65fedd4f10f9",
        "outputId": "9ac1ca5d-aee6-4447-c47f-4260c5a85bca"
      },
      "outputs": [
        {
          "name": "stdout",
          "output_type": "stream",
          "text": [
            "Amit\n"
          ]
        }
      ],
      "source": [
        "n1.show()"
      ]
    },
    {
      "cell_type": "code",
      "execution_count": null,
      "id": "e7883e13-af85-4d57-baa9-8517041da1eb",
      "metadata": {
        "id": "e7883e13-af85-4d57-baa9-8517041da1eb"
      },
      "outputs": [],
      "source": [
        "class Change:\n",
        "    @staticmethod\n",
        "    def new_name(a,b):\n",
        "        a.name=b"
      ]
    },
    {
      "cell_type": "code",
      "execution_count": null,
      "id": "41512c88-0880-458c-812a-a3d26c1b3e16",
      "metadata": {
        "id": "41512c88-0880-458c-812a-a3d26c1b3e16"
      },
      "outputs": [],
      "source": [
        "c=Change()"
      ]
    },
    {
      "cell_type": "code",
      "execution_count": null,
      "id": "9e6361da-2390-4fe2-9958-33be2bcbadc9",
      "metadata": {
        "id": "9e6361da-2390-4fe2-9958-33be2bcbadc9"
      },
      "outputs": [],
      "source": [
        "c.new_name(n1,'Sumit')"
      ]
    },
    {
      "cell_type": "code",
      "execution_count": null,
      "id": "b9ad75c4-0d9f-4b93-8f65-d6272393b5ef",
      "metadata": {
        "id": "b9ad75c4-0d9f-4b93-8f65-d6272393b5ef",
        "outputId": "aa457768-0ef5-48be-dd4d-79e157662c74"
      },
      "outputs": [
        {
          "name": "stdout",
          "output_type": "stream",
          "text": [
            "Sumit\n"
          ]
        }
      ],
      "source": [
        "n1.show()"
      ]
    },
    {
      "cell_type": "code",
      "execution_count": null,
      "id": "37f2535c-5619-4bef-9db9-798fe45caa17",
      "metadata": {
        "id": "37f2535c-5619-4bef-9db9-798fe45caa17"
      },
      "outputs": [],
      "source": [
        "# We have passed the object of class Test as parameter to the static method of class Change"
      ]
    },
    {
      "cell_type": "code",
      "execution_count": null,
      "id": "4725896c-1ec0-4a7a-837f-6bb1d3e02181",
      "metadata": {
        "id": "4725896c-1ec0-4a7a-837f-6bb1d3e02181"
      },
      "outputs": [],
      "source": []
    },
    {
      "cell_type": "code",
      "execution_count": null,
      "id": "94cef176-8fb2-4879-b7d5-72a3efe091c5",
      "metadata": {
        "id": "94cef176-8fb2-4879-b7d5-72a3efe091c5"
      },
      "outputs": [],
      "source": [
        "class Customer:\n",
        "    def __init__(self,name,bal):\n",
        "        self.name=name\n",
        "        self.balance=bal\n",
        "    def show(self):\n",
        "        print(self.name)\n",
        "        print(self.balance)"
      ]
    },
    {
      "cell_type": "code",
      "execution_count": null,
      "id": "981f7b0c-f1e2-45f5-b565-0657a2773aa9",
      "metadata": {
        "id": "981f7b0c-f1e2-45f5-b565-0657a2773aa9"
      },
      "outputs": [],
      "source": [
        "class Banking:\n",
        "    @staticmethod\n",
        "    def deposit(cst,amt):\n",
        "        cst.balance+=amt\n",
        "\n",
        "    @staticmethod\n",
        "    def withdrawl(cst,amt):\n",
        "        if amt>cst.balance:\n",
        "            print('Insufficient amount')\n",
        "        else:\n",
        "            cst.balance-=amt"
      ]
    },
    {
      "cell_type": "code",
      "execution_count": null,
      "id": "f44b31c2-e0f3-4e8f-9daa-b48b3633c52d",
      "metadata": {
        "id": "f44b31c2-e0f3-4e8f-9daa-b48b3633c52d"
      },
      "outputs": [],
      "source": [
        "c1=Customer('Kuldeep',5500)\n",
        "c2=Customer('Kshitij',6200)"
      ]
    },
    {
      "cell_type": "code",
      "execution_count": null,
      "id": "8e83da41-1d42-45a9-930b-8f30786055cd",
      "metadata": {
        "id": "8e83da41-1d42-45a9-930b-8f30786055cd"
      },
      "outputs": [],
      "source": [
        "b=Banking()"
      ]
    },
    {
      "cell_type": "code",
      "execution_count": null,
      "id": "87fb5baf-2bc0-4dae-854c-f28ccfc6c3ed",
      "metadata": {
        "id": "87fb5baf-2bc0-4dae-854c-f28ccfc6c3ed"
      },
      "outputs": [],
      "source": [
        "b.deposit(c1,200)"
      ]
    },
    {
      "cell_type": "code",
      "execution_count": null,
      "id": "09e8393b-be3c-4467-8afc-5459a5425cad",
      "metadata": {
        "id": "09e8393b-be3c-4467-8afc-5459a5425cad",
        "outputId": "a06fa911-7fe1-4ba3-8a20-d82793b6df9e"
      },
      "outputs": [
        {
          "name": "stdout",
          "output_type": "stream",
          "text": [
            "Kuldeep\n",
            "5700\n"
          ]
        }
      ],
      "source": [
        "c1.show()"
      ]
    },
    {
      "cell_type": "code",
      "execution_count": null,
      "id": "6a52ef21-12f8-426c-8006-d8a97839c7c1",
      "metadata": {
        "id": "6a52ef21-12f8-426c-8006-d8a97839c7c1"
      },
      "outputs": [],
      "source": [
        "b.withdrawl(c2,300)"
      ]
    },
    {
      "cell_type": "code",
      "execution_count": null,
      "id": "94258148-3b70-4071-a6cb-2a6c12d52f63",
      "metadata": {
        "id": "94258148-3b70-4071-a6cb-2a6c12d52f63",
        "outputId": "6d9c13a0-a0be-47c8-c4a6-ee91e21ed1a2"
      },
      "outputs": [
        {
          "name": "stdout",
          "output_type": "stream",
          "text": [
            "Kshitij\n",
            "5900\n"
          ]
        }
      ],
      "source": [
        "c2.show()"
      ]
    },
    {
      "cell_type": "markdown",
      "id": "3f4264c5-5327-4090-9b94-4ddff8edc5f5",
      "metadata": {
        "id": "3f4264c5-5327-4090-9b94-4ddff8edc5f5"
      },
      "source": [
        "# Nested class"
      ]
    },
    {
      "cell_type": "code",
      "execution_count": null,
      "id": "e70b3153-6f5e-4587-9db3-d2a58c97783b",
      "metadata": {
        "id": "e70b3153-6f5e-4587-9db3-d2a58c97783b"
      },
      "outputs": [],
      "source": [
        "# - When we have a class within another class then we call it as nested class"
      ]
    },
    {
      "cell_type": "code",
      "execution_count": null,
      "id": "3625765d-5dd7-4972-8fc5-db2ff9fd654f",
      "metadata": {
        "id": "3625765d-5dd7-4972-8fc5-db2ff9fd654f"
      },
      "outputs": [],
      "source": [
        "class outer:\n",
        "    class inner:\n",
        "        code\n",
        "        code"
      ]
    },
    {
      "cell_type": "code",
      "execution_count": null,
      "id": "267d4631-2d7b-4979-92af-18e16e5da168",
      "metadata": {
        "id": "267d4631-2d7b-4979-92af-18e16e5da168"
      },
      "outputs": [],
      "source": [
        "# - Inner class can only be created once the outer class has been created."
      ]
    },
    {
      "cell_type": "code",
      "execution_count": null,
      "id": "18dc9f87-5c87-4f1a-a9bc-353a81edf251",
      "metadata": {
        "id": "18dc9f87-5c87-4f1a-a9bc-353a81edf251"
      },
      "outputs": [],
      "source": [
        "class Outer:\n",
        "    class Inner:\n",
        "        def __init__(self):\n",
        "            self.name='Inner class'\n",
        "            print(self.name)"
      ]
    },
    {
      "cell_type": "code",
      "execution_count": null,
      "id": "7ac350e1-a2ab-4412-a6d4-191494bb998f",
      "metadata": {
        "id": "7ac350e1-a2ab-4412-a6d4-191494bb998f",
        "outputId": "fd24ddc6-403b-4c2b-bf53-273a1775301e"
      },
      "outputs": [
        {
          "name": "stdout",
          "output_type": "stream",
          "text": [
            "Inner class\n"
          ]
        },
        {
          "data": {
            "text/plain": [
              "<__main__.Outer.Inner at 0x2c92609a250>"
            ]
          },
          "execution_count": 209,
          "metadata": {},
          "output_type": "execute_result"
        }
      ],
      "source": [
        "Outer().Inner()"
      ]
    },
    {
      "cell_type": "code",
      "execution_count": null,
      "id": "c3c18d08-113c-436c-a06c-a3fa7f5ed554",
      "metadata": {
        "id": "c3c18d08-113c-436c-a06c-a3fa7f5ed554"
      },
      "outputs": [],
      "source": [
        "x=Outer()"
      ]
    },
    {
      "cell_type": "code",
      "execution_count": null,
      "id": "ee3e13b3-6f0c-4f9a-92bb-90c39f693696",
      "metadata": {
        "id": "ee3e13b3-6f0c-4f9a-92bb-90c39f693696",
        "outputId": "61117dc2-6ff6-42e6-f9d9-50948a3fefd2"
      },
      "outputs": [
        {
          "name": "stdout",
          "output_type": "stream",
          "text": [
            "Inner class\n"
          ]
        }
      ],
      "source": [
        "y=x.Inner()"
      ]
    },
    {
      "cell_type": "code",
      "execution_count": null,
      "id": "55ad1092-0fcc-4681-9ad4-319a6385cb35",
      "metadata": {
        "id": "55ad1092-0fcc-4681-9ad4-319a6385cb35",
        "outputId": "19aa039c-2ed3-4dc9-9fa1-ae20c049e47d"
      },
      "outputs": [
        {
          "name": "stdout",
          "output_type": "stream",
          "text": [
            "<__main__.Outer.Inner object at 0x000002C925073210> <class '__main__.Outer.Inner'>\n"
          ]
        }
      ],
      "source": [
        "print(y,type(y))"
      ]
    },
    {
      "cell_type": "code",
      "execution_count": null,
      "id": "648234e8-594e-4cd5-9455-9a753ef01dd4",
      "metadata": {
        "id": "648234e8-594e-4cd5-9455-9a753ef01dd4"
      },
      "outputs": [],
      "source": []
    },
    {
      "cell_type": "code",
      "execution_count": null,
      "id": "5da48920-2afb-4218-862a-a1c0db392ddc",
      "metadata": {
        "id": "5da48920-2afb-4218-862a-a1c0db392ddc"
      },
      "outputs": [],
      "source": [
        "class University:\n",
        "    class Degree:\n",
        "        class Course:\n",
        "            def syllabus(self):\n",
        "                print('No data available')"
      ]
    },
    {
      "cell_type": "code",
      "execution_count": null,
      "id": "39fa9cd0-1fc1-46f8-87e9-6e316c48311c",
      "metadata": {
        "id": "39fa9cd0-1fc1-46f8-87e9-6e316c48311c",
        "outputId": "608a3a55-da96-4e77-8fe3-cbf187d970e7"
      },
      "outputs": [
        {
          "name": "stdout",
          "output_type": "stream",
          "text": [
            "<__main__.University object at 0x000002C9260E4650> <class '__main__.University'>\n"
          ]
        }
      ],
      "source": [
        "x=University()\n",
        "print(x,type(x))"
      ]
    },
    {
      "cell_type": "code",
      "execution_count": null,
      "id": "4019c341-8ca7-4c0b-86b1-b7499f2961e0",
      "metadata": {
        "id": "4019c341-8ca7-4c0b-86b1-b7499f2961e0",
        "outputId": "7b7c0946-0737-4929-de8b-b8d48f38ac85"
      },
      "outputs": [
        {
          "name": "stdout",
          "output_type": "stream",
          "text": [
            "<__main__.University.Degree object at 0x000002C9260B3850> <class '__main__.University.Degree'>\n"
          ]
        }
      ],
      "source": [
        "y=x.Degree()\n",
        "print(y,type(y))"
      ]
    },
    {
      "cell_type": "code",
      "execution_count": null,
      "id": "9202b0af-d9e9-43ce-b50d-9a96f51f18fe",
      "metadata": {
        "id": "9202b0af-d9e9-43ce-b50d-9a96f51f18fe",
        "outputId": "d82745fa-c167-4e69-b635-82513efecb63"
      },
      "outputs": [
        {
          "name": "stdout",
          "output_type": "stream",
          "text": [
            "<__main__.University.Degree.Course object at 0x000002C9260EED10> <class '__main__.University.Degree.Course'>\n"
          ]
        }
      ],
      "source": [
        "z=y.Course()\n",
        "print(z,type(z))"
      ]
    },
    {
      "cell_type": "code",
      "execution_count": null,
      "id": "383d9647-f0aa-4ae6-826f-384800788048",
      "metadata": {
        "id": "383d9647-f0aa-4ae6-826f-384800788048"
      },
      "outputs": [],
      "source": [
        "# Here z is a reference variable"
      ]
    },
    {
      "cell_type": "code",
      "execution_count": null,
      "id": "a279bca4-be33-491c-8467-7ef9f8ec405e",
      "metadata": {
        "id": "a279bca4-be33-491c-8467-7ef9f8ec405e",
        "outputId": "b33b97b3-68af-4811-b09c-acf2102cbe86"
      },
      "outputs": [
        {
          "name": "stdout",
          "output_type": "stream",
          "text": [
            "No data available\n"
          ]
        }
      ],
      "source": [
        "z.syllabus() # Instance method"
      ]
    },
    {
      "cell_type": "code",
      "execution_count": null,
      "id": "a6b048fe-f154-46f2-95de-455ab7a3db70",
      "metadata": {
        "id": "a6b048fe-f154-46f2-95de-455ab7a3db70",
        "outputId": "9e12862b-17fe-4a78-a9aa-8f76b1ec7395"
      },
      "outputs": [
        {
          "data": {
            "text/plain": [
              "(<__main__.University.Degree at 0x2c9260b3850>, __main__.University.Degree)"
            ]
          },
          "execution_count": 255,
          "metadata": {},
          "output_type": "execute_result"
        }
      ],
      "source": [
        "y,type(y)"
      ]
    },
    {
      "cell_type": "code",
      "execution_count": null,
      "id": "84302d8c-44bc-403f-9084-389f46c4703a",
      "metadata": {
        "id": "84302d8c-44bc-403f-9084-389f46c4703a",
        "outputId": "0e046466-e6a6-4c4e-ca49-365d632605b0"
      },
      "outputs": [
        {
          "name": "stdout",
          "output_type": "stream",
          "text": [
            "No data available\n"
          ]
        }
      ],
      "source": [
        "y.Course.syllabus(2) # static method"
      ]
    },
    {
      "cell_type": "code",
      "execution_count": null,
      "id": "9ae91129-b507-4e37-a2ab-ddb5f6f37521",
      "metadata": {
        "id": "9ae91129-b507-4e37-a2ab-ddb5f6f37521"
      },
      "outputs": [],
      "source": [
        "class University:\n",
        "    class Degree:\n",
        "        class Course:\n",
        "            def syllabus():\n",
        "                print('No data available')"
      ]
    },
    {
      "cell_type": "code",
      "execution_count": null,
      "id": "0be2bc28-b591-48c8-80be-ff68a97b01fe",
      "metadata": {
        "id": "0be2bc28-b591-48c8-80be-ff68a97b01fe",
        "outputId": "087c8ad4-0d4d-4ceb-f84d-c73b580174fd"
      },
      "outputs": [
        {
          "name": "stdout",
          "output_type": "stream",
          "text": [
            "No data available\n"
          ]
        }
      ],
      "source": [
        "University().Degree().Course.syllabus() # static method"
      ]
    },
    {
      "cell_type": "code",
      "execution_count": null,
      "id": "7b3a6c25-3a53-4dfe-b6fd-d19f6c285783",
      "metadata": {
        "id": "7b3a6c25-3a53-4dfe-b6fd-d19f6c285783",
        "outputId": "947b1fd6-c021-4a07-fd95-173982b63f16"
      },
      "outputs": [
        {
          "ename": "TypeError",
          "evalue": "University.Degree.Course.syllabus() takes 0 positional arguments but 1 was given",
          "output_type": "error",
          "traceback": [
            "\u001b[1;31m---------------------------------------------------------------------------\u001b[0m",
            "\u001b[1;31mTypeError\u001b[0m                                 Traceback (most recent call last)",
            "Cell \u001b[1;32mIn[268], line 1\u001b[0m\n\u001b[1;32m----> 1\u001b[0m University()\u001b[38;5;241m.\u001b[39mDegree()\u001b[38;5;241m.\u001b[39mCourse()\u001b[38;5;241m.\u001b[39msyllabus()\n",
            "\u001b[1;31mTypeError\u001b[0m: University.Degree.Course.syllabus() takes 0 positional arguments but 1 was given"
          ]
        }
      ],
      "source": [
        "University().Degree().Course().syllabus() # instance method"
      ]
    },
    {
      "cell_type": "code",
      "execution_count": null,
      "id": "d929f30b-6482-47a1-ab66-27ae8cb5d4d6",
      "metadata": {
        "id": "d929f30b-6482-47a1-ab66-27ae8cb5d4d6"
      },
      "outputs": [],
      "source": []
    }
  ],
  "metadata": {
    "kernelspec": {
      "display_name": "Python 3 (ipykernel)",
      "language": "python",
      "name": "python3"
    },
    "language_info": {
      "codemirror_mode": {
        "name": "ipython",
        "version": 3
      },
      "file_extension": ".py",
      "mimetype": "text/x-python",
      "name": "python",
      "nbconvert_exporter": "python",
      "pygments_lexer": "ipython3",
      "version": "3.11.7"
    },
    "colab": {
      "provenance": []
    }
  },
  "nbformat": 4,
  "nbformat_minor": 5
}