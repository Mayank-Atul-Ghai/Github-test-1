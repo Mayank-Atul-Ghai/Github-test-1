{
 "cells": [
  {
   "cell_type": "code",
   "execution_count": 1,
   "id": "eef5cc14-7cf4-414c-b88c-4819875b8ae2",
   "metadata": {},
   "outputs": [],
   "source": [
    "# Class Inheritance\n",
    "# Composition and Aggregation"
   ]
  },
  {
   "cell_type": "markdown",
   "id": "5497ca4d-d3b4-4533-bbc1-9776dc70e66d",
   "metadata": {},
   "source": [
    "# Types of Inheritance"
   ]
  },
  {
   "cell_type": "code",
   "execution_count": 2,
   "id": "da4a9bea-542d-4c07-a9a7-bc06361f51c7",
   "metadata": {},
   "outputs": [],
   "source": [
    "# Single Inheritance\n",
    "# Multilevel Inheritance\n",
    "# Multiple Inheritance\n",
    "# Hierarchical Inheritance\n",
    "# Hybrid Inheritance\n",
    "# Cyclic Inheritance"
   ]
  },
  {
   "cell_type": "markdown",
   "id": "7deb68a0-071b-4d80-a8f1-b4f5c7ed1130",
   "metadata": {},
   "source": [
    "# Single Inheritance"
   ]
  },
  {
   "cell_type": "code",
   "execution_count": 3,
   "id": "a2efb2db-b29b-4a38-991b-50287cee6fdc",
   "metadata": {},
   "outputs": [],
   "source": [
    "# - When we have only one parent class and one child class then it is sinhle inheritance."
   ]
  },
  {
   "cell_type": "code",
   "execution_count": 4,
   "id": "c5ad5643-3255-4d68-818e-d19f5a6339b0",
   "metadata": {},
   "outputs": [],
   "source": [
    "class P:\n",
    "    def m1(self):\n",
    "        print('I am parent method')\n",
    "\n",
    "class C(P):\n",
    "    def m2(self):\n",
    "        print('I am child method')"
   ]
  },
  {
   "cell_type": "code",
   "execution_count": 5,
   "id": "69d1691a-e155-47af-85b1-089b5d8b0ec0",
   "metadata": {},
   "outputs": [],
   "source": [
    "c=C()"
   ]
  },
  {
   "cell_type": "code",
   "execution_count": 6,
   "id": "3eb16b3d-8082-455a-b511-4eb4b0e28967",
   "metadata": {},
   "outputs": [
    {
     "name": "stdout",
     "output_type": "stream",
     "text": [
      "I am parent method\n"
     ]
    }
   ],
   "source": [
    "c.m1()"
   ]
  },
  {
   "cell_type": "code",
   "execution_count": 7,
   "id": "c064cf69-9231-4337-bd28-369f8a170d49",
   "metadata": {},
   "outputs": [
    {
     "name": "stdout",
     "output_type": "stream",
     "text": [
      "I am child method\n"
     ]
    }
   ],
   "source": [
    "c.m2()"
   ]
  },
  {
   "cell_type": "code",
   "execution_count": 8,
   "id": "bc85b070-3b44-46e3-8eed-0fa371f4eb35",
   "metadata": {},
   "outputs": [],
   "source": [
    "p=P()"
   ]
  },
  {
   "cell_type": "code",
   "execution_count": 9,
   "id": "f494c8db-ed5e-49a2-a096-5190ff0bbd8c",
   "metadata": {},
   "outputs": [
    {
     "name": "stdout",
     "output_type": "stream",
     "text": [
      "I am parent method\n"
     ]
    }
   ],
   "source": [
    "p.m1()"
   ]
  },
  {
   "cell_type": "code",
   "execution_count": 10,
   "id": "ebbf2c68-54d4-4ad2-9d44-bb594f947d00",
   "metadata": {},
   "outputs": [
    {
     "ename": "AttributeError",
     "evalue": "'P' object has no attribute 'm2'",
     "output_type": "error",
     "traceback": [
      "\u001b[1;31m---------------------------------------------------------------------------\u001b[0m",
      "\u001b[1;31mAttributeError\u001b[0m                            Traceback (most recent call last)",
      "Cell \u001b[1;32mIn[10], line 1\u001b[0m\n\u001b[1;32m----> 1\u001b[0m p\u001b[38;5;241m.\u001b[39mm2()\n",
      "\u001b[1;31mAttributeError\u001b[0m: 'P' object has no attribute 'm2'"
     ]
    }
   ],
   "source": [
    "p.m2()"
   ]
  },
  {
   "cell_type": "code",
   "execution_count": 11,
   "id": "6ee053d2-e892-45e3-b8d6-577f41760525",
   "metadata": {},
   "outputs": [],
   "source": [
    "class P:\n",
    "    def m1(self):\n",
    "        print('I am parent method')\n",
    "\n",
    "class C(P):\n",
    "    def m1(self):\n",
    "        print('I am child method')"
   ]
  },
  {
   "cell_type": "code",
   "execution_count": 12,
   "id": "902e734b-2856-46ea-82a6-4613a921f5d1",
   "metadata": {},
   "outputs": [],
   "source": [
    "c=C()"
   ]
  },
  {
   "cell_type": "code",
   "execution_count": 13,
   "id": "c3217e48-9ec4-4154-ab47-a0d6dc374581",
   "metadata": {},
   "outputs": [
    {
     "name": "stdout",
     "output_type": "stream",
     "text": [
      "I am child method\n"
     ]
    }
   ],
   "source": [
    "c.m1()"
   ]
  },
  {
   "cell_type": "markdown",
   "id": "fda7b8e4-2b50-4cdb-844c-1473405ea09b",
   "metadata": {},
   "source": [
    "# Hierarchical Inheritance"
   ]
  },
  {
   "cell_type": "code",
   "execution_count": 15,
   "id": "c18043b0-b8ee-40c0-a8dd-22aedac3fc7c",
   "metadata": {},
   "outputs": [],
   "source": [
    "# - When we have one parent class but multiple child classes then we call it as hierarchical inheritance.\n",
    "# - It is also called as one to many relationship."
   ]
  },
  {
   "cell_type": "code",
   "execution_count": 19,
   "id": "ffb59385-f4b1-45fb-bb4f-da80d795b633",
   "metadata": {},
   "outputs": [],
   "source": [
    "class P:\n",
    "    def m1(self):\n",
    "        print('Parent class method')\n",
    "class C1(P):\n",
    "    def m2(self):\n",
    "        print('C1 class method')\n",
    "class C2(P):\n",
    "    def m3(self):\n",
    "        print('C2 class method')\n",
    "class C3(P):\n",
    "    def m4(self):\n",
    "        print('C3 class method')"
   ]
  },
  {
   "cell_type": "code",
   "execution_count": 20,
   "id": "7cb6a79a-ffa0-4332-b157-6b9588282cfd",
   "metadata": {},
   "outputs": [],
   "source": [
    "c=C1()"
   ]
  },
  {
   "cell_type": "code",
   "execution_count": 21,
   "id": "f170a349-0d1a-4c75-8eb1-04a7234f80c5",
   "metadata": {},
   "outputs": [
    {
     "name": "stdout",
     "output_type": "stream",
     "text": [
      "C1 class method\n"
     ]
    }
   ],
   "source": [
    "c.m2()"
   ]
  },
  {
   "cell_type": "code",
   "execution_count": 22,
   "id": "90767655-5ca7-460d-afb7-c156f1bdec76",
   "metadata": {},
   "outputs": [
    {
     "name": "stdout",
     "output_type": "stream",
     "text": [
      "Parent class method\n"
     ]
    }
   ],
   "source": [
    "c.m1()"
   ]
  },
  {
   "cell_type": "code",
   "execution_count": 25,
   "id": "f8dccf61-c520-44ed-b05d-25dc98055a2c",
   "metadata": {},
   "outputs": [],
   "source": [
    "# c.m3()"
   ]
  },
  {
   "cell_type": "code",
   "execution_count": 26,
   "id": "12311373-8bde-4a18-bbee-b833325eb8be",
   "metadata": {},
   "outputs": [],
   "source": [
    "# c.m4()"
   ]
  },
  {
   "cell_type": "code",
   "execution_count": 27,
   "id": "27a1db0f-bc07-4404-b85f-ea33fa7cdfa0",
   "metadata": {},
   "outputs": [],
   "source": [
    "c2=C2()"
   ]
  },
  {
   "cell_type": "code",
   "execution_count": 28,
   "id": "bb7c0432-a658-4d64-acce-2f10c71f6a96",
   "metadata": {},
   "outputs": [
    {
     "name": "stdout",
     "output_type": "stream",
     "text": [
      "C2 class method\n"
     ]
    }
   ],
   "source": [
    "c2.m3()"
   ]
  },
  {
   "cell_type": "code",
   "execution_count": 29,
   "id": "61a3d17a-56f7-48a8-b758-f036e34713c2",
   "metadata": {},
   "outputs": [
    {
     "name": "stdout",
     "output_type": "stream",
     "text": [
      "Parent class method\n"
     ]
    }
   ],
   "source": [
    "c2.m1()"
   ]
  },
  {
   "cell_type": "code",
   "execution_count": 32,
   "id": "ee2adb11-43c8-41ee-b958-5b5d2f559569",
   "metadata": {},
   "outputs": [],
   "source": [
    "# c2.m2()"
   ]
  },
  {
   "cell_type": "code",
   "execution_count": 33,
   "id": "fbd7789d-4ab8-4d29-9218-baa40b95f5cd",
   "metadata": {},
   "outputs": [],
   "source": [
    "# c2.m4()"
   ]
  },
  {
   "cell_type": "code",
   "execution_count": 34,
   "id": "d25755df-1948-4f7a-be92-4467db91508d",
   "metadata": {},
   "outputs": [],
   "source": [
    "c3=C3()"
   ]
  },
  {
   "cell_type": "code",
   "execution_count": 35,
   "id": "2a412be9-2074-4e32-b802-b50f82e5d1c7",
   "metadata": {},
   "outputs": [
    {
     "name": "stdout",
     "output_type": "stream",
     "text": [
      "C3 class method\n"
     ]
    }
   ],
   "source": [
    "c3.m4()"
   ]
  },
  {
   "cell_type": "code",
   "execution_count": 36,
   "id": "b2459a3f-9d8f-4b69-80cf-0419936b1b39",
   "metadata": {},
   "outputs": [
    {
     "name": "stdout",
     "output_type": "stream",
     "text": [
      "Parent class method\n"
     ]
    }
   ],
   "source": [
    "c3.m1()"
   ]
  },
  {
   "cell_type": "markdown",
   "id": "fc83fe2a-29f9-4180-a55a-45dd82ee63e1",
   "metadata": {},
   "source": [
    "# Multiple Inheritance"
   ]
  },
  {
   "cell_type": "code",
   "execution_count": 38,
   "id": "85d26f1c-eaa8-451a-afb2-07e0e22be13d",
   "metadata": {},
   "outputs": [],
   "source": [
    "# - When we have multiple parent classes and only one child class then it is known as multiple inheritance.\n",
    "# - It is also known as many to one relationship."
   ]
  },
  {
   "cell_type": "code",
   "execution_count": 39,
   "id": "453e8268-c8e5-4b4c-9ea2-e1061b54698f",
   "metadata": {},
   "outputs": [],
   "source": [
    "class P1:\n",
    "    def m1(self):\n",
    "        print('P1 class method')\n",
    "\n",
    "class P2:\n",
    "    def m2(self):\n",
    "        print('P2 class method')\n",
    "\n",
    "class C(P1,P2):\n",
    "    def m3(self):\n",
    "        print('Child method')"
   ]
  },
  {
   "cell_type": "code",
   "execution_count": 40,
   "id": "3212a8b4-d23e-486e-8fd7-91ecaef54827",
   "metadata": {},
   "outputs": [],
   "source": [
    "c=C()"
   ]
  },
  {
   "cell_type": "code",
   "execution_count": 41,
   "id": "70f09504-2339-4e98-a26b-51b8fa5e7c95",
   "metadata": {},
   "outputs": [
    {
     "name": "stdout",
     "output_type": "stream",
     "text": [
      "Child method\n"
     ]
    }
   ],
   "source": [
    "c.m3()"
   ]
  },
  {
   "cell_type": "code",
   "execution_count": 42,
   "id": "129b91d5-bb49-4099-81ae-1ab0e9290710",
   "metadata": {},
   "outputs": [
    {
     "name": "stdout",
     "output_type": "stream",
     "text": [
      "P1 class method\n"
     ]
    }
   ],
   "source": [
    "c.m1()"
   ]
  },
  {
   "cell_type": "code",
   "execution_count": 43,
   "id": "5bbc50a4-946c-46bc-89bd-4bd0d632f206",
   "metadata": {},
   "outputs": [
    {
     "name": "stdout",
     "output_type": "stream",
     "text": [
      "P2 class method\n"
     ]
    }
   ],
   "source": [
    "c.m2()"
   ]
  },
  {
   "cell_type": "code",
   "execution_count": 47,
   "id": "19ad8759-7ff1-429f-b5c4-1d53aef5cb33",
   "metadata": {},
   "outputs": [],
   "source": [
    "class P1:\n",
    "    def m1(self):\n",
    "        print('P1 class method')\n",
    "\n",
    "class P2:\n",
    "    def m1(self):\n",
    "        print('P2 class method')\n",
    "\n",
    "class C(P1,P2):\n",
    "    pass\n",
    "    # def m1(self):\n",
    "    #     print('Child method')"
   ]
  },
  {
   "cell_type": "code",
   "execution_count": 45,
   "id": "35f8f27f-d0d1-4e26-8ce1-74cc4b7bc6ec",
   "metadata": {},
   "outputs": [],
   "source": [
    "c=C()"
   ]
  },
  {
   "cell_type": "code",
   "execution_count": 46,
   "id": "36d4dc9f-14dd-4431-b708-d246828e94c6",
   "metadata": {},
   "outputs": [
    {
     "name": "stdout",
     "output_type": "stream",
     "text": [
      "Child method\n"
     ]
    }
   ],
   "source": [
    "c.m1()"
   ]
  },
  {
   "cell_type": "code",
   "execution_count": 48,
   "id": "ea389b12-ec49-4a50-96e3-2cb6c8f6cc61",
   "metadata": {},
   "outputs": [],
   "source": [
    "c=C()"
   ]
  },
  {
   "cell_type": "code",
   "execution_count": 49,
   "id": "77e6705a-c352-4bef-87f7-3db704e2d4f9",
   "metadata": {},
   "outputs": [
    {
     "name": "stdout",
     "output_type": "stream",
     "text": [
      "P1 class method\n"
     ]
    }
   ],
   "source": [
    "c.m1()"
   ]
  },
  {
   "cell_type": "code",
   "execution_count": 50,
   "id": "5176b69d-f067-4171-aa17-902495f99c6d",
   "metadata": {},
   "outputs": [],
   "source": [
    "class P1:\n",
    "    def m1(self):\n",
    "        print('P1 class method')\n",
    "\n",
    "class P2:\n",
    "    def m1(self):\n",
    "        print('P2 class method')\n",
    "\n",
    "class C(P2,P1):\n",
    "    pass\n",
    "    # def m1(self):\n",
    "    #     print('Child method')"
   ]
  },
  {
   "cell_type": "code",
   "execution_count": 51,
   "id": "2b255827-31fe-4792-8848-764cda2855d8",
   "metadata": {},
   "outputs": [],
   "source": [
    "c=C()"
   ]
  },
  {
   "cell_type": "code",
   "execution_count": 52,
   "id": "84fc5e7b-1bac-422f-b5e7-5b0254cebd07",
   "metadata": {},
   "outputs": [
    {
     "name": "stdout",
     "output_type": "stream",
     "text": [
      "P2 class method\n"
     ]
    }
   ],
   "source": [
    "c.m1()"
   ]
  },
  {
   "cell_type": "code",
   "execution_count": 55,
   "id": "a79f52c5-20e4-410e-a872-d36051deccc3",
   "metadata": {},
   "outputs": [],
   "source": [
    "class Company_1:\n",
    "    def designation(self):\n",
    "        print('Data Scientist')\n",
    "\n",
    "class Company_2:\n",
    "    def post(self):\n",
    "        print('Counsulatant')\n",
    "\n",
    "class Employee(Company_1,Company_2):\n",
    "    def portfolio(self):\n",
    "        print('I am working')"
   ]
  },
  {
   "cell_type": "code",
   "execution_count": 56,
   "id": "9c5a3191-0e83-4a9e-8e44-4086f00bb7ea",
   "metadata": {},
   "outputs": [],
   "source": [
    "e=Employee()"
   ]
  },
  {
   "cell_type": "code",
   "execution_count": 57,
   "id": "016f690f-603b-4d02-ae0c-b45767a8aa75",
   "metadata": {},
   "outputs": [
    {
     "name": "stdout",
     "output_type": "stream",
     "text": [
      "Data Scientist\n"
     ]
    }
   ],
   "source": [
    "e.designation()"
   ]
  },
  {
   "cell_type": "code",
   "execution_count": 58,
   "id": "bccd8efc-7a78-4265-8dd5-b2f82bccb5fb",
   "metadata": {},
   "outputs": [
    {
     "name": "stdout",
     "output_type": "stream",
     "text": [
      "Counsulatant\n"
     ]
    }
   ],
   "source": [
    "e.post()"
   ]
  },
  {
   "cell_type": "markdown",
   "id": "e1e06c0d-c3a2-40f4-9339-941390c4c843",
   "metadata": {},
   "source": [
    "# Multivel Inheritance"
   ]
  },
  {
   "cell_type": "code",
   "execution_count": 59,
   "id": "124b6334-33bf-4779-9f95-94870759bbb3",
   "metadata": {},
   "outputs": [],
   "source": [
    "# - When a child class may be a parent class to some other child class then it is multilevel inheritance."
   ]
  },
  {
   "cell_type": "code",
   "execution_count": 60,
   "id": "4dd2bffa-d976-45fa-88f0-8ee50cf548b5",
   "metadata": {},
   "outputs": [],
   "source": [
    "class P:\n",
    "    def m1(self):\n",
    "        print('Parent class')\n",
    "\n",
    "class C(P):\n",
    "    def m2(self):\n",
    "        print('I am child class')\n",
    "\n",
    "class CC(C):\n",
    "    def m3(self):\n",
    "        print('I am the sub class')"
   ]
  },
  {
   "cell_type": "code",
   "execution_count": 61,
   "id": "d7d48676-1298-4427-beb1-d807c79990d6",
   "metadata": {},
   "outputs": [],
   "source": [
    "c=CC()"
   ]
  },
  {
   "cell_type": "code",
   "execution_count": 62,
   "id": "625ea8a0-3041-4a0b-8fe3-8eb5474ec3a3",
   "metadata": {},
   "outputs": [
    {
     "name": "stdout",
     "output_type": "stream",
     "text": [
      "I am the sub class\n"
     ]
    }
   ],
   "source": [
    "c.m3()"
   ]
  },
  {
   "cell_type": "code",
   "execution_count": 65,
   "id": "7e7ac8de-0d5b-4ab7-b4d3-1c765c5a27d0",
   "metadata": {},
   "outputs": [
    {
     "name": "stdout",
     "output_type": "stream",
     "text": [
      "I am child class\n"
     ]
    }
   ],
   "source": [
    "c.m2()"
   ]
  },
  {
   "cell_type": "code",
   "execution_count": 66,
   "id": "051ef271-463a-4304-a9f7-3c7b1ebf2bbd",
   "metadata": {},
   "outputs": [
    {
     "name": "stdout",
     "output_type": "stream",
     "text": [
      "Parent class\n"
     ]
    }
   ],
   "source": [
    "c.m1()"
   ]
  },
  {
   "cell_type": "code",
   "execution_count": 67,
   "id": "216c98cf-1901-448c-b62b-d83caced1593",
   "metadata": {},
   "outputs": [],
   "source": [
    "x=C()"
   ]
  },
  {
   "cell_type": "code",
   "execution_count": 68,
   "id": "71b581e2-b160-4503-ad32-8e3f82329574",
   "metadata": {},
   "outputs": [
    {
     "name": "stdout",
     "output_type": "stream",
     "text": [
      "I am child class\n"
     ]
    }
   ],
   "source": [
    "x.m2()"
   ]
  },
  {
   "cell_type": "code",
   "execution_count": 69,
   "id": "626a75de-4b79-41be-8274-dc516f8a761c",
   "metadata": {},
   "outputs": [
    {
     "name": "stdout",
     "output_type": "stream",
     "text": [
      "Parent class\n"
     ]
    }
   ],
   "source": [
    "x.m1()"
   ]
  },
  {
   "cell_type": "code",
   "execution_count": 70,
   "id": "3de76779-a38c-44c2-940b-d4ffdbbe0dfd",
   "metadata": {},
   "outputs": [
    {
     "ename": "AttributeError",
     "evalue": "'C' object has no attribute 'm3'",
     "output_type": "error",
     "traceback": [
      "\u001b[1;31m---------------------------------------------------------------------------\u001b[0m",
      "\u001b[1;31mAttributeError\u001b[0m                            Traceback (most recent call last)",
      "Cell \u001b[1;32mIn[70], line 1\u001b[0m\n\u001b[1;32m----> 1\u001b[0m x\u001b[38;5;241m.\u001b[39mm3()\n",
      "\u001b[1;31mAttributeError\u001b[0m: 'C' object has no attribute 'm3'"
     ]
    }
   ],
   "source": [
    "x.m3()"
   ]
  },
  {
   "cell_type": "code",
   "execution_count": 81,
   "id": "7c31358c-bf7e-44b4-8211-763d6b38ff67",
   "metadata": {},
   "outputs": [],
   "source": [
    "class College:\n",
    "    def __init__(self,name,city,university):\n",
    "        self.name=name\n",
    "        self.city=city\n",
    "        self.university=university\n",
    "\n",
    "    def display(self):\n",
    "        print(f'The college name is {self.name}')\n",
    "        print(f'The collesge is in {self.city}')\n",
    "        print(f'The college is affiliated to {self.university}')\n",
    "\n",
    "class Degree(College):\n",
    "    def __init__(self,specialisation,duration,fees):\n",
    "        self.specialisation=specialisation\n",
    "        self.duration=duration\n",
    "        self.fees=fees\n",
    "\n",
    "    def degree_info(self):\n",
    "        print(f'The specialisation is {self.specialisation}')\n",
    "        print(f'The duration of the degree is {self.duration}')\n",
    "        print(f'You have to pay {self.fees}')\n",
    "\n",
    "class Student(De):\n",
    "    def __init__(self,name,roll):\n",
    "        self.name=name\n",
    "        self.roll=roll\n",
    "\n",
    "    def student_info(self):\n",
    "        print(f'My name is {self.name}')\n",
    "        print(f'My roll number is {self.roll}')"
   ]
  },
  {
   "cell_type": "code",
   "execution_count": 79,
   "id": "0c6dc40c-852f-4e44-b57a-489a9cd42c0d",
   "metadata": {},
   "outputs": [],
   "source": [
    "s=Student('Amit',11)"
   ]
  },
  {
   "cell_type": "code",
   "execution_count": 80,
   "id": "1fff6ddb-57d8-4a52-9a3f-1153ccb46886",
   "metadata": {},
   "outputs": [
    {
     "name": "stdout",
     "output_type": "stream",
     "text": [
      "My name is Amit\n",
      "My roll number is 11\n"
     ]
    }
   ],
   "source": [
    "s.student_info()"
   ]
  },
  {
   "cell_type": "code",
   "execution_count": 82,
   "id": "c190d44b-2199-4789-8666-91f691ba535d",
   "metadata": {},
   "outputs": [
    {
     "ename": "AttributeError",
     "evalue": "'Student' object has no attribute 'specialisation'",
     "output_type": "error",
     "traceback": [
      "\u001b[1;31m---------------------------------------------------------------------------\u001b[0m",
      "\u001b[1;31mAttributeError\u001b[0m                            Traceback (most recent call last)",
      "Cell \u001b[1;32mIn[82], line 1\u001b[0m\n\u001b[1;32m----> 1\u001b[0m s\u001b[38;5;241m.\u001b[39mdegree_info()\n",
      "Cell \u001b[1;32mIn[81], line 19\u001b[0m, in \u001b[0;36mDegree.degree_info\u001b[1;34m(self)\u001b[0m\n\u001b[0;32m     18\u001b[0m \u001b[38;5;28;01mdef\u001b[39;00m \u001b[38;5;21mdegree_info\u001b[39m(\u001b[38;5;28mself\u001b[39m):\n\u001b[1;32m---> 19\u001b[0m     \u001b[38;5;28mprint\u001b[39m(\u001b[38;5;124mf\u001b[39m\u001b[38;5;124m'\u001b[39m\u001b[38;5;124mThe specialisation is \u001b[39m\u001b[38;5;132;01m{\u001b[39;00m\u001b[38;5;28mself\u001b[39m\u001b[38;5;241m.\u001b[39mspecialisation\u001b[38;5;132;01m}\u001b[39;00m\u001b[38;5;124m'\u001b[39m)\n\u001b[0;32m     20\u001b[0m     \u001b[38;5;28mprint\u001b[39m(\u001b[38;5;124mf\u001b[39m\u001b[38;5;124m'\u001b[39m\u001b[38;5;124mThe duration of the degree is \u001b[39m\u001b[38;5;132;01m{\u001b[39;00m\u001b[38;5;28mself\u001b[39m\u001b[38;5;241m.\u001b[39mduration\u001b[38;5;132;01m}\u001b[39;00m\u001b[38;5;124m'\u001b[39m)\n\u001b[0;32m     21\u001b[0m     \u001b[38;5;28mprint\u001b[39m(\u001b[38;5;124mf\u001b[39m\u001b[38;5;124m'\u001b[39m\u001b[38;5;124mYou have to pay \u001b[39m\u001b[38;5;132;01m{\u001b[39;00m\u001b[38;5;28mself\u001b[39m\u001b[38;5;241m.\u001b[39mfees\u001b[38;5;132;01m}\u001b[39;00m\u001b[38;5;124m'\u001b[39m)\n",
      "\u001b[1;31mAttributeError\u001b[0m: 'Student' object has no attribute 'specialisation'"
     ]
    }
   ],
   "source": [
    "s.degree_info()"
   ]
  },
  {
   "cell_type": "code",
   "execution_count": 95,
   "id": "4ec3a128-d6af-486a-ba29-cfd6d06a9fd0",
   "metadata": {},
   "outputs": [],
   "source": [
    "class College:\n",
    "    name='ABC College'\n",
    "    city='Pune'\n",
    "    university='XYZ university'\n",
    "\n",
    "    def college_info(self):\n",
    "        print(f'The college name is {College.name}')\n",
    "        print(f'The collesge is in {College.city}')\n",
    "        print(f'The college is affiliated to {College.university}')\n",
    "\n",
    "class Degree(College):\n",
    "    def __init__(self,specialisation,duration,fees):\n",
    "        self.specialisation=specialisation\n",
    "        self.duration=duration\n",
    "        self.fees=fees\n",
    "\n",
    "    def degree_info(self):\n",
    "        print(f'The specialisation is {self.specialisation}')\n",
    "        print(f'The duration of the degree is {self.duration}')\n",
    "        print(f'You have to pay {self.fees}')\n",
    "\n",
    "class Student(Degree):\n",
    "    def __init__(self,name,roll,specialisation,duration,fees):\n",
    "        super().__init__(specialisation,duration,fees)\n",
    "        self.name=name\n",
    "        self.roll=roll\n",
    "\n",
    "    def student_info(self):\n",
    "        print(f'My name is {self.name}')\n",
    "        print(f'My roll number is {self.roll}')"
   ]
  },
  {
   "cell_type": "code",
   "execution_count": 96,
   "id": "ed157d9c-0995-4c19-9a8b-a5eb4a28eb11",
   "metadata": {},
   "outputs": [],
   "source": [
    "s=Student('Amit',11,'Data','2 years',50000)"
   ]
  },
  {
   "cell_type": "code",
   "execution_count": 97,
   "id": "b743cace-7d3a-4131-9594-a88b6c271f48",
   "metadata": {},
   "outputs": [
    {
     "name": "stdout",
     "output_type": "stream",
     "text": [
      "My name is Amit\n",
      "My roll number is 11\n"
     ]
    }
   ],
   "source": [
    "s.student_info()"
   ]
  },
  {
   "cell_type": "code",
   "execution_count": 98,
   "id": "1fb73251-e903-4824-8960-203b87329494",
   "metadata": {},
   "outputs": [
    {
     "name": "stdout",
     "output_type": "stream",
     "text": [
      "The specialisation is Data\n",
      "The duration of the degree is 2 years\n",
      "You have to pay 50000\n"
     ]
    }
   ],
   "source": [
    "s.degree_info()"
   ]
  },
  {
   "cell_type": "code",
   "execution_count": 99,
   "id": "1273aadf-7a88-4ca4-aed0-c24da768e49b",
   "metadata": {},
   "outputs": [
    {
     "name": "stdout",
     "output_type": "stream",
     "text": [
      "The college name is ABC College\n",
      "The collesge is in Pune\n",
      "The college is affiliated to XYZ university\n"
     ]
    }
   ],
   "source": [
    "s.college_info()"
   ]
  },
  {
   "cell_type": "markdown",
   "id": "a1941365-b24f-429f-b4cb-46478d7e5aff",
   "metadata": {},
   "source": [
    "# Hybrid Inheritance"
   ]
  },
  {
   "cell_type": "code",
   "execution_count": 100,
   "id": "b862f680-1f13-4e75-81e9-5c59a6aa6b85",
   "metadata": {},
   "outputs": [],
   "source": [
    "# When we use more than one type of inheritance then we call it as hybrid inheritance."
   ]
  },
  {
   "cell_type": "markdown",
   "id": "4cab8b78-df21-4ea8-abc2-248d864b58b4",
   "metadata": {},
   "source": [
    "# Cyclic Inheritance"
   ]
  },
  {
   "cell_type": "code",
   "execution_count": 101,
   "id": "19f6af42-f969-45e9-b2ca-69feb29b028e",
   "metadata": {},
   "outputs": [
    {
     "ename": "NameError",
     "evalue": "name 'A' is not defined",
     "output_type": "error",
     "traceback": [
      "\u001b[1;31m---------------------------------------------------------------------------\u001b[0m",
      "\u001b[1;31mNameError\u001b[0m                                 Traceback (most recent call last)",
      "Cell \u001b[1;32mIn[101], line 1\u001b[0m\n\u001b[1;32m----> 1\u001b[0m \u001b[38;5;28;01mclass\u001b[39;00m \u001b[38;5;21;01mA\u001b[39;00m(A):\n\u001b[0;32m      2\u001b[0m     \u001b[38;5;28;01mpass\u001b[39;00m\n",
      "\u001b[1;31mNameError\u001b[0m: name 'A' is not defined"
     ]
    }
   ],
   "source": [
    "class A(A):\n",
    "    pass"
   ]
  },
  {
   "cell_type": "code",
   "execution_count": 102,
   "id": "3ed856a5-4cc1-4792-9de1-740062a161ae",
   "metadata": {},
   "outputs": [],
   "source": [
    "# a-A(A)"
   ]
  },
  {
   "cell_type": "code",
   "execution_count": 103,
   "id": "2d34da27-4870-4745-b16d-ca5bd41035ec",
   "metadata": {},
   "outputs": [
    {
     "ename": "NameError",
     "evalue": "name 'B' is not defined",
     "output_type": "error",
     "traceback": [
      "\u001b[1;31m---------------------------------------------------------------------------\u001b[0m",
      "\u001b[1;31mNameError\u001b[0m                                 Traceback (most recent call last)",
      "Cell \u001b[1;32mIn[103], line 1\u001b[0m\n\u001b[1;32m----> 1\u001b[0m \u001b[38;5;28;01mclass\u001b[39;00m \u001b[38;5;21;01mA\u001b[39;00m(B):\n\u001b[0;32m      2\u001b[0m     \u001b[38;5;28;01mpass\u001b[39;00m\n\u001b[0;32m      3\u001b[0m \u001b[38;5;28;01mclass\u001b[39;00m \u001b[38;5;21;01mB\u001b[39;00m(A):\n",
      "\u001b[1;31mNameError\u001b[0m: name 'B' is not defined"
     ]
    }
   ],
   "source": [
    "class A(B):\n",
    "    pass\n",
    "class B(A):\n",
    "    pass"
   ]
  },
  {
   "cell_type": "code",
   "execution_count": 104,
   "id": "56011432-b984-4d97-92a2-448e48a3cfe0",
   "metadata": {},
   "outputs": [],
   "source": [
    "# B-A\n",
    "# A-B"
   ]
  },
  {
   "cell_type": "markdown",
   "id": "ab8f8aed-0544-4bd6-9d19-c7371c2f7c42",
   "metadata": {},
   "source": [
    "# Method Resolution Order (MRO)"
   ]
  },
  {
   "cell_type": "code",
   "execution_count": 105,
   "id": "1452b644-830d-4071-b563-9731b9080603",
   "metadata": {},
   "outputs": [],
   "source": [
    "class A:\n",
    "    pass\n",
    "class B(A):\n",
    "    pass\n",
    "class C(A):\n",
    "    pass\n",
    "class D(B,C):\n",
    "    pass"
   ]
  },
  {
   "cell_type": "code",
   "execution_count": 107,
   "id": "66d8714f-d42d-483e-9ab3-4335d951b7d6",
   "metadata": {},
   "outputs": [
    {
     "name": "stdout",
     "output_type": "stream",
     "text": [
      "[<class '__main__.D'>, <class '__main__.B'>, <class '__main__.C'>, <class '__main__.A'>, <class 'object'>]\n"
     ]
    }
   ],
   "source": [
    "print(D.mro())"
   ]
  },
  {
   "cell_type": "code",
   "execution_count": 109,
   "id": "b67e6429-d0ce-43c1-ad60-29d731296644",
   "metadata": {},
   "outputs": [
    {
     "name": "stdout",
     "output_type": "stream",
     "text": [
      "[<class '__main__.C'>, <class '__main__.A'>, <class 'object'>]\n"
     ]
    }
   ],
   "source": [
    "print(C.mro())"
   ]
  },
  {
   "cell_type": "code",
   "execution_count": 110,
   "id": "b61001a8-dc53-4d60-a7bc-1c1d4187092a",
   "metadata": {},
   "outputs": [
    {
     "name": "stdout",
     "output_type": "stream",
     "text": [
      "[<class '__main__.B'>, <class '__main__.A'>, <class 'object'>]\n"
     ]
    }
   ],
   "source": [
    "print(B.mro())"
   ]
  },
  {
   "cell_type": "code",
   "execution_count": 111,
   "id": "2da47784-4530-4f67-ae4d-124585845735",
   "metadata": {},
   "outputs": [
    {
     "name": "stdout",
     "output_type": "stream",
     "text": [
      "[<class '__main__.A'>, <class 'object'>]\n"
     ]
    }
   ],
   "source": [
    "print(A.mro())"
   ]
  },
  {
   "cell_type": "code",
   "execution_count": 115,
   "id": "ae038053-320d-48fa-91f4-dfa80215b7ba",
   "metadata": {},
   "outputs": [],
   "source": [
    "class A:\n",
    "    def m1(self):\n",
    "        print('Class A method')\n",
    "class B(A):\n",
    "    def m1(self):\n",
    "        print('Class B method')\n",
    "class C(A):\n",
    "    def m1(self):\n",
    "        print('Class C method')\n",
    "class D(B,C):\n",
    "    def m1(self):\n",
    "        print('Class D method')"
   ]
  },
  {
   "cell_type": "code",
   "execution_count": 113,
   "id": "11863fdc-8575-456b-815e-2b53bf55a095",
   "metadata": {},
   "outputs": [],
   "source": [
    "d=D()"
   ]
  },
  {
   "cell_type": "code",
   "execution_count": 114,
   "id": "af02a22a-80dc-4bd6-b2d5-6dd19a10ccfe",
   "metadata": {},
   "outputs": [
    {
     "name": "stdout",
     "output_type": "stream",
     "text": [
      "Class D method\n"
     ]
    }
   ],
   "source": [
    "d.m1()"
   ]
  },
  {
   "cell_type": "code",
   "execution_count": 116,
   "id": "a3dc2ec8-38a9-42e7-8078-a51dd8da14e5",
   "metadata": {},
   "outputs": [],
   "source": [
    "class A:\n",
    "    def m1(self):\n",
    "        print('Class A method')\n",
    "class B(A):\n",
    "    def m1(self):\n",
    "        print('Class B method')\n",
    "class C(A):\n",
    "    def m1(self):\n",
    "        print('Class C method')\n",
    "class D(B,C):\n",
    "    pass"
   ]
  },
  {
   "cell_type": "code",
   "execution_count": 117,
   "id": "6a9821cd-2413-49b2-b282-5a661134ecd8",
   "metadata": {},
   "outputs": [],
   "source": [
    "d=D()"
   ]
  },
  {
   "cell_type": "code",
   "execution_count": 118,
   "id": "b59c629c-ebf2-4b95-961f-3c902ec2cb7a",
   "metadata": {},
   "outputs": [
    {
     "name": "stdout",
     "output_type": "stream",
     "text": [
      "Class B method\n"
     ]
    }
   ],
   "source": [
    "d.m1()"
   ]
  },
  {
   "cell_type": "code",
   "execution_count": 119,
   "id": "3e15c51b-6ca4-48e8-b67b-3c37658bf8e1",
   "metadata": {},
   "outputs": [],
   "source": [
    "class A:\n",
    "    def m1(self):\n",
    "        print('Class A method')\n",
    "class B(A):\n",
    "    pass\n",
    "class C(A):\n",
    "    def m1(self):\n",
    "        print('Class C method')\n",
    "class D(B,C):\n",
    "    pass"
   ]
  },
  {
   "cell_type": "code",
   "execution_count": 120,
   "id": "a989c0cd-7fac-4fad-a9a6-ac8d2b1f2d45",
   "metadata": {},
   "outputs": [],
   "source": [
    "d=D()"
   ]
  },
  {
   "cell_type": "code",
   "execution_count": 121,
   "id": "20e08173-d9a1-4cd3-a1e9-194bdd42c31f",
   "metadata": {},
   "outputs": [
    {
     "name": "stdout",
     "output_type": "stream",
     "text": [
      "Class C method\n"
     ]
    }
   ],
   "source": [
    "d.m1()"
   ]
  },
  {
   "cell_type": "code",
   "execution_count": 122,
   "id": "ba7fed5e-64b2-45a4-852f-2e2d6ae9890e",
   "metadata": {},
   "outputs": [],
   "source": [
    "class A:\n",
    "    def m1(self):\n",
    "        print('Class A method')\n",
    "class B(A):\n",
    "    pass\n",
    "class C(A):\n",
    "    pass\n",
    "class D(B,C):\n",
    "    pass"
   ]
  },
  {
   "cell_type": "code",
   "execution_count": 123,
   "id": "2bc1f625-0575-49d1-a742-8874e06585c1",
   "metadata": {},
   "outputs": [],
   "source": [
    "d=D()"
   ]
  },
  {
   "cell_type": "code",
   "execution_count": 124,
   "id": "7cad5e53-8a62-463a-817b-b2b2c948c819",
   "metadata": {},
   "outputs": [
    {
     "name": "stdout",
     "output_type": "stream",
     "text": [
      "Class A method\n"
     ]
    }
   ],
   "source": [
    "d.m1()"
   ]
  },
  {
   "cell_type": "code",
   "execution_count": 125,
   "id": "3b973ac4-c61d-4098-adf5-82c2f8b182c2",
   "metadata": {},
   "outputs": [],
   "source": [
    "class A:\n",
    "    pass\n",
    "class B(A):\n",
    "    pass\n",
    "class C(A):\n",
    "    pass\n",
    "class D(B,C):\n",
    "    pass"
   ]
  },
  {
   "cell_type": "code",
   "execution_count": 126,
   "id": "d1b37d79-6d28-4f68-804d-03e6862a008f",
   "metadata": {},
   "outputs": [],
   "source": [
    "d=D()"
   ]
  },
  {
   "cell_type": "code",
   "execution_count": 127,
   "id": "ceb15d11-dda6-42b3-a5e9-ff7eb83f1f8d",
   "metadata": {},
   "outputs": [
    {
     "ename": "AttributeError",
     "evalue": "'D' object has no attribute 'm1'",
     "output_type": "error",
     "traceback": [
      "\u001b[1;31m---------------------------------------------------------------------------\u001b[0m",
      "\u001b[1;31mAttributeError\u001b[0m                            Traceback (most recent call last)",
      "Cell \u001b[1;32mIn[127], line 1\u001b[0m\n\u001b[1;32m----> 1\u001b[0m d\u001b[38;5;241m.\u001b[39mm1()\n",
      "\u001b[1;31mAttributeError\u001b[0m: 'D' object has no attribute 'm1'"
     ]
    }
   ],
   "source": [
    "d.m1()"
   ]
  },
  {
   "cell_type": "code",
   "execution_count": 128,
   "id": "582e7696-4b8a-4303-9f0c-298349ead98b",
   "metadata": {},
   "outputs": [],
   "source": [
    "class A:\n",
    "    def m1(self):\n",
    "        print('Class A method')\n",
    "class B(A):\n",
    "    def m1(self):\n",
    "        print('Class B method')\n",
    "class C(A):\n",
    "    def m1(self):\n",
    "        print('Class C method')\n",
    "class D(B,C):\n",
    "    def m1(self):\n",
    "        print('Class D method')"
   ]
  },
  {
   "cell_type": "code",
   "execution_count": 129,
   "id": "f3f5bc23-df8b-4262-b87e-6fa811d6dcc8",
   "metadata": {},
   "outputs": [],
   "source": [
    "b=B()"
   ]
  },
  {
   "cell_type": "code",
   "execution_count": 130,
   "id": "eb1a15ca-9ae5-43cf-b286-a54e56f69125",
   "metadata": {},
   "outputs": [
    {
     "name": "stdout",
     "output_type": "stream",
     "text": [
      "Class B method\n"
     ]
    }
   ],
   "source": [
    "b.m1()"
   ]
  },
  {
   "cell_type": "code",
   "execution_count": 131,
   "id": "012b19c4-c987-4804-a049-7e9b943718b0",
   "metadata": {},
   "outputs": [],
   "source": [
    "class A:\n",
    "    def m1(self):\n",
    "        print('Class A method')\n",
    "class B(A):\n",
    "    pass\n",
    "class C(A):\n",
    "    def m1(self):\n",
    "        print('Class C method')\n",
    "class D(B,C):\n",
    "    def m1(self):\n",
    "        print('Class D method')"
   ]
  },
  {
   "cell_type": "code",
   "execution_count": 132,
   "id": "2cf76962-1526-41dc-ab44-3bb56ef3b216",
   "metadata": {},
   "outputs": [],
   "source": [
    "b=B()"
   ]
  },
  {
   "cell_type": "code",
   "execution_count": 133,
   "id": "9fa51713-2ba7-4197-9d8d-4f1e3fa56d28",
   "metadata": {},
   "outputs": [
    {
     "name": "stdout",
     "output_type": "stream",
     "text": [
      "Class A method\n"
     ]
    }
   ],
   "source": [
    "b.m1()"
   ]
  },
  {
   "cell_type": "code",
   "execution_count": 134,
   "id": "8850a134-8d31-4328-8aaa-edfdcd3131fb",
   "metadata": {},
   "outputs": [],
   "source": [
    "class A:\n",
    "    pass\n",
    "class B:\n",
    "    pass\n",
    "class C:\n",
    "    pass\n",
    "class X(A,B):\n",
    "    pass\n",
    "class Y(B,C):\n",
    "    pass\n",
    "class P(X,Y,C):\n",
    "    pass"
   ]
  },
  {
   "cell_type": "code",
   "execution_count": 135,
   "id": "f553a66e-b991-4357-b9d8-cecd1f40a002",
   "metadata": {},
   "outputs": [],
   "source": [
    "# PXYCABO"
   ]
  },
  {
   "cell_type": "code",
   "execution_count": 137,
   "id": "878977cf-3361-468c-aceb-16dd9161312c",
   "metadata": {},
   "outputs": [
    {
     "name": "stdout",
     "output_type": "stream",
     "text": [
      "[<class '__main__.P'>, <class '__main__.X'>, <class '__main__.A'>, <class '__main__.Y'>, <class '__main__.B'>, <class '__main__.C'>, <class 'object'>]\n"
     ]
    }
   ],
   "source": [
    "print(P.mro())"
   ]
  },
  {
   "cell_type": "code",
   "execution_count": 141,
   "id": "e113a16d-3cc2-47a7-9927-4c8dcba84b9b",
   "metadata": {},
   "outputs": [],
   "source": [
    "# C-3 algorithm is used for mro\n",
    "# It is given by Samuel Pedroni\n",
    "\n",
    "# C-3 algortithm works upon the DLR method"
   ]
  },
  {
   "cell_type": "code",
   "execution_count": 140,
   "id": "98ce8f6c-bac0-42b9-840c-973f44475a5b",
   "metadata": {},
   "outputs": [],
   "source": [
    "# DLR- (Depth first, left to right)"
   ]
  },
  {
   "cell_type": "code",
   "execution_count": 142,
   "id": "ec4da258-0034-4004-97d5-34e88838820f",
   "metadata": {},
   "outputs": [],
   "source": [
    "class A:\n",
    "    pass\n",
    "class B:\n",
    "    pass\n",
    "class C:\n",
    "    pass\n",
    "class X(A,B):\n",
    "    pass\n",
    "class Y(B,C):\n",
    "    pass\n",
    "class P(X,Y,C):\n",
    "    pass"
   ]
  },
  {
   "cell_type": "code",
   "execution_count": null,
   "id": "30034d8b-a889-478f-887a-f35b012e3aba",
   "metadata": {},
   "outputs": [],
   "source": [
    "# mro(o)- O\n",
    "# mro(A)- AO\n",
    "# mro(B)- BO\n",
    "# mro(C)- CO\n",
    "# mro(X)- XABO\n",
    "# mro(Y)- YBCO\n",
    "# mro(P)- ?"
   ]
  },
  {
   "cell_type": "code",
   "execution_count": 143,
   "id": "8779a6df-549c-43a3-a26b-7e82faa9a81c",
   "metadata": {},
   "outputs": [
    {
     "data": {
      "text/plain": [
       "[__main__.A, object]"
      ]
     },
     "execution_count": 143,
     "metadata": {},
     "output_type": "execute_result"
    }
   ],
   "source": [
    "A.mro()"
   ]
  },
  {
   "cell_type": "code",
   "execution_count": 144,
   "id": "39d9d265-4be9-410b-a455-a99f771b6851",
   "metadata": {},
   "outputs": [
    {
     "data": {
      "text/plain": [
       "[__main__.B, object]"
      ]
     },
     "execution_count": 144,
     "metadata": {},
     "output_type": "execute_result"
    }
   ],
   "source": [
    "B.mro()"
   ]
  },
  {
   "cell_type": "code",
   "execution_count": 145,
   "id": "2d2b6111-a82f-4a87-b2b0-092ed882b4b1",
   "metadata": {},
   "outputs": [
    {
     "data": {
      "text/plain": [
       "[__main__.C, object]"
      ]
     },
     "execution_count": 145,
     "metadata": {},
     "output_type": "execute_result"
    }
   ],
   "source": [
    "C.mro()"
   ]
  },
  {
   "cell_type": "code",
   "execution_count": 146,
   "id": "41cac04a-acb6-4209-8e89-e815ff85e708",
   "metadata": {},
   "outputs": [
    {
     "data": {
      "text/plain": [
       "[__main__.X, __main__.A, __main__.B, object]"
      ]
     },
     "execution_count": 146,
     "metadata": {},
     "output_type": "execute_result"
    }
   ],
   "source": [
    "X.mro()"
   ]
  },
  {
   "cell_type": "code",
   "execution_count": 147,
   "id": "ee959528-df53-403a-8af0-efed425e798c",
   "metadata": {},
   "outputs": [
    {
     "data": {
      "text/plain": [
       "[__main__.Y, __main__.B, __main__.C, object]"
      ]
     },
     "execution_count": 147,
     "metadata": {},
     "output_type": "execute_result"
    }
   ],
   "source": [
    "Y.mro()"
   ]
  },
  {
   "cell_type": "markdown",
   "id": "0f5f5336-2acf-422b-897d-a0064b0d3ab6",
   "metadata": {},
   "source": [
    "# C-3 algorithm"
   ]
  },
  {
   "cell_type": "code",
   "execution_count": 148,
   "id": "07b88dd3-6bb8-4a10-a4c6-c9b7280577e0",
   "metadata": {},
   "outputs": [],
   "source": [
    "# Suppose- mro- XABCD"
   ]
  },
  {
   "cell_type": "code",
   "execution_count": 149,
   "id": "a270c8a5-54ff-4f8c-903f-94df5f50a076",
   "metadata": {},
   "outputs": [],
   "source": [
    "# X- Head\n",
    "# ABCD- Tail"
   ]
  },
  {
   "cell_type": "markdown",
   "id": "26f76a6f-a7b7-4c14-a8b8-5eb57576bad8",
   "metadata": {},
   "source": [
    "# DLR"
   ]
  },
  {
   "cell_type": "code",
   "execution_count": 150,
   "id": "ab4fcf27-a27b-41e4-91c5-715e147fe4b6",
   "metadata": {},
   "outputs": [],
   "source": [
    "# P1 and P2 two parent classes are there and C child class is there"
   ]
  },
  {
   "cell_type": "code",
   "execution_count": 151,
   "id": "256e4817-ff03-43fa-9382-8741fc5a622b",
   "metadata": {},
   "outputs": [],
   "source": [
    "# D (Depth first)- Highest priority will be given to the child\n",
    "# L (Left parent)- The second highest priority will be given to the immediate left parent\n",
    "# R (Right parent)- The third highest priority will be given to the immediate right parent"
   ]
  },
  {
   "cell_type": "code",
   "execution_count": 152,
   "id": "ebbbba2f-6224-412c-a5d6-b8acf6a7537e",
   "metadata": {},
   "outputs": [],
   "source": [
    "class A:\n",
    "    pass\n",
    "class B:\n",
    "    pass\n",
    "class C:\n",
    "    pass\n",
    "class X(A,B):\n",
    "    pass\n",
    "class Y(B,C):\n",
    "    pass\n",
    "class P(X,Y,C):\n",
    "    pass"
   ]
  },
  {
   "cell_type": "code",
   "execution_count": 153,
   "id": "fdf6b6eb-9d67-4c05-9097-8bd5eb90d504",
   "metadata": {},
   "outputs": [],
   "source": [
    "# mro(P)= P+merge(mro(X),mro(Y),mro(C),XYC)"
   ]
  },
  {
   "cell_type": "code",
   "execution_count": 154,
   "id": "2a2ed32f-5558-409b-9903-e72d6fc62721",
   "metadata": {},
   "outputs": [],
   "source": [
    "# Take first list, Consider the head element.\n",
    "# If the head element is not present in the tail of other lists then add the head to the result\n",
    "# and remove the head element from every list"
   ]
  },
  {
   "cell_type": "code",
   "execution_count": 155,
   "id": "3d7c62a5-30ed-49e0-a8a2-096b8e42a9dc",
   "metadata": {},
   "outputs": [],
   "source": [
    "# P+merge(XABO,YBCO,CO,XYC)\n",
    "# PX+merge(ABO,YBCO,CO,YC)\n",
    "# PXA+merge(BO,YBCO,CO,YC)\n",
    "# PXAY+merge(BO,BCO,CO,C)\n",
    "# PXAYB+merge(O,CO,CO,C)\n",
    "# PXAYBC+merge(o,o,o)\n",
    "# PXAYBCO"
   ]
  },
  {
   "cell_type": "code",
   "execution_count": null,
   "id": "54e92aad-a160-41a6-b036-4bfc92893db0",
   "metadata": {},
   "outputs": [],
   "source": [
    "# mro(o)- O\n",
    "# mro(A)- AO\n",
    "# mro(B)- BO\n",
    "# mro(C)- CO\n",
    "# mro(X)- XABO\n",
    "# mro(Y)- YBCO\n",
    "# mro(P)- ?"
   ]
  },
  {
   "cell_type": "code",
   "execution_count": 157,
   "id": "1079b38a-c874-4826-b282-6f5a74c436bf",
   "metadata": {},
   "outputs": [
    {
     "name": "stdout",
     "output_type": "stream",
     "text": [
      "[<class '__main__.P'>, <class '__main__.X'>, <class '__main__.A'>, <class '__main__.Y'>, <class '__main__.B'>, <class '__main__.C'>, <class 'object'>]\n"
     ]
    }
   ],
   "source": [
    "print(P.mro())"
   ]
  },
  {
   "cell_type": "code",
   "execution_count": 158,
   "id": "dc1c3286-6d59-4d88-aa86-a849cfc8b0c0",
   "metadata": {},
   "outputs": [],
   "source": [
    "# Class \n",
    "# Object\n",
    "# Variables\n",
    "# Methods\n",
    "# Object of one class in another class\n",
    "# Nested class\n",
    "# Nested methods\n",
    "# Garbage collection\n",
    "# Inheritance and composition\n",
    "# composition and aggregation\n",
    "# Types of inheitance"
   ]
  },
  {
   "cell_type": "code",
   "execution_count": null,
   "id": "d27f8033-1779-4ec1-a50b-e15322264fa9",
   "metadata": {},
   "outputs": [],
   "source": []
  }
 ],
 "metadata": {
  "kernelspec": {
   "display_name": "Python 3 (ipykernel)",
   "language": "python",
   "name": "python3"
  },
  "language_info": {
   "codemirror_mode": {
    "name": "ipython",
    "version": 3
   },
   "file_extension": ".py",
   "mimetype": "text/x-python",
   "name": "python",
   "nbconvert_exporter": "python",
   "pygments_lexer": "ipython3",
   "version": "3.11.7"
  }
 },
 "nbformat": 4,
 "nbformat_minor": 5
}
