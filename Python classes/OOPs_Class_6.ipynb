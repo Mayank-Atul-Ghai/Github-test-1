{
 "cells": [
  {
   "cell_type": "code",
   "execution_count": 1,
   "id": "d2189dfc-3ff4-4078-950c-959c544417e9",
   "metadata": {},
   "outputs": [],
   "source": [
    "# Class \n",
    "# Object\n",
    "# Types of variables\n",
    "# Types of methods\n",
    "# Nested class\n",
    "# Nested methods\n",
    "# Accessing the objects of one class into another.\n",
    "# Garbage collection"
   ]
  },
  {
   "cell_type": "markdown",
   "id": "9444d9e2-b4ae-4c6b-a94a-a01217852c1a",
   "metadata": {},
   "source": [
    "# Inheritance"
   ]
  },
  {
   "cell_type": "code",
   "execution_count": 3,
   "id": "90eb544e-51c9-437b-a08b-fe8c275fa3e9",
   "metadata": {},
   "outputs": [],
   "source": [
    "# - We can call the members of one class into another class.\n",
    "# - We can achieve this by the following two ways- "
   ]
  },
  {
   "cell_type": "code",
   "execution_count": 4,
   "id": "0ec0dab1-51ac-4e03-8954-f99c829ddebe",
   "metadata": {},
   "outputs": [],
   "source": [
    "# - Composition - Has-a relationship\n",
    "# - Inheritance - Is- a relationship"
   ]
  },
  {
   "cell_type": "code",
   "execution_count": 5,
   "id": "e60a28ae-2697-4768-b5fc-01355759643a",
   "metadata": {},
   "outputs": [],
   "source": [
    "class Engine:\n",
    "    a=10\n",
    "    def __init__(self):\n",
    "        self.b=20\n",
    "\n",
    "    def m1(self):\n",
    "        print('I am a method from the Engine class')"
   ]
  },
  {
   "cell_type": "code",
   "execution_count": 10,
   "id": "df733bb5-86a3-40d3-9594-1c869a2be02f",
   "metadata": {},
   "outputs": [],
   "source": [
    "class Car:\n",
    "    def __init__(self):\n",
    "        self.engine=Engine() # self.engine will contain Engine class object\n",
    "    def m2(self):\n",
    "        print('Class Car is using Engine class functionalities')\n",
    "        print(self.engine.a)\n",
    "        print(self.engine.b)\n",
    "        self.engine.m1()"
   ]
  },
  {
   "cell_type": "code",
   "execution_count": 11,
   "id": "25e76900-0bb9-4b89-9440-faa05beda73a",
   "metadata": {},
   "outputs": [],
   "source": [
    "c=Car()"
   ]
  },
  {
   "cell_type": "code",
   "execution_count": 12,
   "id": "155cc589-f790-4b5b-8ee2-3a45131f3076",
   "metadata": {},
   "outputs": [
    {
     "name": "stdout",
     "output_type": "stream",
     "text": [
      "Class Car is using Engine class functionalities\n",
      "10\n",
      "20\n",
      "I am a method from the Engine class\n"
     ]
    }
   ],
   "source": [
    "c.m2()"
   ]
  },
  {
   "cell_type": "code",
   "execution_count": 13,
   "id": "95a88885-0db4-4a25-b7c9-ae318c3047f4",
   "metadata": {},
   "outputs": [],
   "source": [
    "# There is an Employ\n",
    "# An employ may by a car\n",
    "# An employ may use the car functionalities"
   ]
  },
  {
   "cell_type": "code",
   "execution_count": 30,
   "id": "06f66783-93da-4a73-a2a0-023dbcff3042",
   "metadata": {},
   "outputs": [],
   "source": [
    "class Employee:\n",
    "    def __init__(self,eno,ename,esal):\n",
    "        self.eno=eno\n",
    "        self.name=ename\n",
    "        self.sal=esal\n",
    "    \n",
    "    def empInfo(self):\n",
    "        print(f'Employee name is {self.name}')\n",
    "        print(f'Employee ID is {self.eno}')\n",
    "        print(f'Employee salary is {self.sal}')"
   ]
  },
  {
   "cell_type": "code",
   "execution_count": 17,
   "id": "898577ca-fd0f-4ee2-9a22-5326014a8e0f",
   "metadata": {},
   "outputs": [],
   "source": [
    "class Car:\n",
    "    def __init__(self,name, model,color):\n",
    "        self.name=name\n",
    "        self.model=model\n",
    "        self.color=color\n",
    "\n",
    "    def getCarInfo(self):\n",
    "        print(f'The car name is- {self.name}')\n",
    "        print(f'The car model is {self.model}')\n",
    "        print(f'The color of the car is {self.color}')"
   ]
  },
  {
   "cell_type": "code",
   "execution_count": 28,
   "id": "2a97851d-c8e0-4e6d-b7d3-a21cb2aab0cf",
   "metadata": {},
   "outputs": [],
   "source": [
    "e=Employee(101,'Kuldeep',95000)"
   ]
  },
  {
   "cell_type": "code",
   "execution_count": 21,
   "id": "95d85609-2cad-470a-a101-7a51c4032943",
   "metadata": {},
   "outputs": [],
   "source": [
    "c=Car('Seltos','HTK Plus','Cherry')"
   ]
  },
  {
   "cell_type": "code",
   "execution_count": 22,
   "id": "6399f2ab-33e0-4e34-83e0-d61583812449",
   "metadata": {},
   "outputs": [
    {
     "name": "stdout",
     "output_type": "stream",
     "text": [
      "The car name is- Seltos\n",
      "The car model is HTK Plus\n",
      "The color of the car is Cherry\n"
     ]
    }
   ],
   "source": [
    "c.getCarInfo()"
   ]
  },
  {
   "cell_type": "code",
   "execution_count": 29,
   "id": "c102cb0a-17b6-4e4d-8646-c6b0f7bde1bf",
   "metadata": {},
   "outputs": [
    {
     "name": "stdout",
     "output_type": "stream",
     "text": [
      "Employee name is Kuldeep\n",
      "Employee ID is 101\n",
      "Employee salary is 95000\n"
     ]
    }
   ],
   "source": [
    "e.empInfo()"
   ]
  },
  {
   "cell_type": "code",
   "execution_count": 42,
   "id": "9e6530cf-ac40-4d4f-a9d3-f71368bba15a",
   "metadata": {},
   "outputs": [],
   "source": [
    "class Employee:\n",
    "    def __init__(self,eno,ename,esal,car):\n",
    "        self.eno=eno\n",
    "        self.name=ename\n",
    "        self.sal=esal\n",
    "        self.car=car\n",
    "    \n",
    "    def empInfo(self):\n",
    "        print(f'Employee name is {self.name}')\n",
    "        print(f'Employee ID is {self.eno}')\n",
    "        print(f'Employee salary is {self.sal}')\n",
    "        print('*'*45)\n",
    "        print(f'Car Information of {self.name} is - ')\n",
    "        self.car.getCarInfo()"
   ]
  },
  {
   "cell_type": "code",
   "execution_count": 34,
   "id": "3e4c1f03-1e04-47b5-b3bd-849b482295b9",
   "metadata": {},
   "outputs": [],
   "source": [
    "class Car:\n",
    "    def __init__(self,name, model,color):\n",
    "        self.name=name\n",
    "        self.model=model\n",
    "        self.color=color\n",
    "\n",
    "    def getCarInfo(self):\n",
    "        print(f'The car name is- {self.name}')\n",
    "        print(f'The car model is {self.model}')\n",
    "        print(f'The color of the car is {self.color}')"
   ]
  },
  {
   "cell_type": "code",
   "execution_count": 43,
   "id": "744baf83-fa9a-4afc-9bb9-c27c3258dfc5",
   "metadata": {},
   "outputs": [],
   "source": [
    "c=Car('Vitara','ZX','Gray')"
   ]
  },
  {
   "cell_type": "code",
   "execution_count": 44,
   "id": "e20b760b-0e45-4dff-9ca9-a4e14cfd7059",
   "metadata": {},
   "outputs": [],
   "source": [
    "e=Employee(101,'Pushpa',78000,c)"
   ]
  },
  {
   "cell_type": "code",
   "execution_count": 45,
   "id": "84d21aaa-c37a-4633-98ae-c8d6608691cc",
   "metadata": {},
   "outputs": [
    {
     "name": "stdout",
     "output_type": "stream",
     "text": [
      "Employee name is Pushpa\n",
      "Employee ID is 101\n",
      "Employee salary is 78000\n",
      "*********************************************\n",
      "Car Information of Pushpa is - \n",
      "The car name is- Vitara\n",
      "The car model is ZX\n",
      "The color of the car is Gray\n"
     ]
    }
   ],
   "source": [
    "e.empInfo()"
   ]
  },
  {
   "cell_type": "code",
   "execution_count": 46,
   "id": "b7c8b85d-a7f7-4a52-adf0-e78227af24bd",
   "metadata": {},
   "outputs": [],
   "source": [
    "# - When we access the objects of one class into another class using the refernece variable or the class name\n",
    "# - Then it is known as composition"
   ]
  },
  {
   "cell_type": "markdown",
   "id": "5d38fcd7-a6ab-40b9-982c-9ef111eb0fb4",
   "metadata": {},
   "source": [
    "# Inheritance"
   ]
  },
  {
   "cell_type": "code",
   "execution_count": 47,
   "id": "ac227464-c641-4aff-968c-86ffc9509d57",
   "metadata": {},
   "outputs": [],
   "source": [
    "# By- Is- a relationship"
   ]
  },
  {
   "cell_type": "code",
   "execution_count": null,
   "id": "49584d35-5e45-4151-bf10-6503ae33b0e2",
   "metadata": {},
   "outputs": [],
   "source": [
    "class P:\n",
    "    constructor|methods|variables\n",
    "\n",
    "class C(P):\n",
    "    pass"
   ]
  },
  {
   "cell_type": "code",
   "execution_count": 48,
   "id": "6d83cb75-f9ca-4100-ad0a-ffab8c04096c",
   "metadata": {},
   "outputs": [],
   "source": [
    "# P- Parent class\n",
    "# C- Child class"
   ]
  },
  {
   "cell_type": "code",
   "execution_count": 49,
   "id": "0623b3bf-ca80-4394-a536-03631ec29a81",
   "metadata": {},
   "outputs": [],
   "source": [
    "# In this case all the memebers of the parent class are available for the child class"
   ]
  },
  {
   "cell_type": "code",
   "execution_count": 51,
   "id": "a35669fc-28d1-4996-9291-8ec268e4a46f",
   "metadata": {},
   "outputs": [],
   "source": [
    "class P:\n",
    "    a=10\n",
    "    \n",
    "    def m1(self):\n",
    "        print('I am m1 method of parent class')\n",
    "        \n",
    "    @classmethod\n",
    "    def clas_method(cls):\n",
    "        print('Class method of parent class')\n",
    "\n",
    "    @staticmethod\n",
    "    def stat_method():\n",
    "        print('I am the static method of parent class')"
   ]
  },
  {
   "cell_type": "code",
   "execution_count": 52,
   "id": "504ecfd9-9517-487e-8839-daf29b10def9",
   "metadata": {},
   "outputs": [],
   "source": [
    "class C(P):\n",
    "    pass"
   ]
  },
  {
   "cell_type": "code",
   "execution_count": 53,
   "id": "5d9d2ff1-be30-484e-8d2b-4fd09c9a2fd9",
   "metadata": {},
   "outputs": [],
   "source": [
    "c=C()"
   ]
  },
  {
   "cell_type": "code",
   "execution_count": 54,
   "id": "6555227c-23e6-4660-a5f0-40a18c63be75",
   "metadata": {},
   "outputs": [
    {
     "data": {
      "text/plain": [
       "10"
      ]
     },
     "execution_count": 54,
     "metadata": {},
     "output_type": "execute_result"
    }
   ],
   "source": [
    "c.a"
   ]
  },
  {
   "cell_type": "code",
   "execution_count": 55,
   "id": "71015e0e-d6bc-40c8-bc3a-01b6ac889530",
   "metadata": {},
   "outputs": [
    {
     "name": "stdout",
     "output_type": "stream",
     "text": [
      "I am m1 method of parent class\n"
     ]
    }
   ],
   "source": [
    "c.m1()"
   ]
  },
  {
   "cell_type": "code",
   "execution_count": 56,
   "id": "3ff66b68-a5e2-457d-a031-8d50d00566c0",
   "metadata": {},
   "outputs": [
    {
     "name": "stdout",
     "output_type": "stream",
     "text": [
      "Class method of parent class\n"
     ]
    }
   ],
   "source": [
    "c.clas_method()"
   ]
  },
  {
   "cell_type": "code",
   "execution_count": 57,
   "id": "0a4c2408-6180-4945-9a1d-4d87e89571ad",
   "metadata": {},
   "outputs": [
    {
     "name": "stdout",
     "output_type": "stream",
     "text": [
      "I am the static method of parent class\n"
     ]
    }
   ],
   "source": [
    "c.stat_method()"
   ]
  },
  {
   "cell_type": "code",
   "execution_count": 58,
   "id": "1d5bf3fb-8474-4b70-a0fe-db392e90ded3",
   "metadata": {},
   "outputs": [],
   "source": [
    "class P:\n",
    "    a=10\n",
    "    \n",
    "    def m1(self):\n",
    "        print('I am m1 method of parent class')\n",
    "        \n",
    "    @classmethod\n",
    "    def clas_method(cls):\n",
    "        print('Class method of parent class')\n",
    "\n",
    "    @staticmethod\n",
    "    def stat_method():\n",
    "        print('I am the static method of parent class')"
   ]
  },
  {
   "cell_type": "code",
   "execution_count": 65,
   "id": "dd89b97e-0eba-4fd6-82f2-36c55b7e1d31",
   "metadata": {},
   "outputs": [],
   "source": [
    "class C:\n",
    "    pass"
   ]
  },
  {
   "cell_type": "code",
   "execution_count": 66,
   "id": "1e424035-0325-43ac-b248-effa71a9cd1f",
   "metadata": {},
   "outputs": [],
   "source": [
    "c=C()"
   ]
  },
  {
   "cell_type": "code",
   "execution_count": 67,
   "id": "63bfc593-5a79-41d3-9a36-9943e391f6f3",
   "metadata": {},
   "outputs": [
    {
     "ename": "AttributeError",
     "evalue": "'C' object has no attribute 'a'",
     "output_type": "error",
     "traceback": [
      "\u001b[1;31m---------------------------------------------------------------------------\u001b[0m",
      "\u001b[1;31mAttributeError\u001b[0m                            Traceback (most recent call last)",
      "Cell \u001b[1;32mIn[67], line 1\u001b[0m\n\u001b[1;32m----> 1\u001b[0m c\u001b[38;5;241m.\u001b[39ma\n",
      "\u001b[1;31mAttributeError\u001b[0m: 'C' object has no attribute 'a'"
     ]
    }
   ],
   "source": [
    "c.a"
   ]
  },
  {
   "cell_type": "code",
   "execution_count": 71,
   "id": "38188a62-4e3b-4b0c-ba88-99d716357dc1",
   "metadata": {},
   "outputs": [],
   "source": [
    "class P:\n",
    "    a=10\n",
    "    \n",
    "    def m1(self):\n",
    "        print('I am m1 method of parent class')\n",
    "        \n",
    "    @classmethod\n",
    "    def clas_method(cls):\n",
    "        print('Class method of parent class')\n",
    "\n",
    "    @staticmethod\n",
    "    def stat_method():\n",
    "        print('I am the static method of parent class')"
   ]
  },
  {
   "cell_type": "code",
   "execution_count": 72,
   "id": "f87c9e7c-5e01-4ee3-9c77-af262fa2a29e",
   "metadata": {},
   "outputs": [],
   "source": [
    "class C(P):\n",
    "    d=100\n",
    "    def __init__(self):\n",
    "        self.b=20\n",
    "        self.c=30\n",
    "\n",
    "    def m2(self):\n",
    "        print('I am  an m2 method of child class')\n",
    "\n",
    "    @classmethod\n",
    "    def m3(cls):\n",
    "        print('I am the class method of child class')\n",
    "\n",
    "    @staticmethod\n",
    "    def m4():\n",
    "        print('I am the static method of child class')"
   ]
  },
  {
   "cell_type": "code",
   "execution_count": 73,
   "id": "d94a43db-d8d8-4ad9-bcf5-a5ba3f796095",
   "metadata": {},
   "outputs": [],
   "source": [
    "c=C()"
   ]
  },
  {
   "cell_type": "code",
   "execution_count": 74,
   "id": "b9675e21-ed97-4a99-bc33-54a4af83fa25",
   "metadata": {},
   "outputs": [
    {
     "data": {
      "text/plain": [
       "10"
      ]
     },
     "execution_count": 74,
     "metadata": {},
     "output_type": "execute_result"
    }
   ],
   "source": [
    "c.a"
   ]
  },
  {
   "cell_type": "code",
   "execution_count": 75,
   "id": "d0f3e7ee-5d41-4300-949a-88a1cf16b1ba",
   "metadata": {},
   "outputs": [
    {
     "data": {
      "text/plain": [
       "20"
      ]
     },
     "execution_count": 75,
     "metadata": {},
     "output_type": "execute_result"
    }
   ],
   "source": [
    "c.b"
   ]
  },
  {
   "cell_type": "code",
   "execution_count": 76,
   "id": "6d72ec73-6cc8-4ded-85a8-edf39f9fb082",
   "metadata": {},
   "outputs": [
    {
     "data": {
      "text/plain": [
       "30"
      ]
     },
     "execution_count": 76,
     "metadata": {},
     "output_type": "execute_result"
    }
   ],
   "source": [
    "c.c"
   ]
  },
  {
   "cell_type": "code",
   "execution_count": 77,
   "id": "2a132820-f587-4d2f-9c9c-5f041e56ab58",
   "metadata": {},
   "outputs": [
    {
     "data": {
      "text/plain": [
       "100"
      ]
     },
     "execution_count": 77,
     "metadata": {},
     "output_type": "execute_result"
    }
   ],
   "source": [
    "c.d"
   ]
  },
  {
   "cell_type": "code",
   "execution_count": 78,
   "id": "ba1d7a54-2ee3-4972-8ebe-eeb058c569dc",
   "metadata": {},
   "outputs": [
    {
     "name": "stdout",
     "output_type": "stream",
     "text": [
      "Class method of parent class\n"
     ]
    }
   ],
   "source": [
    "c.clas_method()"
   ]
  },
  {
   "cell_type": "code",
   "execution_count": 80,
   "id": "a00dd52d-e8c3-4635-ab16-f48fc18dc8c1",
   "metadata": {},
   "outputs": [
    {
     "name": "stdout",
     "output_type": "stream",
     "text": [
      "I am the class method of child class\n"
     ]
    }
   ],
   "source": [
    "c.m3()"
   ]
  },
  {
   "cell_type": "code",
   "execution_count": 81,
   "id": "86c219fa-eb34-42ec-ac95-883eb79e3f0d",
   "metadata": {},
   "outputs": [
    {
     "name": "stdout",
     "output_type": "stream",
     "text": [
      "I am the static method of parent class\n"
     ]
    }
   ],
   "source": [
    "c.stat_method()"
   ]
  },
  {
   "cell_type": "code",
   "execution_count": 82,
   "id": "a97eb29f-ba32-422b-b58e-2eefd767cb3a",
   "metadata": {},
   "outputs": [
    {
     "name": "stdout",
     "output_type": "stream",
     "text": [
      "I am the static method of child class\n"
     ]
    }
   ],
   "source": [
    "c.m4()"
   ]
  },
  {
   "cell_type": "code",
   "execution_count": 83,
   "id": "da4ae287-93bd-4a85-8776-3323c7217143",
   "metadata": {},
   "outputs": [
    {
     "name": "stdout",
     "output_type": "stream",
     "text": [
      "I am  an m2 method of child class\n"
     ]
    }
   ],
   "source": [
    "c.m2()"
   ]
  },
  {
   "cell_type": "code",
   "execution_count": 84,
   "id": "0308428a-1c5c-470b-8da1-1876c7d38afb",
   "metadata": {},
   "outputs": [],
   "source": [
    "class P:\n",
    "    a=10\n",
    "\n",
    "    def __init__(self):\n",
    "        self.j=50\n",
    "        self.k=70\n",
    "    \n",
    "    def m1(self):\n",
    "        print('I am m1 method of parent class')\n",
    "        \n",
    "    @classmethod\n",
    "    def clas_method(cls):\n",
    "        print('Class method of parent class')\n",
    "\n",
    "    @staticmethod\n",
    "    def stat_method():\n",
    "        print('I am the static method of parent class')"
   ]
  },
  {
   "cell_type": "code",
   "execution_count": 86,
   "id": "e29cde74-f059-4268-bd08-6397e533f7be",
   "metadata": {},
   "outputs": [],
   "source": [
    "class C(P):\n",
    "    d=100\n",
    "    \n",
    "    def __init__(self):\n",
    "        self.b=20\n",
    "        self.c=30\n",
    "\n",
    "    def m2(self):\n",
    "        print('I am  an m2 method of child class')\n",
    "\n",
    "    @classmethod\n",
    "    def m3(cls):\n",
    "        print('I am the class method of child class')\n",
    "\n",
    "    @staticmethod\n",
    "    def m4():\n",
    "        print('I am the static method of child class')"
   ]
  },
  {
   "cell_type": "code",
   "execution_count": 87,
   "id": "f0ee892e-441f-45f9-908d-a021694c2776",
   "metadata": {},
   "outputs": [],
   "source": [
    "c=C()"
   ]
  },
  {
   "cell_type": "code",
   "execution_count": 88,
   "id": "62f2280f-605f-43d8-9205-76c1eef88c56",
   "metadata": {},
   "outputs": [
    {
     "data": {
      "text/plain": [
       "10"
      ]
     },
     "execution_count": 88,
     "metadata": {},
     "output_type": "execute_result"
    }
   ],
   "source": [
    "c.a"
   ]
  },
  {
   "cell_type": "code",
   "execution_count": 89,
   "id": "301f3472-fdd0-4311-81ee-ed33791852b3",
   "metadata": {},
   "outputs": [
    {
     "data": {
      "text/plain": [
       "20"
      ]
     },
     "execution_count": 89,
     "metadata": {},
     "output_type": "execute_result"
    }
   ],
   "source": [
    "c.b"
   ]
  },
  {
   "cell_type": "code",
   "execution_count": 90,
   "id": "16686cc7-f713-4219-b6eb-e528e3d428e0",
   "metadata": {},
   "outputs": [
    {
     "data": {
      "text/plain": [
       "30"
      ]
     },
     "execution_count": 90,
     "metadata": {},
     "output_type": "execute_result"
    }
   ],
   "source": [
    "c.c"
   ]
  },
  {
   "cell_type": "code",
   "execution_count": 91,
   "id": "f9885760-2938-42c4-87ce-8f6b8991e85f",
   "metadata": {},
   "outputs": [
    {
     "data": {
      "text/plain": [
       "100"
      ]
     },
     "execution_count": 91,
     "metadata": {},
     "output_type": "execute_result"
    }
   ],
   "source": [
    "c.d"
   ]
  },
  {
   "cell_type": "code",
   "execution_count": 92,
   "id": "731ff4ab-5ab2-4c25-aad3-660faf87b866",
   "metadata": {},
   "outputs": [
    {
     "ename": "AttributeError",
     "evalue": "'C' object has no attribute 'j'",
     "output_type": "error",
     "traceback": [
      "\u001b[1;31m---------------------------------------------------------------------------\u001b[0m",
      "\u001b[1;31mAttributeError\u001b[0m                            Traceback (most recent call last)",
      "Cell \u001b[1;32mIn[92], line 1\u001b[0m\n\u001b[1;32m----> 1\u001b[0m c\u001b[38;5;241m.\u001b[39mj\n",
      "\u001b[1;31mAttributeError\u001b[0m: 'C' object has no attribute 'j'"
     ]
    }
   ],
   "source": [
    "c.j"
   ]
  },
  {
   "cell_type": "code",
   "execution_count": 93,
   "id": "27621cc7-801a-4d7c-a960-53c4675f51e8",
   "metadata": {},
   "outputs": [
    {
     "ename": "AttributeError",
     "evalue": "'C' object has no attribute 'k'",
     "output_type": "error",
     "traceback": [
      "\u001b[1;31m---------------------------------------------------------------------------\u001b[0m",
      "\u001b[1;31mAttributeError\u001b[0m                            Traceback (most recent call last)",
      "Cell \u001b[1;32mIn[93], line 1\u001b[0m\n\u001b[1;32m----> 1\u001b[0m c\u001b[38;5;241m.\u001b[39mk\n",
      "\u001b[1;31mAttributeError\u001b[0m: 'C' object has no attribute 'k'"
     ]
    }
   ],
   "source": [
    "c.k"
   ]
  },
  {
   "cell_type": "code",
   "execution_count": 94,
   "id": "1400eece-031d-405b-a199-f260c9bdfcbb",
   "metadata": {},
   "outputs": [
    {
     "name": "stdout",
     "output_type": "stream",
     "text": [
      "I am m1 method of parent class\n"
     ]
    }
   ],
   "source": [
    "c.m1()"
   ]
  },
  {
   "cell_type": "code",
   "execution_count": 95,
   "id": "a1173f16-0d51-4b98-925e-520f80fc3468",
   "metadata": {},
   "outputs": [],
   "source": [
    "# If the child has a constructor and the parent class also has a constructor then \n",
    "# Only child class constructor gets executed"
   ]
  },
  {
   "cell_type": "code",
   "execution_count": 99,
   "id": "fcff7025-2ad7-4a13-8727-349cc8e855ee",
   "metadata": {},
   "outputs": [],
   "source": [
    "class P:\n",
    "    a=10\n",
    "\n",
    "    def __init__(self):\n",
    "        self.j=50\n",
    "        self.k=70\n",
    "    \n",
    "    def m1(self):\n",
    "        print('I am m1 method of parent class')\n",
    "        \n",
    "    @classmethod\n",
    "    def clas_method(cls):\n",
    "        print('Class method of parent class')\n",
    "\n",
    "    @staticmethod\n",
    "    def stat_method():\n",
    "        print('I am the static method of parent class')"
   ]
  },
  {
   "cell_type": "code",
   "execution_count": 100,
   "id": "9cf93990-d91f-4aa5-82c2-844d31a2694d",
   "metadata": {},
   "outputs": [],
   "source": [
    "class C(P):\n",
    "    d=100\n",
    "    \n",
    "    def __init__(self):\n",
    "        super().__init__()\n",
    "        self.b=20\n",
    "        self.c=30\n",
    "\n",
    "    def m2(self):\n",
    "        print('I am  an m2 method of child class')\n",
    "\n",
    "    @classmethod\n",
    "    def m3(cls):\n",
    "        print('I am the class method of child class')\n",
    "\n",
    "    @staticmethod\n",
    "    def m4():\n",
    "        print('I am the static method of child class')"
   ]
  },
  {
   "cell_type": "code",
   "execution_count": 101,
   "id": "43d68f11-7901-4a7c-b5e2-af1a133cc7b5",
   "metadata": {},
   "outputs": [],
   "source": [
    "c=C()"
   ]
  },
  {
   "cell_type": "code",
   "execution_count": 102,
   "id": "b97a9290-5dff-46bc-ac83-e2c760a16561",
   "metadata": {},
   "outputs": [
    {
     "data": {
      "text/plain": [
       "50"
      ]
     },
     "execution_count": 102,
     "metadata": {},
     "output_type": "execute_result"
    }
   ],
   "source": [
    "c.j"
   ]
  },
  {
   "cell_type": "code",
   "execution_count": 103,
   "id": "7343d1e5-939b-448c-b71f-5e7db1c2eb90",
   "metadata": {},
   "outputs": [
    {
     "data": {
      "text/plain": [
       "70"
      ]
     },
     "execution_count": 103,
     "metadata": {},
     "output_type": "execute_result"
    }
   ],
   "source": [
    "c.k"
   ]
  },
  {
   "cell_type": "code",
   "execution_count": 104,
   "id": "147688a4-4c40-4610-b9b2-6d1c0bcc1e0e",
   "metadata": {},
   "outputs": [
    {
     "data": {
      "text/plain": [
       "10"
      ]
     },
     "execution_count": 104,
     "metadata": {},
     "output_type": "execute_result"
    }
   ],
   "source": [
    "c.a"
   ]
  },
  {
   "cell_type": "code",
   "execution_count": 105,
   "id": "d5afed67-4610-480a-bc90-257210ed6bc8",
   "metadata": {},
   "outputs": [
    {
     "data": {
      "text/plain": [
       "20"
      ]
     },
     "execution_count": 105,
     "metadata": {},
     "output_type": "execute_result"
    }
   ],
   "source": [
    "c.b"
   ]
  },
  {
   "cell_type": "code",
   "execution_count": 106,
   "id": "ec94a0d3-07b1-4c3d-b6dc-00641fb9b7d3",
   "metadata": {},
   "outputs": [
    {
     "data": {
      "text/plain": [
       "30"
      ]
     },
     "execution_count": 106,
     "metadata": {},
     "output_type": "execute_result"
    }
   ],
   "source": [
    "c.c"
   ]
  },
  {
   "cell_type": "code",
   "execution_count": 107,
   "id": "a51a4cec-5c20-4a7d-a88b-8ccd0b1918af",
   "metadata": {},
   "outputs": [
    {
     "data": {
      "text/plain": [
       "100"
      ]
     },
     "execution_count": 107,
     "metadata": {},
     "output_type": "execute_result"
    }
   ],
   "source": [
    "c.d"
   ]
  },
  {
   "cell_type": "code",
   "execution_count": 109,
   "id": "ad7d64c4-a2a9-4a15-9bc1-4061b5e606cb",
   "metadata": {},
   "outputs": [],
   "source": [
    "class Person:\n",
    "    \n",
    "    def __init__(self,name,age):\n",
    "        self.name=name\n",
    "        self.age=age\n",
    "    \n",
    "    def walk(self):\n",
    "        print(f'{self.name} can walk')\n",
    "\n",
    "    def eat_n_drink(self):\n",
    "        print('I can eat and drink')"
   ]
  },
  {
   "cell_type": "code",
   "execution_count": 111,
   "id": "aa27720c-ada6-4e70-9cc1-fe50b3259775",
   "metadata": {},
   "outputs": [],
   "source": [
    "class Employee(Person):\n",
    "\n",
    "    def __init__(self,name,age,eno,esal):\n",
    "        super().__init__(name, age)\n",
    "        self.eno=eno\n",
    "        self.esal=esal\n",
    "\n",
    "    def empInfo(self):\n",
    "        print(f'The name of the employee is {self.name}')\n",
    "        print(f'The age of the employee is {self.age}')\n",
    "        print(f'The ID of the employee is {self.eno}')\n",
    "        print(f'The salary of the employee is {self.esal}')"
   ]
  },
  {
   "cell_type": "code",
   "execution_count": 112,
   "id": "418e5299-e591-4ee0-8669-d629c8c726b4",
   "metadata": {},
   "outputs": [],
   "source": [
    "e=Employee('Atharva',25,111,68000)"
   ]
  },
  {
   "cell_type": "code",
   "execution_count": 113,
   "id": "4d0b5275-9fdf-4a43-9bfe-bddd0075a209",
   "metadata": {},
   "outputs": [
    {
     "name": "stdout",
     "output_type": "stream",
     "text": [
      "Atharva can walk\n"
     ]
    }
   ],
   "source": [
    "e.walk()"
   ]
  },
  {
   "cell_type": "code",
   "execution_count": 114,
   "id": "fca0dfa8-a920-4d81-a53f-edfbf140c88f",
   "metadata": {},
   "outputs": [
    {
     "name": "stdout",
     "output_type": "stream",
     "text": [
      "I can eat and drink\n"
     ]
    }
   ],
   "source": [
    "e.eat_n_drink()"
   ]
  },
  {
   "cell_type": "code",
   "execution_count": 115,
   "id": "46dab264-2bdb-4fca-8545-58c11e2c40d6",
   "metadata": {},
   "outputs": [
    {
     "name": "stdout",
     "output_type": "stream",
     "text": [
      "The name of the employee is Atharva\n",
      "The age of the employee is 25\n",
      "The ID of the employee is 111\n",
      "The salary of the employee is 68000\n"
     ]
    }
   ],
   "source": [
    "e.empInfo()"
   ]
  },
  {
   "cell_type": "markdown",
   "id": "1a65887b-ade2-4d08-b1cd-ee9adb121b4e",
   "metadata": {},
   "source": [
    "# When to use Inheritance"
   ]
  },
  {
   "cell_type": "code",
   "execution_count": 116,
   "id": "4725d932-6fef-4cd8-975d-9dd5e88aa582",
   "metadata": {},
   "outputs": [],
   "source": [
    "# Base model- 6 features\n",
    "# Base+1 model- 6+2 features\n",
    "# Base+2 model 6+2+3 features\n",
    "# Top model- 6+2+3+4 features"
   ]
  },
  {
   "cell_type": "code",
   "execution_count": 117,
   "id": "77ec7d18-e597-4270-9ef5-11f663d0d77f",
   "metadata": {},
   "outputs": [],
   "source": [
    "# When we want to extend the functionality of a class with some more functionalities then we go with the Inheritance"
   ]
  },
  {
   "cell_type": "markdown",
   "id": "601aa98f-c12c-4ceb-aebe-538ad9ea972f",
   "metadata": {},
   "source": [
    "# When to use composition"
   ]
  },
  {
   "cell_type": "code",
   "execution_count": 118,
   "id": "63d49585-616f-46db-8444-524549956811",
   "metadata": {},
   "outputs": [],
   "source": [
    "# When we don't want to extend the functionality of a class but we just need the information then we go with composition"
   ]
  },
  {
   "cell_type": "code",
   "execution_count": 126,
   "id": "9c55bdd7-a6e6-4324-a573-38959bc945bf",
   "metadata": {},
   "outputs": [],
   "source": [
    "class Car:\n",
    "    def __init__(self,name,model,color):\n",
    "        self.name=name\n",
    "        self.model=model\n",
    "        self.color=color\n",
    "\n",
    "    def getInfo(self):\n",
    "        print(f'The car is- {self.name}')\n",
    "        print(f'The car model is- {self.model}')\n",
    "        print(f'The car clor is- {self.color}')\n",
    "\n",
    "class Person:\n",
    "    def __init__(self,name,age):\n",
    "        self.name=name\n",
    "        self.age=age\n",
    "\n",
    "    def walk(self):\n",
    "        print(f'{self.name} can walk')\n",
    "\n",
    "class Employee(Person):\n",
    "\n",
    "    def __init__(self,name,age,eno,esal,car):\n",
    "        super().__init__(name,age)\n",
    "        self.eno=eno\n",
    "        self.esal=esal\n",
    "        self.car=car\n",
    "\n",
    "    def work(self):\n",
    "        print(f'{self.name} can work')\n",
    "\n",
    "    def empInfo(self):\n",
    "        print(f'The name of the employee is {self.name}')\n",
    "        print(f'The age of the employee is {self.age}')\n",
    "        print(f'The ID of the employee is {self.eno}')\n",
    "        print(f'The salary of the employee is {self.esal}')\n",
    "        print()\n",
    "        print('*'*20+'The car info'+'*'*20)\n",
    "        self.car.getInfo()"
   ]
  },
  {
   "cell_type": "code",
   "execution_count": 127,
   "id": "88838303-9449-4dc4-91bd-e2e5c94e1506",
   "metadata": {},
   "outputs": [],
   "source": [
    "c=Car('Mercedes','S-class','Black')"
   ]
  },
  {
   "cell_type": "code",
   "execution_count": 128,
   "id": "6c831b9e-4cbd-4d71-8487-baad448cfe43",
   "metadata": {},
   "outputs": [
    {
     "name": "stdout",
     "output_type": "stream",
     "text": [
      "The car is- Mercedes\n",
      "The car model is- S-class\n",
      "The car clor is- Black\n"
     ]
    }
   ],
   "source": [
    "c.getInfo()"
   ]
  },
  {
   "cell_type": "code",
   "execution_count": 129,
   "id": "46af73a7-7080-4178-93b3-4681e5a75bef",
   "metadata": {},
   "outputs": [],
   "source": [
    "e=Employee('Prabha',24,100,99000,c)"
   ]
  },
  {
   "cell_type": "code",
   "execution_count": 130,
   "id": "4ecbad08-ab71-4dcd-924b-b79b89ca0d2a",
   "metadata": {},
   "outputs": [
    {
     "name": "stdout",
     "output_type": "stream",
     "text": [
      "Prabha can work\n"
     ]
    }
   ],
   "source": [
    "e.work()"
   ]
  },
  {
   "cell_type": "code",
   "execution_count": 131,
   "id": "fef35ac4-8a51-4291-8691-308d98002eb8",
   "metadata": {},
   "outputs": [
    {
     "name": "stdout",
     "output_type": "stream",
     "text": [
      "The name of the employee is Prabha\n",
      "The age of the employee is 24\n",
      "The ID of the employee is 100\n",
      "The salary of the employee is 99000\n",
      "\n",
      "********************The car info********************\n",
      "The car is- Mercedes\n",
      "The car model is- S-class\n",
      "The car clor is- Black\n"
     ]
    }
   ],
   "source": [
    "e.empInfo()"
   ]
  },
  {
   "cell_type": "code",
   "execution_count": 136,
   "id": "c8a29b19-6b32-405f-928c-66fe659d869a",
   "metadata": {},
   "outputs": [],
   "source": [
    "class Car:\n",
    "    def __init__(self,name,model,color):\n",
    "        self.name=name\n",
    "        self.model=model\n",
    "        self.color=color\n",
    "\n",
    "    def getInfo(self):\n",
    "        print(f'The car is- {self.name}')\n",
    "        print(f'The car model is- {self.model}')\n",
    "        print(f'The car clor is- {self.color}')\n",
    "\n",
    "class Person:\n",
    "    def __init__(self,name,age):\n",
    "        self.name=name\n",
    "        self.age=age\n",
    "\n",
    "    def walk(self):\n",
    "        print(f'{self.name} can walk')\n",
    "\n",
    "class Employee(Person):\n",
    "\n",
    "    def __init__(self,name,age,eno,esal,car):\n",
    "        super().__init__(name,age)\n",
    "        self.eno=eno\n",
    "        self.esal=esal\n",
    "        self.car=car\n",
    "\n",
    "    def work(self):\n",
    "        print(f'{self.name} can work')\n",
    "\n",
    "    def empInfo(self):\n",
    "        print(f'The name of the employee is {self.name}')\n",
    "        print(f'The age of the employee is {self.age}')\n",
    "        print(f'The ID of the employee is {self.eno}')\n",
    "        print(f'The salary of the employee is {self.esal}')\n",
    "        print()\n",
    "        print('*'*20+'The car info'+'*'*20)\n",
    "        print(f'{self.name} is using {self.car.name} {self.car.model} in {self.car.color} color')"
   ]
  },
  {
   "cell_type": "code",
   "execution_count": 137,
   "id": "07e608a8-6b3f-4e14-9bb1-96043e2803be",
   "metadata": {},
   "outputs": [],
   "source": [
    "c=Car('Mercedes','S-class','Black')"
   ]
  },
  {
   "cell_type": "code",
   "execution_count": 138,
   "id": "9e66c458-8684-433d-aeae-b2f20bab6ffc",
   "metadata": {},
   "outputs": [],
   "source": [
    "e=Employee('Prabha',24,100,99000,c)"
   ]
  },
  {
   "cell_type": "code",
   "execution_count": 139,
   "id": "1f937816-8317-4fab-af61-5c165e00f1ce",
   "metadata": {},
   "outputs": [
    {
     "name": "stdout",
     "output_type": "stream",
     "text": [
      "The name of the employee is Prabha\n",
      "The age of the employee is 24\n",
      "The ID of the employee is 100\n",
      "The salary of the employee is 99000\n",
      "\n",
      "********************The car info********************\n",
      "Prabha is using Mercedes S-class in Black color\n"
     ]
    }
   ],
   "source": [
    "e.empInfo()"
   ]
  },
  {
   "cell_type": "markdown",
   "id": "f4c011be-7590-4934-bc1b-44aca3a8ba65",
   "metadata": {},
   "source": [
    "# Composition vs Aggregation"
   ]
  },
  {
   "cell_type": "code",
   "execution_count": 140,
   "id": "1778d2da-59a2-4793-9eed-3ccd1102dbbb",
   "metadata": {},
   "outputs": [],
   "source": [
    "# - When without the container the contained object is not possible then- composition"
   ]
  },
  {
   "cell_type": "code",
   "execution_count": 141,
   "id": "3249df93-dcb5-4191-9486-652caa60f9de",
   "metadata": {},
   "outputs": [],
   "source": [
    "# - When without the container the contained object is possible- agregation"
   ]
  },
  {
   "cell_type": "code",
   "execution_count": 142,
   "id": "8adb6ffc-3d4b-4a58-a83d-f73ff7ab7137",
   "metadata": {},
   "outputs": [],
   "source": [
    "class Student:\n",
    "    college_name='Woolf'\n",
    "\n",
    "    def __init__(self,name,roll_no):\n",
    "        pass"
   ]
  },
  {
   "cell_type": "code",
   "execution_count": 143,
   "id": "040341a0-069b-49cf-8a28-5e0384f8ad72",
   "metadata": {},
   "outputs": [],
   "source": [
    "# Without the student the college_name may exist or not- Yes\n",
    "# Student and college_name- Aggregation\n",
    "\n",
    "# Class and the static vraiables- aggregation"
   ]
  },
  {
   "cell_type": "code",
   "execution_count": 144,
   "id": "5e85d1dd-ff39-475e-8228-58e3d2c370db",
   "metadata": {},
   "outputs": [],
   "source": [
    "# Without student the name and the roll_no may exist or not- No\n",
    "# Student with name and roll_no has strong relationship- composition\n",
    "# Class and instance variables- composition"
   ]
  },
  {
   "cell_type": "code",
   "execution_count": 146,
   "id": "e557ed2b-61ab-4753-8567-3a9a5b3115be",
   "metadata": {},
   "outputs": [],
   "source": [
    "# Loop, Functions, Regex, Pandas, Visualisation"
   ]
  },
  {
   "cell_type": "code",
   "execution_count": null,
   "id": "25985620-6b55-4e17-b226-fc3446d3c6f8",
   "metadata": {},
   "outputs": [],
   "source": []
  }
 ],
 "metadata": {
  "kernelspec": {
   "display_name": "Python 3 (ipykernel)",
   "language": "python",
   "name": "python3"
  },
  "language_info": {
   "codemirror_mode": {
    "name": "ipython",
    "version": 3
   },
   "file_extension": ".py",
   "mimetype": "text/x-python",
   "name": "python",
   "nbconvert_exporter": "python",
   "pygments_lexer": "ipython3",
   "version": "3.11.7"
  }
 },
 "nbformat": 4,
 "nbformat_minor": 5
}
